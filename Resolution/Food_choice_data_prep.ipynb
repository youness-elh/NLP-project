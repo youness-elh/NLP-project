{
 "cells": [
  {
   "cell_type": "code",
   "execution_count": 4,
   "metadata": {},
   "outputs": [],
   "source": [
    "import numpy as np\n",
    "import pandas as pd\n",
    "import matplotlib.pyplot as plt "
   ]
  },
  {
   "cell_type": "code",
   "execution_count": 185,
   "metadata": {},
   "outputs": [],
   "source": [
    "import seaborn as sn\n",
    "\n",
    "#to supress Warnings \n",
    "import warnings\n",
    "warnings.filterwarnings(\"ignore\")"
   ]
  },
  {
   "cell_type": "code",
   "execution_count": 6,
   "metadata": {},
   "outputs": [],
   "source": [
    "#stopwords"
   ]
  },
  {
   "cell_type": "code",
   "execution_count": 7,
   "metadata": {},
   "outputs": [],
   "source": [
    "#import nltk\n",
    "#nltk.download('stopwords')"
   ]
  },
  {
   "cell_type": "code",
   "execution_count": 8,
   "metadata": {},
   "outputs": [],
   "source": [
    "#NLP\n",
    "from nltk.corpus import stopwords\n",
    "#stop = set(stopwords.words('english'))\n",
    "#stop.update(['.', ',', '\"', \"'\", '?', '!', ':', ';', '(', ')', '[', ']', '{', '}','']) # remove it if you need punctuation \n",
    "from nltk.stem import WordNetLemmatizer"
   ]
  },
  {
   "cell_type": "code",
   "execution_count": 9,
   "metadata": {},
   "outputs": [],
   "source": [
    "from PIL import Image\n",
    "#from termcolor import colored"
   ]
  },
  {
   "cell_type": "markdown",
   "metadata": {},
   "source": [
    "# Read data:"
   ]
  },
  {
   "cell_type": "code",
   "execution_count": 10,
   "metadata": {},
   "outputs": [
    {
     "data": {
      "text/plain": [
       "'C:\\\\Users\\\\elh\\\\Desktop\\\\data\\\\Resolution'"
      ]
     },
     "execution_count": 10,
     "metadata": {},
     "output_type": "execute_result"
    }
   ],
   "source": [
    "%pwd"
   ]
  },
  {
   "cell_type": "code",
   "execution_count": 188,
   "metadata": {},
   "outputs": [
    {
     "data": {
      "text/plain": [
       "(125, 61)"
      ]
     },
     "execution_count": 188,
     "metadata": {},
     "output_type": "execute_result"
    }
   ],
   "source": [
    "data = pd.read_csv('..//food_coded.csv')\n",
    "data.shape"
   ]
  },
  {
   "cell_type": "code",
   "execution_count": 189,
   "metadata": {
    "scrolled": false
   },
   "outputs": [
    {
     "data": {
      "text/html": [
       "<div>\n",
       "<style scoped>\n",
       "    .dataframe tbody tr th:only-of-type {\n",
       "        vertical-align: middle;\n",
       "    }\n",
       "\n",
       "    .dataframe tbody tr th {\n",
       "        vertical-align: top;\n",
       "    }\n",
       "\n",
       "    .dataframe thead th {\n",
       "        text-align: right;\n",
       "    }\n",
       "</style>\n",
       "<table border=\"1\" class=\"dataframe\">\n",
       "  <thead>\n",
       "    <tr style=\"text-align: right;\">\n",
       "      <th></th>\n",
       "      <th>GPA</th>\n",
       "      <th>Gender</th>\n",
       "      <th>breakfast</th>\n",
       "      <th>calories_chicken</th>\n",
       "      <th>calories_day</th>\n",
       "      <th>calories_scone</th>\n",
       "      <th>coffee</th>\n",
       "      <th>comfort_food</th>\n",
       "      <th>comfort_food_reasons</th>\n",
       "      <th>comfort_food_reasons_coded</th>\n",
       "      <th>...</th>\n",
       "      <th>soup</th>\n",
       "      <th>sports</th>\n",
       "      <th>thai_food</th>\n",
       "      <th>tortilla_calories</th>\n",
       "      <th>turkey_calories</th>\n",
       "      <th>type_sports</th>\n",
       "      <th>veggies_day</th>\n",
       "      <th>vitamins</th>\n",
       "      <th>waffle_calories</th>\n",
       "      <th>weight</th>\n",
       "    </tr>\n",
       "  </thead>\n",
       "  <tbody>\n",
       "    <tr>\n",
       "      <td>0</td>\n",
       "      <td>2.4</td>\n",
       "      <td>2</td>\n",
       "      <td>1</td>\n",
       "      <td>430</td>\n",
       "      <td>NaN</td>\n",
       "      <td>315.0</td>\n",
       "      <td>1</td>\n",
       "      <td>none</td>\n",
       "      <td>we dont have comfort</td>\n",
       "      <td>9.0</td>\n",
       "      <td>...</td>\n",
       "      <td>1.0</td>\n",
       "      <td>1.0</td>\n",
       "      <td>1</td>\n",
       "      <td>1165.0</td>\n",
       "      <td>345</td>\n",
       "      <td>car racing</td>\n",
       "      <td>5</td>\n",
       "      <td>1</td>\n",
       "      <td>1315</td>\n",
       "      <td>187</td>\n",
       "    </tr>\n",
       "  </tbody>\n",
       "</table>\n",
       "<p>1 rows × 61 columns</p>\n",
       "</div>"
      ],
      "text/plain": [
       "   GPA  Gender  breakfast  calories_chicken  calories_day  calories_scone  \\\n",
       "0  2.4       2          1               430           NaN           315.0   \n",
       "\n",
       "   coffee comfort_food   comfort_food_reasons  comfort_food_reasons_coded  \\\n",
       "0       1         none  we dont have comfort                          9.0   \n",
       "\n",
       "   ...  soup  sports  thai_food tortilla_calories  turkey_calories  \\\n",
       "0  ...   1.0     1.0          1            1165.0              345   \n",
       "\n",
       "   type_sports veggies_day  vitamins  waffle_calories  weight  \n",
       "0   car racing           5         1             1315     187  \n",
       "\n",
       "[1 rows x 61 columns]"
      ]
     },
     "execution_count": 189,
     "metadata": {},
     "output_type": "execute_result"
    }
   ],
   "source": [
    "data.head(1)"
   ]
  },
  {
   "cell_type": "code",
   "execution_count": 190,
   "metadata": {},
   "outputs": [
    {
     "data": {
      "text/plain": [
       "<matplotlib.axes._subplots.AxesSubplot at 0xd6d1588>"
      ]
     },
     "execution_count": 190,
     "metadata": {},
     "output_type": "execute_result"
    },
    {
     "data": {
      "image/png": "[encoded data removed]",
      "text/plain": [
       "<Figure size 1080x720 with 2 Axes>"
      ]
     },
     "metadata": {
      "needs_background": "light"
     },
     "output_type": "display_data"
    }
   ],
   "source": [
    "fig, ax = plt.subplots()\n",
    "fig.set_size_inches(15, 10)\n",
    "sn.heatmap(data.corr())"
   ]
  },
  {
   "cell_type": "markdown",
   "metadata": {},
   "source": [
    "# Feature classification:"
   ]
  },
  {
   "cell_type": "code",
   "execution_count": 17,
   "metadata": {},
   "outputs": [],
   "source": [
    "features = data.columns"
   ]
  },
  {
   "cell_type": "code",
   "execution_count": 59,
   "metadata": {},
   "outputs": [],
   "source": [
    "features_by_dtype = {}\n",
    "for f in features:\n",
    "    dtype = str(data[f].dtype)\n",
    "    \n",
    "    if dtype not in features_by_dtype.keys():\n",
    "        features_by_dtype[dtype] = [f]\n",
    "    else:\n",
    "        features_by_dtype[dtype] += [f]"
   ]
  },
  {
   "cell_type": "code",
   "execution_count": 64,
   "metadata": {},
   "outputs": [],
   "source": [
    "keys = features_by_dtype.keys()\n",
    "#[i for i in keys]"
   ]
  },
  {
   "cell_type": "markdown",
   "metadata": {},
   "source": [
    "## Unique"
   ]
  },
  {
   "cell_type": "code",
   "execution_count": 67,
   "metadata": {},
   "outputs": [
    {
     "name": "stdout",
     "output_type": "stream",
     "text": [
      "GPA: 39\n",
      "comfort_food: 125\n",
      "comfort_food_reasons: 108\n",
      "diet_current: 125\n",
      "eating_changes: 122\n",
      "father_profession: 115\n",
      "fav_cuisine: 61\n",
      "food_childhood: 115\n",
      "healthy_meal: 125\n",
      "ideal_diet: 125\n",
      "meals_dinner_friend: 122\n",
      "mother_profession: 113\n",
      "type_sports: 68\n",
      "weight: 48\n",
      "Gender: 2\n",
      "breakfast: 2\n",
      "calories_chicken: 4\n",
      "coffee: 2\n",
      "comfort_food_reasons_coded.1: 8\n",
      "diet_current_coded: 4\n",
      "eating_changes_coded: 4\n",
      "eating_changes_coded1: 13\n",
      "eating_out: 5\n",
      "ethnic_food: 5\n",
      "fav_cuisine_coded: 9\n",
      "fries: 2\n",
      "fruit_day: 5\n",
      "grade_level: 4\n",
      "greek_food: 5\n",
      "healthy_feeling: 10\n",
      "ideal_diet_coded: 8\n",
      "indian_food: 5\n",
      "italian_food: 3\n",
      "nutritional_check: 5\n",
      "parents_cook: 4\n",
      "pay_meal_out: 5\n",
      "thai_food: 5\n",
      "turkey_calories: 4\n",
      "veggies_day: 5\n",
      "vitamins: 2\n",
      "waffle_calories: 4\n",
      "calories_day: 4\n",
      "calories_scone: 4\n",
      "comfort_food_reasons_coded: 10\n",
      "cook: 6\n",
      "cuisine: 7\n",
      "drink: 3\n",
      "employment: 4\n",
      "exercise: 4\n",
      "father_education: 6\n",
      "fav_food: 4\n",
      "income: 7\n",
      "life_rewarding: 11\n",
      "marital_status: 4\n",
      "mother_education: 6\n",
      "on_off_campus: 5\n",
      "persian_food: 6\n",
      "self_perception_weight: 7\n",
      "soup: 3\n",
      "sports: 3\n",
      "tortilla_calories: 5\n"
     ]
    }
   ],
   "source": [
    "for k in keys:\n",
    "    dtype_list = features_by_dtype[k]\n",
    "    for f in dtype_list:\n",
    "        string = \"{}: {}\".format(f,len(data[f].unique()))\n",
    "        print(string)"
   ]
  },
  {
   "cell_type": "markdown",
   "metadata": {},
   "source": [
    "## Check the type:"
   ]
  },
  {
   "cell_type": "markdown",
   "metadata": {},
   "source": [
    "One correct line "
   ]
  },
  {
   "cell_type": "code",
   "execution_count": 191,
   "metadata": {},
   "outputs": [
    {
     "data": {
      "text/html": [
       "<div>\n",
       "<style scoped>\n",
       "    .dataframe tbody tr th:only-of-type {\n",
       "        vertical-align: middle;\n",
       "    }\n",
       "\n",
       "    .dataframe tbody tr th {\n",
       "        vertical-align: top;\n",
       "    }\n",
       "\n",
       "    .dataframe thead th {\n",
       "        text-align: right;\n",
       "    }\n",
       "</style>\n",
       "<table border=\"1\" class=\"dataframe\">\n",
       "  <thead>\n",
       "    <tr style=\"text-align: right;\">\n",
       "      <th></th>\n",
       "      <th>GPA</th>\n",
       "      <th>Gender</th>\n",
       "      <th>breakfast</th>\n",
       "      <th>calories_chicken</th>\n",
       "      <th>calories_day</th>\n",
       "      <th>calories_scone</th>\n",
       "      <th>coffee</th>\n",
       "      <th>comfort_food</th>\n",
       "      <th>comfort_food_reasons</th>\n",
       "      <th>comfort_food_reasons_coded</th>\n",
       "      <th>...</th>\n",
       "      <th>soup</th>\n",
       "      <th>sports</th>\n",
       "      <th>thai_food</th>\n",
       "      <th>tortilla_calories</th>\n",
       "      <th>turkey_calories</th>\n",
       "      <th>type_sports</th>\n",
       "      <th>veggies_day</th>\n",
       "      <th>vitamins</th>\n",
       "      <th>waffle_calories</th>\n",
       "      <th>weight</th>\n",
       "    </tr>\n",
       "  </thead>\n",
       "  <tbody>\n",
       "    <tr>\n",
       "      <td>1</td>\n",
       "      <td>3.654</td>\n",
       "      <td>1</td>\n",
       "      <td>1</td>\n",
       "      <td>610</td>\n",
       "      <td>3.0</td>\n",
       "      <td>420.0</td>\n",
       "      <td>2</td>\n",
       "      <td>chocolate, chips, ice cream</td>\n",
       "      <td>Stress, bored, anger</td>\n",
       "      <td>1.0</td>\n",
       "      <td>...</td>\n",
       "      <td>1.0</td>\n",
       "      <td>1.0</td>\n",
       "      <td>2</td>\n",
       "      <td>725.0</td>\n",
       "      <td>690</td>\n",
       "      <td>Basketball</td>\n",
       "      <td>4</td>\n",
       "      <td>2</td>\n",
       "      <td>900</td>\n",
       "      <td>155</td>\n",
       "    </tr>\n",
       "  </tbody>\n",
       "</table>\n",
       "<p>1 rows × 61 columns</p>\n",
       "</div>"
      ],
      "text/plain": [
       "     GPA  Gender  breakfast  calories_chicken  calories_day  calories_scone  \\\n",
       "1  3.654       1          1               610           3.0           420.0   \n",
       "\n",
       "   coffee                 comfort_food  comfort_food_reasons  \\\n",
       "1       2  chocolate, chips, ice cream  Stress, bored, anger   \n",
       "\n",
       "   comfort_food_reasons_coded  ...  soup  sports  thai_food tortilla_calories  \\\n",
       "1                         1.0  ...   1.0     1.0          2             725.0   \n",
       "\n",
       "   turkey_calories  type_sports veggies_day  vitamins  waffle_calories  weight  \n",
       "1              690  Basketball            4         2              900     155  \n",
       "\n",
       "[1 rows x 61 columns]"
      ]
     },
     "execution_count": 191,
     "metadata": {},
     "output_type": "execute_result"
    }
   ],
   "source": [
    "line_clean_data = data[1:2]\n",
    "line_clean_data"
   ]
  },
  {
   "cell_type": "code",
   "execution_count": 94,
   "metadata": {},
   "outputs": [],
   "source": [
    "features = data.columns"
   ]
  },
  {
   "cell_type": "code",
   "execution_count": 100,
   "metadata": {},
   "outputs": [],
   "source": [
    "features_by_dtype = {}\n",
    "for f in features:\n",
    "    dtype = str(line_clean_data[f].dtype)\n",
    "    \n",
    "    if dtype not in features_by_dtype.keys():\n",
    "        features_by_dtype[dtype] = [f]\n",
    "    else:\n",
    "        features_by_dtype[dtype] += [f]"
   ]
  },
  {
   "cell_type": "code",
   "execution_count": 101,
   "metadata": {},
   "outputs": [],
   "source": [
    "keys = features_by_dtype.keys()"
   ]
  },
  {
   "cell_type": "markdown",
   "metadata": {},
   "source": [
    "# Check binary data :"
   ]
  },
  {
   "cell_type": "code",
   "execution_count": 121,
   "metadata": {},
   "outputs": [],
   "source": [
    "binary_features = [f for f in dtype_list if len(data[f].unique()) < 12 ]\n",
    "categorical_features = binary_features\n",
    "numerical_features = [f for f in dtype_list if f not in categorical_features]\n",
    "count_features = numerical_features"
   ]
  },
  {
   "cell_type": "code",
   "execution_count": 122,
   "metadata": {},
   "outputs": [
    {
     "data": {
      "text/plain": [
       "['calories_day',\n",
       " 'calories_scone',\n",
       " 'comfort_food_reasons_coded',\n",
       " 'cook',\n",
       " 'cuisine',\n",
       " 'drink',\n",
       " 'employment',\n",
       " 'exercise',\n",
       " 'father_education',\n",
       " 'fav_food',\n",
       " 'income',\n",
       " 'life_rewarding',\n",
       " 'marital_status',\n",
       " 'mother_education',\n",
       " 'on_off_campus',\n",
       " 'persian_food',\n",
       " 'self_perception_weight',\n",
       " 'soup',\n",
       " 'sports',\n",
       " 'tortilla_calories']"
      ]
     },
     "execution_count": 122,
     "metadata": {},
     "output_type": "execute_result"
    }
   ],
   "source": [
    "categorical_features"
   ]
  },
  {
   "cell_type": "markdown",
   "metadata": {},
   "source": [
    "# Missing data"
   ]
  },
  {
   "cell_type": "code",
   "execution_count": 124,
   "metadata": {},
   "outputs": [
    {
     "data": {
      "text/html": [
       "<div>\n",
       "<style scoped>\n",
       "    .dataframe tbody tr th:only-of-type {\n",
       "        vertical-align: middle;\n",
       "    }\n",
       "\n",
       "    .dataframe tbody tr th {\n",
       "        vertical-align: top;\n",
       "    }\n",
       "\n",
       "    .dataframe thead th {\n",
       "        text-align: right;\n",
       "    }\n",
       "</style>\n",
       "<table border=\"1\" class=\"dataframe\">\n",
       "  <thead>\n",
       "    <tr style=\"text-align: right;\">\n",
       "      <th></th>\n",
       "      <th>Null Count</th>\n",
       "      <th>Not Null Count</th>\n",
       "      <th>Ratio (Not Null : Null)</th>\n",
       "      <th>Null Count / Total Rows</th>\n",
       "      <th>Percentage of Nulls</th>\n",
       "    </tr>\n",
       "  </thead>\n",
       "  <tbody>\n",
       "    <tr>\n",
       "      <td>type_sports</td>\n",
       "      <td>21</td>\n",
       "      <td>104</td>\n",
       "      <td>0.20 : 1</td>\n",
       "      <td>21 / 125</td>\n",
       "      <td>16.80%</td>\n",
       "    </tr>\n",
       "    <tr>\n",
       "      <td>comfort_food_reasons_coded</td>\n",
       "      <td>19</td>\n",
       "      <td>106</td>\n",
       "      <td>0.18 : 1</td>\n",
       "      <td>19 / 125</td>\n",
       "      <td>15.20%</td>\n",
       "    </tr>\n",
       "    <tr>\n",
       "      <td>calories_day</td>\n",
       "      <td>19</td>\n",
       "      <td>106</td>\n",
       "      <td>0.18 : 1</td>\n",
       "      <td>19 / 125</td>\n",
       "      <td>15.20%</td>\n",
       "    </tr>\n",
       "    <tr>\n",
       "      <td>cuisine</td>\n",
       "      <td>17</td>\n",
       "      <td>108</td>\n",
       "      <td>0.16 : 1</td>\n",
       "      <td>17 / 125</td>\n",
       "      <td>13.60%</td>\n",
       "    </tr>\n",
       "    <tr>\n",
       "      <td>exercise</td>\n",
       "      <td>13</td>\n",
       "      <td>112</td>\n",
       "      <td>0.12 : 1</td>\n",
       "      <td>13 / 125</td>\n",
       "      <td>10.40%</td>\n",
       "    </tr>\n",
       "    <tr>\n",
       "      <td>employment</td>\n",
       "      <td>9</td>\n",
       "      <td>116</td>\n",
       "      <td>0.08 : 1</td>\n",
       "      <td>9 / 125</td>\n",
       "      <td>7.20%</td>\n",
       "    </tr>\n",
       "    <tr>\n",
       "      <td>cook</td>\n",
       "      <td>3</td>\n",
       "      <td>122</td>\n",
       "      <td>0.02 : 1</td>\n",
       "      <td>3 / 125</td>\n",
       "      <td>2.40%</td>\n",
       "    </tr>\n",
       "    <tr>\n",
       "      <td>mother_education</td>\n",
       "      <td>3</td>\n",
       "      <td>122</td>\n",
       "      <td>0.02 : 1</td>\n",
       "      <td>3 / 125</td>\n",
       "      <td>2.40%</td>\n",
       "    </tr>\n",
       "    <tr>\n",
       "      <td>meals_dinner_friend</td>\n",
       "      <td>3</td>\n",
       "      <td>122</td>\n",
       "      <td>0.02 : 1</td>\n",
       "      <td>3 / 125</td>\n",
       "      <td>2.40%</td>\n",
       "    </tr>\n",
       "    <tr>\n",
       "      <td>eating_changes</td>\n",
       "      <td>3</td>\n",
       "      <td>122</td>\n",
       "      <td>0.02 : 1</td>\n",
       "      <td>3 / 125</td>\n",
       "      <td>2.40%</td>\n",
       "    </tr>\n",
       "    <tr>\n",
       "      <td>father_profession</td>\n",
       "      <td>3</td>\n",
       "      <td>122</td>\n",
       "      <td>0.02 : 1</td>\n",
       "      <td>3 / 125</td>\n",
       "      <td>2.40%</td>\n",
       "    </tr>\n",
       "    <tr>\n",
       "      <td>GPA</td>\n",
       "      <td>2</td>\n",
       "      <td>123</td>\n",
       "      <td>0.02 : 1</td>\n",
       "      <td>2 / 125</td>\n",
       "      <td>1.60%</td>\n",
       "    </tr>\n",
       "    <tr>\n",
       "      <td>fav_food</td>\n",
       "      <td>2</td>\n",
       "      <td>123</td>\n",
       "      <td>0.02 : 1</td>\n",
       "      <td>2 / 125</td>\n",
       "      <td>1.60%</td>\n",
       "    </tr>\n",
       "    <tr>\n",
       "      <td>sports</td>\n",
       "      <td>2</td>\n",
       "      <td>123</td>\n",
       "      <td>0.02 : 1</td>\n",
       "      <td>2 / 125</td>\n",
       "      <td>1.60%</td>\n",
       "    </tr>\n",
       "    <tr>\n",
       "      <td>mother_profession</td>\n",
       "      <td>2</td>\n",
       "      <td>123</td>\n",
       "      <td>0.02 : 1</td>\n",
       "      <td>2 / 125</td>\n",
       "      <td>1.60%</td>\n",
       "    </tr>\n",
       "    <tr>\n",
       "      <td>weight</td>\n",
       "      <td>2</td>\n",
       "      <td>123</td>\n",
       "      <td>0.02 : 1</td>\n",
       "      <td>2 / 125</td>\n",
       "      <td>1.60%</td>\n",
       "    </tr>\n",
       "    <tr>\n",
       "      <td>fav_cuisine</td>\n",
       "      <td>2</td>\n",
       "      <td>123</td>\n",
       "      <td>0.02 : 1</td>\n",
       "      <td>2 / 125</td>\n",
       "      <td>1.60%</td>\n",
       "    </tr>\n",
       "    <tr>\n",
       "      <td>drink</td>\n",
       "      <td>2</td>\n",
       "      <td>123</td>\n",
       "      <td>0.02 : 1</td>\n",
       "      <td>2 / 125</td>\n",
       "      <td>1.60%</td>\n",
       "    </tr>\n",
       "    <tr>\n",
       "      <td>on_off_campus</td>\n",
       "      <td>1</td>\n",
       "      <td>124</td>\n",
       "      <td>0.01 : 1</td>\n",
       "      <td>1 / 125</td>\n",
       "      <td>0.80%</td>\n",
       "    </tr>\n",
       "    <tr>\n",
       "      <td>calories_scone</td>\n",
       "      <td>1</td>\n",
       "      <td>124</td>\n",
       "      <td>0.01 : 1</td>\n",
       "      <td>1 / 125</td>\n",
       "      <td>0.80%</td>\n",
       "    </tr>\n",
       "    <tr>\n",
       "      <td>tortilla_calories</td>\n",
       "      <td>1</td>\n",
       "      <td>124</td>\n",
       "      <td>0.01 : 1</td>\n",
       "      <td>1 / 125</td>\n",
       "      <td>0.80%</td>\n",
       "    </tr>\n",
       "    <tr>\n",
       "      <td>comfort_food</td>\n",
       "      <td>1</td>\n",
       "      <td>124</td>\n",
       "      <td>0.01 : 1</td>\n",
       "      <td>1 / 125</td>\n",
       "      <td>0.80%</td>\n",
       "    </tr>\n",
       "    <tr>\n",
       "      <td>soup</td>\n",
       "      <td>1</td>\n",
       "      <td>124</td>\n",
       "      <td>0.01 : 1</td>\n",
       "      <td>1 / 125</td>\n",
       "      <td>0.80%</td>\n",
       "    </tr>\n",
       "    <tr>\n",
       "      <td>self_perception_weight</td>\n",
       "      <td>1</td>\n",
       "      <td>124</td>\n",
       "      <td>0.01 : 1</td>\n",
       "      <td>1 / 125</td>\n",
       "      <td>0.80%</td>\n",
       "    </tr>\n",
       "    <tr>\n",
       "      <td>persian_food</td>\n",
       "      <td>1</td>\n",
       "      <td>124</td>\n",
       "      <td>0.01 : 1</td>\n",
       "      <td>1 / 125</td>\n",
       "      <td>0.80%</td>\n",
       "    </tr>\n",
       "    <tr>\n",
       "      <td>comfort_food_reasons</td>\n",
       "      <td>1</td>\n",
       "      <td>124</td>\n",
       "      <td>0.01 : 1</td>\n",
       "      <td>1 / 125</td>\n",
       "      <td>0.80%</td>\n",
       "    </tr>\n",
       "    <tr>\n",
       "      <td>father_education</td>\n",
       "      <td>1</td>\n",
       "      <td>124</td>\n",
       "      <td>0.01 : 1</td>\n",
       "      <td>1 / 125</td>\n",
       "      <td>0.80%</td>\n",
       "    </tr>\n",
       "    <tr>\n",
       "      <td>diet_current</td>\n",
       "      <td>1</td>\n",
       "      <td>124</td>\n",
       "      <td>0.01 : 1</td>\n",
       "      <td>1 / 125</td>\n",
       "      <td>0.80%</td>\n",
       "    </tr>\n",
       "    <tr>\n",
       "      <td>marital_status</td>\n",
       "      <td>1</td>\n",
       "      <td>124</td>\n",
       "      <td>0.01 : 1</td>\n",
       "      <td>1 / 125</td>\n",
       "      <td>0.80%</td>\n",
       "    </tr>\n",
       "    <tr>\n",
       "      <td>life_rewarding</td>\n",
       "      <td>1</td>\n",
       "      <td>124</td>\n",
       "      <td>0.01 : 1</td>\n",
       "      <td>1 / 125</td>\n",
       "      <td>0.80%</td>\n",
       "    </tr>\n",
       "    <tr>\n",
       "      <td>income</td>\n",
       "      <td>1</td>\n",
       "      <td>124</td>\n",
       "      <td>0.01 : 1</td>\n",
       "      <td>1 / 125</td>\n",
       "      <td>0.80%</td>\n",
       "    </tr>\n",
       "    <tr>\n",
       "      <td>ideal_diet</td>\n",
       "      <td>1</td>\n",
       "      <td>124</td>\n",
       "      <td>0.01 : 1</td>\n",
       "      <td>1 / 125</td>\n",
       "      <td>0.80%</td>\n",
       "    </tr>\n",
       "    <tr>\n",
       "      <td>healthy_meal</td>\n",
       "      <td>1</td>\n",
       "      <td>124</td>\n",
       "      <td>0.01 : 1</td>\n",
       "      <td>1 / 125</td>\n",
       "      <td>0.80%</td>\n",
       "    </tr>\n",
       "    <tr>\n",
       "      <td>food_childhood</td>\n",
       "      <td>1</td>\n",
       "      <td>124</td>\n",
       "      <td>0.01 : 1</td>\n",
       "      <td>1 / 125</td>\n",
       "      <td>0.80%</td>\n",
       "    </tr>\n",
       "  </tbody>\n",
       "</table>\n",
       "</div>"
      ],
      "text/plain": [
       "                            Null Count  Not Null Count  \\\n",
       "type_sports                         21             104   \n",
       "comfort_food_reasons_coded          19             106   \n",
       "calories_day                        19             106   \n",
       "cuisine                             17             108   \n",
       "exercise                            13             112   \n",
       "employment                           9             116   \n",
       "cook                                 3             122   \n",
       "mother_education                     3             122   \n",
       "meals_dinner_friend                  3             122   \n",
       "eating_changes                       3             122   \n",
       "father_profession                    3             122   \n",
       "GPA                                  2             123   \n",
       "fav_food                             2             123   \n",
       "sports                               2             123   \n",
       "mother_profession                    2             123   \n",
       "weight                               2             123   \n",
       "fav_cuisine                          2             123   \n",
       "drink                                2             123   \n",
       "on_off_campus                        1             124   \n",
       "calories_scone                       1             124   \n",
       "tortilla_calories                    1             124   \n",
       "comfort_food                         1             124   \n",
       "soup                                 1             124   \n",
       "self_perception_weight               1             124   \n",
       "persian_food                         1             124   \n",
       "comfort_food_reasons                 1             124   \n",
       "father_education                     1             124   \n",
       "diet_current                         1             124   \n",
       "marital_status                       1             124   \n",
       "life_rewarding                       1             124   \n",
       "income                               1             124   \n",
       "ideal_diet                           1             124   \n",
       "healthy_meal                         1             124   \n",
       "food_childhood                       1             124   \n",
       "\n",
       "                           Ratio (Not Null : Null) Null Count / Total Rows  \\\n",
       "type_sports                               0.20 : 1                21 / 125   \n",
       "comfort_food_reasons_coded                0.18 : 1                19 / 125   \n",
       "calories_day                              0.18 : 1                19 / 125   \n",
       "cuisine                                   0.16 : 1                17 / 125   \n",
       "exercise                                  0.12 : 1                13 / 125   \n",
       "employment                                0.08 : 1                 9 / 125   \n",
       "cook                                      0.02 : 1                 3 / 125   \n",
       "mother_education                          0.02 : 1                 3 / 125   \n",
       "meals_dinner_friend                       0.02 : 1                 3 / 125   \n",
       "eating_changes                            0.02 : 1                 3 / 125   \n",
       "father_profession                         0.02 : 1                 3 / 125   \n",
       "GPA                                       0.02 : 1                 2 / 125   \n",
       "fav_food                                  0.02 : 1                 2 / 125   \n",
       "sports                                    0.02 : 1                 2 / 125   \n",
       "mother_profession                         0.02 : 1                 2 / 125   \n",
       "weight                                    0.02 : 1                 2 / 125   \n",
       "fav_cuisine                               0.02 : 1                 2 / 125   \n",
       "drink                                     0.02 : 1                 2 / 125   \n",
       "on_off_campus                             0.01 : 1                 1 / 125   \n",
       "calories_scone                            0.01 : 1                 1 / 125   \n",
       "tortilla_calories                         0.01 : 1                 1 / 125   \n",
       "comfort_food                              0.01 : 1                 1 / 125   \n",
       "soup                                      0.01 : 1                 1 / 125   \n",
       "self_perception_weight                    0.01 : 1                 1 / 125   \n",
       "persian_food                              0.01 : 1                 1 / 125   \n",
       "comfort_food_reasons                      0.01 : 1                 1 / 125   \n",
       "father_education                          0.01 : 1                 1 / 125   \n",
       "diet_current                              0.01 : 1                 1 / 125   \n",
       "marital_status                            0.01 : 1                 1 / 125   \n",
       "life_rewarding                            0.01 : 1                 1 / 125   \n",
       "income                                    0.01 : 1                 1 / 125   \n",
       "ideal_diet                                0.01 : 1                 1 / 125   \n",
       "healthy_meal                              0.01 : 1                 1 / 125   \n",
       "food_childhood                            0.01 : 1                 1 / 125   \n",
       "\n",
       "                           Percentage of Nulls  \n",
       "type_sports                             16.80%  \n",
       "comfort_food_reasons_coded              15.20%  \n",
       "calories_day                            15.20%  \n",
       "cuisine                                 13.60%  \n",
       "exercise                                10.40%  \n",
       "employment                               7.20%  \n",
       "cook                                     2.40%  \n",
       "mother_education                         2.40%  \n",
       "meals_dinner_friend                      2.40%  \n",
       "eating_changes                           2.40%  \n",
       "father_profession                        2.40%  \n",
       "GPA                                      1.60%  \n",
       "fav_food                                 1.60%  \n",
       "sports                                   1.60%  \n",
       "mother_profession                        1.60%  \n",
       "weight                                   1.60%  \n",
       "fav_cuisine                              1.60%  \n",
       "drink                                    1.60%  \n",
       "on_off_campus                            0.80%  \n",
       "calories_scone                           0.80%  \n",
       "tortilla_calories                        0.80%  \n",
       "comfort_food                             0.80%  \n",
       "soup                                     0.80%  \n",
       "self_perception_weight                   0.80%  \n",
       "persian_food                             0.80%  \n",
       "comfort_food_reasons                     0.80%  \n",
       "father_education                         0.80%  \n",
       "diet_current                             0.80%  \n",
       "marital_status                           0.80%  \n",
       "life_rewarding                           0.80%  \n",
       "income                                   0.80%  \n",
       "ideal_diet                               0.80%  \n",
       "healthy_meal                             0.80%  \n",
       "food_childhood                           0.80%  "
      ]
     },
     "execution_count": 124,
     "metadata": {},
     "output_type": "execute_result"
    }
   ],
   "source": [
    "dictionary = {}\n",
    "\n",
    "for feature in features:\n",
    "    \n",
    "    column = data[feature]\n",
    "    \n",
    "    has_null = any(column.isnull())\n",
    "    \n",
    "    if(has_null):\n",
    "        \n",
    "        null_count = column.isnull().value_counts()[True]\n",
    "        not_null_count = column.notnull().value_counts()[True]\n",
    "        total_rows = len(column)\n",
    "        \n",
    "        row = {}\n",
    "        row[\"Null Count\"] = null_count\n",
    "        row[\"Not Null Count\"] = not_null_count\n",
    "        row[\"Null Count / Total Rows\"] = \"%s / %s\" %  (null_count, total_rows)\n",
    "        row[\"Percentage of Nulls\"] = \"%.2f\" % ((null_count / total_rows) * 100) + \"%\"\n",
    "        row[\"Ratio (Not Null : Null)\"] = \"%.2f : 1\" %  ((null_count / not_null_count))\n",
    "        \n",
    "        dictionary[feature] = row\n",
    "\n",
    "ordered_columns = [\"Null Count\", \"Not Null Count\", \"Ratio (Not Null : Null)\", \"Null Count / Total Rows\", \"Percentage of Nulls\"]\n",
    "\n",
    "from pandas import DataFrame\n",
    "\n",
    "new_dataframe = DataFrame.from_dict(data = dictionary, orient=\"index\")\n",
    "new_dataframe[ordered_columns].sort_values(\"Null Count\", ascending=False)"
   ]
  },
  {
   "cell_type": "markdown",
   "metadata": {},
   "source": [
    "# Try to convert to float : GPA"
   ]
  },
  {
   "cell_type": "markdown",
   "metadata": {},
   "source": [
    "### Delete strings"
   ]
  },
  {
   "cell_type": "code",
   "execution_count": 140,
   "metadata": {},
   "outputs": [
    {
     "data": {
      "text/plain": [
       "(125, 61)"
      ]
     },
     "execution_count": 140,
     "metadata": {},
     "output_type": "execute_result"
    }
   ],
   "source": [
    "data = pd.read_csv('..//food_coded.csv')\n",
    "data.shape"
   ]
  },
  {
   "cell_type": "code",
   "execution_count": 141,
   "metadata": {},
   "outputs": [
    {
     "data": {
      "text/plain": [
       "0    2.4\n",
       "Name: GPA, dtype: object"
      ]
     },
     "execution_count": 141,
     "metadata": {},
     "output_type": "execute_result"
    }
   ],
   "source": [
    "data['GPA'].head(1)"
   ]
  },
  {
   "cell_type": "code",
   "execution_count": 142,
   "metadata": {},
   "outputs": [
    {
     "data": {
      "text/plain": [
       "0        2.4\n",
       "1      3.654\n",
       "2        3.3\n",
       "3        3.2\n",
       "4        3.5\n",
       "       ...  \n",
       "120      3.5\n",
       "121        3\n",
       "122    3.882\n",
       "123        3\n",
       "124      3.9\n",
       "Name: GPA, Length: 125, dtype: object"
      ]
     },
     "execution_count": 142,
     "metadata": {},
     "output_type": "execute_result"
    }
   ],
   "source": [
    "data['GPA'].str.replace('[a-z]|[A-Z]|\\,|\\'|\\s','')"
   ]
  },
  {
   "cell_type": "code",
   "execution_count": 143,
   "metadata": {},
   "outputs": [],
   "source": [
    "data['GPA']=data['GPA'].str.replace('[a-z]|[A-Z]|\\,|\\'|\\s','')"
   ]
  },
  {
   "cell_type": "markdown",
   "metadata": {},
   "source": [
    "### replace nan values"
   ]
  },
  {
   "cell_type": "code",
   "execution_count": 144,
   "metadata": {},
   "outputs": [],
   "source": [
    "data['GPA'].fillna(0,inplace=True)"
   ]
  },
  {
   "cell_type": "markdown",
   "metadata": {},
   "source": [
    "### replace void with values"
   ]
  },
  {
   "cell_type": "code",
   "execution_count": 146,
   "metadata": {},
   "outputs": [],
   "source": [
    "data['GPA'].replace(to_replace='',value=0,inplace=True)"
   ]
  },
  {
   "cell_type": "markdown",
   "metadata": {},
   "source": [
    "### convert to float"
   ]
  },
  {
   "cell_type": "code",
   "execution_count": 147,
   "metadata": {},
   "outputs": [],
   "source": [
    "data['GPA'] = data['GPA'].astype('float')"
   ]
  },
  {
   "cell_type": "markdown",
   "metadata": {},
   "source": [
    "### replace 0 with average"
   ]
  },
  {
   "cell_type": "code",
   "execution_count": 151,
   "metadata": {},
   "outputs": [],
   "source": [
    "gpa_mean = round(data['GPA'].mean(),3)"
   ]
  },
  {
   "cell_type": "code",
   "execution_count": 152,
   "metadata": {},
   "outputs": [],
   "source": [
    "data['GPA'].replace(to_replace=0,value=gpa_mean,inplace=True)"
   ]
  },
  {
   "cell_type": "code",
   "execution_count": 153,
   "metadata": {},
   "outputs": [
    {
     "data": {
      "text/plain": [
       "array([2.4  , 3.654, 3.3  , 3.2  , 3.5  , 2.25 , 3.8  , 3.904, 3.4  ,\n",
       "       3.6  , 3.1  , 3.309, 4.   , 2.2  , 3.87 , 3.7  , 3.9  , 2.8  ,\n",
       "       3.   , 3.65 , 3.89 , 2.9  , 3.605, 3.83 , 3.292, 3.35 , 2.6  ,\n",
       "       3.67 , 3.73 , 3.79 , 2.71 , 3.68 , 3.75 , 3.92 , 3.77 , 3.63 ,\n",
       "       3.882])"
      ]
     },
     "execution_count": 153,
     "metadata": {},
     "output_type": "execute_result"
    }
   ],
   "source": [
    "data['GPA'].unique()"
   ]
  },
  {
   "cell_type": "markdown",
   "metadata": {},
   "source": [
    "# Calories day:"
   ]
  },
  {
   "cell_type": "code",
   "execution_count": 168,
   "metadata": {},
   "outputs": [
    {
     "data": {
      "text/plain": [
       "array([nan,  3.,  4.,  2.])"
      ]
     },
     "execution_count": 168,
     "metadata": {},
     "output_type": "execute_result"
    }
   ],
   "source": [
    "data['calories_day'].unique()"
   ]
  },
  {
   "cell_type": "code",
   "execution_count": 175,
   "metadata": {},
   "outputs": [
    {
     "data": {
      "text/plain": [
       "3.0    63\n",
       "4.0    23\n",
       "2.0    20\n",
       "Name: calories_day, dtype: int64"
      ]
     },
     "execution_count": 175,
     "metadata": {},
     "output_type": "execute_result"
    }
   ],
   "source": [
    "data['calories_day'].value_counts()"
   ]
  },
  {
   "cell_type": "code",
   "execution_count": 177,
   "metadata": {},
   "outputs": [],
   "source": [
    "data['calories_day'].fillna(0,inplace=True)"
   ]
  },
  {
   "cell_type": "code",
   "execution_count": 180,
   "metadata": {},
   "outputs": [],
   "source": [
    "cal_day_median = data['calories_day'].median()"
   ]
  },
  {
   "cell_type": "code",
   "execution_count": 181,
   "metadata": {},
   "outputs": [
    {
     "data": {
      "text/plain": [
       "3.0"
      ]
     },
     "execution_count": 181,
     "metadata": {},
     "output_type": "execute_result"
    }
   ],
   "source": [
    "cal_day_median"
   ]
  },
  {
   "cell_type": "code",
   "execution_count": 182,
   "metadata": {},
   "outputs": [],
   "source": [
    "data['calories_day'].replace(to_replace=0,value=cal_day_median,inplace=True)"
   ]
  },
  {
   "cell_type": "markdown",
   "metadata": {},
   "source": [
    "### To int"
   ]
  },
  {
   "cell_type": "code",
   "execution_count": 183,
   "metadata": {},
   "outputs": [],
   "source": [
    "data['calories_day'] = data['calories_day'].astype('int')"
   ]
  },
  {
   "cell_type": "code",
   "execution_count": 184,
   "metadata": {},
   "outputs": [
    {
     "data": {
      "text/plain": [
       "3    82\n",
       "4    23\n",
       "2    20\n",
       "Name: calories_day, dtype: int64"
      ]
     },
     "execution_count": 184,
     "metadata": {},
     "output_type": "execute_result"
    }
   ],
   "source": [
    "data['calories_day'].value_counts()"
   ]
  },
  {
   "cell_type": "code",
   "execution_count": null,
   "metadata": {},
   "outputs": [],
   "source": []
  },
  {
   "cell_type": "code",
   "execution_count": null,
   "metadata": {},
   "outputs": [],
   "source": []
  },
  {
   "cell_type": "code",
   "execution_count": 186,
   "metadata": {},
   "outputs": [
    {
     "data": {
      "text/plain": [
       "<matplotlib.axes._subplots.AxesSubplot at 0xc89cd48>"
      ]
     },
     "execution_count": 186,
     "metadata": {},
     "output_type": "execute_result"
    },
    {
     "data": {
      "image/png": "[encoded data removed]",
      "text/plain": [
       "<Figure size 1080x720 with 2 Axes>"
      ]
     },
     "metadata": {
      "needs_background": "light"
     },
     "output_type": "display_data"
    }
   ],
   "source": [
    "fig, ax = plt.subplots()\n",
    "fig.set_size_inches(15, 10)\n",
    "sn.heatmap(data.corr())"
   ]
  },
  {
   "cell_type": "code",
   "execution_count": null,
   "metadata": {},
   "outputs": [],
   "source": []
  }
 ],
 "metadata": {
  "kernelspec": {
   "display_name": "Python 3",
   "language": "python",
   "name": "python3"
  },
  "language_info": {
   "codemirror_mode": {
    "name": "ipython",
    "version": 3
   },
   "file_extension": ".py",
   "mimetype": "text/x-python",
   "name": "python",
   "nbconvert_exporter": "python",
   "pygments_lexer": "ipython3",
   "version": "3.7.4"
  }
 },
 "nbformat": 4,
 "nbformat_minor": 2
}
