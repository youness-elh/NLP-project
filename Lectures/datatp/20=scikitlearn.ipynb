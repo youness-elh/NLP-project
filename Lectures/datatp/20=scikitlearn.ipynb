{
  "nbformat": 4,
  "nbformat_minor": 0,
  "metadata": {
    "colab": {
      "name": "20=scikitlearn.ipynb",
      "provenance": [],
      "collapsed_sections": [
        "ueRdYCJF19su"
      ]
    },
    "kernelspec": {
      "display_name": "Python 3",
      "language": "python",
      "name": "python3"
    }
  },
  "cells": [
    {
      "cell_type": "markdown",
      "metadata": {
        "id": "Nn-_UJh219rp",
        "colab_type": "text"
      },
      "source": [
        "# Comprendre Scikit-Learn"
      ]
    },
    {
      "cell_type": "code",
      "metadata": {
        "id": "g7ERxEXuNCXS",
        "colab_type": "code",
        "outputId": "0028f7fa-c9d5-493c-9d20-7fe3ac40f73d",
        "colab": {
          "base_uri": "https://localhost:8080/",
          "height": 35
        }
      },
      "source": [
        "import os\n",
        "\"to load assets on the server (if it was not already done)\"\n",
        "if not os.path.exists(\"assets_ml\"):\n",
        "    !git clone https://github.com/vincentvigon/assets_ml\n",
        "else:\n",
        "    print(\"assets already here\")"
      ],
      "execution_count": 0,
      "outputs": [
        {
          "output_type": "stream",
          "text": [
            "data already here\n"
          ],
          "name": "stdout"
        }
      ]
    },
    {
      "cell_type": "code",
      "metadata": {
        "id": "910dopi219rs",
        "colab_type": "code",
        "colab": {}
      },
      "source": [
        "%reset -f\n",
        "\n",
        "import matplotlib.pyplot as plt\n",
        "import numpy as np\n",
        "import pandas as pd\n",
        "import sklearn.linear_model\n",
        "import sklearn.preprocessing\n",
        "import sklearn.pipeline\n",
        "\n",
        "import warnings\n",
        "from IPython.display import Image\n",
        "import os\n",
        "\n",
        "\n",
        "plt.style.use(\"default\")\n",
        "pd.set_option('display.max_rows', 500)\n",
        "pd.set_option('display.max_columns', 500)\n",
        "pd.set_option('display.width', 1000)\n",
        "np.set_printoptions(linewidth=500)\n",
        "# Ignore useless warnings (see SciPy issue #5998)\n",
        "warnings.filterwarnings(action=\"ignore\", module=\"scipy\", message=\"^internal gelsd\")\n",
        "\n",
        "\n",
        "\"fonction utilitaire\"\n",
        "def load_all_data():\n",
        "    \n",
        "    df0 = pd.read_csv(\"assets_ml/dataframe/oecd_bli_2015.csv\", thousands=',')\n",
        "    \"we keep only some lines \"\n",
        "    df1 = df0[df0[\"INEQUALITY\"]==\"TOT\"]\n",
        "    \"and make a pivot table to  indicators and their values by country\"\n",
        "    df2 = df1.pivot(index=\"Country\", columns=\"Indicator\", values=\"Value\")\n",
        "    df_gdp = pd.read_csv(\"assets_ml/dataframe/gdp_per_capita.csv\", thousands=',', delimiter='\\t',\n",
        "                                 encoding='latin1', na_values=\"n/a\")\n",
        "    df_gdp.rename(columns={\"2015\": \"GDP per capita\"}, inplace=True)\n",
        "    df_gdp.set_index(\"Country\", inplace=True)\n",
        "    df_full = pd.merge(left=df_gdp[[\"GDP per capita\"]], right=df2, left_index=True, right_index=True)\n",
        "    df_full.sort_values(by=\"GDP per capita\", inplace=True)\n",
        "\n",
        "    \"we remove some countries\"\n",
        "    remove_indices = [0, 1, 6, 8, 33, 34, 35]\n",
        "    \" to substract list, we transform them into set. This an fast technic (avoiding a double loop) \"\n",
        "    keep_indices = list(set(range(36)) - set(remove_indices))\n",
        "    df_sample = df_full[[\"GDP per capita\", 'Life satisfaction']].iloc[keep_indices]\n",
        "    df_missing = df_full[[\"GDP per capita\", 'Life satisfaction']].iloc[remove_indices]\n",
        "    \n",
        "    return df_full,df_sample,df_missing,df_gdp\n",
        "\n",
        "\n",
        "        \n",
        "assert os.path.exists(\"assets_ml\"), \"please import assets via git\""
      ],
      "execution_count": 0,
      "outputs": []
    },
    {
      "cell_type": "markdown",
      "metadata": {
        "id": "fYckoHO519rr",
        "colab_type": "text"
      },
      "source": [
        "## Charger les données \n",
        "\n",
        "L'argent rend-il heureux? On télécharge une base de donnée de l'OECD (Organisation for Economic Co-operation and Development) dans laquel on trouve notamment le [Better Life Index](https://stats.oecd.org/index.aspx?DataSetCode=BLI) de  et une base de donnée relative au PIB: [GDP per capita]( http://goo.gl/j1MSKe) de IMF (International Monetary Found)."
      ]
    },
    {
      "cell_type": "markdown",
      "metadata": {
        "id": "qktxY28v19rx",
        "colab_type": "text"
      },
      "source": [
        "### Les données \"Life satisfaction\" \n",
        "\n",
        "D'après le site de [OCDE](http://www.oecdbetterlifeindex.org/topics/life-satisfaction/): \n",
        "\n",
        "<< Life satisfaction measures how people evaluate their life as a whole rather than their current feelings. When asked to rate their general satisfaction with life on a scale from 0 to 10, people on average across the OECD gave it a 6.5. Life satisfaction is not evenly shared across the OECD however. Some countries – Greece, Hungary, Portugal and Turkey – have a relatively low level of overall life satisfaction, with average scores of 5.5 or less. At the other end of the scale, scores reach 7.5 in Denmark, Finland, Iceland, Norway and Switzerland >>\n"
      ]
    },
    {
      "cell_type": "code",
      "metadata": {
        "id": "0qJUhMTl19rx",
        "colab_type": "code",
        "outputId": "71ea25aa-8931-4521-8b81-15602e6824b6",
        "colab": {
          "base_uri": "https://localhost:8080/",
          "height": 517
        }
      },
      "source": [
        "df0 = pd.read_csv(\"assets_ml/dataframe/oecd_bli_2015.csv\", thousands=',')\n",
        "df0.head()"
      ],
      "execution_count": 0,
      "outputs": [
        {
          "output_type": "execute_result",
          "data": {
            "text/html": [
              "<div>\n",
              "<style scoped>\n",
              "    .dataframe tbody tr th:only-of-type {\n",
              "        vertical-align: middle;\n",
              "    }\n",
              "\n",
              "    .dataframe tbody tr th {\n",
              "        vertical-align: top;\n",
              "    }\n",
              "\n",
              "    .dataframe thead th {\n",
              "        text-align: right;\n",
              "    }\n",
              "</style>\n",
              "<table border=\"1\" class=\"dataframe\">\n",
              "  <thead>\n",
              "    <tr style=\"text-align: right;\">\n",
              "      <th></th>\n",
              "      <th>LOCATION</th>\n",
              "      <th>Country</th>\n",
              "      <th>INDICATOR</th>\n",
              "      <th>Indicator</th>\n",
              "      <th>MEASURE</th>\n",
              "      <th>Measure</th>\n",
              "      <th>INEQUALITY</th>\n",
              "      <th>Inequality</th>\n",
              "      <th>Unit Code</th>\n",
              "      <th>Unit</th>\n",
              "      <th>PowerCode Code</th>\n",
              "      <th>PowerCode</th>\n",
              "      <th>Reference Period Code</th>\n",
              "      <th>Reference Period</th>\n",
              "      <th>Value</th>\n",
              "      <th>Flag Codes</th>\n",
              "      <th>Flags</th>\n",
              "    </tr>\n",
              "  </thead>\n",
              "  <tbody>\n",
              "    <tr>\n",
              "      <th>0</th>\n",
              "      <td>AUS</td>\n",
              "      <td>Australia</td>\n",
              "      <td>HO_BASE</td>\n",
              "      <td>Dwellings without basic facilities</td>\n",
              "      <td>L</td>\n",
              "      <td>Value</td>\n",
              "      <td>TOT</td>\n",
              "      <td>Total</td>\n",
              "      <td>PC</td>\n",
              "      <td>Percentage</td>\n",
              "      <td>0</td>\n",
              "      <td>units</td>\n",
              "      <td>NaN</td>\n",
              "      <td>NaN</td>\n",
              "      <td>1.1</td>\n",
              "      <td>E</td>\n",
              "      <td>Estimated value</td>\n",
              "    </tr>\n",
              "    <tr>\n",
              "      <th>1</th>\n",
              "      <td>AUT</td>\n",
              "      <td>Austria</td>\n",
              "      <td>HO_BASE</td>\n",
              "      <td>Dwellings without basic facilities</td>\n",
              "      <td>L</td>\n",
              "      <td>Value</td>\n",
              "      <td>TOT</td>\n",
              "      <td>Total</td>\n",
              "      <td>PC</td>\n",
              "      <td>Percentage</td>\n",
              "      <td>0</td>\n",
              "      <td>units</td>\n",
              "      <td>NaN</td>\n",
              "      <td>NaN</td>\n",
              "      <td>1.0</td>\n",
              "      <td>NaN</td>\n",
              "      <td>NaN</td>\n",
              "    </tr>\n",
              "    <tr>\n",
              "      <th>2</th>\n",
              "      <td>BEL</td>\n",
              "      <td>Belgium</td>\n",
              "      <td>HO_BASE</td>\n",
              "      <td>Dwellings without basic facilities</td>\n",
              "      <td>L</td>\n",
              "      <td>Value</td>\n",
              "      <td>TOT</td>\n",
              "      <td>Total</td>\n",
              "      <td>PC</td>\n",
              "      <td>Percentage</td>\n",
              "      <td>0</td>\n",
              "      <td>units</td>\n",
              "      <td>NaN</td>\n",
              "      <td>NaN</td>\n",
              "      <td>2.0</td>\n",
              "      <td>NaN</td>\n",
              "      <td>NaN</td>\n",
              "    </tr>\n",
              "    <tr>\n",
              "      <th>3</th>\n",
              "      <td>CAN</td>\n",
              "      <td>Canada</td>\n",
              "      <td>HO_BASE</td>\n",
              "      <td>Dwellings without basic facilities</td>\n",
              "      <td>L</td>\n",
              "      <td>Value</td>\n",
              "      <td>TOT</td>\n",
              "      <td>Total</td>\n",
              "      <td>PC</td>\n",
              "      <td>Percentage</td>\n",
              "      <td>0</td>\n",
              "      <td>units</td>\n",
              "      <td>NaN</td>\n",
              "      <td>NaN</td>\n",
              "      <td>0.2</td>\n",
              "      <td>NaN</td>\n",
              "      <td>NaN</td>\n",
              "    </tr>\n",
              "    <tr>\n",
              "      <th>4</th>\n",
              "      <td>CZE</td>\n",
              "      <td>Czech Republic</td>\n",
              "      <td>HO_BASE</td>\n",
              "      <td>Dwellings without basic facilities</td>\n",
              "      <td>L</td>\n",
              "      <td>Value</td>\n",
              "      <td>TOT</td>\n",
              "      <td>Total</td>\n",
              "      <td>PC</td>\n",
              "      <td>Percentage</td>\n",
              "      <td>0</td>\n",
              "      <td>units</td>\n",
              "      <td>NaN</td>\n",
              "      <td>NaN</td>\n",
              "      <td>0.9</td>\n",
              "      <td>NaN</td>\n",
              "      <td>NaN</td>\n",
              "    </tr>\n",
              "  </tbody>\n",
              "</table>\n",
              "</div>"
            ],
            "text/plain": [
              "  LOCATION         Country INDICATOR                           Indicator MEASURE Measure INEQUALITY Inequality Unit Code        Unit  PowerCode Code PowerCode  Reference Period Code  Reference Period  Value Flag Codes            Flags\n",
              "0      AUS       Australia   HO_BASE  Dwellings without basic facilities       L   Value        TOT      Total        PC  Percentage               0     units                    NaN               NaN    1.1          E  Estimated value\n",
              "1      AUT         Austria   HO_BASE  Dwellings without basic facilities       L   Value        TOT      Total        PC  Percentage               0     units                    NaN               NaN    1.0        NaN              NaN\n",
              "2      BEL         Belgium   HO_BASE  Dwellings without basic facilities       L   Value        TOT      Total        PC  Percentage               0     units                    NaN               NaN    2.0        NaN              NaN\n",
              "3      CAN          Canada   HO_BASE  Dwellings without basic facilities       L   Value        TOT      Total        PC  Percentage               0     units                    NaN               NaN    0.2        NaN              NaN\n",
              "4      CZE  Czech Republic   HO_BASE  Dwellings without basic facilities       L   Value        TOT      Total        PC  Percentage               0     units                    NaN               NaN    0.9        NaN              NaN"
            ]
          },
          "metadata": {
            "tags": []
          },
          "execution_count": 20
        }
      ]
    },
    {
      "cell_type": "markdown",
      "metadata": {
        "id": "OOq4unKi19r3",
        "colab_type": "text"
      },
      "source": [
        "***A vous:*** $(1\\heartsuit)$ A quoi sert l'option `thousands=','`?"
      ]
    },
    {
      "cell_type": "markdown",
      "metadata": {
        "id": "i9oSUZMd19r3",
        "colab_type": "text"
      },
      "source": [
        "On voit ci-dessous que pour chaque pays, il a beaucoup de lignes.\n",
        "\n",
        "***Remarque:*** Les bases de donnée `no-sql` qui ont des structure arborescentes sont été mieux adaptées à ce type de donnée.  "
      ]
    },
    {
      "cell_type": "code",
      "metadata": {
        "id": "VNLa2Lt-19r4",
        "colab_type": "code",
        "outputId": "bde97f81-8e88-48db-f589-d1e7b0d72f1e",
        "colab": {
          "base_uri": "https://localhost:8080/",
          "height": 739
        }
      },
      "source": [
        "df0[df0[\"LOCATION\"]==\"BEL\"].head(10)"
      ],
      "execution_count": 0,
      "outputs": [
        {
          "output_type": "execute_result",
          "data": {
            "text/html": [
              "<div>\n",
              "<style scoped>\n",
              "    .dataframe tbody tr th:only-of-type {\n",
              "        vertical-align: middle;\n",
              "    }\n",
              "\n",
              "    .dataframe tbody tr th {\n",
              "        vertical-align: top;\n",
              "    }\n",
              "\n",
              "    .dataframe thead th {\n",
              "        text-align: right;\n",
              "    }\n",
              "</style>\n",
              "<table border=\"1\" class=\"dataframe\">\n",
              "  <thead>\n",
              "    <tr style=\"text-align: right;\">\n",
              "      <th></th>\n",
              "      <th>LOCATION</th>\n",
              "      <th>Country</th>\n",
              "      <th>INDICATOR</th>\n",
              "      <th>Indicator</th>\n",
              "      <th>MEASURE</th>\n",
              "      <th>Measure</th>\n",
              "      <th>INEQUALITY</th>\n",
              "      <th>Inequality</th>\n",
              "      <th>Unit Code</th>\n",
              "      <th>Unit</th>\n",
              "      <th>PowerCode Code</th>\n",
              "      <th>PowerCode</th>\n",
              "      <th>Reference Period Code</th>\n",
              "      <th>Reference Period</th>\n",
              "      <th>Value</th>\n",
              "      <th>Flag Codes</th>\n",
              "      <th>Flags</th>\n",
              "    </tr>\n",
              "  </thead>\n",
              "  <tbody>\n",
              "    <tr>\n",
              "      <th>2</th>\n",
              "      <td>BEL</td>\n",
              "      <td>Belgium</td>\n",
              "      <td>HO_BASE</td>\n",
              "      <td>Dwellings without basic facilities</td>\n",
              "      <td>L</td>\n",
              "      <td>Value</td>\n",
              "      <td>TOT</td>\n",
              "      <td>Total</td>\n",
              "      <td>PC</td>\n",
              "      <td>Percentage</td>\n",
              "      <td>0</td>\n",
              "      <td>units</td>\n",
              "      <td>NaN</td>\n",
              "      <td>NaN</td>\n",
              "      <td>2.0</td>\n",
              "      <td>NaN</td>\n",
              "      <td>NaN</td>\n",
              "    </tr>\n",
              "    <tr>\n",
              "      <th>39</th>\n",
              "      <td>BEL</td>\n",
              "      <td>Belgium</td>\n",
              "      <td>HO_BASE</td>\n",
              "      <td>Dwellings without basic facilities</td>\n",
              "      <td>L</td>\n",
              "      <td>Value</td>\n",
              "      <td>MN</td>\n",
              "      <td>Men</td>\n",
              "      <td>PC</td>\n",
              "      <td>Percentage</td>\n",
              "      <td>0</td>\n",
              "      <td>units</td>\n",
              "      <td>NaN</td>\n",
              "      <td>NaN</td>\n",
              "      <td>2.0</td>\n",
              "      <td>E</td>\n",
              "      <td>Estimated value</td>\n",
              "    </tr>\n",
              "    <tr>\n",
              "      <th>75</th>\n",
              "      <td>BEL</td>\n",
              "      <td>Belgium</td>\n",
              "      <td>HO_BASE</td>\n",
              "      <td>Dwellings without basic facilities</td>\n",
              "      <td>L</td>\n",
              "      <td>Value</td>\n",
              "      <td>WMN</td>\n",
              "      <td>Women</td>\n",
              "      <td>PC</td>\n",
              "      <td>Percentage</td>\n",
              "      <td>0</td>\n",
              "      <td>units</td>\n",
              "      <td>NaN</td>\n",
              "      <td>NaN</td>\n",
              "      <td>2.0</td>\n",
              "      <td>E</td>\n",
              "      <td>Estimated value</td>\n",
              "    </tr>\n",
              "    <tr>\n",
              "      <th>111</th>\n",
              "      <td>BEL</td>\n",
              "      <td>Belgium</td>\n",
              "      <td>HO_HISH</td>\n",
              "      <td>Housing expenditure</td>\n",
              "      <td>L</td>\n",
              "      <td>Value</td>\n",
              "      <td>TOT</td>\n",
              "      <td>Total</td>\n",
              "      <td>PC</td>\n",
              "      <td>Percentage</td>\n",
              "      <td>0</td>\n",
              "      <td>units</td>\n",
              "      <td>NaN</td>\n",
              "      <td>NaN</td>\n",
              "      <td>21.0</td>\n",
              "      <td>NaN</td>\n",
              "      <td>NaN</td>\n",
              "    </tr>\n",
              "    <tr>\n",
              "      <th>148</th>\n",
              "      <td>BEL</td>\n",
              "      <td>Belgium</td>\n",
              "      <td>HO_HISH</td>\n",
              "      <td>Housing expenditure</td>\n",
              "      <td>L</td>\n",
              "      <td>Value</td>\n",
              "      <td>MN</td>\n",
              "      <td>Men</td>\n",
              "      <td>PC</td>\n",
              "      <td>Percentage</td>\n",
              "      <td>0</td>\n",
              "      <td>units</td>\n",
              "      <td>NaN</td>\n",
              "      <td>NaN</td>\n",
              "      <td>21.0</td>\n",
              "      <td>E</td>\n",
              "      <td>Estimated value</td>\n",
              "    </tr>\n",
              "    <tr>\n",
              "      <th>184</th>\n",
              "      <td>BEL</td>\n",
              "      <td>Belgium</td>\n",
              "      <td>HO_HISH</td>\n",
              "      <td>Housing expenditure</td>\n",
              "      <td>L</td>\n",
              "      <td>Value</td>\n",
              "      <td>WMN</td>\n",
              "      <td>Women</td>\n",
              "      <td>PC</td>\n",
              "      <td>Percentage</td>\n",
              "      <td>0</td>\n",
              "      <td>units</td>\n",
              "      <td>NaN</td>\n",
              "      <td>NaN</td>\n",
              "      <td>21.0</td>\n",
              "      <td>E</td>\n",
              "      <td>Estimated value</td>\n",
              "    </tr>\n",
              "    <tr>\n",
              "      <th>220</th>\n",
              "      <td>BEL</td>\n",
              "      <td>Belgium</td>\n",
              "      <td>HO_NUMR</td>\n",
              "      <td>Rooms per person</td>\n",
              "      <td>L</td>\n",
              "      <td>Value</td>\n",
              "      <td>TOT</td>\n",
              "      <td>Total</td>\n",
              "      <td>RATIO</td>\n",
              "      <td>Ratio</td>\n",
              "      <td>0</td>\n",
              "      <td>units</td>\n",
              "      <td>NaN</td>\n",
              "      <td>NaN</td>\n",
              "      <td>2.2</td>\n",
              "      <td>NaN</td>\n",
              "      <td>NaN</td>\n",
              "    </tr>\n",
              "    <tr>\n",
              "      <th>257</th>\n",
              "      <td>BEL</td>\n",
              "      <td>Belgium</td>\n",
              "      <td>HO_NUMR</td>\n",
              "      <td>Rooms per person</td>\n",
              "      <td>L</td>\n",
              "      <td>Value</td>\n",
              "      <td>MN</td>\n",
              "      <td>Men</td>\n",
              "      <td>RATIO</td>\n",
              "      <td>Ratio</td>\n",
              "      <td>0</td>\n",
              "      <td>units</td>\n",
              "      <td>NaN</td>\n",
              "      <td>NaN</td>\n",
              "      <td>2.2</td>\n",
              "      <td>E</td>\n",
              "      <td>Estimated value</td>\n",
              "    </tr>\n",
              "    <tr>\n",
              "      <th>293</th>\n",
              "      <td>BEL</td>\n",
              "      <td>Belgium</td>\n",
              "      <td>HO_NUMR</td>\n",
              "      <td>Rooms per person</td>\n",
              "      <td>L</td>\n",
              "      <td>Value</td>\n",
              "      <td>WMN</td>\n",
              "      <td>Women</td>\n",
              "      <td>RATIO</td>\n",
              "      <td>Ratio</td>\n",
              "      <td>0</td>\n",
              "      <td>units</td>\n",
              "      <td>NaN</td>\n",
              "      <td>NaN</td>\n",
              "      <td>2.2</td>\n",
              "      <td>E</td>\n",
              "      <td>Estimated value</td>\n",
              "    </tr>\n",
              "    <tr>\n",
              "      <th>329</th>\n",
              "      <td>BEL</td>\n",
              "      <td>Belgium</td>\n",
              "      <td>IW_HADI</td>\n",
              "      <td>Household net adjusted disposable income</td>\n",
              "      <td>L</td>\n",
              "      <td>Value</td>\n",
              "      <td>TOT</td>\n",
              "      <td>Total</td>\n",
              "      <td>USD</td>\n",
              "      <td>US Dollar</td>\n",
              "      <td>0</td>\n",
              "      <td>units</td>\n",
              "      <td>NaN</td>\n",
              "      <td>NaN</td>\n",
              "      <td>28307.0</td>\n",
              "      <td>NaN</td>\n",
              "      <td>NaN</td>\n",
              "    </tr>\n",
              "  </tbody>\n",
              "</table>\n",
              "</div>"
            ],
            "text/plain": [
              "    LOCATION  Country INDICATOR                                 Indicator MEASURE Measure INEQUALITY Inequality Unit Code        Unit  PowerCode Code PowerCode  Reference Period Code  Reference Period    Value Flag Codes            Flags\n",
              "2        BEL  Belgium   HO_BASE        Dwellings without basic facilities       L   Value        TOT      Total        PC  Percentage               0     units                    NaN               NaN      2.0        NaN              NaN\n",
              "39       BEL  Belgium   HO_BASE        Dwellings without basic facilities       L   Value         MN        Men        PC  Percentage               0     units                    NaN               NaN      2.0          E  Estimated value\n",
              "75       BEL  Belgium   HO_BASE        Dwellings without basic facilities       L   Value        WMN      Women        PC  Percentage               0     units                    NaN               NaN      2.0          E  Estimated value\n",
              "111      BEL  Belgium   HO_HISH                       Housing expenditure       L   Value        TOT      Total        PC  Percentage               0     units                    NaN               NaN     21.0        NaN              NaN\n",
              "148      BEL  Belgium   HO_HISH                       Housing expenditure       L   Value         MN        Men        PC  Percentage               0     units                    NaN               NaN     21.0          E  Estimated value\n",
              "184      BEL  Belgium   HO_HISH                       Housing expenditure       L   Value        WMN      Women        PC  Percentage               0     units                    NaN               NaN     21.0          E  Estimated value\n",
              "220      BEL  Belgium   HO_NUMR                          Rooms per person       L   Value        TOT      Total     RATIO       Ratio               0     units                    NaN               NaN      2.2        NaN              NaN\n",
              "257      BEL  Belgium   HO_NUMR                          Rooms per person       L   Value         MN        Men     RATIO       Ratio               0     units                    NaN               NaN      2.2          E  Estimated value\n",
              "293      BEL  Belgium   HO_NUMR                          Rooms per person       L   Value        WMN      Women     RATIO       Ratio               0     units                    NaN               NaN      2.2          E  Estimated value\n",
              "329      BEL  Belgium   IW_HADI  Household net adjusted disposable income       L   Value        TOT      Total       USD   US Dollar               0     units                    NaN               NaN  28307.0        NaN              NaN"
            ]
          },
          "metadata": {
            "tags": []
          },
          "execution_count": 21
        }
      ]
    },
    {
      "cell_type": "markdown",
      "metadata": {
        "id": "r1vV_NlV19r7",
        "colab_type": "text"
      },
      "source": [
        "Observons les différents indicateurs disponibles.\n",
        "\n",
        "***A vous:*** Tous les indicateurs sont-ils disponibles pour tous les pays? Justifiez ($2\\heartsuit$)."
      ]
    },
    {
      "cell_type": "code",
      "metadata": {
        "id": "kzoyACA_19r7",
        "colab_type": "code",
        "outputId": "4c5b0fa4-dcb8-48cd-8adc-a8cbe6f943d2",
        "colab": {
          "base_uri": "https://localhost:8080/",
          "height": 451
        }
      },
      "source": [
        "\"let's see the the different 'indicator' \"\n",
        "df0[\"Indicator\"].value_counts()"
      ],
      "execution_count": 0,
      "outputs": [
        {
          "output_type": "execute_result",
          "data": {
            "text/plain": [
              "Self-reported health                         185\n",
              "Long-term unemployment rate                  185\n",
              "Personal earnings                            185\n",
              "Voter turnout                                185\n",
              "Student skills                               185\n",
              "Employment rate                              185\n",
              "Household net adjusted disposable income     183\n",
              "Life satisfaction                            179\n",
              "Quality of support network                   167\n",
              "Job security                                 111\n",
              "Life expectancy                              111\n",
              "Homicide rate                                111\n",
              "Water quality                                111\n",
              "Employees working very long hours            111\n",
              "Educational attainment                       111\n",
              "Years in education                           111\n",
              "Assault rate                                 111\n",
              "Time devoted to leisure and personal care    111\n",
              "Household net financial wealth               109\n",
              "Consultation on rule-making                  109\n",
              "Rooms per person                             109\n",
              "Housing expenditure                          109\n",
              "Dwellings without basic facilities           109\n",
              "Air pollution                                109\n",
              "Name: Indicator, dtype: int64"
            ]
          },
          "metadata": {
            "tags": []
          },
          "execution_count": 22
        }
      ]
    },
    {
      "cell_type": "code",
      "metadata": {
        "id": "_0_6f0Vz19r-",
        "colab_type": "code",
        "outputId": "00f8835a-d64a-4d39-ea1d-f4e144188d03",
        "colab": {
          "base_uri": "https://localhost:8080/",
          "height": 357
        }
      },
      "source": [
        "\"we keep only some lines \"\n",
        "df1 = df0[df0[\"INEQUALITY\"]==\"TOT\"]\n",
        "\"and make a pivot table to  indicators and their values by country\"\n",
        "df2 = df1.pivot(index=\"Country\", columns=\"Indicator\", values=\"Value\")\n",
        "df2.head()"
      ],
      "execution_count": 0,
      "outputs": [
        {
          "output_type": "execute_result",
          "data": {
            "text/html": [
              "<div>\n",
              "<style scoped>\n",
              "    .dataframe tbody tr th:only-of-type {\n",
              "        vertical-align: middle;\n",
              "    }\n",
              "\n",
              "    .dataframe tbody tr th {\n",
              "        vertical-align: top;\n",
              "    }\n",
              "\n",
              "    .dataframe thead th {\n",
              "        text-align: right;\n",
              "    }\n",
              "</style>\n",
              "<table border=\"1\" class=\"dataframe\">\n",
              "  <thead>\n",
              "    <tr style=\"text-align: right;\">\n",
              "      <th>Indicator</th>\n",
              "      <th>Air pollution</th>\n",
              "      <th>Assault rate</th>\n",
              "      <th>Consultation on rule-making</th>\n",
              "      <th>Dwellings without basic facilities</th>\n",
              "      <th>Educational attainment</th>\n",
              "      <th>Employees working very long hours</th>\n",
              "      <th>Employment rate</th>\n",
              "      <th>Homicide rate</th>\n",
              "      <th>Household net adjusted disposable income</th>\n",
              "      <th>Household net financial wealth</th>\n",
              "      <th>Housing expenditure</th>\n",
              "      <th>Job security</th>\n",
              "      <th>Life expectancy</th>\n",
              "      <th>Life satisfaction</th>\n",
              "      <th>Long-term unemployment rate</th>\n",
              "      <th>Personal earnings</th>\n",
              "      <th>Quality of support network</th>\n",
              "      <th>Rooms per person</th>\n",
              "      <th>Self-reported health</th>\n",
              "      <th>Student skills</th>\n",
              "      <th>Time devoted to leisure and personal care</th>\n",
              "      <th>Voter turnout</th>\n",
              "      <th>Water quality</th>\n",
              "      <th>Years in education</th>\n",
              "    </tr>\n",
              "    <tr>\n",
              "      <th>Country</th>\n",
              "      <th></th>\n",
              "      <th></th>\n",
              "      <th></th>\n",
              "      <th></th>\n",
              "      <th></th>\n",
              "      <th></th>\n",
              "      <th></th>\n",
              "      <th></th>\n",
              "      <th></th>\n",
              "      <th></th>\n",
              "      <th></th>\n",
              "      <th></th>\n",
              "      <th></th>\n",
              "      <th></th>\n",
              "      <th></th>\n",
              "      <th></th>\n",
              "      <th></th>\n",
              "      <th></th>\n",
              "      <th></th>\n",
              "      <th></th>\n",
              "      <th></th>\n",
              "      <th></th>\n",
              "      <th></th>\n",
              "      <th></th>\n",
              "    </tr>\n",
              "  </thead>\n",
              "  <tbody>\n",
              "    <tr>\n",
              "      <th>Australia</th>\n",
              "      <td>13.0</td>\n",
              "      <td>2.1</td>\n",
              "      <td>10.5</td>\n",
              "      <td>1.1</td>\n",
              "      <td>76.0</td>\n",
              "      <td>14.02</td>\n",
              "      <td>72.0</td>\n",
              "      <td>0.8</td>\n",
              "      <td>31588.0</td>\n",
              "      <td>47657.0</td>\n",
              "      <td>20.0</td>\n",
              "      <td>4.8</td>\n",
              "      <td>82.1</td>\n",
              "      <td>7.3</td>\n",
              "      <td>1.08</td>\n",
              "      <td>50449.0</td>\n",
              "      <td>92.0</td>\n",
              "      <td>2.3</td>\n",
              "      <td>85.0</td>\n",
              "      <td>512.0</td>\n",
              "      <td>14.41</td>\n",
              "      <td>93.0</td>\n",
              "      <td>91.0</td>\n",
              "      <td>19.4</td>\n",
              "    </tr>\n",
              "    <tr>\n",
              "      <th>Austria</th>\n",
              "      <td>27.0</td>\n",
              "      <td>3.4</td>\n",
              "      <td>7.1</td>\n",
              "      <td>1.0</td>\n",
              "      <td>83.0</td>\n",
              "      <td>7.61</td>\n",
              "      <td>72.0</td>\n",
              "      <td>0.4</td>\n",
              "      <td>31173.0</td>\n",
              "      <td>49887.0</td>\n",
              "      <td>21.0</td>\n",
              "      <td>3.9</td>\n",
              "      <td>81.0</td>\n",
              "      <td>6.9</td>\n",
              "      <td>1.19</td>\n",
              "      <td>45199.0</td>\n",
              "      <td>89.0</td>\n",
              "      <td>1.6</td>\n",
              "      <td>69.0</td>\n",
              "      <td>500.0</td>\n",
              "      <td>14.46</td>\n",
              "      <td>75.0</td>\n",
              "      <td>94.0</td>\n",
              "      <td>17.0</td>\n",
              "    </tr>\n",
              "    <tr>\n",
              "      <th>Belgium</th>\n",
              "      <td>21.0</td>\n",
              "      <td>6.6</td>\n",
              "      <td>4.5</td>\n",
              "      <td>2.0</td>\n",
              "      <td>72.0</td>\n",
              "      <td>4.57</td>\n",
              "      <td>62.0</td>\n",
              "      <td>1.1</td>\n",
              "      <td>28307.0</td>\n",
              "      <td>83876.0</td>\n",
              "      <td>21.0</td>\n",
              "      <td>5.0</td>\n",
              "      <td>80.5</td>\n",
              "      <td>6.9</td>\n",
              "      <td>3.88</td>\n",
              "      <td>48082.0</td>\n",
              "      <td>94.0</td>\n",
              "      <td>2.2</td>\n",
              "      <td>74.0</td>\n",
              "      <td>509.0</td>\n",
              "      <td>15.71</td>\n",
              "      <td>89.0</td>\n",
              "      <td>87.0</td>\n",
              "      <td>18.9</td>\n",
              "    </tr>\n",
              "    <tr>\n",
              "      <th>Brazil</th>\n",
              "      <td>18.0</td>\n",
              "      <td>7.9</td>\n",
              "      <td>4.0</td>\n",
              "      <td>6.7</td>\n",
              "      <td>45.0</td>\n",
              "      <td>10.41</td>\n",
              "      <td>67.0</td>\n",
              "      <td>25.5</td>\n",
              "      <td>11664.0</td>\n",
              "      <td>6844.0</td>\n",
              "      <td>21.0</td>\n",
              "      <td>4.6</td>\n",
              "      <td>73.7</td>\n",
              "      <td>7.0</td>\n",
              "      <td>1.97</td>\n",
              "      <td>17177.0</td>\n",
              "      <td>90.0</td>\n",
              "      <td>1.6</td>\n",
              "      <td>69.0</td>\n",
              "      <td>402.0</td>\n",
              "      <td>14.97</td>\n",
              "      <td>79.0</td>\n",
              "      <td>72.0</td>\n",
              "      <td>16.3</td>\n",
              "    </tr>\n",
              "    <tr>\n",
              "      <th>Canada</th>\n",
              "      <td>15.0</td>\n",
              "      <td>1.3</td>\n",
              "      <td>10.5</td>\n",
              "      <td>0.2</td>\n",
              "      <td>89.0</td>\n",
              "      <td>3.94</td>\n",
              "      <td>72.0</td>\n",
              "      <td>1.5</td>\n",
              "      <td>29365.0</td>\n",
              "      <td>67913.0</td>\n",
              "      <td>21.0</td>\n",
              "      <td>6.4</td>\n",
              "      <td>81.5</td>\n",
              "      <td>7.3</td>\n",
              "      <td>0.90</td>\n",
              "      <td>46911.0</td>\n",
              "      <td>92.0</td>\n",
              "      <td>2.5</td>\n",
              "      <td>89.0</td>\n",
              "      <td>522.0</td>\n",
              "      <td>14.25</td>\n",
              "      <td>61.0</td>\n",
              "      <td>91.0</td>\n",
              "      <td>17.2</td>\n",
              "    </tr>\n",
              "  </tbody>\n",
              "</table>\n",
              "</div>"
            ],
            "text/plain": [
              "Indicator  Air pollution  Assault rate  Consultation on rule-making  Dwellings without basic facilities  Educational attainment  Employees working very long hours  Employment rate  Homicide rate  Household net adjusted disposable income  Household net financial wealth  Housing expenditure  Job security  Life expectancy  Life satisfaction  Long-term unemployment rate  Personal earnings  Quality of support network  Rooms per person  Self-reported health  Student skills  Time devoted to leisure and personal care  Voter turnout  Water quality  Years in education\n",
              "Country                                                                                                                                                                                                                                                                                                                                                                                                                                                                                                                                                                             \n",
              "Australia           13.0           2.1                         10.5                                 1.1                    76.0                              14.02             72.0            0.8                                   31588.0                         47657.0                 20.0           4.8             82.1                7.3                         1.08            50449.0                        92.0               2.3                  85.0           512.0                                      14.41           93.0           91.0                19.4\n",
              "Austria             27.0           3.4                          7.1                                 1.0                    83.0                               7.61             72.0            0.4                                   31173.0                         49887.0                 21.0           3.9             81.0                6.9                         1.19            45199.0                        89.0               1.6                  69.0           500.0                                      14.46           75.0           94.0                17.0\n",
              "Belgium             21.0           6.6                          4.5                                 2.0                    72.0                               4.57             62.0            1.1                                   28307.0                         83876.0                 21.0           5.0             80.5                6.9                         3.88            48082.0                        94.0               2.2                  74.0           509.0                                      15.71           89.0           87.0                18.9\n",
              "Brazil              18.0           7.9                          4.0                                 6.7                    45.0                              10.41             67.0           25.5                                   11664.0                          6844.0                 21.0           4.6             73.7                7.0                         1.97            17177.0                        90.0               1.6                  69.0           402.0                                      14.97           79.0           72.0                16.3\n",
              "Canada              15.0           1.3                         10.5                                 0.2                    89.0                               3.94             72.0            1.5                                   29365.0                         67913.0                 21.0           6.4             81.5                7.3                         0.90            46911.0                        92.0               2.5                  89.0           522.0                                      14.25           61.0           91.0                17.2"
            ]
          },
          "metadata": {
            "tags": []
          },
          "execution_count": 23
        }
      ]
    },
    {
      "cell_type": "code",
      "metadata": {
        "id": "A_4tTfcC19sB",
        "colab_type": "code",
        "outputId": "de535126-b72f-4931-eb16-91b7a5fc01fa",
        "colab": {
          "base_uri": "https://localhost:8080/",
          "height": 693
        }
      },
      "source": [
        "df2[\"Life satisfaction\"].sort_values(ascending=False) #by default inplace=False, so a original df do not change"
      ],
      "execution_count": 0,
      "outputs": [
        {
          "output_type": "execute_result",
          "data": {
            "text/plain": [
              "Country\n",
              "Switzerland        7.5\n",
              "Denmark            7.5\n",
              "Iceland            7.5\n",
              "Norway             7.4\n",
              "Finland            7.4\n",
              "Israel             7.4\n",
              "Australia          7.3\n",
              "Canada             7.3\n",
              "Netherlands        7.3\n",
              "New Zealand        7.3\n",
              "United States      7.2\n",
              "Sweden             7.2\n",
              "Germany            7.0\n",
              "Ireland            7.0\n",
              "Brazil             7.0\n",
              "Austria            6.9\n",
              "Luxembourg         6.9\n",
              "Belgium            6.9\n",
              "United Kingdom     6.8\n",
              "Mexico             6.7\n",
              "Chile              6.7\n",
              "OECD - Total       6.6\n",
              "Czech Republic     6.5\n",
              "France             6.5\n",
              "Spain              6.5\n",
              "Slovak Republic    6.1\n",
              "Russia             6.0\n",
              "Italy              6.0\n",
              "Japan              5.9\n",
              "Poland             5.8\n",
              "Korea              5.8\n",
              "Slovenia           5.7\n",
              "Estonia            5.6\n",
              "Turkey             5.6\n",
              "Portugal           5.1\n",
              "Hungary            4.9\n",
              "Greece             4.8\n",
              "Name: Life satisfaction, dtype: float64"
            ]
          },
          "metadata": {
            "tags": []
          },
          "execution_count": 24
        }
      ]
    },
    {
      "cell_type": "markdown",
      "metadata": {
        "id": "PreZqJaI19sE",
        "colab_type": "text"
      },
      "source": [
        "### Les données PIB\n",
        "\n",
        "Citons Wikipedia:\n",
        "\n",
        "<< Per capita GDP is a measure of the total output of a country that takes the gross domestic product (GDP=produit intérieur brut) and divides it by the number of people in that country. The per capita GDP is especially useful when comparing one country to another, because it shows the relative performance of the countries >>. \n",
        "\n"
      ]
    },
    {
      "cell_type": "code",
      "metadata": {
        "id": "ZJ6D3cO3uFlN",
        "colab_type": "code",
        "outputId": "2249ebfc-f11e-4d37-a861-a487f7b5cb28",
        "colab": {
          "base_uri": "https://localhost:8080/",
          "height": 249
        }
      },
      "source": [
        "Image(\"assets_ml/img/GDP.png\")"
      ],
      "execution_count": 0,
      "outputs": [
        {
          "output_type": "execute_result",
          "data": {
            "image/png": "[encoded data removed]",
            "text/plain": [
              "<IPython.core.display.Image object>"
            ]
          },
          "metadata": {
            "tags": []
          },
          "execution_count": 26
        }
      ]
    },
    {
      "cell_type": "code",
      "metadata": {
        "id": "XVQIuZqB19sF",
        "colab_type": "code",
        "outputId": "45fa630a-f181-4d47-de45-cc90f7b8f283",
        "colab": {
          "base_uri": "https://localhost:8080/",
          "height": 337
        }
      },
      "source": [
        "df_gdp = pd.read_csv(\"assets_ml/dataframe/gdp_per_capita.csv\", thousands=',', delimiter='\\t',\n",
        "                             encoding='latin1', na_values=\"n/a\")\n",
        "df_gdp.rename(columns={\"2015\": \"GDP per capita\"}, inplace=True)\n",
        "df_gdp.set_index(\"Country\", inplace=True)\n",
        "df_gdp.head()"
      ],
      "execution_count": 0,
      "outputs": [
        {
          "output_type": "execute_result",
          "data": {
            "text/html": [
              "<div>\n",
              "<style scoped>\n",
              "    .dataframe tbody tr th:only-of-type {\n",
              "        vertical-align: middle;\n",
              "    }\n",
              "\n",
              "    .dataframe tbody tr th {\n",
              "        vertical-align: top;\n",
              "    }\n",
              "\n",
              "    .dataframe thead th {\n",
              "        text-align: right;\n",
              "    }\n",
              "</style>\n",
              "<table border=\"1\" class=\"dataframe\">\n",
              "  <thead>\n",
              "    <tr style=\"text-align: right;\">\n",
              "      <th></th>\n",
              "      <th>Subject Descriptor</th>\n",
              "      <th>Units</th>\n",
              "      <th>Scale</th>\n",
              "      <th>Country/Series-specific Notes</th>\n",
              "      <th>GDP per capita</th>\n",
              "      <th>Estimates Start After</th>\n",
              "    </tr>\n",
              "    <tr>\n",
              "      <th>Country</th>\n",
              "      <th></th>\n",
              "      <th></th>\n",
              "      <th></th>\n",
              "      <th></th>\n",
              "      <th></th>\n",
              "      <th></th>\n",
              "    </tr>\n",
              "  </thead>\n",
              "  <tbody>\n",
              "    <tr>\n",
              "      <th>Afghanistan</th>\n",
              "      <td>Gross domestic product per capita, current prices</td>\n",
              "      <td>U.S. dollars</td>\n",
              "      <td>Units</td>\n",
              "      <td>See notes for:  Gross domestic product, curren...</td>\n",
              "      <td>599.994</td>\n",
              "      <td>2013.0</td>\n",
              "    </tr>\n",
              "    <tr>\n",
              "      <th>Albania</th>\n",
              "      <td>Gross domestic product per capita, current prices</td>\n",
              "      <td>U.S. dollars</td>\n",
              "      <td>Units</td>\n",
              "      <td>See notes for:  Gross domestic product, curren...</td>\n",
              "      <td>3995.383</td>\n",
              "      <td>2010.0</td>\n",
              "    </tr>\n",
              "    <tr>\n",
              "      <th>Algeria</th>\n",
              "      <td>Gross domestic product per capita, current prices</td>\n",
              "      <td>U.S. dollars</td>\n",
              "      <td>Units</td>\n",
              "      <td>See notes for:  Gross domestic product, curren...</td>\n",
              "      <td>4318.135</td>\n",
              "      <td>2014.0</td>\n",
              "    </tr>\n",
              "    <tr>\n",
              "      <th>Angola</th>\n",
              "      <td>Gross domestic product per capita, current prices</td>\n",
              "      <td>U.S. dollars</td>\n",
              "      <td>Units</td>\n",
              "      <td>See notes for:  Gross domestic product, curren...</td>\n",
              "      <td>4100.315</td>\n",
              "      <td>2014.0</td>\n",
              "    </tr>\n",
              "    <tr>\n",
              "      <th>Antigua and Barbuda</th>\n",
              "      <td>Gross domestic product per capita, current prices</td>\n",
              "      <td>U.S. dollars</td>\n",
              "      <td>Units</td>\n",
              "      <td>See notes for:  Gross domestic product, curren...</td>\n",
              "      <td>14414.302</td>\n",
              "      <td>2011.0</td>\n",
              "    </tr>\n",
              "  </tbody>\n",
              "</table>\n",
              "</div>"
            ],
            "text/plain": [
              "                                                    Subject Descriptor         Units  Scale                      Country/Series-specific Notes  GDP per capita  Estimates Start After\n",
              "Country                                                                                                                                                                              \n",
              "Afghanistan          Gross domestic product per capita, current prices  U.S. dollars  Units  See notes for:  Gross domestic product, curren...         599.994                 2013.0\n",
              "Albania              Gross domestic product per capita, current prices  U.S. dollars  Units  See notes for:  Gross domestic product, curren...        3995.383                 2010.0\n",
              "Algeria              Gross domestic product per capita, current prices  U.S. dollars  Units  See notes for:  Gross domestic product, curren...        4318.135                 2014.0\n",
              "Angola               Gross domestic product per capita, current prices  U.S. dollars  Units  See notes for:  Gross domestic product, curren...        4100.315                 2014.0\n",
              "Antigua and Barbuda  Gross domestic product per capita, current prices  U.S. dollars  Units  See notes for:  Gross domestic product, curren...       14414.302                 2011.0"
            ]
          },
          "metadata": {
            "tags": []
          },
          "execution_count": 27
        }
      ]
    },
    {
      "cell_type": "code",
      "metadata": {
        "id": "4vrcINWX19sJ",
        "colab_type": "code",
        "outputId": "c4a447a4-50aa-4f91-a33c-23083cb9f26f",
        "colab": {
          "base_uri": "https://localhost:8080/",
          "height": 545
        }
      },
      "source": [
        "\"our final dataframe\"\n",
        "df_full = pd.merge(left=df_gdp[[\"GDP per capita\"]], right=df2, left_index=True, right_index=True)\n",
        "df_full.sort_values(by=\"GDP per capita\", inplace=True)\n",
        "df_full.head(10)"
      ],
      "execution_count": 0,
      "outputs": [
        {
          "output_type": "execute_result",
          "data": {
            "text/html": [
              "<div>\n",
              "<style scoped>\n",
              "    .dataframe tbody tr th:only-of-type {\n",
              "        vertical-align: middle;\n",
              "    }\n",
              "\n",
              "    .dataframe tbody tr th {\n",
              "        vertical-align: top;\n",
              "    }\n",
              "\n",
              "    .dataframe thead th {\n",
              "        text-align: right;\n",
              "    }\n",
              "</style>\n",
              "<table border=\"1\" class=\"dataframe\">\n",
              "  <thead>\n",
              "    <tr style=\"text-align: right;\">\n",
              "      <th></th>\n",
              "      <th>GDP per capita</th>\n",
              "      <th>Air pollution</th>\n",
              "      <th>Assault rate</th>\n",
              "      <th>Consultation on rule-making</th>\n",
              "      <th>Dwellings without basic facilities</th>\n",
              "      <th>Educational attainment</th>\n",
              "      <th>Employees working very long hours</th>\n",
              "      <th>Employment rate</th>\n",
              "      <th>Homicide rate</th>\n",
              "      <th>Household net adjusted disposable income</th>\n",
              "      <th>Household net financial wealth</th>\n",
              "      <th>Housing expenditure</th>\n",
              "      <th>Job security</th>\n",
              "      <th>Life expectancy</th>\n",
              "      <th>Life satisfaction</th>\n",
              "      <th>Long-term unemployment rate</th>\n",
              "      <th>Personal earnings</th>\n",
              "      <th>Quality of support network</th>\n",
              "      <th>Rooms per person</th>\n",
              "      <th>Self-reported health</th>\n",
              "      <th>Student skills</th>\n",
              "      <th>Time devoted to leisure and personal care</th>\n",
              "      <th>Voter turnout</th>\n",
              "      <th>Water quality</th>\n",
              "      <th>Years in education</th>\n",
              "    </tr>\n",
              "    <tr>\n",
              "      <th>Country</th>\n",
              "      <th></th>\n",
              "      <th></th>\n",
              "      <th></th>\n",
              "      <th></th>\n",
              "      <th></th>\n",
              "      <th></th>\n",
              "      <th></th>\n",
              "      <th></th>\n",
              "      <th></th>\n",
              "      <th></th>\n",
              "      <th></th>\n",
              "      <th></th>\n",
              "      <th></th>\n",
              "      <th></th>\n",
              "      <th></th>\n",
              "      <th></th>\n",
              "      <th></th>\n",
              "      <th></th>\n",
              "      <th></th>\n",
              "      <th></th>\n",
              "      <th></th>\n",
              "      <th></th>\n",
              "      <th></th>\n",
              "      <th></th>\n",
              "      <th></th>\n",
              "    </tr>\n",
              "  </thead>\n",
              "  <tbody>\n",
              "    <tr>\n",
              "      <th>Brazil</th>\n",
              "      <td>8669.998</td>\n",
              "      <td>18.0</td>\n",
              "      <td>7.9</td>\n",
              "      <td>4.0</td>\n",
              "      <td>6.7</td>\n",
              "      <td>45.0</td>\n",
              "      <td>10.41</td>\n",
              "      <td>67.0</td>\n",
              "      <td>25.5</td>\n",
              "      <td>11664.0</td>\n",
              "      <td>6844.0</td>\n",
              "      <td>21.0</td>\n",
              "      <td>4.6</td>\n",
              "      <td>73.7</td>\n",
              "      <td>7.0</td>\n",
              "      <td>1.97</td>\n",
              "      <td>17177.0</td>\n",
              "      <td>90.0</td>\n",
              "      <td>1.6</td>\n",
              "      <td>69.0</td>\n",
              "      <td>402.0</td>\n",
              "      <td>14.97</td>\n",
              "      <td>79.0</td>\n",
              "      <td>72.0</td>\n",
              "      <td>16.3</td>\n",
              "    </tr>\n",
              "    <tr>\n",
              "      <th>Mexico</th>\n",
              "      <td>9009.280</td>\n",
              "      <td>30.0</td>\n",
              "      <td>12.8</td>\n",
              "      <td>9.0</td>\n",
              "      <td>4.2</td>\n",
              "      <td>37.0</td>\n",
              "      <td>28.83</td>\n",
              "      <td>61.0</td>\n",
              "      <td>23.4</td>\n",
              "      <td>13085.0</td>\n",
              "      <td>9056.0</td>\n",
              "      <td>21.0</td>\n",
              "      <td>4.9</td>\n",
              "      <td>74.6</td>\n",
              "      <td>6.7</td>\n",
              "      <td>0.08</td>\n",
              "      <td>16193.0</td>\n",
              "      <td>77.0</td>\n",
              "      <td>1.0</td>\n",
              "      <td>66.0</td>\n",
              "      <td>417.0</td>\n",
              "      <td>13.89</td>\n",
              "      <td>63.0</td>\n",
              "      <td>67.0</td>\n",
              "      <td>14.4</td>\n",
              "    </tr>\n",
              "    <tr>\n",
              "      <th>Russia</th>\n",
              "      <td>9054.914</td>\n",
              "      <td>15.0</td>\n",
              "      <td>3.8</td>\n",
              "      <td>2.5</td>\n",
              "      <td>15.1</td>\n",
              "      <td>94.0</td>\n",
              "      <td>0.16</td>\n",
              "      <td>69.0</td>\n",
              "      <td>12.8</td>\n",
              "      <td>19292.0</td>\n",
              "      <td>3412.0</td>\n",
              "      <td>11.0</td>\n",
              "      <td>4.0</td>\n",
              "      <td>70.2</td>\n",
              "      <td>6.0</td>\n",
              "      <td>1.70</td>\n",
              "      <td>20885.0</td>\n",
              "      <td>90.0</td>\n",
              "      <td>0.9</td>\n",
              "      <td>37.0</td>\n",
              "      <td>481.0</td>\n",
              "      <td>14.97</td>\n",
              "      <td>65.0</td>\n",
              "      <td>56.0</td>\n",
              "      <td>16.0</td>\n",
              "    </tr>\n",
              "    <tr>\n",
              "      <th>Turkey</th>\n",
              "      <td>9437.372</td>\n",
              "      <td>35.0</td>\n",
              "      <td>5.0</td>\n",
              "      <td>5.5</td>\n",
              "      <td>12.7</td>\n",
              "      <td>34.0</td>\n",
              "      <td>40.86</td>\n",
              "      <td>50.0</td>\n",
              "      <td>1.2</td>\n",
              "      <td>14095.0</td>\n",
              "      <td>3251.0</td>\n",
              "      <td>21.0</td>\n",
              "      <td>8.1</td>\n",
              "      <td>74.6</td>\n",
              "      <td>5.6</td>\n",
              "      <td>2.37</td>\n",
              "      <td>16919.0</td>\n",
              "      <td>86.0</td>\n",
              "      <td>1.1</td>\n",
              "      <td>68.0</td>\n",
              "      <td>462.0</td>\n",
              "      <td>13.42</td>\n",
              "      <td>88.0</td>\n",
              "      <td>62.0</td>\n",
              "      <td>16.4</td>\n",
              "    </tr>\n",
              "    <tr>\n",
              "      <th>Hungary</th>\n",
              "      <td>12239.894</td>\n",
              "      <td>15.0</td>\n",
              "      <td>3.6</td>\n",
              "      <td>7.9</td>\n",
              "      <td>4.8</td>\n",
              "      <td>82.0</td>\n",
              "      <td>3.19</td>\n",
              "      <td>58.0</td>\n",
              "      <td>1.3</td>\n",
              "      <td>15442.0</td>\n",
              "      <td>13277.0</td>\n",
              "      <td>20.0</td>\n",
              "      <td>5.7</td>\n",
              "      <td>75.2</td>\n",
              "      <td>4.9</td>\n",
              "      <td>5.10</td>\n",
              "      <td>20948.0</td>\n",
              "      <td>87.0</td>\n",
              "      <td>1.1</td>\n",
              "      <td>57.0</td>\n",
              "      <td>487.0</td>\n",
              "      <td>15.04</td>\n",
              "      <td>62.0</td>\n",
              "      <td>77.0</td>\n",
              "      <td>17.6</td>\n",
              "    </tr>\n",
              "    <tr>\n",
              "      <th>Poland</th>\n",
              "      <td>12495.334</td>\n",
              "      <td>33.0</td>\n",
              "      <td>1.4</td>\n",
              "      <td>10.8</td>\n",
              "      <td>3.2</td>\n",
              "      <td>90.0</td>\n",
              "      <td>7.41</td>\n",
              "      <td>60.0</td>\n",
              "      <td>0.9</td>\n",
              "      <td>17852.0</td>\n",
              "      <td>10919.0</td>\n",
              "      <td>21.0</td>\n",
              "      <td>7.3</td>\n",
              "      <td>76.9</td>\n",
              "      <td>5.8</td>\n",
              "      <td>3.77</td>\n",
              "      <td>22655.0</td>\n",
              "      <td>91.0</td>\n",
              "      <td>1.1</td>\n",
              "      <td>58.0</td>\n",
              "      <td>521.0</td>\n",
              "      <td>14.20</td>\n",
              "      <td>55.0</td>\n",
              "      <td>79.0</td>\n",
              "      <td>18.4</td>\n",
              "    </tr>\n",
              "    <tr>\n",
              "      <th>Chile</th>\n",
              "      <td>13340.905</td>\n",
              "      <td>46.0</td>\n",
              "      <td>6.9</td>\n",
              "      <td>2.0</td>\n",
              "      <td>9.4</td>\n",
              "      <td>57.0</td>\n",
              "      <td>15.42</td>\n",
              "      <td>62.0</td>\n",
              "      <td>4.4</td>\n",
              "      <td>14533.0</td>\n",
              "      <td>17733.0</td>\n",
              "      <td>18.0</td>\n",
              "      <td>4.4</td>\n",
              "      <td>78.9</td>\n",
              "      <td>6.7</td>\n",
              "      <td>1.59</td>\n",
              "      <td>22101.0</td>\n",
              "      <td>86.0</td>\n",
              "      <td>1.2</td>\n",
              "      <td>59.0</td>\n",
              "      <td>436.0</td>\n",
              "      <td>14.41</td>\n",
              "      <td>49.0</td>\n",
              "      <td>73.0</td>\n",
              "      <td>16.5</td>\n",
              "    </tr>\n",
              "    <tr>\n",
              "      <th>Slovak Republic</th>\n",
              "      <td>15991.736</td>\n",
              "      <td>13.0</td>\n",
              "      <td>3.0</td>\n",
              "      <td>6.6</td>\n",
              "      <td>0.6</td>\n",
              "      <td>92.0</td>\n",
              "      <td>7.02</td>\n",
              "      <td>60.0</td>\n",
              "      <td>1.2</td>\n",
              "      <td>17503.0</td>\n",
              "      <td>8663.0</td>\n",
              "      <td>26.0</td>\n",
              "      <td>5.5</td>\n",
              "      <td>76.2</td>\n",
              "      <td>6.1</td>\n",
              "      <td>9.46</td>\n",
              "      <td>20307.0</td>\n",
              "      <td>90.0</td>\n",
              "      <td>1.1</td>\n",
              "      <td>66.0</td>\n",
              "      <td>472.0</td>\n",
              "      <td>14.99</td>\n",
              "      <td>59.0</td>\n",
              "      <td>81.0</td>\n",
              "      <td>16.3</td>\n",
              "    </tr>\n",
              "    <tr>\n",
              "      <th>Czech Republic</th>\n",
              "      <td>17256.918</td>\n",
              "      <td>16.0</td>\n",
              "      <td>2.8</td>\n",
              "      <td>6.8</td>\n",
              "      <td>0.9</td>\n",
              "      <td>92.0</td>\n",
              "      <td>6.98</td>\n",
              "      <td>68.0</td>\n",
              "      <td>0.8</td>\n",
              "      <td>18404.0</td>\n",
              "      <td>17299.0</td>\n",
              "      <td>26.0</td>\n",
              "      <td>4.1</td>\n",
              "      <td>78.2</td>\n",
              "      <td>6.5</td>\n",
              "      <td>3.12</td>\n",
              "      <td>20338.0</td>\n",
              "      <td>85.0</td>\n",
              "      <td>1.4</td>\n",
              "      <td>60.0</td>\n",
              "      <td>500.0</td>\n",
              "      <td>14.98</td>\n",
              "      <td>59.0</td>\n",
              "      <td>85.0</td>\n",
              "      <td>18.1</td>\n",
              "    </tr>\n",
              "    <tr>\n",
              "      <th>Estonia</th>\n",
              "      <td>17288.083</td>\n",
              "      <td>9.0</td>\n",
              "      <td>5.5</td>\n",
              "      <td>3.3</td>\n",
              "      <td>8.1</td>\n",
              "      <td>90.0</td>\n",
              "      <td>3.30</td>\n",
              "      <td>68.0</td>\n",
              "      <td>4.8</td>\n",
              "      <td>15167.0</td>\n",
              "      <td>7680.0</td>\n",
              "      <td>19.0</td>\n",
              "      <td>5.2</td>\n",
              "      <td>76.5</td>\n",
              "      <td>5.6</td>\n",
              "      <td>3.82</td>\n",
              "      <td>18944.0</td>\n",
              "      <td>89.0</td>\n",
              "      <td>1.5</td>\n",
              "      <td>54.0</td>\n",
              "      <td>526.0</td>\n",
              "      <td>14.90</td>\n",
              "      <td>64.0</td>\n",
              "      <td>79.0</td>\n",
              "      <td>17.5</td>\n",
              "    </tr>\n",
              "  </tbody>\n",
              "</table>\n",
              "</div>"
            ],
            "text/plain": [
              "                 GDP per capita  Air pollution  Assault rate  Consultation on rule-making  Dwellings without basic facilities  Educational attainment  Employees working very long hours  Employment rate  Homicide rate  Household net adjusted disposable income  Household net financial wealth  Housing expenditure  Job security  Life expectancy  Life satisfaction  Long-term unemployment rate  Personal earnings  Quality of support network  Rooms per person  Self-reported health  Student skills  Time devoted to leisure and personal care  Voter turnout  Water quality  Years in education\n",
              "Country                                                                                                                                                                                                                                                                                                                                                                                                                                                                                                                                                                                                   \n",
              "Brazil                 8669.998           18.0           7.9                          4.0                                 6.7                    45.0                              10.41             67.0           25.5                                   11664.0                          6844.0                 21.0           4.6             73.7                7.0                         1.97            17177.0                        90.0               1.6                  69.0           402.0                                      14.97           79.0           72.0                16.3\n",
              "Mexico                 9009.280           30.0          12.8                          9.0                                 4.2                    37.0                              28.83             61.0           23.4                                   13085.0                          9056.0                 21.0           4.9             74.6                6.7                         0.08            16193.0                        77.0               1.0                  66.0           417.0                                      13.89           63.0           67.0                14.4\n",
              "Russia                 9054.914           15.0           3.8                          2.5                                15.1                    94.0                               0.16             69.0           12.8                                   19292.0                          3412.0                 11.0           4.0             70.2                6.0                         1.70            20885.0                        90.0               0.9                  37.0           481.0                                      14.97           65.0           56.0                16.0\n",
              "Turkey                 9437.372           35.0           5.0                          5.5                                12.7                    34.0                              40.86             50.0            1.2                                   14095.0                          3251.0                 21.0           8.1             74.6                5.6                         2.37            16919.0                        86.0               1.1                  68.0           462.0                                      13.42           88.0           62.0                16.4\n",
              "Hungary               12239.894           15.0           3.6                          7.9                                 4.8                    82.0                               3.19             58.0            1.3                                   15442.0                         13277.0                 20.0           5.7             75.2                4.9                         5.10            20948.0                        87.0               1.1                  57.0           487.0                                      15.04           62.0           77.0                17.6\n",
              "Poland                12495.334           33.0           1.4                         10.8                                 3.2                    90.0                               7.41             60.0            0.9                                   17852.0                         10919.0                 21.0           7.3             76.9                5.8                         3.77            22655.0                        91.0               1.1                  58.0           521.0                                      14.20           55.0           79.0                18.4\n",
              "Chile                 13340.905           46.0           6.9                          2.0                                 9.4                    57.0                              15.42             62.0            4.4                                   14533.0                         17733.0                 18.0           4.4             78.9                6.7                         1.59            22101.0                        86.0               1.2                  59.0           436.0                                      14.41           49.0           73.0                16.5\n",
              "Slovak Republic       15991.736           13.0           3.0                          6.6                                 0.6                    92.0                               7.02             60.0            1.2                                   17503.0                          8663.0                 26.0           5.5             76.2                6.1                         9.46            20307.0                        90.0               1.1                  66.0           472.0                                      14.99           59.0           81.0                16.3\n",
              "Czech Republic        17256.918           16.0           2.8                          6.8                                 0.9                    92.0                               6.98             68.0            0.8                                   18404.0                         17299.0                 26.0           4.1             78.2                6.5                         3.12            20338.0                        85.0               1.4                  60.0           500.0                                      14.98           59.0           85.0                18.1\n",
              "Estonia               17288.083            9.0           5.5                          3.3                                 8.1                    90.0                               3.30             68.0            4.8                                   15167.0                          7680.0                 19.0           5.2             76.5                5.6                         3.82            18944.0                        89.0               1.5                  54.0           526.0                                      14.90           64.0           79.0                17.5"
            ]
          },
          "metadata": {
            "tags": []
          },
          "execution_count": 28
        }
      ]
    },
    {
      "cell_type": "code",
      "metadata": {
        "id": "W9h2fFzI19sO",
        "colab_type": "code",
        "outputId": "84cc8d7d-569a-4c91-c95d-38207c607444",
        "colab": {
          "base_uri": "https://localhost:8080/",
          "height": 545
        }
      },
      "source": [
        "df_full.tail(10)"
      ],
      "execution_count": 0,
      "outputs": [
        {
          "output_type": "execute_result",
          "data": {
            "text/html": [
              "<div>\n",
              "<style scoped>\n",
              "    .dataframe tbody tr th:only-of-type {\n",
              "        vertical-align: middle;\n",
              "    }\n",
              "\n",
              "    .dataframe tbody tr th {\n",
              "        vertical-align: top;\n",
              "    }\n",
              "\n",
              "    .dataframe thead th {\n",
              "        text-align: right;\n",
              "    }\n",
              "</style>\n",
              "<table border=\"1\" class=\"dataframe\">\n",
              "  <thead>\n",
              "    <tr style=\"text-align: right;\">\n",
              "      <th></th>\n",
              "      <th>GDP per capita</th>\n",
              "      <th>Air pollution</th>\n",
              "      <th>Assault rate</th>\n",
              "      <th>Consultation on rule-making</th>\n",
              "      <th>Dwellings without basic facilities</th>\n",
              "      <th>Educational attainment</th>\n",
              "      <th>Employees working very long hours</th>\n",
              "      <th>Employment rate</th>\n",
              "      <th>Homicide rate</th>\n",
              "      <th>Household net adjusted disposable income</th>\n",
              "      <th>Household net financial wealth</th>\n",
              "      <th>Housing expenditure</th>\n",
              "      <th>Job security</th>\n",
              "      <th>Life expectancy</th>\n",
              "      <th>Life satisfaction</th>\n",
              "      <th>Long-term unemployment rate</th>\n",
              "      <th>Personal earnings</th>\n",
              "      <th>Quality of support network</th>\n",
              "      <th>Rooms per person</th>\n",
              "      <th>Self-reported health</th>\n",
              "      <th>Student skills</th>\n",
              "      <th>Time devoted to leisure and personal care</th>\n",
              "      <th>Voter turnout</th>\n",
              "      <th>Water quality</th>\n",
              "      <th>Years in education</th>\n",
              "    </tr>\n",
              "    <tr>\n",
              "      <th>Country</th>\n",
              "      <th></th>\n",
              "      <th></th>\n",
              "      <th></th>\n",
              "      <th></th>\n",
              "      <th></th>\n",
              "      <th></th>\n",
              "      <th></th>\n",
              "      <th></th>\n",
              "      <th></th>\n",
              "      <th></th>\n",
              "      <th></th>\n",
              "      <th></th>\n",
              "      <th></th>\n",
              "      <th></th>\n",
              "      <th></th>\n",
              "      <th></th>\n",
              "      <th></th>\n",
              "      <th></th>\n",
              "      <th></th>\n",
              "      <th></th>\n",
              "      <th></th>\n",
              "      <th></th>\n",
              "      <th></th>\n",
              "      <th></th>\n",
              "      <th></th>\n",
              "    </tr>\n",
              "  </thead>\n",
              "  <tbody>\n",
              "    <tr>\n",
              "      <th>United Kingdom</th>\n",
              "      <td>43770.688</td>\n",
              "      <td>13.0</td>\n",
              "      <td>1.9</td>\n",
              "      <td>11.5</td>\n",
              "      <td>0.2</td>\n",
              "      <td>78.0</td>\n",
              "      <td>12.70</td>\n",
              "      <td>71.0</td>\n",
              "      <td>0.3</td>\n",
              "      <td>27029.0</td>\n",
              "      <td>60778.0</td>\n",
              "      <td>23.0</td>\n",
              "      <td>5.2</td>\n",
              "      <td>81.0</td>\n",
              "      <td>6.8</td>\n",
              "      <td>2.77</td>\n",
              "      <td>41192.0</td>\n",
              "      <td>91.0</td>\n",
              "      <td>1.9</td>\n",
              "      <td>74.0</td>\n",
              "      <td>502.0</td>\n",
              "      <td>14.83</td>\n",
              "      <td>66.0</td>\n",
              "      <td>88.0</td>\n",
              "      <td>16.4</td>\n",
              "    </tr>\n",
              "    <tr>\n",
              "      <th>Sweden</th>\n",
              "      <td>49866.266</td>\n",
              "      <td>10.0</td>\n",
              "      <td>5.1</td>\n",
              "      <td>10.9</td>\n",
              "      <td>0.0</td>\n",
              "      <td>88.0</td>\n",
              "      <td>1.13</td>\n",
              "      <td>74.0</td>\n",
              "      <td>0.7</td>\n",
              "      <td>29185.0</td>\n",
              "      <td>60328.0</td>\n",
              "      <td>20.0</td>\n",
              "      <td>6.5</td>\n",
              "      <td>81.8</td>\n",
              "      <td>7.2</td>\n",
              "      <td>1.37</td>\n",
              "      <td>40818.0</td>\n",
              "      <td>92.0</td>\n",
              "      <td>1.7</td>\n",
              "      <td>81.0</td>\n",
              "      <td>482.0</td>\n",
              "      <td>15.11</td>\n",
              "      <td>86.0</td>\n",
              "      <td>95.0</td>\n",
              "      <td>19.3</td>\n",
              "    </tr>\n",
              "    <tr>\n",
              "      <th>Iceland</th>\n",
              "      <td>50854.583</td>\n",
              "      <td>18.0</td>\n",
              "      <td>2.7</td>\n",
              "      <td>5.1</td>\n",
              "      <td>0.4</td>\n",
              "      <td>71.0</td>\n",
              "      <td>12.25</td>\n",
              "      <td>82.0</td>\n",
              "      <td>0.3</td>\n",
              "      <td>23965.0</td>\n",
              "      <td>43045.0</td>\n",
              "      <td>24.0</td>\n",
              "      <td>4.1</td>\n",
              "      <td>83.0</td>\n",
              "      <td>7.5</td>\n",
              "      <td>1.18</td>\n",
              "      <td>55716.0</td>\n",
              "      <td>96.0</td>\n",
              "      <td>1.5</td>\n",
              "      <td>77.0</td>\n",
              "      <td>484.0</td>\n",
              "      <td>14.61</td>\n",
              "      <td>81.0</td>\n",
              "      <td>97.0</td>\n",
              "      <td>19.8</td>\n",
              "    </tr>\n",
              "    <tr>\n",
              "      <th>Australia</th>\n",
              "      <td>50961.865</td>\n",
              "      <td>13.0</td>\n",
              "      <td>2.1</td>\n",
              "      <td>10.5</td>\n",
              "      <td>1.1</td>\n",
              "      <td>76.0</td>\n",
              "      <td>14.02</td>\n",
              "      <td>72.0</td>\n",
              "      <td>0.8</td>\n",
              "      <td>31588.0</td>\n",
              "      <td>47657.0</td>\n",
              "      <td>20.0</td>\n",
              "      <td>4.8</td>\n",
              "      <td>82.1</td>\n",
              "      <td>7.3</td>\n",
              "      <td>1.08</td>\n",
              "      <td>50449.0</td>\n",
              "      <td>92.0</td>\n",
              "      <td>2.3</td>\n",
              "      <td>85.0</td>\n",
              "      <td>512.0</td>\n",
              "      <td>14.41</td>\n",
              "      <td>93.0</td>\n",
              "      <td>91.0</td>\n",
              "      <td>19.4</td>\n",
              "    </tr>\n",
              "    <tr>\n",
              "      <th>Ireland</th>\n",
              "      <td>51350.744</td>\n",
              "      <td>13.0</td>\n",
              "      <td>2.6</td>\n",
              "      <td>9.0</td>\n",
              "      <td>0.2</td>\n",
              "      <td>75.0</td>\n",
              "      <td>4.20</td>\n",
              "      <td>60.0</td>\n",
              "      <td>0.8</td>\n",
              "      <td>23917.0</td>\n",
              "      <td>31580.0</td>\n",
              "      <td>19.0</td>\n",
              "      <td>5.9</td>\n",
              "      <td>81.0</td>\n",
              "      <td>7.0</td>\n",
              "      <td>8.39</td>\n",
              "      <td>49506.0</td>\n",
              "      <td>96.0</td>\n",
              "      <td>2.1</td>\n",
              "      <td>82.0</td>\n",
              "      <td>516.0</td>\n",
              "      <td>15.19</td>\n",
              "      <td>70.0</td>\n",
              "      <td>80.0</td>\n",
              "      <td>17.6</td>\n",
              "    </tr>\n",
              "    <tr>\n",
              "      <th>Denmark</th>\n",
              "      <td>52114.165</td>\n",
              "      <td>15.0</td>\n",
              "      <td>3.9</td>\n",
              "      <td>7.0</td>\n",
              "      <td>0.9</td>\n",
              "      <td>78.0</td>\n",
              "      <td>2.03</td>\n",
              "      <td>73.0</td>\n",
              "      <td>0.3</td>\n",
              "      <td>26491.0</td>\n",
              "      <td>44488.0</td>\n",
              "      <td>24.0</td>\n",
              "      <td>5.6</td>\n",
              "      <td>80.1</td>\n",
              "      <td>7.5</td>\n",
              "      <td>1.78</td>\n",
              "      <td>48347.0</td>\n",
              "      <td>95.0</td>\n",
              "      <td>1.9</td>\n",
              "      <td>72.0</td>\n",
              "      <td>498.0</td>\n",
              "      <td>16.06</td>\n",
              "      <td>88.0</td>\n",
              "      <td>94.0</td>\n",
              "      <td>19.4</td>\n",
              "    </tr>\n",
              "    <tr>\n",
              "      <th>United States</th>\n",
              "      <td>55805.204</td>\n",
              "      <td>18.0</td>\n",
              "      <td>1.5</td>\n",
              "      <td>8.3</td>\n",
              "      <td>0.1</td>\n",
              "      <td>89.0</td>\n",
              "      <td>11.30</td>\n",
              "      <td>67.0</td>\n",
              "      <td>5.2</td>\n",
              "      <td>41355.0</td>\n",
              "      <td>145769.0</td>\n",
              "      <td>18.0</td>\n",
              "      <td>5.9</td>\n",
              "      <td>78.7</td>\n",
              "      <td>7.2</td>\n",
              "      <td>1.91</td>\n",
              "      <td>56340.0</td>\n",
              "      <td>90.0</td>\n",
              "      <td>2.4</td>\n",
              "      <td>88.0</td>\n",
              "      <td>492.0</td>\n",
              "      <td>14.27</td>\n",
              "      <td>68.0</td>\n",
              "      <td>85.0</td>\n",
              "      <td>17.2</td>\n",
              "    </tr>\n",
              "    <tr>\n",
              "      <th>Norway</th>\n",
              "      <td>74822.106</td>\n",
              "      <td>16.0</td>\n",
              "      <td>3.3</td>\n",
              "      <td>8.1</td>\n",
              "      <td>0.3</td>\n",
              "      <td>82.0</td>\n",
              "      <td>2.82</td>\n",
              "      <td>75.0</td>\n",
              "      <td>0.6</td>\n",
              "      <td>33492.0</td>\n",
              "      <td>8797.0</td>\n",
              "      <td>17.0</td>\n",
              "      <td>3.1</td>\n",
              "      <td>81.5</td>\n",
              "      <td>7.4</td>\n",
              "      <td>0.32</td>\n",
              "      <td>50282.0</td>\n",
              "      <td>94.0</td>\n",
              "      <td>2.0</td>\n",
              "      <td>76.0</td>\n",
              "      <td>496.0</td>\n",
              "      <td>15.56</td>\n",
              "      <td>78.0</td>\n",
              "      <td>94.0</td>\n",
              "      <td>17.9</td>\n",
              "    </tr>\n",
              "    <tr>\n",
              "      <th>Switzerland</th>\n",
              "      <td>80675.308</td>\n",
              "      <td>20.0</td>\n",
              "      <td>4.2</td>\n",
              "      <td>8.4</td>\n",
              "      <td>0.0</td>\n",
              "      <td>86.0</td>\n",
              "      <td>6.72</td>\n",
              "      <td>80.0</td>\n",
              "      <td>0.5</td>\n",
              "      <td>33491.0</td>\n",
              "      <td>108823.0</td>\n",
              "      <td>22.0</td>\n",
              "      <td>3.0</td>\n",
              "      <td>82.8</td>\n",
              "      <td>7.5</td>\n",
              "      <td>1.46</td>\n",
              "      <td>54236.0</td>\n",
              "      <td>96.0</td>\n",
              "      <td>1.8</td>\n",
              "      <td>81.0</td>\n",
              "      <td>518.0</td>\n",
              "      <td>14.98</td>\n",
              "      <td>49.0</td>\n",
              "      <td>96.0</td>\n",
              "      <td>17.3</td>\n",
              "    </tr>\n",
              "    <tr>\n",
              "      <th>Luxembourg</th>\n",
              "      <td>101994.093</td>\n",
              "      <td>12.0</td>\n",
              "      <td>4.3</td>\n",
              "      <td>6.0</td>\n",
              "      <td>0.1</td>\n",
              "      <td>78.0</td>\n",
              "      <td>3.47</td>\n",
              "      <td>66.0</td>\n",
              "      <td>0.4</td>\n",
              "      <td>38951.0</td>\n",
              "      <td>61765.0</td>\n",
              "      <td>21.0</td>\n",
              "      <td>4.3</td>\n",
              "      <td>81.5</td>\n",
              "      <td>6.9</td>\n",
              "      <td>1.78</td>\n",
              "      <td>56021.0</td>\n",
              "      <td>87.0</td>\n",
              "      <td>2.0</td>\n",
              "      <td>72.0</td>\n",
              "      <td>490.0</td>\n",
              "      <td>15.12</td>\n",
              "      <td>91.0</td>\n",
              "      <td>86.0</td>\n",
              "      <td>15.1</td>\n",
              "    </tr>\n",
              "  </tbody>\n",
              "</table>\n",
              "</div>"
            ],
            "text/plain": [
              "                GDP per capita  Air pollution  Assault rate  Consultation on rule-making  Dwellings without basic facilities  Educational attainment  Employees working very long hours  Employment rate  Homicide rate  Household net adjusted disposable income  Household net financial wealth  Housing expenditure  Job security  Life expectancy  Life satisfaction  Long-term unemployment rate  Personal earnings  Quality of support network  Rooms per person  Self-reported health  Student skills  Time devoted to leisure and personal care  Voter turnout  Water quality  Years in education\n",
              "Country                                                                                                                                                                                                                                                                                                                                                                                                                                                                                                                                                                                                  \n",
              "United Kingdom       43770.688           13.0           1.9                         11.5                                 0.2                    78.0                              12.70             71.0            0.3                                   27029.0                         60778.0                 23.0           5.2             81.0                6.8                         2.77            41192.0                        91.0               1.9                  74.0           502.0                                      14.83           66.0           88.0                16.4\n",
              "Sweden               49866.266           10.0           5.1                         10.9                                 0.0                    88.0                               1.13             74.0            0.7                                   29185.0                         60328.0                 20.0           6.5             81.8                7.2                         1.37            40818.0                        92.0               1.7                  81.0           482.0                                      15.11           86.0           95.0                19.3\n",
              "Iceland              50854.583           18.0           2.7                          5.1                                 0.4                    71.0                              12.25             82.0            0.3                                   23965.0                         43045.0                 24.0           4.1             83.0                7.5                         1.18            55716.0                        96.0               1.5                  77.0           484.0                                      14.61           81.0           97.0                19.8\n",
              "Australia            50961.865           13.0           2.1                         10.5                                 1.1                    76.0                              14.02             72.0            0.8                                   31588.0                         47657.0                 20.0           4.8             82.1                7.3                         1.08            50449.0                        92.0               2.3                  85.0           512.0                                      14.41           93.0           91.0                19.4\n",
              "Ireland              51350.744           13.0           2.6                          9.0                                 0.2                    75.0                               4.20             60.0            0.8                                   23917.0                         31580.0                 19.0           5.9             81.0                7.0                         8.39            49506.0                        96.0               2.1                  82.0           516.0                                      15.19           70.0           80.0                17.6\n",
              "Denmark              52114.165           15.0           3.9                          7.0                                 0.9                    78.0                               2.03             73.0            0.3                                   26491.0                         44488.0                 24.0           5.6             80.1                7.5                         1.78            48347.0                        95.0               1.9                  72.0           498.0                                      16.06           88.0           94.0                19.4\n",
              "United States        55805.204           18.0           1.5                          8.3                                 0.1                    89.0                              11.30             67.0            5.2                                   41355.0                        145769.0                 18.0           5.9             78.7                7.2                         1.91            56340.0                        90.0               2.4                  88.0           492.0                                      14.27           68.0           85.0                17.2\n",
              "Norway               74822.106           16.0           3.3                          8.1                                 0.3                    82.0                               2.82             75.0            0.6                                   33492.0                          8797.0                 17.0           3.1             81.5                7.4                         0.32            50282.0                        94.0               2.0                  76.0           496.0                                      15.56           78.0           94.0                17.9\n",
              "Switzerland          80675.308           20.0           4.2                          8.4                                 0.0                    86.0                               6.72             80.0            0.5                                   33491.0                        108823.0                 22.0           3.0             82.8                7.5                         1.46            54236.0                        96.0               1.8                  81.0           518.0                                      14.98           49.0           96.0                17.3\n",
              "Luxembourg          101994.093           12.0           4.3                          6.0                                 0.1                    78.0                               3.47             66.0            0.4                                   38951.0                         61765.0                 21.0           4.3             81.5                6.9                         1.78            56021.0                        87.0               2.0                  72.0           490.0                                      15.12           91.0           86.0                15.1"
            ]
          },
          "metadata": {
            "tags": []
          },
          "execution_count": 29
        }
      ]
    },
    {
      "cell_type": "markdown",
      "metadata": {
        "id": "MJXupo-R19sT",
        "colab_type": "text"
      },
      "source": [
        "### Séparation des données\n",
        "\n",
        "On verra plus tard qu'on sépare souvent les données en `train` et `test`. Mais ici c'est uniquement pour des raisons pédagofiques que l'on met de côté certain pays."
      ]
    },
    {
      "cell_type": "code",
      "metadata": {
        "id": "DmWq-jxT19sT",
        "colab_type": "code",
        "outputId": "b46b1195-8f0f-4387-b669-6375bc8c173e",
        "colab": {
          "base_uri": "https://localhost:8080/",
          "height": 52
        }
      },
      "source": [
        "remove_indices = [0, 1, 6, 8, 33, 34, 35]\n",
        "\" to substract list, we transform them into set. This an fast technic (avoiding a double loop) \"\n",
        "keep_indices = list(set(range(36)) - set(remove_indices))\n",
        "\n",
        "df_sample = df_full[[\"GDP per capita\", 'Life satisfaction']].iloc[keep_indices]\n",
        "df_missing = df_full[[\"GDP per capita\", 'Life satisfaction']].iloc[remove_indices]\n",
        "\n",
        "print(\"missing countries:\\n\",df_missing.index.values)"
      ],
      "execution_count": 0,
      "outputs": [
        {
          "output_type": "stream",
          "text": [
            "missing countries:\n",
            " ['Brazil' 'Mexico' 'Chile' 'Czech Republic' 'Norway' 'Switzerland' 'Luxembourg']\n"
          ],
          "name": "stdout"
        }
      ]
    },
    {
      "cell_type": "markdown",
      "metadata": {
        "id": "8xyd0vyP19sV",
        "colab_type": "text"
      },
      "source": [
        "### checkpoint $\\checkmark$\n",
        "\n",
        "On crée maintenant une fonction `load_all_data()` qui reprend toutes les étapes précédentes pour la création des données. Cette fonction a été reportée dans la top-cell pour pouvoir faire des `%reset` réguliers. "
      ]
    },
    {
      "cell_type": "markdown",
      "metadata": {
        "id": "B4XvWtQ519sX",
        "colab_type": "text"
      },
      "source": [
        "## Création du model $\\hookleftarrow$\n",
        "\n",
        "On repartir de zéro: faites un run sur la top-cell"
      ]
    },
    {
      "cell_type": "code",
      "metadata": {
        "id": "_YMc2lTC19sY",
        "colab_type": "code",
        "outputId": "f871d7b2-89d7-42da-fb2b-3fc0b8b2bbc1",
        "colab": {
          "base_uri": "https://localhost:8080/",
          "height": 69
        }
      },
      "source": [
        "df_full,df_sample,df_missing,df_gdp=load_all_data()\n",
        "\n",
        "x_sample = df_sample[\"GDP per capita\"].values\n",
        "\"ajout d'une colonne de 1\"\n",
        "X_sample_ext= np.stack([np.ones_like(x_sample),x_sample],axis=1) \n",
        "y_sample = df_sample[\"Life satisfaction\"].values\n",
        "print(\"x_sample.shape:\",x_sample.shape)\n",
        "print(\"X_sample_ext.shape\",X_sample_ext.shape)\n",
        "print(\"y_sample.shape\",y_sample.shape)\n",
        "\n",
        "\"some very simple test data: points regularly spaced on a given interval\"\n",
        "xlim=60000\n",
        "x_test=np.linspace(0, xlim, 1000)"
      ],
      "execution_count": 0,
      "outputs": [
        {
          "output_type": "stream",
          "text": [
            "x_sample.shape: (29,)\n",
            "X_sample_ext.shape (29, 2)\n",
            "y_sample.shape (29,)\n"
          ],
          "name": "stdout"
        }
      ]
    },
    {
      "cell_type": "code",
      "metadata": {
        "id": "bLwfi43619sa",
        "colab_type": "code",
        "colab": {}
      },
      "source": [
        "\"we save some data\"\n",
        "df_sample.to_csv('assets_ml/img/df_sample.csv')\n",
        "df_missing.to_csv('assets_ml/img/df_missing.csv')\n",
        "df_full.to_csv('assets_ml/img/df_full.csv')"
      ],
      "execution_count": 0,
      "outputs": []
    },
    {
      "cell_type": "markdown",
      "metadata": {
        "id": "NCYiOaoZ19sd",
        "colab_type": "text"
      },
      "source": [
        "### Observons les données"
      ]
    },
    {
      "cell_type": "code",
      "metadata": {
        "id": "Qw94kqw619se",
        "colab_type": "code",
        "outputId": "19583182-bd83-42c9-c2a8-cefc47732500",
        "colab": {
          "base_uri": "https://localhost:8080/",
          "height": 365
        }
      },
      "source": [
        "plt.plot(x_sample,y_sample,\".\")\n",
        "plt.xlabel(\"GDP per capita\")\n",
        "plt.ylabel(\"Life satisfaction\")\n",
        "plt.xlim(0, xlim)\n",
        "plt.ylim(0,10)\n",
        "\n",
        "#variante en utilisant le plot de pandas\n",
        "#df_sample.plot(kind='scatter', x=\"GDP per capita\", y='Life satisfaction', figsize=(8,4))\n",
        "\n",
        "\n",
        "position_text = {\n",
        "    \"Hungary\": (5000, 1),\n",
        "    \"Korea\": (18000, 1.7),\n",
        "    \"France\": (29000, 2.4),\n",
        "    \"Australia\": (40000, 3.0),\n",
        "    \"United States\": (52000, 3.8),\n",
        "}\n",
        "for country, pos_text in position_text.items():\n",
        "    pos_data_x, pos_data_y = df_sample.loc[country]\n",
        "    country = \"U.S.\" if country == \"United States\" else country\n",
        "    plt.annotate(country, xy=(pos_data_x, pos_data_y), xytext=pos_text, arrowprops=dict(facecolor='black', width=0.5, shrink=0.1, headwidth=5))\n",
        "    plt.plot(pos_data_x, pos_data_y, \"ro\")"
      ],
      "execution_count": 0,
      "outputs": [
        {
          "output_type": "display_data",
          "data": {
            "image/png": "[encoded data removed]",
            "text/plain": [
              "<matplotlib.figure.Figure at 0x7f746d89b748>"
            ]
          },
          "metadata": {
            "tags": []
          }
        }
      ]
    },
    {
      "cell_type": "markdown",
      "metadata": {
        "id": "ypNBUUGn19sh",
        "colab_type": "text"
      },
      "source": [
        "On voit une tendance: la `life satisfaction` semble croitre 'linéairement' en fonction de la `GDP per capita`. \n",
        "\n",
        "\n",
        "Dans toute la suite on notera:\n",
        "* $X$=GDP per capita\n",
        "* $Y$=Life statisfaction\n",
        "\n",
        "On suppose que nos données suivent le modèle suivant:\n",
        "$$\n",
        "\\hat Y = w_0 + w_1 X \n",
        "$$\n",
        "\n",
        "***Vocabulaire:*** Le coefficient $w_0$ est appelé biais = intercept = terme constant.  \n"
      ]
    },
    {
      "cell_type": "markdown",
      "metadata": {
        "id": "gYVz4EhI19si",
        "colab_type": "text"
      },
      "source": [
        "### Ajustement du modèle"
      ]
    },
    {
      "cell_type": "code",
      "metadata": {
        "id": "BnimNMGK19si",
        "colab_type": "code",
        "outputId": "8b68a3f3-633d-48b3-c54a-72a681f79a07",
        "colab": {
          "base_uri": "https://localhost:8080/",
          "height": 35
        }
      },
      "source": [
        "model_lin_sample = sklearn.linear_model.LinearRegression(fit_intercept=False)\n",
        "\n",
        "model_lin_sample.fit(X_sample_ext, y_sample)\n",
        "w0, w1=model_lin_sample.coef_[0],model_lin_sample.coef_[1]\n",
        "\n",
        "print(\"w0:%.2f\"%w0,\", w1:%.2E\"%w1)"
      ],
      "execution_count": 0,
      "outputs": [
        {
          "output_type": "stream",
          "text": [
            "w0:4.85 , w1:4.91E-05\n"
          ],
          "name": "stdout"
        }
      ]
    },
    {
      "cell_type": "markdown",
      "metadata": {
        "id": "ff4XCSfhrZvL",
        "colab_type": "text"
      },
      "source": [
        "Attention, par défaut, `fit_intercept=True`,\n",
        "mais dans ce cas il ne faut pas rajouter une colonne de 1. sklearn le fait tout seul. Dans ce cas, on récupère w0 et w1 comme ceci:\n",
        "\n",
        "     w0 , w1= model_lin_sample.intercept_ , lin1.coef_[0]"
      ]
    },
    {
      "cell_type": "code",
      "metadata": {
        "id": "WUbj9KlA19sl",
        "colab_type": "code",
        "outputId": "d4051475-8373-4fb5-9e26-84c2ac24af3a",
        "colab": {
          "base_uri": "https://localhost:8080/",
          "height": 365
        }
      },
      "source": [
        "plt.plot(x_sample,y_sample,\".\")\n",
        "plt.xlabel(\"GDP per capita\")\n",
        "plt.ylabel(\"Life satisfaction\")\n",
        "plt.xlim(0, xlim)\n",
        "plt.ylim(0,10)\n",
        "\n",
        "plt.plot(x_test, w0 + w1*x_test, \"b\")\n",
        "\n",
        "plt.text(5000, 3.1, r\"$w_0=$\"+\"%.2f\"%w0, fontsize=14, color=\"b\")\n",
        "plt.text(5000, 2.2, r\"$w_1=$\"+\"%.2E\"%w1, fontsize=14, color=\"b\");"
      ],
      "execution_count": 0,
      "outputs": [
        {
          "output_type": "display_data",
          "data": {
            "image/png": "[encoded data removed]",
            "text/plain": [
              "<matplotlib.figure.Figure at 0x7f746d896eb8>"
            ]
          },
          "metadata": {
            "tags": []
          }
        }
      ]
    },
    {
      "cell_type": "markdown",
      "metadata": {
        "id": "Kt1DcKje19sn",
        "colab_type": "text"
      },
      "source": [
        "Maintenant ce modèle liénaire est le plus proche possible des donnée (au sens des moindres carré). "
      ]
    },
    {
      "cell_type": "markdown",
      "metadata": {
        "id": "RzWO6NEE19so",
        "colab_type": "text"
      },
      "source": [
        "### Prédiction\n",
        "\n",
        "On aimerait savoir si les Chipriotes sont heureux. Mais la réponse ne se trouve pas dans les données de l'OECD.  Par contre on connait le PIB de Chypre: $22\\,587\\$$\n"
      ]
    },
    {
      "cell_type": "code",
      "metadata": {
        "id": "jNccZ1aH19so",
        "colab_type": "code",
        "outputId": "725b2b46-4b75-4607-c57e-644fa3292036",
        "colab": {
          "base_uri": "https://localhost:8080/",
          "height": 52
        }
      },
      "source": [
        "cyprus_gdp = df_gdp.loc[\"Cyprus\"][\"GDP per capita\"]\n",
        "print(\"cyprus gdp per capita:\",cyprus_gdp)\n",
        "cyprus_life_hat = model_lin_sample.predict([[1,cyprus_gdp]])\n",
        "print(\"prediction of cyprus life satisfaction:\",cyprus_life_hat)"
      ],
      "execution_count": 0,
      "outputs": [
        {
          "output_type": "stream",
          "text": [
            "cyprus gdp per capita: 22587.49\n",
            "prediction of cyprus life satisfaction: [5.96]\n"
          ],
          "name": "stdout"
        }
      ]
    },
    {
      "cell_type": "markdown",
      "metadata": {
        "id": "ldsQoSWZ19sr",
        "colab_type": "text"
      },
      "source": [
        "***A vous:*** Retrouvez $(1\\heartsuit)$ la valeur prédite sans utiliser la méthode `.predict()` mais en utilisant direcement `w0` et `w1`."
      ]
    },
    {
      "cell_type": "code",
      "metadata": {
        "id": "v71nhzI519sr",
        "colab_type": "code",
        "outputId": "ac5d235e-80f2-4087-edd6-7dac7895563e",
        "colab": {
          "base_uri": "https://localhost:8080/",
          "height": 377
        }
      },
      "source": [
        "plt.plot(x_sample,y_sample,\".\")\n",
        "plt.xlabel(\"GDP per capita\")\n",
        "plt.ylabel(\"Life satisfaction\")\n",
        "plt.xlim(0, xlim)\n",
        "plt.ylim(0,10)\n",
        "\n",
        "a=np.linspace(0, xlim, 1000)\n",
        "plt.plot(a, w0 + w1*a, \"b\")\n",
        "\n",
        "plt.title(\"prediction of cyprus life satisfaction\",color=\"r\")\n",
        "plt.plot([cyprus_gdp, cyprus_gdp], [0, cyprus_life_hat], \"r--\")\n",
        "plt.text(25000, 5.0, \"Prediction=%.2f\"%cyprus_life_hat, fontsize=14, color=\"b\")\n",
        "plt.plot(cyprus_gdp, cyprus_life_hat, \"ro\");"
      ],
      "execution_count": 0,
      "outputs": [
        {
          "output_type": "display_data",
          "data": {
            "image/png": "[encoded data removed]",
            "text/plain": [
              "<matplotlib.figure.Figure at 0x7f747044d048>"
            ]
          },
          "metadata": {
            "tags": []
          }
        }
      ]
    },
    {
      "cell_type": "markdown",
      "metadata": {
        "id": "cv4vk9pW19su",
        "colab_type": "text"
      },
      "source": [
        "***A vous:***  Calculez $(2\\heartsuit)$ la prédiction donnerait l'algo des 3 plus proches voisins (instance-based). Il faut simplement répérer les 4 pays les plus proches de Chipre et moyenner leur `life_satisfaction`. Aide: utilisez `sort_values()`."
      ]
    },
    {
      "cell_type": "markdown",
      "metadata": {
        "id": "ueRdYCJF19su",
        "colab_type": "text"
      },
      "source": [
        "### Résumé\n",
        "\n",
        "En résumé nous avons:\n",
        "\n",
        "*  observer les données.\n",
        "* Sélectionner le modèle.\n",
        "* Entrainer (=ajuster=fiter) le modèle \n",
        "* Utiliser le modèle pour faire une prédiction\n",
        "\n",
        "Ce sont les étapes classique d'un projet de machine-learning"
      ]
    },
    {
      "cell_type": "markdown",
      "metadata": {
        "id": "kctJJsS-19sv",
        "colab_type": "text"
      },
      "source": [
        "##  Données d'entrainement non représentatives $\\hookleftarrow$\n",
        "\n",
        "Pour qu'un modèle se généralise bien, il faut que les données d'entrainement soient représentatives de l'ensemble des données. Etait-ce le cas? "
      ]
    },
    {
      "cell_type": "code",
      "metadata": {
        "id": "gEjW5JmK19s0",
        "colab_type": "code",
        "colab": {}
      },
      "source": [
        "df_full,df_sample,df_missing,df_gdp=load_all_data()\n",
        "\n",
        "\"numpy extraction\"\n",
        "x_sample = df_sample[\"GDP per capita\"].values\n",
        "X_sample_ext= np.stack([np.ones_like(x_sample),x_sample],axis=1) \n",
        "y_sample = df_sample[\"Life satisfaction\"].values\n",
        "\n",
        "\"numpy extraction\"\n",
        "x_full = df_full[\"GDP per capita\"].values\n",
        "X_full_ext = np.stack([np.ones_like(x_full),x_full],axis=1) \n",
        "y_full = df_full[\"Life satisfaction\"].values\n",
        "\n",
        "\"some very simple test data: points regularly spaced on a given interval\"\n",
        "xlim=110000\n",
        "x_test=np.linspace(0, xlim, 1000)"
      ],
      "execution_count": 0,
      "outputs": []
    },
    {
      "cell_type": "markdown",
      "metadata": {
        "id": "r0YRbUNx5Zt3",
        "colab_type": "text"
      },
      "source": [
        "Rappelons que nous avions enlever certains pays:"
      ]
    },
    {
      "cell_type": "code",
      "metadata": {
        "id": "x1QRnclQ19sv",
        "colab_type": "code",
        "outputId": "3d1436c5-f5e5-4a18-ecfc-f8425aa6e5e6",
        "colab": {
          "base_uri": "https://localhost:8080/",
          "height": 294
        }
      },
      "source": [
        "df_missing"
      ],
      "execution_count": 0,
      "outputs": [
        {
          "output_type": "execute_result",
          "data": {
            "text/html": [
              "<div>\n",
              "<style scoped>\n",
              "    .dataframe tbody tr th:only-of-type {\n",
              "        vertical-align: middle;\n",
              "    }\n",
              "\n",
              "    .dataframe tbody tr th {\n",
              "        vertical-align: top;\n",
              "    }\n",
              "\n",
              "    .dataframe thead th {\n",
              "        text-align: right;\n",
              "    }\n",
              "</style>\n",
              "<table border=\"1\" class=\"dataframe\">\n",
              "  <thead>\n",
              "    <tr style=\"text-align: right;\">\n",
              "      <th></th>\n",
              "      <th>GDP per capita</th>\n",
              "      <th>Life satisfaction</th>\n",
              "    </tr>\n",
              "    <tr>\n",
              "      <th>Country</th>\n",
              "      <th></th>\n",
              "      <th></th>\n",
              "    </tr>\n",
              "  </thead>\n",
              "  <tbody>\n",
              "    <tr>\n",
              "      <th>Brazil</th>\n",
              "      <td>8669.998</td>\n",
              "      <td>7.0</td>\n",
              "    </tr>\n",
              "    <tr>\n",
              "      <th>Mexico</th>\n",
              "      <td>9009.280</td>\n",
              "      <td>6.7</td>\n",
              "    </tr>\n",
              "    <tr>\n",
              "      <th>Chile</th>\n",
              "      <td>13340.905</td>\n",
              "      <td>6.7</td>\n",
              "    </tr>\n",
              "    <tr>\n",
              "      <th>Czech Republic</th>\n",
              "      <td>17256.918</td>\n",
              "      <td>6.5</td>\n",
              "    </tr>\n",
              "    <tr>\n",
              "      <th>Norway</th>\n",
              "      <td>74822.106</td>\n",
              "      <td>7.4</td>\n",
              "    </tr>\n",
              "    <tr>\n",
              "      <th>Switzerland</th>\n",
              "      <td>80675.308</td>\n",
              "      <td>7.5</td>\n",
              "    </tr>\n",
              "    <tr>\n",
              "      <th>Luxembourg</th>\n",
              "      <td>101994.093</td>\n",
              "      <td>6.9</td>\n",
              "    </tr>\n",
              "  </tbody>\n",
              "</table>\n",
              "</div>"
            ],
            "text/plain": [
              "                GDP per capita  Life satisfaction\n",
              "Country                                          \n",
              "Brazil                8669.998                7.0\n",
              "Mexico                9009.280                6.7\n",
              "Chile                13340.905                6.7\n",
              "Czech Republic       17256.918                6.5\n",
              "Norway               74822.106                7.4\n",
              "Switzerland          80675.308                7.5\n",
              "Luxembourg          101994.093                6.9"
            ]
          },
          "metadata": {
            "tags": []
          },
          "execution_count": 65
        }
      ]
    },
    {
      "cell_type": "code",
      "metadata": {
        "id": "yeL8bG9v19s2",
        "colab_type": "code",
        "colab": {}
      },
      "source": [
        "position_text2 = {\n",
        "    \"Brazil\": (1000, 9.0),\n",
        "    \"Mexico\": (11000, 9.0),\n",
        "    \"Chile\": (25000, 9.0),\n",
        "    \"Czech Republic\": (35000, 9.0),\n",
        "    \"Norway\": (60000, 3),\n",
        "    \"Switzerland\": (72000, 3.0),\n",
        "    \"Luxembourg\": (90000, 3.0),\n",
        "}"
      ],
      "execution_count": 0,
      "outputs": []
    },
    {
      "cell_type": "code",
      "metadata": {
        "id": "yOwIuPIy19s4",
        "colab_type": "code",
        "outputId": "6f0c9fe7-8bf3-48e0-97ea-64e14e8618b3",
        "colab": {
          "base_uri": "https://localhost:8080/",
          "height": 283
        }
      },
      "source": [
        "plt.figure(figsize=(8,4))\n",
        "plt.plot(x_sample,y_sample,\".\")\n",
        "plt.xlabel(\"GDP per capita\")\n",
        "plt.ylabel(\"Life satisfaction\")\n",
        "plt.xlim(0, xlim)\n",
        "plt.ylim(0,10)\n",
        "\n",
        "for country, pos_text in position_text2.items():\n",
        "    pos_data_x, pos_data_y = df_missing.loc[country]\n",
        "    plt.annotate(country, xy=(pos_data_x, pos_data_y), xytext=pos_text,\n",
        "            arrowprops=dict(facecolor='black', width=0.5, shrink=0.1, headwidth=5))\n",
        "    plt.plot(pos_data_x, pos_data_y, \"rs\")\n",
        "    \n",
        "\n",
        "def fit_and_plot_lin_model(X,y):    \n",
        "    model = sklearn.linear_model.LinearRegression(fit_intercept=False)\n",
        "    model.fit(X, y)\n",
        "    w0, w1=model.coef_[0],model.coef_[1]\n",
        "    return w0,w1\n",
        "    \n",
        "    \n",
        "w0_sample,w1_sample=fit_and_plot_lin_model(X_sample_ext,y_sample)\n",
        "w0_full,w1_full=fit_and_plot_lin_model(X_full_ext,y_full)\n",
        "\n",
        "plt.plot(x_test, w0_sample + w1_sample*x_test,\":\",label=\"sample data\")\n",
        "plt.plot(x_test, w0_full + w1_full*x_test,label=\"full data\")\n",
        "plt.legend(loc=3);\n",
        "\n"
      ],
      "execution_count": 0,
      "outputs": [
        {
          "output_type": "display_data",
          "data": {
            "image/png": "[encoded data removed]",
            "text/plain": [
              "<matplotlib.figure.Figure at 0x7f746db41f60>"
            ]
          },
          "metadata": {
            "tags": []
          }
        }
      ]
    },
    {
      "cell_type": "markdown",
      "metadata": {
        "id": "YX3SvRwx19s7",
        "colab_type": "text"
      },
      "source": [
        "## Sous et sur-ajustement $\\hookleftarrow$ \n",
        "\n",
        "Notre modèle précédent était sous-ajusté. On va le complexifier pour qu'il colle mieux aux données. \n"
      ]
    },
    {
      "cell_type": "code",
      "metadata": {
        "id": "DvKQB8zV19s8",
        "colab_type": "code",
        "colab": {}
      },
      "source": [
        "df_full,df_sample,df_missing,df_gdp=load_all_data()\n",
        "\n",
        "\"numpy extraction\"\n",
        "x = df_full[\"GDP per capita\"].values\n",
        "\"cette fois-ci, on n'ajoute pas la colonne de 1\"\n",
        "X = x[:,np.newaxis] \n",
        "y = df_full[\"Life satisfaction\"].values\n",
        "\n",
        "\"some very simple test data: points regularly spaced\"\n",
        "xlim=110000\n",
        "x_test=np.linspace(0, xlim, 1000)"
      ],
      "execution_count": 0,
      "outputs": []
    },
    {
      "cell_type": "markdown",
      "metadata": {
        "id": "Pe3nKCIA19s-",
        "colab_type": "text"
      },
      "source": [
        "### Un bon modèle polynomial\n",
        "\n",
        "On va supposer que nos données suivent un modèle polynomiale de degré 5: \n",
        "$$\n",
        "\\hat Y = f_w(X) = w_0 +w_1 X+ w_2 X^2 + ... + w_{5} X^{5}\n",
        "$$\n",
        "\n",
        "On ajuste ce modèles, c'est a dire, on trouve les coefficients $w$ qui minimisent \n",
        "$$\n",
        "\\sum_{i \\in train} dist\\big(Y_i,f_w(X_i)\\big)\n",
        "$$\n"
      ]
    },
    {
      "cell_type": "code",
      "metadata": {
        "id": "O5b4yz8c19s-",
        "colab_type": "code",
        "outputId": "03bc3b00-a1d8-460d-b4a8-ce01486381fb",
        "colab": {
          "base_uri": "https://localhost:8080/",
          "height": 625
        }
      },
      "source": [
        "from sklearn import preprocessing\n",
        "np.set_printoptions(precision=2)\n",
        "\n",
        "degree=5\n",
        "poly = preprocessing.PolynomialFeatures(degree=degree, include_bias=False)\n",
        "X_poly=poly.fit_transform(X)\n",
        "print(\"X_poly.shape:\",X_poly.shape)\n",
        "print(X_poly[:7,:7])\n",
        "\n",
        "scaler = preprocessing.StandardScaler()\n",
        "X_poly_scaled=scaler.fit_transform(X_poly)\n",
        "print(\"X_poly_scaled.shape:\",X_poly_scaled.shape)\n",
        "print(X_poly_scaled[:7,:7])\n",
        "\n",
        "for i in range(degree):\n",
        "    plt.plot(X_poly_scaled[:,0],X_poly_scaled[:,i],label=str(i))\n",
        "plt.legend();"
      ],
      "execution_count": 0,
      "outputs": [
        {
          "output_type": "stream",
          "text": [
            "X_poly.shape: (36, 5)\n",
            "[[8.67e+03 7.52e+07 6.52e+11 5.65e+15 4.90e+19]\n",
            " [9.01e+03 8.12e+07 7.31e+11 6.59e+15 5.94e+19]\n",
            " [9.05e+03 8.20e+07 7.42e+11 6.72e+15 6.09e+19]\n",
            " [9.44e+03 8.91e+07 8.41e+11 7.93e+15 7.49e+19]\n",
            " [1.22e+04 1.50e+08 1.83e+12 2.24e+16 2.75e+20]\n",
            " [1.25e+04 1.56e+08 1.95e+12 2.44e+16 3.05e+20]\n",
            " [1.33e+04 1.78e+08 2.37e+12 3.17e+16 4.23e+20]]\n",
            "X_poly_scaled.shape: (36, 5)\n",
            "[[-1.25 -0.79 -0.52 -0.38 -0.3 ]\n",
            " [-1.24 -0.79 -0.52 -0.38 -0.3 ]\n",
            " [-1.23 -0.79 -0.52 -0.38 -0.3 ]\n",
            " [-1.22 -0.79 -0.52 -0.38 -0.3 ]\n",
            " [-1.09 -0.76 -0.51 -0.37 -0.3 ]\n",
            " [-1.07 -0.75 -0.51 -0.37 -0.3 ]\n",
            " [-1.03 -0.74 -0.51 -0.37 -0.3 ]]\n"
          ],
          "name": "stdout"
        },
        {
          "output_type": "display_data",
          "data": {
            "image/png": "[encoded data removed]",
            "text/plain": [
              "<matplotlib.figure.Figure at 0x7f746daadef0>"
            ]
          },
          "metadata": {
            "tags": []
          }
        }
      ]
    },
    {
      "cell_type": "code",
      "metadata": {
        "id": "_8HLdnjT19tB",
        "colab_type": "code",
        "outputId": "e123960f-a1b9-4ad6-eec8-4c4d289e58f7",
        "colab": {
          "base_uri": "https://localhost:8080/",
          "height": 69
        }
      },
      "source": [
        "# this time we ask to the model to add the intercept\n",
        "model_poly = sklearn.linear_model.LinearRegression() #= .LinearRegression(fit_intercept=True)\n",
        "model_poly.fit(X_poly_scaled, y)\n",
        "\n",
        "print(\"coef_:\\n\",model_poly.coef_)\n",
        "print(\"intercept_:%.2f\"%model_poly.intercept_)"
      ],
      "execution_count": 0,
      "outputs": [
        {
          "output_type": "stream",
          "text": [
            "coef_:\n",
            " [ -14.07   69.31 -137.79  126.66  -43.99]\n",
            "intercept_:6.58\n"
          ],
          "name": "stdout"
        }
      ]
    },
    {
      "cell_type": "code",
      "metadata": {
        "id": "L_gak5Ov19tD",
        "colab_type": "code",
        "outputId": "25ab2e10-79dc-4478-8d4a-f539177171c8",
        "colab": {
          "base_uri": "https://localhost:8080/",
          "height": 283
        }
      },
      "source": [
        "plt.figure(figsize=(8,4))\n",
        "plt.plot(x,y,\".\")\n",
        "plt.xlabel(\"GDP per capita\")\n",
        "plt.ylabel(\"Life satisfaction\")\n",
        "plt.xlim(0, xlim)\n",
        "plt.ylim(0,10)\n",
        "\n",
        "\n",
        "X_test_poly=poly.transform(x_test[:,np.newaxis])\n",
        "X_test_poly_scaled=scaler.transform(X_test_poly)\n",
        "y_test_hat = model_poly.predict(X_test_poly_scaled)\n",
        "plt.plot(x_test, y_test_hat);"
      ],
      "execution_count": 0,
      "outputs": [
        {
          "output_type": "display_data",
          "data": {
            "image/png": "[encoded data removed]",
            "text/plain": [
              "<matplotlib.figure.Figure at 0x7f746d8fcac8>"
            ]
          },
          "metadata": {
            "tags": []
          }
        }
      ]
    },
    {
      "cell_type": "markdown",
      "metadata": {
        "id": "XF3WzFWg19tG",
        "colab_type": "text"
      },
      "source": [
        "***A vous:*** Reproduisez $(3\\heartsuit)$ cette courbe polynomiale à partir de `.coef_` et `.intercept_` (sans utiliser .predict). "
      ]
    },
    {
      "cell_type": "markdown",
      "metadata": {
        "id": "1EBNvgD-19tG",
        "colab_type": "text"
      },
      "source": [
        "### Un modèle sur-ajusté\n",
        "\n",
        "On choisi maintenant de modéliser les donnée avec un polynome de très grand degré. \n",
        "\n",
        "$$\n",
        "\\hat Y = f_w(X) = w_0 +w_1 X+ w_2 X^2 + ... + w_{20} X^{20}\n",
        "$$\n",
        "\n",
        "Par ailleurs, informatiquement, on emboite les traitements à l'aide d'un `pipeline` de `sklearn`. Plus d'explications viennent plus loin.  "
      ]
    },
    {
      "cell_type": "code",
      "metadata": {
        "id": "ZhGiFna019tH",
        "colab_type": "code",
        "outputId": "1025187d-cc2a-4aac-8a56-fa9e79da1f52",
        "colab": {
          "base_uri": "https://localhost:8080/",
          "height": 455
        }
      },
      "source": [
        "plt.plot(x,y,\".\")\n",
        "plt.xlabel(\"GDP per capita\")\n",
        "plt.ylabel(\"Life satisfaction\")\n",
        "plt.xlim(0, xlim)\n",
        "plt.ylim(0,10)\n",
        "\n",
        "\n",
        "poly = sklearn.preprocessing.PolynomialFeatures(degree=20, include_bias=False)\n",
        "scaler = sklearn.preprocessing.StandardScaler()\n",
        "lin_reg2 = sklearn.linear_model.LinearRegression()\n",
        "pipeline_reg = sklearn.pipeline.Pipeline([('poly', poly), ('scal', scaler),('lin',lin_reg2)])\n",
        "\n",
        "# this call fit_transform() of the two first objects: 'poly' and 'scal',\n",
        "# and   the method .fit() for the third one: 'lin'\n",
        "pipeline_reg.fit(X, y) \n",
        "print(\"estimated coef:\\n\",pipeline_reg.named_steps['lin'].coef_)\n",
        "print(\"estimated intercept:\\n\",pipeline_reg.named_steps['lin'].intercept_)\n",
        "\n",
        "# this call transform() of the two first objects: 'poly' and 'scal',\n",
        "# and   the method .predict() for the third one: 'lin'\n",
        "y_test_hat = pipeline_reg.predict(x_test[:,np.newaxis])\n",
        "\n",
        "plt.plot(x_test,y_test_hat);"
      ],
      "execution_count": 0,
      "outputs": [
        {
          "output_type": "stream",
          "text": [
            "estimated coef:\n",
            " [ 2.77e+05 -7.41e+06  1.14e+08 -1.19e+09  8.77e+09 -4.67e+10  1.81e+11 -5.09e+11  1.00e+12 -1.28e+12  7.80e+11  3.07e+11 -7.93e+11  9.43e+10  5.86e+11 -2.07e+11 -3.90e+11  3.13e+11 -2.28e+10 -2.70e+10]\n",
            "estimated intercept:\n",
            " 6.583299411735984\n"
          ],
          "name": "stdout"
        },
        {
          "output_type": "display_data",
          "data": {
            "image/png": "[encoded data removed]",
            "text/plain": [
              "<matplotlib.figure.Figure at 0x7f746d9bcac8>"
            ]
          },
          "metadata": {
            "tags": []
          }
        }
      ]
    },
    {
      "cell_type": "markdown",
      "metadata": {
        "colab_type": "text",
        "id": "80LKLxWD1W2j"
      },
      "source": [
        "### Contraindre un modèle par la régularisation\n",
        "\n",
        "L'overfitting vient quand le modèle est trop complexe. Pour limiter cela les solutions sont: \n",
        "\n",
        "* Sélectionner un modèle avec moins de paramétre: ex: un modèle linéaire plutôt qu'un modèle polynomial de haut degré. MAIS: on risque de tomber dans le sous-ajustement. \n",
        "* Supprimer des descripteurs inutile. MAIS pas facile à savoir à l'avance. \n",
        "* Augmenter le nombre de données train. MAIS en général on utilise toutes les données dont on dispose. \n",
        "* Bien nettoyer ses données. MAIS on l'a déjà fait car on est sérieux. \n",
        "\n",
        "\n",
        "Il existe une solution supplémentaire: la régularisation: On garde un modèle avec beaucoup de paramètre, mais on oblige les paramètres à être assez petit. Pour cela on va trouver le $w$ qui va minimiser \n",
        "\n",
        "$$\n",
        "\\sum_{i \\in train} dist\\big(Y_i,f_w(X_i)\\big) + \\alpha \\|w\\|\n",
        "$$\n",
        "\n",
        "$\\alpha$ est un coef positif, et le plus souvent on chosi l'une des deux normes suivantes:\n",
        "\n",
        "* $\\|w\\|= |w_1| + ...+ |w_{20}| $. On parle de pénalité lasso. \n",
        "* $\\|w\\|= (w_1)^2 + ...+ (w_{20})^2 $. On parle de pénalité rigde.\n",
        "\n",
        "Avec ce procéde de pénalisation, on laisse beaucoup de degré de liberté au modèle, mais, lors de l'apprentissage, on lui demande de trouver le bon équilibre entre le bon ajustement aux données train, et la simplicité. Cela aide à la généralisation. \n",
        "  \n",
        "\n",
        "\n",
        "\n"
      ]
    },
    {
      "cell_type": "code",
      "metadata": {
        "id": "Clspc4kT19tJ",
        "colab_type": "code",
        "outputId": "c4a677cb-dfe2-4b55-f73f-546ab2b4fffe",
        "colab": {
          "base_uri": "https://localhost:8080/",
          "height": 455
        }
      },
      "source": [
        "plt.plot(x,y,\".\")\n",
        "plt.xlabel(\"GDP per capita\")\n",
        "plt.ylabel(\"Life satisfaction\")\n",
        "plt.xlim(0, xlim)\n",
        "plt.ylim(0,10)\n",
        "\n",
        "from sklearn import preprocessing\n",
        "from sklearn import pipeline\n",
        "\n",
        "\n",
        "poly = preprocessing.PolynomialFeatures(degree=20, include_bias=False)\n",
        "scaler = preprocessing.StandardScaler()\n",
        "ridge = sklearn.linear_model.Ridge(alpha=0.5)\n",
        "pipeline_reg = pipeline.Pipeline([('poly', poly), ('scal', scaler),('lin',ridge)])\n",
        "\n",
        "pipeline_reg.fit(X, y) \n",
        "print(\"estimated coef:\\n\",pipeline_reg.named_steps['lin'].coef_)\n",
        "print(\"estimated intercept:\\n\",pipeline_reg.named_steps['lin'].intercept_)\n",
        "\n",
        "y_test_hat = pipeline_reg.predict(x_test[:,np.newaxis])\n",
        "\n",
        "plt.plot(x_test,y_test_hat);"
      ],
      "execution_count": 0,
      "outputs": [
        {
          "output_type": "stream",
          "text": [
            "estimated coef:\n",
            " [ 0.43  0.55  0.09 -0.2  -0.28 -0.26 -0.2  -0.14 -0.09 -0.04 -0.01  0.02  0.03  0.05  0.06  0.07  0.07  0.07  0.08  0.08]\n",
            "estimated intercept:\n",
            " 6.583333333333333\n"
          ],
          "name": "stdout"
        },
        {
          "output_type": "display_data",
          "data": {
            "image/png": "[encoded data removed]",
            "text/plain": [
              "<matplotlib.figure.Figure at 0x7f746da21400>"
            ]
          },
          "metadata": {
            "tags": []
          }
        }
      ]
    },
    {
      "cell_type": "markdown",
      "metadata": {
        "id": "_8ULEfKw19tN",
        "colab_type": "text"
      },
      "source": [
        "## Le design de Scikit-Learn\n",
        "\n",
        "L'API de `sklearn` est remarquablement bien conçue.  Voici un extrait du livre d'Aurélien Géron qui explique le principe du design.\n",
        "\n",
        "\n",
        "### Consistence. \n",
        "\n",
        "Tous les objets partage la même interface simple. Voici les différents types d'objets:\n",
        "\n",
        "* ***Estimateurs.***  Se sont les objets qui estiment des paramètre à partir des données. Ex:\n",
        "\n",
        "        StandardScaler, LinearRegression, Ridge \n",
        "\n",
        "L'estimation est lancée lors de l'appelle de la méthode `fit()` qui prend comme paramètre `X` pour les algos non-supervisées ou bien `X,Y` pour les alogs supervisés.   \n",
        "\n",
        "Tous les autres paramètres sont considérés comme des hyperparamètres (tel que `degree` ou `alpha`) et sont des variables d'instance (self.degree ou self.alph). La plupart du temps, ces variables d'instances peuvent être assignée via le constructeur de l'objet. \n",
        "\n",
        "\n",
        "* ***Transformeurs.***  Ils peuvent aussi transformer les données. Ex:\n",
        "\n",
        "        StandardScaler, PolynomialFeatures\n",
        "\n",
        "La transformation est faite par la méthode `transform()` qui prend les données `X` comme paramètre. Elle retourne les données transformées. Le plus souvent, cette transformation dépend de paramètre appris sur le jeu de donnée (ex: centrer-réduire nécéssite de caculer la moyenne et l'écart type). Ainsi les transformeur ont aussi une méthode `fit()`. \n",
        "\n",
        "Ils disposent aussi d'une méthode `fit_transform()` qui est l'équivalent de l'appel de `fit()` puis de l'appel de `transform()`. \n",
        "\n",
        "\n",
        "* ***Prédicteur.***  Ils font des prédictions. Ex:\n",
        "\n",
        "        LinearRegression, Ridge \n",
        "\n",
        "Un prédicteur a une méthode `predict(X)` qui prend des données `X` en entrée et retourne des prédictions `hat Y`. \n",
        "\n",
        "Certain des prédicteurs ont aussi un méthode `predict_proba(X)` qui donnée la fiabilité des prédictions. \n",
        "\n",
        "Certain des prédicteurs ont aussi une méthode `score()` qui meture la qualité des prédictions (le score va toujours dans le sens inverse de la `loss`). Dans les algos supervisés, `score(X,Y)` mesurera une sorte d'inverse d'une distance entre `predict(X)` et `Y`. \n",
        "\n",
        "\n",
        "### Inspection\n",
        "\n",
        "Tous les hyperparamètres des estimateurs sont accessibles via des variables d'instances, ex:\n",
        "\n",
        "        ridge.alpha, polynomialFeatures.degree\n",
        "\n",
        "Tous les paramètres appris sont aussi accessible via des variables d'instances qui ont un underscore à la fin, ex:\n",
        "\n",
        "       ridge.coef_, ridge.intercept_ \n",
        "\n",
        "\n",
        "### Non prolifération des classes\n",
        "\n",
        "Les données sont représentée pas des tableaux numpy ou des matrices creuses SciPy (pas de classe maison). \n",
        "\n",
        "\n",
        "### Des valeurs par défaut sensées. \n",
        "\n",
        "Scikit-Learn propose de bonnes valeurs par défaut pour la plupart des paramètres. On peut donc démarrer vite.  \n",
        "\n",
        "\n",
        "### Composition.\n",
        "\n",
        "Les \"briques\" de scikit-learn sont réutilisés au maximum.\n",
        "\n",
        "\n",
        "### Typage 'canard'\n",
        "\n",
        "« Si je vois un oiseau qui vole comme un canard, cancane comme un canard, et nage comme un canard, alors j'appelle cet oiseau un canard » [James Whitcomb Riley]\n",
        "\n",
        "sklearn utilise le typage canard (duck typing): pas d'héritages, pas de typage statique: pour qu'un objet soit accepté comme estimateur, il suffit qu'il ait une méthode `fit()`\n",
        "\n",
        "  "
      ]
    },
    {
      "cell_type": "markdown",
      "metadata": {
        "id": "DEY_s6Lg19tN",
        "colab_type": "text"
      },
      "source": [
        "## Reproduisons sklearn $\\hookleftarrow$\n",
        "\n",
        "Le fait de recoder un bout de la librairie va nous permettre de mieux comprendre comme elle fonctionne, et éventuellement, on pourra dans le futur remplacer certaine briques par des briques personnalisées. Nous ne prétendons pas faire mieux! "
      ]
    },
    {
      "cell_type": "code",
      "metadata": {
        "id": "zIL5s0FY19tO",
        "colab_type": "code",
        "colab": {}
      },
      "source": [
        "df_full,df_sample,df_missing,df_gdp=load_all_data()\n",
        "\n",
        "\"numpy extraction\"\n",
        "x = df_full[\"GDP per capita\"].values\n",
        "X = x[:,np.newaxis] \n",
        "y = df_full[\"Life satisfaction\"].values\n",
        "\n",
        "\"some very simple test data: points regularly spaced\"\n",
        "xlim=110000\n",
        "x_test=np.linspace(0, xlim, 1000)"
      ],
      "execution_count": 0,
      "outputs": []
    },
    {
      "cell_type": "markdown",
      "metadata": {
        "id": "WxFieJcZ19tQ",
        "colab_type": "text"
      },
      "source": [
        "### Deux transformers\n",
        "\n",
        "Reproduisons le `PolynomialFeatures` de `sklearn`. Remarquons que la méthode `fit()` ne fait rien. \n",
        "\n",
        "Puis reproduisons le `StandardScaler`. Cette fois-ci `fit()` calcule bien quelque chose sur les données. \n"
      ]
    },
    {
      "cell_type": "code",
      "metadata": {
        "id": "14eZSf6-19tQ",
        "colab_type": "code",
        "colab": {}
      },
      "source": [
        "class MyPolynomialFeatures:\n",
        "\n",
        "    def __init__(self,degree): #Todo: add 'include_bias' (with False as default)\n",
        "        self.degree=degree\n",
        "    \n",
        "    \n",
        "    def transform(self,X):\n",
        "        assert len(X.shape)==2, \"X must be a matrix\"\n",
        "        assert X.shape[1]==1, \"X must be a column matrix\" \n",
        "        #Todo: generalize when X has several columns. So we have to add  products between columns\n",
        "        \n",
        "        res=[] # pas très malin l'emploi d'une liste ici.\n",
        "        for i in range(1,self.degree+1):\n",
        "            res.append(X[:,0]**i)\n",
        "        \n",
        "        res_np=np.stack(res,axis=1)\n",
        "        return res_np\n",
        "        \n",
        "    def fit(self,X):\n",
        "        pass\n",
        "    \n",
        "    def fit_transform(self,X):\n",
        "        return self.transform(X)\n",
        "    "
      ],
      "execution_count": 0,
      "outputs": []
    },
    {
      "cell_type": "markdown",
      "metadata": {
        "id": "oZ7JW9wN19tU",
        "colab_type": "text"
      },
      "source": [
        "***A vous:*** Effectuez $(2\\heartsuit+3\\heartsuit)$ les deux `todo` dans le code de `MyPolynomialFeatures`. Testez-les. "
      ]
    },
    {
      "cell_type": "code",
      "metadata": {
        "id": "R_HtGZiT19tU",
        "colab_type": "code",
        "outputId": "5b4c97e5-6c21-4cde-ebe2-96b67e80dcd6",
        "colab": {
          "base_uri": "https://localhost:8080/",
          "height": 208
        }
      },
      "source": [
        "a=np.arange(0,11,1)\n",
        "A=a[:,np.newaxis]\n",
        "A_ext=MyPolynomialFeatures(3).fit_transform(A)\n",
        "print(A_ext)"
      ],
      "execution_count": 0,
      "outputs": [
        {
          "output_type": "stream",
          "text": [
            "[[   0    0    0]\n",
            " [   1    1    1]\n",
            " [   2    4    8]\n",
            " [   3    9   27]\n",
            " [   4   16   64]\n",
            " [   5   25  125]\n",
            " [   6   36  216]\n",
            " [   7   49  343]\n",
            " [   8   64  512]\n",
            " [   9   81  729]\n",
            " [  10  100 1000]]\n"
          ],
          "name": "stdout"
        }
      ]
    },
    {
      "cell_type": "code",
      "metadata": {
        "id": "Xk-RUVLV19ta",
        "colab_type": "code",
        "colab": {}
      },
      "source": [
        "class MyStandardScaler:\n",
        "    \n",
        "    def __init__(self): \n",
        "        pass\n",
        "                \n",
        "    def fit(self,X):\n",
        "        self.mean_=np.mean(X,axis=0)\n",
        "        self.std_=np.std(X,axis=0)\n",
        "                \n",
        "    \n",
        "    def transform(self,X):\n",
        "        assert len(X.shape)==2, \"X must be a matrix\"\n",
        "        \n",
        "        \"res[i,j]=(X[i,j] - mean[j])/std[j]\"\n",
        "                \n",
        "        res=(X-self.mean_[np.newaxis,:])/self.std_[np.newaxis,:]\n",
        "        return res\n",
        "\n",
        "    \n",
        "    def fit_transform(self,X):\n",
        "        self.fit(X)\n",
        "        return self.transform(X)\n",
        "        "
      ],
      "execution_count": 0,
      "outputs": []
    },
    {
      "cell_type": "code",
      "metadata": {
        "id": "ElD8t4yJ19tb",
        "colab_type": "code",
        "outputId": "a888d945-1c1e-4b96-c73e-81726d153991",
        "colab": {
          "base_uri": "https://localhost:8080/",
          "height": 589
        }
      },
      "source": [
        "A=np.arange(10*4,dtype=np.float64).reshape([10,4])\n",
        "print(\"A:\\n\",A)\n",
        "A_sc1=sklearn.preprocessing.StandardScaler().fit_transform(A)\n",
        "print(\"A_sc1:\\n\",A_sc1)\n",
        "A_sc2=MyStandardScaler().fit_transform(A)\n",
        "print(\"A_sc2:\\n\",A_sc2)"
      ],
      "execution_count": 0,
      "outputs": [
        {
          "output_type": "stream",
          "text": [
            "A:\n",
            " [[ 0.  1.  2.  3.]\n",
            " [ 4.  5.  6.  7.]\n",
            " [ 8.  9. 10. 11.]\n",
            " [12. 13. 14. 15.]\n",
            " [16. 17. 18. 19.]\n",
            " [20. 21. 22. 23.]\n",
            " [24. 25. 26. 27.]\n",
            " [28. 29. 30. 31.]\n",
            " [32. 33. 34. 35.]\n",
            " [36. 37. 38. 39.]]\n",
            "A_sc1:\n",
            " [[-1.57 -1.57 -1.57 -1.57]\n",
            " [-1.22 -1.22 -1.22 -1.22]\n",
            " [-0.87 -0.87 -0.87 -0.87]\n",
            " [-0.52 -0.52 -0.52 -0.52]\n",
            " [-0.17 -0.17 -0.17 -0.17]\n",
            " [ 0.17  0.17  0.17  0.17]\n",
            " [ 0.52  0.52  0.52  0.52]\n",
            " [ 0.87  0.87  0.87  0.87]\n",
            " [ 1.22  1.22  1.22  1.22]\n",
            " [ 1.57  1.57  1.57  1.57]]\n",
            "A_sc2:\n",
            " [[-1.57 -1.57 -1.57 -1.57]\n",
            " [-1.22 -1.22 -1.22 -1.22]\n",
            " [-0.87 -0.87 -0.87 -0.87]\n",
            " [-0.52 -0.52 -0.52 -0.52]\n",
            " [-0.17 -0.17 -0.17 -0.17]\n",
            " [ 0.17  0.17  0.17  0.17]\n",
            " [ 0.52  0.52  0.52  0.52]\n",
            " [ 0.87  0.87  0.87  0.87]\n",
            " [ 1.22  1.22  1.22  1.22]\n",
            " [ 1.57  1.57  1.57  1.57]]\n"
          ],
          "name": "stdout"
        }
      ]
    },
    {
      "cell_type": "markdown",
      "metadata": {
        "id": "BXd7CsOk19te",
        "colab_type": "text"
      },
      "source": [
        "### Un modèle"
      ]
    },
    {
      "cell_type": "code",
      "metadata": {
        "id": "UVyV0sKh19te",
        "colab_type": "code",
        "colab": {}
      },
      "source": [
        "class MyLinearModel:\n",
        "    \n",
        "    def fit(self, X, Y):\n",
        "        \"\"\" X.T X^(-1) \"\"\"\n",
        "        XTX_1 = np.linalg.pinv(X.T @ X) #pinv=pseudo-inverse (au cas où X n'est pas inversible)\n",
        "        \"\"\"l'estimateur des poids w\"\"\"\n",
        "        self.hat_w = XTX_1 @ X.T @ Y\n",
        "\n",
        "    def predict(self,X):\n",
        "        return X @ self.hat_w\n",
        "    "
      ],
      "execution_count": 0,
      "outputs": []
    },
    {
      "cell_type": "markdown",
      "metadata": {
        "id": "_NWdqntN19th",
        "colab_type": "text"
      },
      "source": [
        "***A vous:*** Les méthodes `fit()` et `predict()` fonctionne-t-elle avec des `X` vecteur ou matrice $(1\\heartsuit)$?\n",
        "\n",
        "***A vous:*** Créez $(2\\heartsuit)$ un programme test pour cette classe: utilisez des donnée très simple que vous produisez localement. \n",
        "\n",
        "***A vous:*** Ajoutez $(3\\heartsuit)$ la méthode `.score(X,y)`. Allez voir l'[aide de sklearn](http://scikit-learn.org/stable/modules/generated/sklearn.linear_model.LinearRegression.html#sklearn.linear_model.LinearRegression.score) pour savoir ce qu'elle doit renvoyer. \n",
        "\n",
        "***A vous:*** Créez $(4\\heartsuit)$ la classe `MyRidgeModel`. Testez-là.  "
      ]
    },
    {
      "cell_type": "markdown",
      "metadata": {
        "id": "of83sUPd19ti",
        "colab_type": "text"
      },
      "source": [
        "### Un pipeline\n",
        "\n",
        "Quand on fait:\n",
        "\n",
        "        pipeline = pipeline.Pipeline([('name_1', obj_1), ('name_2', obj_2),...,('name_n',obj_n)])\n",
        "\n",
        "On crée un objet dont le but est d'enchainer les traitements effectués par `obj_1`,...,`obj_n`. \n",
        "\n",
        "* Quand on effectue `pipeline.fit_transform(X)`, c'est comme si on faisait\n",
        "```\n",
        "X1=ob_1.fit_transform(X)\n",
        "X2=obj_2.fit_transform(X1)\n",
        "...\n",
        "Xn=obj_n.fit_transform(Xn-1)\n",
        "```\n",
        "et cela renvoie `Xn`\n",
        "\n",
        "* Quand on effectue `pipeline.transform(X)`, c'est comme si on faisait\n",
        "```\n",
        "X1=ob_1.transform(X)\n",
        "X2=obj_2.transform(X1)\n",
        "...\n",
        "Xn=obj_n.transform(Xn-1)\n",
        "```\n",
        "et cela renvoie `Xn`\n",
        "\n",
        "\n",
        "* Quand on effectue `pipeline.fit(X,y)`, c'est comme si on faisait.\n",
        "```\n",
        "X1=ob_1.fit_transform(X)\n",
        "X2=obj_2.fit_transform(X1)\n",
        "...\n",
        "obj_n.fit(Xn-1,y)\n",
        "```\n",
        "et cela ne renvoie rien. \n",
        "\n",
        "* Quand on effectue `pipeline.predict(X_test)`, c'est comme si on faisait\n",
        "```\n",
        "X1=ob_1.transform(X)\n",
        "X2=obj_2.transform(X1)\n",
        "...\n",
        "y_hat=obj_n.predict(Xn-1)\n",
        "```\n",
        "et cela renvoie `y_hat`\n",
        "\n",
        "**Attention:** La méthode `predict` n'appelle pas les méthodes `fit_transform`! \n",
        "\n",
        "\n",
        "Avec un peu d'expérience, c'est très naturelle (cf la suite).  Remarquons aussi que les `obj_1`,..., `obj_n` ne sont pas forcément des objets de `sklearn`. Vous pouvez aussi mettre vos propres objets tant qu'ils ont les méthodes nécessaires. C'est l'avantage du `duck typing`.\n",
        "\n",
        "\n",
        "\n"
      ]
    },
    {
      "cell_type": "code",
      "metadata": {
        "id": "EKgWQP3N19ti",
        "colab_type": "code",
        "colab": {}
      },
      "source": [
        "class MyPipeline:\n",
        "    \n",
        "    def __init__(self,degree):        \n",
        "        \n",
        "        self.degree=degree\n",
        "        self.poly = preprocessing.PolynomialFeatures(degree=self.degree, include_bias=False)\n",
        "        self.scaler=preprocessing.StandardScaler()\n",
        "        self.model_poly = sklearn.linear_model.LinearRegression(fit_intercept=True)\n",
        "        \n",
        "    def fit(self,x,y):\n",
        "        X_poly_scaled=self._data_augmentation(x)\n",
        "        self.model_poly.fit(X_poly_scaled, y)\n",
        "        self.coef_=self.model_poly.coef_\n",
        "        self.intercept_=self.model_poly.intercept_\n",
        "        \n",
        "    def predict(self,x_test):\n",
        "        X_poly_scaled=self._data_augmentation(x_test)\n",
        "        y_hat=self.model_poly.predict(X_poly_scaled)\n",
        "        return y_hat\n",
        "        \n",
        "    def _data_augmentation(self,X):    \n",
        "        X_poly=self.poly.fit_transform(X)      \n",
        "        X_poly_scaled=self.scaler.fit_transform(X_poly)\n",
        "       \n",
        "            \n",
        "        return X_poly_scaled"
      ],
      "execution_count": 0,
      "outputs": []
    },
    {
      "cell_type": "code",
      "metadata": {
        "id": "M9ipFMFa19tj",
        "colab_type": "code",
        "outputId": "bdcbcd85-13a1-451c-fe3a-5439c10c3563",
        "colab": {
          "base_uri": "https://localhost:8080/",
          "height": 545
        }
      },
      "source": [
        "plt.plot(x,y,\".\")\n",
        "plt.xlabel(\"GDP per capita\")\n",
        "plt.ylabel(\"Life satisfaction\")\n",
        "plt.xlim(0, xlim)\n",
        "plt.ylim(0,10)\n",
        "\n",
        "from sklearn import preprocessing\n",
        "from sklearn import pipeline\n",
        "\n",
        "\n",
        "pipeline_reg = MyPipeline(degree=30)\n",
        "\n",
        "pipeline_reg.fit(X, y) \n",
        "print(\"estimated coef:\\n\",pipeline_reg.coef_)\n",
        "print(\"estimated intercept:\\n\",pipeline_reg.intercept_)\n",
        "\n",
        "y_test_hat = pipeline_reg.predict(x_test[:,np.newaxis])\n",
        "\n",
        "plt.plot(x_test,y_test_hat);"
      ],
      "execution_count": 0,
      "outputs": [
        {
          "output_type": "stream",
          "text": [
            "estimated coef:\n",
            " [ 7.58e+04 -1.50e+06  1.32e+07 -1.25e+07 -1.01e+09  1.22e+10 -7.77e+10  3.13e+11 -8.12e+11  1.26e+12 -8.14e+11 -5.98e+11  1.01e+12  5.07e+11 -8.73e+11 -8.33e+11  3.51e+11  1.04e+12  5.52e+11 -4.61e+11 -1.02e+12 -7.00e+11  1.72e+11  8.92e+11  9.78e+11  3.58e+11 -5.63e+11 -1.15e+12 -7.32e+11  1.18e+12]\n",
            "estimated intercept:\n",
            " 6.582969282773506\n"
          ],
          "name": "stdout"
        },
        {
          "output_type": "display_data",
          "data": {
            "image/png": "[encoded data removed]",
            "text/plain": [
              "<matplotlib.figure.Figure at 0x7f7471d2acc0>"
            ]
          },
          "metadata": {
            "tags": []
          }
        }
      ]
    },
    {
      "cell_type": "markdown",
      "metadata": {
        "id": "da4K8SEq19tm",
        "colab_type": "text"
      },
      "source": [
        "Cela ne fonctionne pas!  l'erreur se trouve dans `MyPipeline`. C'est une erreur très fréquente.  Le pire est que cette erreur ne se détecte pas à tous les coups: essayez avec `degree=3`, cela fonctionne quand même! \n",
        "\n",
        "***A vous:*** Corrigez $(3\\heartsuit)$ cette erreur!  Aide: il faut distinguer deux cas dans la méthode `_data_augmentation`. "
      ]
    }
  ]
}