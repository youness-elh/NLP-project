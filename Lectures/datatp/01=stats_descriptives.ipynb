{
  "nbformat": 4,
  "nbformat_minor": 0,
  "metadata": {
    "colab": {
      "name": "01=stats descriptives.ipynb",
      "provenance": []
    },
    "kernelspec": {
      "display_name": "Python 3",
      "language": "python",
      "name": "python3"
    }
  },
  "cells": [
    {
      "cell_type": "markdown",
      "metadata": {
        "id": "JEGyUmrBPJaA",
        "colab_type": "text"
      },
      "source": [
        "# Statistiques descriptives\n",
        "\n"
      ]
    },
    {
      "cell_type": "code",
      "metadata": {
        "id": "g7ERxEXuNCXS",
        "colab_type": "code",
        "outputId": "803f2449-7e27-4946-d470-33a6653aa525",
        "colab": {
          "base_uri": "https://localhost:8080/",
          "height": 34
        }
      },
      "source": [
        "\"to load assets on the server (if it was not already done)\"\n",
        "import os\n",
        "if not os.path.exists(\"assets_ml\"):\n",
        "    !git clone https://github.com/vincentvigon/assets_ml\n",
        "else:\n",
        "    print(\"data already here\")"
      ],
      "execution_count": 0,
      "outputs": [
        {
          "output_type": "stream",
          "text": [
            "data already here\n"
          ],
          "name": "stdout"
        }
      ]
    },
    {
      "cell_type": "code",
      "metadata": {
        "id": "jbP2ir6SKJgZ",
        "colab_type": "code",
        "outputId": "17576632-dfd1-4277-c5c4-cc9a35723caf",
        "colab": {
          "base_uri": "https://localhost:8080/",
          "height": 51
        }
      },
      "source": [
        "\"to execute code at the right place: must be on the directory where assets are\"\n",
        "if os.getcwd()!='/content/assets_ml':\n",
        "    %cd assets_ml\n",
        "\"checking: directories  dataframe,img,... must appear\"\n",
        "!ls"
      ],
      "execution_count": 0,
      "outputs": [
        {
          "output_type": "stream",
          "text": [
            "/content/assets_ml\n",
            "dataframe  flights  img\n"
          ],
          "name": "stdout"
        }
      ]
    },
    {
      "cell_type": "code",
      "metadata": {
        "id": "yljFvVRYPJaB",
        "colab_type": "code",
        "colab": {}
      },
      "source": [
        "%reset -f\n",
        "import numpy as np\n",
        "import matplotlib.pyplot as plt\n",
        "import scipy.stats as stats\n",
        "import pandas as pd\n",
        "import seaborn as sb\n",
        "\n",
        "np.set_printoptions(precision=2,linewidth=500,suppress=True)\n",
        "\n",
        "\"\"\"pour que les dataFrame ne soient pas trop coupées dans la console\"\"\"\n",
        "pd.set_option('display.max_rows', 500)\n",
        "pd.set_option('display.max_columns', 500)\n",
        "pd.set_option('display.width', 1000)\n",
        "\n",
        "\"\"\"\n",
        "Available options:\n",
        "display.[chop_threshold, colheader_justify, column_space, date_dayfirst,\n",
        "         date_yearfirst, encoding, expand_frame_repr, float_format, height,\n",
        "         line_width, max_columns, max_colwidth, max_info_columns, max_info_rows,\n",
        "         max_rows, max_seq_items, mpl_style, multi_sparse, notebook_repr_html,\n",
        "         pprint_nest_depth, precision, width]\n",
        "\n",
        "\"\"\";\n",
        "\n"
      ],
      "execution_count": 0,
      "outputs": []
    },
    {
      "cell_type": "markdown",
      "metadata": {
        "id": "rQRej05_LpNU",
        "colab_type": "text"
      },
      "source": [
        "## Observons, nettoyons"
      ]
    },
    {
      "cell_type": "markdown",
      "metadata": {
        "id": "GF7ptby5PJaG",
        "colab_type": "text"
      },
      "source": [
        "### Coup d'oeil global"
      ]
    },
    {
      "cell_type": "code",
      "metadata": {
        "id": "CLuESoOEPJaL",
        "colab_type": "code",
        "outputId": "3e0c40ce-e0f5-4dce-bd40-89fd92e82576",
        "colab": {
          "base_uri": "https://localhost:8080/",
          "height": 411
        }
      },
      "source": [
        "''' on transforme les données csv en une dataFrame pandas. '''\n",
        "df = pd.read_csv(\"dataframe/loan_data.csv\")\n",
        "''' on supprime des colonnes inutiles '''\n",
        "df =df.drop(columns=['Unnamed: 0', 'Unnamed: 0.1','Loan_ID'])\n",
        "df.head(10) #10 premières lignes"
      ],
      "execution_count": 0,
      "outputs": [
        {
          "output_type": "execute_result",
          "data": {
            "text/html": [
              "<div>\n",
              "<style scoped>\n",
              "    .dataframe tbody tr th:only-of-type {\n",
              "        vertical-align: middle;\n",
              "    }\n",
              "\n",
              "    .dataframe tbody tr th {\n",
              "        vertical-align: top;\n",
              "    }\n",
              "\n",
              "    .dataframe thead th {\n",
              "        text-align: right;\n",
              "    }\n",
              "</style>\n",
              "<table border=\"1\" class=\"dataframe\">\n",
              "  <thead>\n",
              "    <tr style=\"text-align: right;\">\n",
              "      <th></th>\n",
              "      <th>Gender</th>\n",
              "      <th>Married</th>\n",
              "      <th>Dependents</th>\n",
              "      <th>Education</th>\n",
              "      <th>Self_Employed</th>\n",
              "      <th>ApplicantIncome</th>\n",
              "      <th>CoapplicantIncome</th>\n",
              "      <th>LoanAmount</th>\n",
              "      <th>Loan_Amount_Term</th>\n",
              "      <th>Credit_History</th>\n",
              "      <th>Property_Area</th>\n",
              "      <th>Loan_Status</th>\n",
              "    </tr>\n",
              "  </thead>\n",
              "  <tbody>\n",
              "    <tr>\n",
              "      <th>0</th>\n",
              "      <td>Male</td>\n",
              "      <td>No</td>\n",
              "      <td>0</td>\n",
              "      <td>Graduate</td>\n",
              "      <td>No</td>\n",
              "      <td>5849</td>\n",
              "      <td>0.0</td>\n",
              "      <td>NaN</td>\n",
              "      <td>360.0</td>\n",
              "      <td>1.0</td>\n",
              "      <td>Urban</td>\n",
              "      <td>Y</td>\n",
              "    </tr>\n",
              "    <tr>\n",
              "      <th>1</th>\n",
              "      <td>Male</td>\n",
              "      <td>Yes</td>\n",
              "      <td>1</td>\n",
              "      <td>Graduate</td>\n",
              "      <td>No</td>\n",
              "      <td>4583</td>\n",
              "      <td>1508.0</td>\n",
              "      <td>128.0</td>\n",
              "      <td>360.0</td>\n",
              "      <td>1.0</td>\n",
              "      <td>Rural</td>\n",
              "      <td>Y</td>\n",
              "    </tr>\n",
              "    <tr>\n",
              "      <th>2</th>\n",
              "      <td>Male</td>\n",
              "      <td>Yes</td>\n",
              "      <td>0</td>\n",
              "      <td>Graduate</td>\n",
              "      <td>Yes</td>\n",
              "      <td>3000</td>\n",
              "      <td>0.0</td>\n",
              "      <td>66.0</td>\n",
              "      <td>360.0</td>\n",
              "      <td>1.0</td>\n",
              "      <td>Urban</td>\n",
              "      <td>Y</td>\n",
              "    </tr>\n",
              "    <tr>\n",
              "      <th>3</th>\n",
              "      <td>Male</td>\n",
              "      <td>Yes</td>\n",
              "      <td>0</td>\n",
              "      <td>Not Graduate</td>\n",
              "      <td>No</td>\n",
              "      <td>2583</td>\n",
              "      <td>2358.0</td>\n",
              "      <td>120.0</td>\n",
              "      <td>360.0</td>\n",
              "      <td>1.0</td>\n",
              "      <td>Urban</td>\n",
              "      <td>Y</td>\n",
              "    </tr>\n",
              "    <tr>\n",
              "      <th>4</th>\n",
              "      <td>Male</td>\n",
              "      <td>No</td>\n",
              "      <td>0</td>\n",
              "      <td>Graduate</td>\n",
              "      <td>No</td>\n",
              "      <td>6000</td>\n",
              "      <td>0.0</td>\n",
              "      <td>141.0</td>\n",
              "      <td>360.0</td>\n",
              "      <td>1.0</td>\n",
              "      <td>Urban</td>\n",
              "      <td>Y</td>\n",
              "    </tr>\n",
              "    <tr>\n",
              "      <th>5</th>\n",
              "      <td>Male</td>\n",
              "      <td>Yes</td>\n",
              "      <td>2</td>\n",
              "      <td>Graduate</td>\n",
              "      <td>Yes</td>\n",
              "      <td>5417</td>\n",
              "      <td>4196.0</td>\n",
              "      <td>267.0</td>\n",
              "      <td>360.0</td>\n",
              "      <td>1.0</td>\n",
              "      <td>Urban</td>\n",
              "      <td>Y</td>\n",
              "    </tr>\n",
              "    <tr>\n",
              "      <th>6</th>\n",
              "      <td>Male</td>\n",
              "      <td>Yes</td>\n",
              "      <td>0</td>\n",
              "      <td>Not Graduate</td>\n",
              "      <td>No</td>\n",
              "      <td>2333</td>\n",
              "      <td>1516.0</td>\n",
              "      <td>95.0</td>\n",
              "      <td>360.0</td>\n",
              "      <td>1.0</td>\n",
              "      <td>Urban</td>\n",
              "      <td>Y</td>\n",
              "    </tr>\n",
              "    <tr>\n",
              "      <th>7</th>\n",
              "      <td>Male</td>\n",
              "      <td>Yes</td>\n",
              "      <td>3+</td>\n",
              "      <td>Graduate</td>\n",
              "      <td>No</td>\n",
              "      <td>3036</td>\n",
              "      <td>2504.0</td>\n",
              "      <td>158.0</td>\n",
              "      <td>360.0</td>\n",
              "      <td>0.0</td>\n",
              "      <td>Semiurban</td>\n",
              "      <td>N</td>\n",
              "    </tr>\n",
              "    <tr>\n",
              "      <th>8</th>\n",
              "      <td>Male</td>\n",
              "      <td>Yes</td>\n",
              "      <td>2</td>\n",
              "      <td>Graduate</td>\n",
              "      <td>No</td>\n",
              "      <td>4006</td>\n",
              "      <td>1526.0</td>\n",
              "      <td>168.0</td>\n",
              "      <td>360.0</td>\n",
              "      <td>1.0</td>\n",
              "      <td>Urban</td>\n",
              "      <td>Y</td>\n",
              "    </tr>\n",
              "    <tr>\n",
              "      <th>9</th>\n",
              "      <td>Male</td>\n",
              "      <td>Yes</td>\n",
              "      <td>1</td>\n",
              "      <td>Graduate</td>\n",
              "      <td>No</td>\n",
              "      <td>12841</td>\n",
              "      <td>10968.0</td>\n",
              "      <td>349.0</td>\n",
              "      <td>360.0</td>\n",
              "      <td>1.0</td>\n",
              "      <td>Semiurban</td>\n",
              "      <td>Y</td>\n",
              "    </tr>\n",
              "  </tbody>\n",
              "</table>\n",
              "</div>"
            ],
            "text/plain": [
              "  Gender Married Dependents     Education Self_Employed  ApplicantIncome  CoapplicantIncome  LoanAmount  Loan_Amount_Term  Credit_History Property_Area Loan_Status\n",
              "0   Male      No          0      Graduate            No             5849                0.0         NaN             360.0             1.0         Urban           Y\n",
              "1   Male     Yes          1      Graduate            No             4583             1508.0       128.0             360.0             1.0         Rural           Y\n",
              "2   Male     Yes          0      Graduate           Yes             3000                0.0        66.0             360.0             1.0         Urban           Y\n",
              "3   Male     Yes          0  Not Graduate            No             2583             2358.0       120.0             360.0             1.0         Urban           Y\n",
              "4   Male      No          0      Graduate            No             6000                0.0       141.0             360.0             1.0         Urban           Y\n",
              "5   Male     Yes          2      Graduate           Yes             5417             4196.0       267.0             360.0             1.0         Urban           Y\n",
              "6   Male     Yes          0  Not Graduate            No             2333             1516.0        95.0             360.0             1.0         Urban           Y\n",
              "7   Male     Yes         3+      Graduate            No             3036             2504.0       158.0             360.0             0.0     Semiurban           N\n",
              "8   Male     Yes          2      Graduate            No             4006             1526.0       168.0             360.0             1.0         Urban           Y\n",
              "9   Male     Yes          1      Graduate            No            12841            10968.0       349.0             360.0             1.0     Semiurban           Y"
            ]
          },
          "metadata": {
            "tags": []
          },
          "execution_count": 4
        }
      ]
    },
    {
      "cell_type": "code",
      "metadata": {
        "id": "RnHWu_92PJaO",
        "colab_type": "code",
        "outputId": "1aad5b03-9a46-43fc-a833-489f6dc34376",
        "colab": {
          "base_uri": "https://localhost:8080/",
          "height": 411
        }
      },
      "source": [
        "df.tail(10) #10 dernières lignes"
      ],
      "execution_count": 0,
      "outputs": [
        {
          "output_type": "execute_result",
          "data": {
            "text/html": [
              "<div>\n",
              "<style scoped>\n",
              "    .dataframe tbody tr th:only-of-type {\n",
              "        vertical-align: middle;\n",
              "    }\n",
              "\n",
              "    .dataframe tbody tr th {\n",
              "        vertical-align: top;\n",
              "    }\n",
              "\n",
              "    .dataframe thead th {\n",
              "        text-align: right;\n",
              "    }\n",
              "</style>\n",
              "<table border=\"1\" class=\"dataframe\">\n",
              "  <thead>\n",
              "    <tr style=\"text-align: right;\">\n",
              "      <th></th>\n",
              "      <th>Gender</th>\n",
              "      <th>Married</th>\n",
              "      <th>Dependents</th>\n",
              "      <th>Education</th>\n",
              "      <th>Self_Employed</th>\n",
              "      <th>ApplicantIncome</th>\n",
              "      <th>CoapplicantIncome</th>\n",
              "      <th>LoanAmount</th>\n",
              "      <th>Loan_Amount_Term</th>\n",
              "      <th>Credit_History</th>\n",
              "      <th>Property_Area</th>\n",
              "      <th>Loan_Status</th>\n",
              "    </tr>\n",
              "  </thead>\n",
              "  <tbody>\n",
              "    <tr>\n",
              "      <th>604</th>\n",
              "      <td>Female</td>\n",
              "      <td>Yes</td>\n",
              "      <td>1</td>\n",
              "      <td>Graduate</td>\n",
              "      <td>No</td>\n",
              "      <td>12000</td>\n",
              "      <td>0.0</td>\n",
              "      <td>496.0</td>\n",
              "      <td>360.0</td>\n",
              "      <td>1.0</td>\n",
              "      <td>Semiurban</td>\n",
              "      <td>N</td>\n",
              "    </tr>\n",
              "    <tr>\n",
              "      <th>605</th>\n",
              "      <td>Male</td>\n",
              "      <td>Yes</td>\n",
              "      <td>0</td>\n",
              "      <td>Not Graduate</td>\n",
              "      <td>No</td>\n",
              "      <td>2400</td>\n",
              "      <td>3800.0</td>\n",
              "      <td>NaN</td>\n",
              "      <td>180.0</td>\n",
              "      <td>1.0</td>\n",
              "      <td>Urban</td>\n",
              "      <td>Y</td>\n",
              "    </tr>\n",
              "    <tr>\n",
              "      <th>606</th>\n",
              "      <td>Male</td>\n",
              "      <td>Yes</td>\n",
              "      <td>1</td>\n",
              "      <td>Graduate</td>\n",
              "      <td>No</td>\n",
              "      <td>3400</td>\n",
              "      <td>2500.0</td>\n",
              "      <td>173.0</td>\n",
              "      <td>360.0</td>\n",
              "      <td>1.0</td>\n",
              "      <td>Semiurban</td>\n",
              "      <td>Y</td>\n",
              "    </tr>\n",
              "    <tr>\n",
              "      <th>607</th>\n",
              "      <td>Male</td>\n",
              "      <td>Yes</td>\n",
              "      <td>2</td>\n",
              "      <td>Not Graduate</td>\n",
              "      <td>No</td>\n",
              "      <td>3987</td>\n",
              "      <td>1411.0</td>\n",
              "      <td>157.0</td>\n",
              "      <td>360.0</td>\n",
              "      <td>1.0</td>\n",
              "      <td>Rural</td>\n",
              "      <td>N</td>\n",
              "    </tr>\n",
              "    <tr>\n",
              "      <th>608</th>\n",
              "      <td>Male</td>\n",
              "      <td>Yes</td>\n",
              "      <td>0</td>\n",
              "      <td>Graduate</td>\n",
              "      <td>No</td>\n",
              "      <td>3232</td>\n",
              "      <td>1950.0</td>\n",
              "      <td>108.0</td>\n",
              "      <td>360.0</td>\n",
              "      <td>1.0</td>\n",
              "      <td>Rural</td>\n",
              "      <td>Y</td>\n",
              "    </tr>\n",
              "    <tr>\n",
              "      <th>609</th>\n",
              "      <td>Female</td>\n",
              "      <td>No</td>\n",
              "      <td>0</td>\n",
              "      <td>Graduate</td>\n",
              "      <td>No</td>\n",
              "      <td>2900</td>\n",
              "      <td>0.0</td>\n",
              "      <td>71.0</td>\n",
              "      <td>360.0</td>\n",
              "      <td>1.0</td>\n",
              "      <td>Rural</td>\n",
              "      <td>Y</td>\n",
              "    </tr>\n",
              "    <tr>\n",
              "      <th>610</th>\n",
              "      <td>Male</td>\n",
              "      <td>Yes</td>\n",
              "      <td>3+</td>\n",
              "      <td>Graduate</td>\n",
              "      <td>No</td>\n",
              "      <td>4106</td>\n",
              "      <td>0.0</td>\n",
              "      <td>40.0</td>\n",
              "      <td>180.0</td>\n",
              "      <td>1.0</td>\n",
              "      <td>Rural</td>\n",
              "      <td>Y</td>\n",
              "    </tr>\n",
              "    <tr>\n",
              "      <th>611</th>\n",
              "      <td>Male</td>\n",
              "      <td>Yes</td>\n",
              "      <td>1</td>\n",
              "      <td>Graduate</td>\n",
              "      <td>No</td>\n",
              "      <td>8072</td>\n",
              "      <td>240.0</td>\n",
              "      <td>253.0</td>\n",
              "      <td>360.0</td>\n",
              "      <td>1.0</td>\n",
              "      <td>Urban</td>\n",
              "      <td>Y</td>\n",
              "    </tr>\n",
              "    <tr>\n",
              "      <th>612</th>\n",
              "      <td>Male</td>\n",
              "      <td>Yes</td>\n",
              "      <td>2</td>\n",
              "      <td>Graduate</td>\n",
              "      <td>No</td>\n",
              "      <td>7583</td>\n",
              "      <td>0.0</td>\n",
              "      <td>187.0</td>\n",
              "      <td>360.0</td>\n",
              "      <td>1.0</td>\n",
              "      <td>Urban</td>\n",
              "      <td>Y</td>\n",
              "    </tr>\n",
              "    <tr>\n",
              "      <th>613</th>\n",
              "      <td>Female</td>\n",
              "      <td>No</td>\n",
              "      <td>0</td>\n",
              "      <td>Graduate</td>\n",
              "      <td>Yes</td>\n",
              "      <td>4583</td>\n",
              "      <td>0.0</td>\n",
              "      <td>133.0</td>\n",
              "      <td>360.0</td>\n",
              "      <td>0.0</td>\n",
              "      <td>Semiurban</td>\n",
              "      <td>N</td>\n",
              "    </tr>\n",
              "  </tbody>\n",
              "</table>\n",
              "</div>"
            ],
            "text/plain": [
              "     Gender Married Dependents     Education Self_Employed  ApplicantIncome  CoapplicantIncome  LoanAmount  Loan_Amount_Term  Credit_History Property_Area Loan_Status\n",
              "604  Female     Yes          1      Graduate            No            12000                0.0       496.0             360.0             1.0     Semiurban           N\n",
              "605    Male     Yes          0  Not Graduate            No             2400             3800.0         NaN             180.0             1.0         Urban           Y\n",
              "606    Male     Yes          1      Graduate            No             3400             2500.0       173.0             360.0             1.0     Semiurban           Y\n",
              "607    Male     Yes          2  Not Graduate            No             3987             1411.0       157.0             360.0             1.0         Rural           N\n",
              "608    Male     Yes          0      Graduate            No             3232             1950.0       108.0             360.0             1.0         Rural           Y\n",
              "609  Female      No          0      Graduate            No             2900                0.0        71.0             360.0             1.0         Rural           Y\n",
              "610    Male     Yes         3+      Graduate            No             4106                0.0        40.0             180.0             1.0         Rural           Y\n",
              "611    Male     Yes          1      Graduate            No             8072              240.0       253.0             360.0             1.0         Urban           Y\n",
              "612    Male     Yes          2      Graduate            No             7583                0.0       187.0             360.0             1.0         Urban           Y\n",
              "613  Female      No          0      Graduate           Yes             4583                0.0       133.0             360.0             0.0     Semiurban           N"
            ]
          },
          "metadata": {
            "tags": []
          },
          "execution_count": 5
        }
      ]
    },
    {
      "cell_type": "code",
      "metadata": {
        "id": "nof7f9c3PJaR",
        "colab_type": "code",
        "outputId": "cea3997f-ed28-495b-ac93-85743fa2b502",
        "colab": {
          "base_uri": "https://localhost:8080/",
          "height": 240
        }
      },
      "source": [
        "\"type des variables\"\n",
        "df.dtypes"
      ],
      "execution_count": 0,
      "outputs": [
        {
          "output_type": "execute_result",
          "data": {
            "text/plain": [
              "Gender                object\n",
              "Married               object\n",
              "Dependents            object\n",
              "Education             object\n",
              "Self_Employed         object\n",
              "ApplicantIncome        int64\n",
              "CoapplicantIncome    float64\n",
              "LoanAmount           float64\n",
              "Loan_Amount_Term     float64\n",
              "Credit_History       float64\n",
              "Property_Area         object\n",
              "Loan_Status           object\n",
              "dtype: object"
            ]
          },
          "metadata": {
            "tags": []
          },
          "execution_count": 6
        }
      ]
    },
    {
      "cell_type": "markdown",
      "metadata": {
        "id": "ye0Al3JZPJaU",
        "colab_type": "text"
      },
      "source": [
        "***A vous:*** Indiquez ($1\\heartsuit$) quelles sont les variables quantitatives et qualitatives? Donnez ($2\\diamondsuit$) leur signification quand vous pouvez?"
      ]
    },
    {
      "cell_type": "markdown",
      "metadata": {
        "id": "W0n7iab8PJaU",
        "colab_type": "text"
      },
      "source": [
        "### Observons les variables  qualitatives\n",
        "\n",
        "Comptons les occurences d'une variable qualitative avec `value_counts(dropna=False)`.  Un conseil:  toujours mettre dropna=False, ce qui permet de compter les Nan. Ça évite de les oublier."
      ]
    },
    {
      "cell_type": "code",
      "metadata": {
        "id": "y2Dp5An_PJaV",
        "colab_type": "code",
        "outputId": "b3684651-2556-4377-cddf-395c2df6cbec",
        "colab": {
          "base_uri": "https://localhost:8080/",
          "height": 103
        }
      },
      "source": [
        "\"je récupère la colonne. J'obtien une Series\"\n",
        "property_Area=df['Property_Area']\n",
        "\" value_counts() renvoie aussi une Serie.\"\n",
        "property_Area_count=property_Area.value_counts(dropna=False) \n",
        "print(type(property_Area_count))\n",
        "property_Area_count"
      ],
      "execution_count": 0,
      "outputs": [
        {
          "output_type": "stream",
          "text": [
            "<class 'pandas.core.series.Series'>\n"
          ],
          "name": "stdout"
        },
        {
          "output_type": "execute_result",
          "data": {
            "text/plain": [
              "Semiurban    233\n",
              "Urban        202\n",
              "Rural        179\n",
              "Name: Property_Area, dtype: int64"
            ]
          },
          "metadata": {
            "tags": []
          },
          "execution_count": 7
        }
      ]
    },
    {
      "cell_type": "code",
      "metadata": {
        "id": "_-AzXY83PJaX",
        "colab_type": "code",
        "outputId": "9d601e07-0c98-4c39-9858-1377783f1daa",
        "colab": {
          "base_uri": "https://localhost:8080/",
          "height": 34
        }
      },
      "source": [
        "\" je  récupère un élément de la Series\"\n",
        "property_Area_count['Semiurban']"
      ],
      "execution_count": 0,
      "outputs": [
        {
          "output_type": "execute_result",
          "data": {
            "text/plain": [
              "233"
            ]
          },
          "metadata": {
            "tags": []
          },
          "execution_count": 8
        }
      ]
    },
    {
      "cell_type": "code",
      "metadata": {
        "id": "3Ln9iODrPJab",
        "colab_type": "code",
        "outputId": "143b2a29-48fe-40b1-c69b-0a67392c4ad8",
        "colab": {
          "base_uri": "https://localhost:8080/",
          "height": 86
        }
      },
      "source": [
        "df['Gender'].value_counts(dropna=False) # -> 13 Nan ! (des trans-genre ?)"
      ],
      "execution_count": 0,
      "outputs": [
        {
          "output_type": "execute_result",
          "data": {
            "text/plain": [
              "Male      489\n",
              "Female    112\n",
              "NaN        13\n",
              "Name: Gender, dtype: int64"
            ]
          },
          "metadata": {
            "tags": []
          },
          "execution_count": 9
        }
      ]
    },
    {
      "cell_type": "code",
      "metadata": {
        "id": "KCxzFZEZPJad",
        "colab_type": "code",
        "outputId": "7266a772-130b-4825-f4df-7708d927a513",
        "colab": {
          "base_uri": "https://localhost:8080/",
          "height": 68
        }
      },
      "source": [
        "df['Loan_Status'].value_counts(dropna=False)"
      ],
      "execution_count": 0,
      "outputs": [
        {
          "output_type": "execute_result",
          "data": {
            "text/plain": [
              "Y    434\n",
              "N    180\n",
              "Name: Loan_Status, dtype: int64"
            ]
          },
          "metadata": {
            "tags": []
          },
          "execution_count": 10
        }
      ]
    },
    {
      "cell_type": "code",
      "metadata": {
        "id": "PIdCQnNrPJag",
        "colab_type": "code",
        "outputId": "9e026023-13f3-417d-a10b-71677987a708",
        "colab": {
          "base_uri": "https://localhost:8080/",
          "height": 309
        }
      },
      "source": [
        "df['Property_Area'].value_counts(dropna=False).plot(kind='bar');"
      ],
      "execution_count": 0,
      "outputs": [
        {
          "output_type": "display_data",
          "data": {
            "image/png": "[encoded data removed]",
            "text/plain": [
              "<Figure size 432x288 with 1 Axes>"
            ]
          },
          "metadata": {
            "tags": []
          }
        }
      ]
    },
    {
      "cell_type": "markdown",
      "metadata": {
        "id": "8Whc3_k8PJaj",
        "colab_type": "text"
      },
      "source": [
        "### Nettoyons les données\n",
        "\n",
        " Il faut le faire dès maintenant sinon on va galérer par la suite.\n",
        "On fait ici quelque chose de très basique, on enlève les nan variable par variable, en les remplaçant\n",
        "par une valeur par défaut (la plus vraisemblable). On pourrait faire mieux, en remplaçant les Nan par des moyennes."
      ]
    },
    {
      "cell_type": "code",
      "metadata": {
        "id": "mSvEwDSvPJaj",
        "colab_type": "code",
        "outputId": "9a333f17-8af1-4ce2-d4d0-13502a2e1b34",
        "colab": {
          "base_uri": "https://localhost:8080/",
          "height": 240
        }
      },
      "source": [
        "\"combien de données manquantes par variable (=par colonne)\"\n",
        "df.apply(lambda col: sum(col.isnull()), axis=0)"
      ],
      "execution_count": 0,
      "outputs": [
        {
          "output_type": "execute_result",
          "data": {
            "text/plain": [
              "Gender               13\n",
              "Married               3\n",
              "Dependents           15\n",
              "Education             0\n",
              "Self_Employed        32\n",
              "ApplicantIncome       0\n",
              "CoapplicantIncome     0\n",
              "LoanAmount           22\n",
              "Loan_Amount_Term     14\n",
              "Credit_History       50\n",
              "Property_Area         0\n",
              "Loan_Status           0\n",
              "dtype: int64"
            ]
          },
          "metadata": {
            "tags": []
          },
          "execution_count": 12
        }
      ]
    },
    {
      "cell_type": "markdown",
      "metadata": {
        "id": "Gz6lCjgKPJal",
        "colab_type": "text"
      },
      "source": [
        "On remplace les null par une valeur par défaut"
      ]
    },
    {
      "cell_type": "code",
      "metadata": {
        "id": "G34G2I5sPJal",
        "colab_type": "code",
        "colab": {}
      },
      "source": [
        "loanAmountMean=df['LoanAmount'].mean()\n",
        "df['LoanAmount'].fillna(loanAmountMean, inplace=True)\n",
        "\n",
        "Loan_Amount_TermMean=df['Loan_Amount_Term'].mean()\n",
        "df['Loan_Amount_Term'].fillna(Loan_Amount_TermMean, inplace=True)\n",
        "\n",
        "df['Gender'].fillna('Male', inplace=True)\n",
        "\n",
        "df['Dependents'].fillna(0, inplace=True)\n",
        "\n",
        "df['Self_Employed'].fillna(0, inplace=True)\n",
        "\n",
        "df['Married'].fillna(\"No\", inplace=True)\n",
        "\n",
        "df['Credit_History'].fillna(1, inplace=True)"
      ],
      "execution_count": 0,
      "outputs": []
    },
    {
      "cell_type": "code",
      "metadata": {
        "id": "a85mvZlLPJao",
        "colab_type": "code",
        "outputId": "d7b0d913-9546-43ff-b40c-89ce9f05470c",
        "colab": {
          "base_uri": "https://localhost:8080/",
          "height": 240
        }
      },
      "source": [
        "df.apply(lambda x: sum(x.isnull()), axis=0)"
      ],
      "execution_count": 0,
      "outputs": [
        {
          "output_type": "execute_result",
          "data": {
            "text/plain": [
              "Gender               0\n",
              "Married              0\n",
              "Dependents           0\n",
              "Education            0\n",
              "Self_Employed        0\n",
              "ApplicantIncome      0\n",
              "CoapplicantIncome    0\n",
              "LoanAmount           0\n",
              "Loan_Amount_Term     0\n",
              "Credit_History       0\n",
              "Property_Area        0\n",
              "Loan_Status          0\n",
              "dtype: int64"
            ]
          },
          "metadata": {
            "tags": []
          },
          "execution_count": 14
        }
      ]
    },
    {
      "cell_type": "markdown",
      "metadata": {
        "id": "a3T5CoM3PJaq",
        "colab_type": "text"
      },
      "source": [
        "On a maintenant une dataframe sans valeurs manquantes. On aurait pu aussi supprimer les lignes où il y a des Nan: `df.dropna(axis=0, inplace=True)` \n",
        "ou toutes les colonnes où il y a des Nan: `df.dropna(axis=1, inplace=True)` mais cela aurait été douloureux pour nos données.\n",
        "\n",
        "Mais le netoyage n'est pas fini.  On repère un GAG dans la variable 'Self_Employed' : il y a des 'Yes', des 'False' et des '0' (représentant sans doute des False). On arrange cela pour éviter des plantages plus loin. "
      ]
    },
    {
      "cell_type": "code",
      "metadata": {
        "id": "SxtMiYxnPJar",
        "colab_type": "code",
        "outputId": "403abdd4-8bee-40c8-e664-03230c0ce395",
        "colab": {
          "base_uri": "https://localhost:8080/",
          "height": 86
        }
      },
      "source": [
        "df['Self_Employed'].value_counts(dropna=False)"
      ],
      "execution_count": 0,
      "outputs": [
        {
          "output_type": "execute_result",
          "data": {
            "text/plain": [
              "No     500\n",
              "Yes     82\n",
              "0       32\n",
              "Name: Self_Employed, dtype: int64"
            ]
          },
          "metadata": {
            "tags": []
          },
          "execution_count": 15
        }
      ]
    },
    {
      "cell_type": "code",
      "metadata": {
        "id": "uyGRGXyzPJau",
        "colab_type": "code",
        "outputId": "26490769-c958-4398-ea75-d5ba7468925d",
        "colab": {
          "base_uri": "https://localhost:8080/",
          "height": 68
        }
      },
      "source": [
        "\"\"\" on arrange cela \"\"\"\n",
        "df['Self_Employed'] = df['Self_Employed'].map({'Yes': 'Yes', 'No': 'No', 0: 'No'})\n",
        "df['Self_Employed'].value_counts(dropna=False)"
      ],
      "execution_count": 0,
      "outputs": [
        {
          "output_type": "execute_result",
          "data": {
            "text/plain": [
              "No     532\n",
              "Yes     82\n",
              "Name: Self_Employed, dtype: int64"
            ]
          },
          "metadata": {
            "tags": []
          },
          "execution_count": 16
        }
      ]
    },
    {
      "cell_type": "markdown",
      "metadata": {
        "id": "jIKiwJ0GPJav",
        "colab_type": "text"
      },
      "source": [
        "### Observons les variables quantitatives\n",
        "\n",
        "ApplicantIncome = revenu du demandeur du prêt. La colonne `df['ApplicantIncome']` est une série de float. On peut la ploter mais cela n'a pas beaucoup de sens. Il vaut mieux en faire un histrogramme. "
      ]
    },
    {
      "cell_type": "code",
      "metadata": {
        "id": "LJ4LLI58PJaw",
        "colab_type": "code",
        "outputId": "1832d771-4d64-4d7a-c815-24f699817a3e",
        "colab": {
          "base_uri": "https://localhost:8080/",
          "height": 265
        }
      },
      "source": [
        "df['ApplicantIncome'].plot();"
      ],
      "execution_count": 0,
      "outputs": [
        {
          "output_type": "display_data",
          "data": {
            "image/png": "[encoded data removed]",
            "text/plain": [
              "<Figure size 432x288 with 1 Axes>"
            ]
          },
          "metadata": {
            "tags": []
          }
        }
      ]
    },
    {
      "cell_type": "code",
      "metadata": {
        "id": "s_h2jcXDPJa1",
        "colab_type": "code",
        "outputId": "ae332d9e-9f68-4391-e230-2665c883021f",
        "colab": {
          "base_uri": "https://localhost:8080/",
          "height": 265
        }
      },
      "source": [
        "df['ApplicantIncome'].hist(bins=50);"
      ],
      "execution_count": 0,
      "outputs": [
        {
          "output_type": "display_data",
          "data": {
            "image/png": "[encoded data removed]",
            "text/plain": [
              "<Figure size 432x288 with 1 Axes>"
            ]
          },
          "metadata": {
            "tags": []
          }
        }
      ]
    },
    {
      "cell_type": "code",
      "metadata": {
        "id": "vBYAKffXPJa4",
        "colab_type": "code",
        "outputId": "a30185b3-203c-4b89-bc71-7082d7b72bee",
        "colab": {
          "base_uri": "https://localhost:8080/",
          "height": 171
        }
      },
      "source": [
        "\"Une Série de float peut se décrire comme ceci\"\n",
        "df['ApplicantIncome'].describe()"
      ],
      "execution_count": 0,
      "outputs": [
        {
          "output_type": "execute_result",
          "data": {
            "text/plain": [
              "count      614.000000\n",
              "mean      5403.459283\n",
              "std       6109.041673\n",
              "min        150.000000\n",
              "25%       2877.500000\n",
              "50%       3812.500000\n",
              "75%       5795.000000\n",
              "max      81000.000000\n",
              "Name: ApplicantIncome, dtype: float64"
            ]
          },
          "metadata": {
            "tags": []
          },
          "execution_count": 19
        }
      ]
    },
    {
      "cell_type": "markdown",
      "metadata": {
        "id": "KRjdDQaPPJa6",
        "colab_type": "text"
      },
      "source": [
        "***A vous:*** Que signifie les pourcentages? ($1\\heartsuit$)"
      ]
    },
    {
      "cell_type": "code",
      "metadata": {
        "id": "kUVJJQ4xPJa7",
        "colab_type": "code",
        "outputId": "b4922280-c801-4bf3-e3e9-0bed00fb59bd",
        "colab": {
          "base_uri": "https://localhost:8080/",
          "height": 265
        }
      },
      "source": [
        "\"Une Série de float peut se décrire avec une boite à moustache\"\n",
        "df.boxplot(column='ApplicantIncome');"
      ],
      "execution_count": 0,
      "outputs": [
        {
          "output_type": "display_data",
          "data": {
            "image/png": "[encoded data removed]",
            "text/plain": [
              "<Figure size 432x288 with 1 Axes>"
            ]
          },
          "metadata": {
            "tags": []
          }
        }
      ]
    },
    {
      "cell_type": "code",
      "metadata": {
        "id": "GzqWEG05PJa8",
        "colab_type": "code",
        "outputId": "bf5843f5-d037-49c7-bd28-88c8fe64e334",
        "colab": {
          "base_uri": "https://localhost:8080/",
          "height": 203
        }
      },
      "source": [
        "\"\"\"correlation entre variables quantitatives\"\"\"\n",
        "df.corr()"
      ],
      "execution_count": 0,
      "outputs": [
        {
          "output_type": "execute_result",
          "data": {
            "text/html": [
              "<div>\n",
              "<style scoped>\n",
              "    .dataframe tbody tr th:only-of-type {\n",
              "        vertical-align: middle;\n",
              "    }\n",
              "\n",
              "    .dataframe tbody tr th {\n",
              "        vertical-align: top;\n",
              "    }\n",
              "\n",
              "    .dataframe thead th {\n",
              "        text-align: right;\n",
              "    }\n",
              "</style>\n",
              "<table border=\"1\" class=\"dataframe\">\n",
              "  <thead>\n",
              "    <tr style=\"text-align: right;\">\n",
              "      <th></th>\n",
              "      <th>ApplicantIncome</th>\n",
              "      <th>CoapplicantIncome</th>\n",
              "      <th>LoanAmount</th>\n",
              "      <th>Loan_Amount_Term</th>\n",
              "      <th>Credit_History</th>\n",
              "    </tr>\n",
              "  </thead>\n",
              "  <tbody>\n",
              "    <tr>\n",
              "      <th>ApplicantIncome</th>\n",
              "      <td>1.000000</td>\n",
              "      <td>-0.116605</td>\n",
              "      <td>0.565620</td>\n",
              "      <td>-0.045242</td>\n",
              "      <td>-0.018615</td>\n",
              "    </tr>\n",
              "    <tr>\n",
              "      <th>CoapplicantIncome</th>\n",
              "      <td>-0.116605</td>\n",
              "      <td>1.000000</td>\n",
              "      <td>0.187828</td>\n",
              "      <td>-0.059675</td>\n",
              "      <td>0.011134</td>\n",
              "    </tr>\n",
              "    <tr>\n",
              "      <th>LoanAmount</th>\n",
              "      <td>0.565620</td>\n",
              "      <td>0.187828</td>\n",
              "      <td>1.000000</td>\n",
              "      <td>0.038801</td>\n",
              "      <td>-0.001431</td>\n",
              "    </tr>\n",
              "    <tr>\n",
              "      <th>Loan_Amount_Term</th>\n",
              "      <td>-0.045242</td>\n",
              "      <td>-0.059675</td>\n",
              "      <td>0.038801</td>\n",
              "      <td>1.000000</td>\n",
              "      <td>0.000432</td>\n",
              "    </tr>\n",
              "    <tr>\n",
              "      <th>Credit_History</th>\n",
              "      <td>-0.018615</td>\n",
              "      <td>0.011134</td>\n",
              "      <td>-0.001431</td>\n",
              "      <td>0.000432</td>\n",
              "      <td>1.000000</td>\n",
              "    </tr>\n",
              "  </tbody>\n",
              "</table>\n",
              "</div>"
            ],
            "text/plain": [
              "                   ApplicantIncome  CoapplicantIncome  LoanAmount  Loan_Amount_Term  Credit_History\n",
              "ApplicantIncome           1.000000          -0.116605    0.565620         -0.045242       -0.018615\n",
              "CoapplicantIncome        -0.116605           1.000000    0.187828         -0.059675        0.011134\n",
              "LoanAmount                0.565620           0.187828    1.000000          0.038801       -0.001431\n",
              "Loan_Amount_Term         -0.045242          -0.059675    0.038801          1.000000        0.000432\n",
              "Credit_History           -0.018615           0.011134   -0.001431          0.000432        1.000000"
            ]
          },
          "metadata": {
            "tags": []
          },
          "execution_count": 21
        }
      ]
    },
    {
      "cell_type": "markdown",
      "metadata": {
        "id": "aFVbtjqMPJa-",
        "colab_type": "text"
      },
      "source": [
        "***A vous:*** les plus grosses corrélations s'expliquent-elles  naturellement? ($3\\diamondsuit$)\n",
        "\n",
        "Il faudrait aussi étudier les correlations en prenant en compte les variables qualitative !  (voir à la fin)"
      ]
    },
    {
      "cell_type": "code",
      "metadata": {
        "id": "OZtFpNBkPJa_",
        "colab_type": "code",
        "outputId": "87b77a4d-62bb-483b-f078-69db1c914b3e",
        "colab": {
          "base_uri": "https://localhost:8080/",
          "height": 279
        }
      },
      "source": [
        "\"\"\" affichons les valeurs d'un couple de variables quantitatives\"\"\"\n",
        "ax=df.plot(kind=\"scatter\",x=\"LoanAmount\",y=\"ApplicantIncome\")"
      ],
      "execution_count": 0,
      "outputs": [
        {
          "output_type": "display_data",
          "data": {
            "image/png": "[encoded data removed]",
            "text/plain": [
              "<Figure size 432x288 with 1 Axes>"
            ]
          },
          "metadata": {
            "tags": []
          }
        }
      ]
    },
    {
      "cell_type": "markdown",
      "metadata": {
        "id": "Od00vn9qPJbB",
        "colab_type": "text"
      },
      "source": [
        "## Faisons parler les variables\n"
      ]
    },
    {
      "cell_type": "markdown",
      "metadata": {
        "id": "sMOLCu3vIcSs",
        "colab_type": "text"
      },
      "source": [
        "### boites à moustaches regroupées"
      ]
    },
    {
      "cell_type": "code",
      "metadata": {
        "id": "vP_QxZbZPJbB",
        "colab_type": "code",
        "outputId": "2c58ddaf-afcb-47ef-a5ed-8bffad3c0534",
        "colab": {
          "base_uri": "https://localhost:8080/",
          "height": 421
        }
      },
      "source": [
        "\" boite à moustache croisée\"\n",
        "df.boxplot(column='ApplicantIncome',by=[\"Education\",\"Self_Employed\"], figsize=(10,6));"
      ],
      "execution_count": 0,
      "outputs": [
        {
          "output_type": "display_data",
          "data": {
            "image/png": "[encoded data removed]",
            "text/plain": [
              "<Figure size 720x432 with 1 Axes>"
            ]
          },
          "metadata": {
            "tags": []
          }
        }
      ]
    },
    {
      "cell_type": "markdown",
      "metadata": {
        "id": "6ctkmtuFPJbE",
        "colab_type": "text"
      },
      "source": [
        "### Effectifs croisés"
      ]
    },
    {
      "cell_type": "code",
      "metadata": {
        "id": "HX0CHEBzPJbE",
        "colab_type": "code",
        "outputId": "5bc9d2eb-528e-442d-fab6-5a66ef962285",
        "colab": {
          "base_uri": "https://localhost:8080/",
          "height": 141
        }
      },
      "source": [
        "crossNb = pd.crosstab(df['Gender'], df['Loan_Status'])\n",
        "crossNb    "
      ],
      "execution_count": 0,
      "outputs": [
        {
          "output_type": "execute_result",
          "data": {
            "text/html": [
              "<div>\n",
              "<style scoped>\n",
              "    .dataframe tbody tr th:only-of-type {\n",
              "        vertical-align: middle;\n",
              "    }\n",
              "\n",
              "    .dataframe tbody tr th {\n",
              "        vertical-align: top;\n",
              "    }\n",
              "\n",
              "    .dataframe thead th {\n",
              "        text-align: right;\n",
              "    }\n",
              "</style>\n",
              "<table border=\"1\" class=\"dataframe\">\n",
              "  <thead>\n",
              "    <tr style=\"text-align: right;\">\n",
              "      <th>Loan_Status</th>\n",
              "      <th>N</th>\n",
              "      <th>Y</th>\n",
              "    </tr>\n",
              "    <tr>\n",
              "      <th>Gender</th>\n",
              "      <th></th>\n",
              "      <th></th>\n",
              "    </tr>\n",
              "  </thead>\n",
              "  <tbody>\n",
              "    <tr>\n",
              "      <th>Female</th>\n",
              "      <td>48</td>\n",
              "      <td>64</td>\n",
              "    </tr>\n",
              "    <tr>\n",
              "      <th>Male</th>\n",
              "      <td>132</td>\n",
              "      <td>370</td>\n",
              "    </tr>\n",
              "  </tbody>\n",
              "</table>\n",
              "</div>"
            ],
            "text/plain": [
              "Loan_Status    N    Y\n",
              "Gender               \n",
              "Female        48   64\n",
              "Male         132  370"
            ]
          },
          "metadata": {
            "tags": []
          },
          "execution_count": 24
        }
      ]
    },
    {
      "cell_type": "code",
      "metadata": {
        "id": "xDk5cAIDPJbG",
        "colab_type": "code",
        "outputId": "168a1155-cef0-447f-d378-92a6d11badee",
        "colab": {
          "base_uri": "https://localhost:8080/",
          "height": 51
        }
      },
      "source": [
        "\"\"\"Remarque : dès que pandas renvoie un tableau, c'est une dataFrame\"\"\"\n",
        "print(type(crossNb))\n",
        "\"récupération d'une valeur\"\n",
        "crossNb.loc['Female','N']"
      ],
      "execution_count": 0,
      "outputs": [
        {
          "output_type": "stream",
          "text": [
            "<class 'pandas.core.frame.DataFrame'>\n"
          ],
          "name": "stdout"
        },
        {
          "output_type": "execute_result",
          "data": {
            "text/plain": [
              "48"
            ]
          },
          "metadata": {
            "tags": []
          },
          "execution_count": 25
        }
      ]
    },
    {
      "cell_type": "code",
      "metadata": {
        "id": "MvuI651kPJbJ",
        "colab_type": "code",
        "outputId": "b4a6b595-89d4-4dbb-b3a2-1894323a6919",
        "colab": {
          "base_uri": "https://localhost:8080/",
          "height": 306
        }
      },
      "source": [
        "crossNb.plot(kind='bar');"
      ],
      "execution_count": 0,
      "outputs": [
        {
          "output_type": "display_data",
          "data": {
            "image/png": "[encoded data removed]",
            "text/plain": [
              "<Figure size 432x288 with 1 Axes>"
            ]
          },
          "metadata": {
            "tags": []
          }
        }
      ]
    },
    {
      "cell_type": "markdown",
      "metadata": {
        "id": "XlGE06d2PJbM",
        "colab_type": "text"
      },
      "source": [
        "###  Pivot table\n",
        "\n",
        "Une `pivot_table` analyse l'effet de deux variables qualitatives sur une troisième quantitative.\n",
        " Cela correspond aux arbres dans les exo de probabilités conditionnelles. Par exemple on regarde :\n",
        "    \n",
        "```\n",
        "        CreditHistory     Gender     nb de prêt accepté\n",
        "\n",
        "                        --- H ---       a\n",
        "                        |\n",
        "        ---- Yes ----   |\n",
        "        |               --- F ---       b\n",
        " ------ |\n",
        "        |               --- H ---       c\n",
        "        ---- No ------  |\n",
        "                        |\n",
        "                        |\n",
        "                        --- F ---       d\n",
        "```\n",
        "\n"
      ]
    },
    {
      "cell_type": "code",
      "metadata": {
        "id": "i_9UWqVuPJbN",
        "colab_type": "code",
        "outputId": "5391ce13-4285-4873-d5d5-85f13bfc3c92",
        "colab": {
          "base_uri": "https://localhost:8080/",
          "height": 203
        }
      },
      "source": [
        "pivotTable = df.pivot_table(values='Loan_Status', index=['Credit_History','Gender'], aggfunc=lambda group: group.map({'Y': 1, 'N': 0}).sum())\n",
        "\"\"\"\n",
        "La fonction d'aggrégation \"aggfunc\" s'applique à un groupe déterminé par un Credit_History  et un Gender donnés.\n",
        "Ici les valeurs des éléments de ce groupe étant Y ou N, on les transforme d'abord en 1 ou 0 avant de les sommer.\n",
        "On peut remplacer sum par mean. Dans ce cas là, on divise par la taille du groupe. \"\"\"\n",
        "\n",
        "pivotTable"
      ],
      "execution_count": 0,
      "outputs": [
        {
          "output_type": "execute_result",
          "data": {
            "text/html": [
              "<div>\n",
              "<style scoped>\n",
              "    .dataframe tbody tr th:only-of-type {\n",
              "        vertical-align: middle;\n",
              "    }\n",
              "\n",
              "    .dataframe tbody tr th {\n",
              "        vertical-align: top;\n",
              "    }\n",
              "\n",
              "    .dataframe thead th {\n",
              "        text-align: right;\n",
              "    }\n",
              "</style>\n",
              "<table border=\"1\" class=\"dataframe\">\n",
              "  <thead>\n",
              "    <tr style=\"text-align: right;\">\n",
              "      <th></th>\n",
              "      <th></th>\n",
              "      <th>Loan_Status</th>\n",
              "    </tr>\n",
              "    <tr>\n",
              "      <th>Credit_History</th>\n",
              "      <th>Gender</th>\n",
              "      <th></th>\n",
              "    </tr>\n",
              "  </thead>\n",
              "  <tbody>\n",
              "    <tr>\n",
              "      <th rowspan=\"2\" valign=\"top\">0.0</th>\n",
              "      <th>Female</th>\n",
              "      <td>6</td>\n",
              "    </tr>\n",
              "    <tr>\n",
              "      <th>Male</th>\n",
              "      <td>37</td>\n",
              "    </tr>\n",
              "    <tr>\n",
              "      <th rowspan=\"2\" valign=\"top\">1.0</th>\n",
              "      <th>Female</th>\n",
              "      <td>58</td>\n",
              "    </tr>\n",
              "    <tr>\n",
              "      <th>Male</th>\n",
              "      <td>333</td>\n",
              "    </tr>\n",
              "  </tbody>\n",
              "</table>\n",
              "</div>"
            ],
            "text/plain": [
              "                       Loan_Status\n",
              "Credit_History Gender             \n",
              "0.0            Female            6\n",
              "               Male             37\n",
              "1.0            Female           58\n",
              "               Male            333"
            ]
          },
          "metadata": {
            "tags": []
          },
          "execution_count": 27
        }
      ]
    },
    {
      "cell_type": "code",
      "metadata": {
        "id": "ELhUTwNvPJbP",
        "colab_type": "code",
        "outputId": "d7c3c713-a2a7-4665-f8aa-1afdd95dfea7",
        "colab": {
          "base_uri": "https://localhost:8080/",
          "height": 371
        }
      },
      "source": [
        "print(\"récupération d'une valeur:\",pivotTable.loc[0.,\"Male\"])\n",
        "\n",
        "\"\"\" les Series numériques  a deux niveaux d'indices se plotent:\"\"\"\n",
        "ax=pivotTable.plot(kind='bar')\n",
        "ax.set_ylabel('nb of person getting loan');"
      ],
      "execution_count": 0,
      "outputs": [
        {
          "output_type": "stream",
          "text": [
            "récupération d'une valeur: Loan_Status    37\n",
            "Name: (0.0, Male), dtype: int64\n"
          ],
          "name": "stdout"
        },
        {
          "output_type": "display_data",
          "data": {
            "image/png": "[encoded data removed]",
            "text/plain": [
              "<Figure size 432x288 with 1 Axes>"
            ]
          },
          "metadata": {
            "tags": []
          }
        }
      ]
    },
    {
      "cell_type": "markdown",
      "metadata": {
        "id": "ID3_aUpHPJbR",
        "colab_type": "text"
      },
      "source": [
        "***A vous:*** ($6\\diamondsuit$)  Remarque-t-on des inégalités homme/femme en observant `ApplicantIncome`, `Education`,  `Self_Employed`?\n",
        "\n",
        "AIDE : vous pouvez faire des pivot_table et crosstab ou bien découper la dataFrame en deux: \n",
        "\n",
        "        df_male= df.loc[df.Gender=='Male']\n",
        "        df_female= df.loc[df.Gender == 'Female']\n",
        "        "
      ]
    },
    {
      "cell_type": "markdown",
      "metadata": {
        "id": "QVRE0ZXpMU2X",
        "colab_type": "text"
      },
      "source": [
        "## Modifions les variables"
      ]
    },
    {
      "cell_type": "markdown",
      "metadata": {
        "id": "z7gpBe1fPJbR",
        "colab_type": "text"
      },
      "source": [
        "### Ajout  de variables naturelles"
      ]
    },
    {
      "cell_type": "code",
      "metadata": {
        "id": "BNYuYB7jPJbS",
        "colab_type": "code",
        "outputId": "b45dae70-36ac-4416-eac1-f2bc085cf2fe",
        "colab": {
          "base_uri": "https://localhost:8080/",
          "height": 234
        }
      },
      "source": [
        "\"\"\" il y a des chances que la banque regarde le revenu global du foyer\"\"\"\n",
        "df['TotalIncome']=df['ApplicantIncome']+df['CoapplicantIncome']\n",
        "\"\"\" plus on gagne et plus on peut emprunter. La variable suivante devrait être utile\"\"\"\n",
        "df['LoanAmount/TotalIncome'] =  df['LoanAmount']/ df['TotalIncome']\n",
        "df.loc[:5,['ApplicantIncome','CoapplicantIncome','TotalIncome','LoanAmount/TotalIncome']]"
      ],
      "execution_count": 0,
      "outputs": [
        {
          "output_type": "execute_result",
          "data": {
            "text/html": [
              "<div>\n",
              "<style scoped>\n",
              "    .dataframe tbody tr th:only-of-type {\n",
              "        vertical-align: middle;\n",
              "    }\n",
              "\n",
              "    .dataframe tbody tr th {\n",
              "        vertical-align: top;\n",
              "    }\n",
              "\n",
              "    .dataframe thead th {\n",
              "        text-align: right;\n",
              "    }\n",
              "</style>\n",
              "<table border=\"1\" class=\"dataframe\">\n",
              "  <thead>\n",
              "    <tr style=\"text-align: right;\">\n",
              "      <th></th>\n",
              "      <th>ApplicantIncome</th>\n",
              "      <th>CoapplicantIncome</th>\n",
              "      <th>TotalIncome</th>\n",
              "      <th>LoanAmount/TotalIncome</th>\n",
              "    </tr>\n",
              "  </thead>\n",
              "  <tbody>\n",
              "    <tr>\n",
              "      <th>0</th>\n",
              "      <td>5849</td>\n",
              "      <td>0.0</td>\n",
              "      <td>5849.0</td>\n",
              "      <td>0.025032</td>\n",
              "    </tr>\n",
              "    <tr>\n",
              "      <th>1</th>\n",
              "      <td>4583</td>\n",
              "      <td>1508.0</td>\n",
              "      <td>6091.0</td>\n",
              "      <td>0.021015</td>\n",
              "    </tr>\n",
              "    <tr>\n",
              "      <th>2</th>\n",
              "      <td>3000</td>\n",
              "      <td>0.0</td>\n",
              "      <td>3000.0</td>\n",
              "      <td>0.022000</td>\n",
              "    </tr>\n",
              "    <tr>\n",
              "      <th>3</th>\n",
              "      <td>2583</td>\n",
              "      <td>2358.0</td>\n",
              "      <td>4941.0</td>\n",
              "      <td>0.024287</td>\n",
              "    </tr>\n",
              "    <tr>\n",
              "      <th>4</th>\n",
              "      <td>6000</td>\n",
              "      <td>0.0</td>\n",
              "      <td>6000.0</td>\n",
              "      <td>0.023500</td>\n",
              "    </tr>\n",
              "    <tr>\n",
              "      <th>5</th>\n",
              "      <td>5417</td>\n",
              "      <td>4196.0</td>\n",
              "      <td>9613.0</td>\n",
              "      <td>0.027775</td>\n",
              "    </tr>\n",
              "  </tbody>\n",
              "</table>\n",
              "</div>"
            ],
            "text/plain": [
              "   ApplicantIncome  CoapplicantIncome  TotalIncome  LoanAmount/TotalIncome\n",
              "0             5849                0.0       5849.0                0.025032\n",
              "1             4583             1508.0       6091.0                0.021015\n",
              "2             3000                0.0       3000.0                0.022000\n",
              "3             2583             2358.0       4941.0                0.024287\n",
              "4             6000                0.0       6000.0                0.023500\n",
              "5             5417             4196.0       9613.0                0.027775"
            ]
          },
          "metadata": {
            "tags": []
          },
          "execution_count": 29
        }
      ]
    },
    {
      "cell_type": "code",
      "metadata": {
        "id": "AOZdwhEgPJbV",
        "colab_type": "code",
        "outputId": "b0ae8ebe-a98a-4e32-899f-3973fd9642f3",
        "colab": {
          "base_uri": "https://localhost:8080/",
          "height": 171
        }
      },
      "source": [
        "df['LoanAmount/TotalIncome'].describe()"
      ],
      "execution_count": 0,
      "outputs": [
        {
          "output_type": "execute_result",
          "data": {
            "text/plain": [
              "count    614.000000\n",
              "mean       0.024017\n",
              "std        0.008947\n",
              "min        0.002523\n",
              "25%        0.019362\n",
              "50%        0.024174\n",
              "75%        0.028345\n",
              "max        0.082712\n",
              "Name: LoanAmount/TotalIncome, dtype: float64"
            ]
          },
          "metadata": {
            "tags": []
          },
          "execution_count": 30
        }
      ]
    },
    {
      "cell_type": "markdown",
      "metadata": {
        "id": "vnWSGMy6PJbX",
        "colab_type": "text"
      },
      "source": [
        "Sur la description, on remarque que \n",
        "\n",
        "* `std` (=standard deviation=écart type) de `LoanAmount/TotalIncome` est petite (au vu de sa moyenne). Donc notre nouvelle variable est peut dispersée (assez proche d'une constante).\n",
        "* on n'a pas `max=infinity`, donc on n'avait pas de `df['TotalIncome']=0` dans les données (sinon il aurait fallu mieux nettoyer)"
      ]
    },
    {
      "cell_type": "code",
      "metadata": {
        "id": "gkttRY7IPJbY",
        "colab_type": "code",
        "outputId": "84dce176-1f44-47f7-d208-ddc5ab912c71",
        "colab": {
          "base_uri": "https://localhost:8080/",
          "height": 68
        }
      },
      "source": [
        "\"\"\"ajoutons une variable d'interaction\"\"\"\n",
        "df['Graduate&Self_Employed']=df['Education'].map({'Graduate':1.,'Not Graduate':0.}) * df['Self_Employed'].map({'Yes':1.,'No':0.})\n",
        "df['Graduate&Self_Employed'].value_counts(dropna=False)"
      ],
      "execution_count": 0,
      "outputs": [
        {
          "output_type": "execute_result",
          "data": {
            "text/plain": [
              "0.0    549\n",
              "1.0     65\n",
              "Name: Graduate&Self_Employed, dtype: int64"
            ]
          },
          "metadata": {
            "tags": []
          },
          "execution_count": 31
        }
      ]
    },
    {
      "cell_type": "markdown",
      "metadata": {
        "id": "bfLfr5SbPJba",
        "colab_type": "text"
      },
      "source": [
        "Nous avons vu que les incomes était très divers, avec de très grandes valeurs. Une façons de traiter cela est simplement de passer les revenu au log. C'est un peu bizarre à première vue (on ne gagne pas des log de dollar), mais c'est en fait très proche de la perception qu'on les humains de la richesse. Remplissez ($2\\heartsuit$) le tableau suivant puis observez si votre l'échelle est plutôt linéaire ou logarithmique?\n",
        "$$\n",
        "\\begin{array}{cccc}\n",
        "\\text{revenu} & \\to & \\text{perception} \\\\\n",
        "300 \\$ & \\to & \\text{ pauvre} \\\\\n",
        " \\dots  \\$ & \\to & \\text{classe moyenne} - \\\\\n",
        "\\dots  \\$ & \\to & \\text{classe moyenne} + \\\\\n",
        "\\dots  \\$ & \\to & \\text{riche}  \\\\\n",
        "\\dots  \\$ & \\to & \\text{très riche} \n",
        "\\end{array}\n",
        "$$\n",
        "\n"
      ]
    },
    {
      "cell_type": "markdown",
      "metadata": {
        "id": "cs9saHkFMisT",
        "colab_type": "text"
      },
      "source": [
        "### Passage au log"
      ]
    },
    {
      "cell_type": "code",
      "metadata": {
        "id": "_eI6PeSjPJba",
        "colab_type": "code",
        "outputId": "3008587d-6ee2-4406-bc85-a7cb63528958",
        "colab": {
          "base_uri": "https://localhost:8080/",
          "height": 545
        }
      },
      "source": [
        "\"\"\" le passage au log écrase les  valeurs extrême. L'histogramme a plus une tête de gaussienne\"\"\"\n",
        "df['TotalIncome_log'] = np.log(df['TotalIncome'])\n",
        "plt.figure(1)\n",
        "plt.title(\"TotalIncome\")\n",
        "df['TotalIncome'].hist(bins=20)\n",
        "plt.figure(2)\n",
        "plt.title(\"TotalIncome_log\")\n",
        "df['TotalIncome_log'].hist(bins=20);"
      ],
      "execution_count": 0,
      "outputs": [
        {
          "output_type": "display_data",
          "data": {
            "image/png": "[encoded data removed]",
            "text/plain": [
              "<Figure size 432x288 with 1 Axes>"
            ]
          },
          "metadata": {
            "tags": []
          }
        },
        {
          "output_type": "display_data",
          "data": {
            "image/png": "[encoded data removed]",
            "text/plain": [
              "<Figure size 432x288 with 1 Axes>"
            ]
          },
          "metadata": {
            "tags": []
          }
        }
      ]
    },
    {
      "cell_type": "markdown",
      "metadata": {
        "id": "atSDyEnNPJbd",
        "colab_type": "text"
      },
      "source": [
        "Bonne nouvelle: le passage au log permet à l'histogramme de ressempler à une gaussienne. "
      ]
    },
    {
      "cell_type": "markdown",
      "metadata": {
        "id": "1_DYcVh6PJbd",
        "colab_type": "text"
      },
      "source": [
        "### Quantization d'une variable quantitative"
      ]
    },
    {
      "cell_type": "markdown",
      "metadata": {
        "id": "smrRBhTTPJbh",
        "colab_type": "text"
      },
      "source": [
        "Parfois on a envie de transformer une variable quantitatives en variable qualitative\n",
        "Cette pratique  parait étrange. On y perd forcément de l'information.\n",
        " Pourtant c'est très utilisé car elle facilite l'interprétation des variables et des coefficients de regression qui seront calculer par la suite."
      ]
    },
    {
      "cell_type": "code",
      "metadata": {
        "id": "XU9lYlFpPJbh",
        "colab_type": "code",
        "outputId": "b5e2a840-a4c6-4548-e214-3154ea540b3d",
        "colab": {
          "base_uri": "https://localhost:8080/",
          "height": 372
        }
      },
      "source": [
        "\"\"\"il faut mieux séparer par quantile. ici : les 33% les plus pauvre/moyen/riche,\"\"\"\n",
        "df[\"ApplicantIncomeQ\"] = pd.qcut(df.ApplicantIncome, 3, labels=[\"pauvre\", \"moyen\",\"riche\"])\n",
        "print(df[\"ApplicantIncomeQ\"].value_counts(dropna=False))\n",
        "\"\"\"regardons le revenu moyen par groupe\"\"\"\n",
        "pivotTable = df.pivot_table(values='ApplicantIncome', index=['ApplicantIncomeQ'], aggfunc=lambda group: group.mean())\n",
        "pivotTable.plot(kind='bar');"
      ],
      "execution_count": 0,
      "outputs": [
        {
          "output_type": "stream",
          "text": [
            "pauvre    207\n",
            "riche     205\n",
            "moyen     202\n",
            "Name: ApplicantIncomeQ, dtype: int64\n"
          ],
          "name": "stdout"
        },
        {
          "output_type": "display_data",
          "data": {
            "image/png": "[encoded data removed]",
            "text/plain": [
              "<Figure size 432x288 with 1 Axes>"
            ]
          },
          "metadata": {
            "tags": []
          }
        }
      ]
    },
    {
      "cell_type": "markdown",
      "metadata": {
        "id": "6lHIaKWQPJbk",
        "colab_type": "text"
      },
      "source": [
        "## Numérisation finale\n",
        "\n",
        "\n",
        "A la fin, nos modèles ne veulent que des variables numériques,\n",
        "il faut donc  transformer toutes les variables qualitatives en variable numérique.\n",
        "\n"
      ]
    },
    {
      "cell_type": "markdown",
      "metadata": {
        "id": "WX4S5B-vNDGC",
        "colab_type": "text"
      },
      "source": [
        "### Variables a deux modalités"
      ]
    },
    {
      "cell_type": "code",
      "metadata": {
        "id": "7-YvlinGPJbk",
        "colab_type": "code",
        "outputId": "440689fe-2753-40cf-f5d6-25651e24e196",
        "colab": {
          "base_uri": "https://localhost:8080/",
          "height": 223
        }
      },
      "source": [
        "\"\"\" Nous préférons les float 1. et 0. aux entiers qui peuvent créer des problèmes\"\"\"\n",
        "df['Gender'] = df['Gender'].map({'Female': 1., 'Male': 0.})\n",
        "df['Married'] = df['Married'].map({'Yes': 1., 'No': 0.})\n",
        "df['Education']=df['Education'].map({'Graduate':1.,'Not Graduate':0.})\n",
        "\n",
        "\n",
        "\"\"\" il y avait un GAG dans 'Self_Employed' des données manquantes avaient été mise à 0.\n",
        "On avait raté cela dans le data munging, et les deux lignes suivantes créent des Nan !!! -> plantage de nos algos par la suite \"\"\"\n",
        "df['Self_Employed'] = df['Self_Employed'].map({'Yes': 1., 'No': 0.})\n",
        "\n",
        "df['Loan_Status'] = df['Loan_Status'].map({'Y': 1., 'N': 0.})\n",
        "\n",
        "df.head()"
      ],
      "execution_count": 0,
      "outputs": [
        {
          "output_type": "execute_result",
          "data": {
            "text/html": [
              "<div>\n",
              "<style scoped>\n",
              "    .dataframe tbody tr th:only-of-type {\n",
              "        vertical-align: middle;\n",
              "    }\n",
              "\n",
              "    .dataframe tbody tr th {\n",
              "        vertical-align: top;\n",
              "    }\n",
              "\n",
              "    .dataframe thead th {\n",
              "        text-align: right;\n",
              "    }\n",
              "</style>\n",
              "<table border=\"1\" class=\"dataframe\">\n",
              "  <thead>\n",
              "    <tr style=\"text-align: right;\">\n",
              "      <th></th>\n",
              "      <th>Gender</th>\n",
              "      <th>Married</th>\n",
              "      <th>Dependents</th>\n",
              "      <th>Education</th>\n",
              "      <th>Self_Employed</th>\n",
              "      <th>ApplicantIncome</th>\n",
              "      <th>CoapplicantIncome</th>\n",
              "      <th>LoanAmount</th>\n",
              "      <th>Loan_Amount_Term</th>\n",
              "      <th>Credit_History</th>\n",
              "      <th>Property_Area</th>\n",
              "      <th>Loan_Status</th>\n",
              "      <th>TotalIncome</th>\n",
              "      <th>LoanAmount/TotalIncome</th>\n",
              "      <th>Graduate&amp;Self_Employed</th>\n",
              "      <th>TotalIncome_log</th>\n",
              "      <th>ApplicantIncomeQ</th>\n",
              "    </tr>\n",
              "  </thead>\n",
              "  <tbody>\n",
              "    <tr>\n",
              "      <th>0</th>\n",
              "      <td>0.0</td>\n",
              "      <td>0.0</td>\n",
              "      <td>0</td>\n",
              "      <td>1.0</td>\n",
              "      <td>0.0</td>\n",
              "      <td>5849</td>\n",
              "      <td>0.0</td>\n",
              "      <td>146.412162</td>\n",
              "      <td>360.0</td>\n",
              "      <td>1.0</td>\n",
              "      <td>Urban</td>\n",
              "      <td>1.0</td>\n",
              "      <td>5849.0</td>\n",
              "      <td>0.025032</td>\n",
              "      <td>0.0</td>\n",
              "      <td>8.674026</td>\n",
              "      <td>riche</td>\n",
              "    </tr>\n",
              "    <tr>\n",
              "      <th>1</th>\n",
              "      <td>0.0</td>\n",
              "      <td>1.0</td>\n",
              "      <td>1</td>\n",
              "      <td>1.0</td>\n",
              "      <td>0.0</td>\n",
              "      <td>4583</td>\n",
              "      <td>1508.0</td>\n",
              "      <td>128.000000</td>\n",
              "      <td>360.0</td>\n",
              "      <td>1.0</td>\n",
              "      <td>Rural</td>\n",
              "      <td>1.0</td>\n",
              "      <td>6091.0</td>\n",
              "      <td>0.021015</td>\n",
              "      <td>0.0</td>\n",
              "      <td>8.714568</td>\n",
              "      <td>moyen</td>\n",
              "    </tr>\n",
              "    <tr>\n",
              "      <th>2</th>\n",
              "      <td>0.0</td>\n",
              "      <td>1.0</td>\n",
              "      <td>0</td>\n",
              "      <td>1.0</td>\n",
              "      <td>1.0</td>\n",
              "      <td>3000</td>\n",
              "      <td>0.0</td>\n",
              "      <td>66.000000</td>\n",
              "      <td>360.0</td>\n",
              "      <td>1.0</td>\n",
              "      <td>Urban</td>\n",
              "      <td>1.0</td>\n",
              "      <td>3000.0</td>\n",
              "      <td>0.022000</td>\n",
              "      <td>1.0</td>\n",
              "      <td>8.006368</td>\n",
              "      <td>pauvre</td>\n",
              "    </tr>\n",
              "    <tr>\n",
              "      <th>3</th>\n",
              "      <td>0.0</td>\n",
              "      <td>1.0</td>\n",
              "      <td>0</td>\n",
              "      <td>0.0</td>\n",
              "      <td>0.0</td>\n",
              "      <td>2583</td>\n",
              "      <td>2358.0</td>\n",
              "      <td>120.000000</td>\n",
              "      <td>360.0</td>\n",
              "      <td>1.0</td>\n",
              "      <td>Urban</td>\n",
              "      <td>1.0</td>\n",
              "      <td>4941.0</td>\n",
              "      <td>0.024287</td>\n",
              "      <td>0.0</td>\n",
              "      <td>8.505323</td>\n",
              "      <td>pauvre</td>\n",
              "    </tr>\n",
              "    <tr>\n",
              "      <th>4</th>\n",
              "      <td>0.0</td>\n",
              "      <td>0.0</td>\n",
              "      <td>0</td>\n",
              "      <td>1.0</td>\n",
              "      <td>0.0</td>\n",
              "      <td>6000</td>\n",
              "      <td>0.0</td>\n",
              "      <td>141.000000</td>\n",
              "      <td>360.0</td>\n",
              "      <td>1.0</td>\n",
              "      <td>Urban</td>\n",
              "      <td>1.0</td>\n",
              "      <td>6000.0</td>\n",
              "      <td>0.023500</td>\n",
              "      <td>0.0</td>\n",
              "      <td>8.699515</td>\n",
              "      <td>riche</td>\n",
              "    </tr>\n",
              "  </tbody>\n",
              "</table>\n",
              "</div>"
            ],
            "text/plain": [
              "   Gender  Married Dependents  Education  Self_Employed  ApplicantIncome  CoapplicantIncome  LoanAmount  Loan_Amount_Term  Credit_History Property_Area  Loan_Status  TotalIncome  LoanAmount/TotalIncome  Graduate&Self_Employed  TotalIncome_log ApplicantIncomeQ\n",
              "0     0.0      0.0          0        1.0            0.0             5849                0.0  146.412162             360.0             1.0         Urban          1.0       5849.0                0.025032                     0.0         8.674026            riche\n",
              "1     0.0      1.0          1        1.0            0.0             4583             1508.0  128.000000             360.0             1.0         Rural          1.0       6091.0                0.021015                     0.0         8.714568            moyen\n",
              "2     0.0      1.0          0        1.0            1.0             3000                0.0   66.000000             360.0             1.0         Urban          1.0       3000.0                0.022000                     1.0         8.006368           pauvre\n",
              "3     0.0      1.0          0        0.0            0.0             2583             2358.0  120.000000             360.0             1.0         Urban          1.0       4941.0                0.024287                     0.0         8.505323           pauvre\n",
              "4     0.0      0.0          0        1.0            0.0             6000                0.0  141.000000             360.0             1.0         Urban          1.0       6000.0                0.023500                     0.0         8.699515            riche"
            ]
          },
          "metadata": {
            "tags": []
          },
          "execution_count": 34
        }
      ]
    },
    {
      "cell_type": "code",
      "metadata": {
        "id": "iUbwTo69PJbo",
        "colab_type": "code",
        "outputId": "5f76bc7e-1b41-4243-c4e8-9b40557e27a4",
        "colab": {
          "base_uri": "https://localhost:8080/",
          "height": 326
        }
      },
      "source": [
        "\"vérifions que l'on a pas introduit de nan\"\n",
        "df.apply(lambda line: sum(line.isnull()), axis=0)"
      ],
      "execution_count": 0,
      "outputs": [
        {
          "output_type": "execute_result",
          "data": {
            "text/plain": [
              "Gender                    0\n",
              "Married                   0\n",
              "Dependents                0\n",
              "Education                 0\n",
              "Self_Employed             0\n",
              "ApplicantIncome           0\n",
              "CoapplicantIncome         0\n",
              "LoanAmount                0\n",
              "Loan_Amount_Term          0\n",
              "Credit_History            0\n",
              "Property_Area             0\n",
              "Loan_Status               0\n",
              "TotalIncome               0\n",
              "LoanAmount/TotalIncome    0\n",
              "Graduate&Self_Employed    0\n",
              "TotalIncome_log           0\n",
              "ApplicantIncomeQ          0\n",
              "dtype: int64"
            ]
          },
          "metadata": {
            "tags": []
          },
          "execution_count": 35
        }
      ]
    },
    {
      "cell_type": "markdown",
      "metadata": {
        "id": "Ghe1R3DzPJbp",
        "colab_type": "text"
      },
      "source": [
        "### Variables a trois modalités et plus\n",
        "\n",
        "Mais comment fait-on avec les variables à plus de 2 modalités ?\n",
        "Imaginez par exemple une variable \"département\". On serait tenté de la coder par une variable numérique \"numéro de département\".\n",
        "Mais imaginiez ensuite un modèle logistique ou de regression : le numéro de département serait multiplié par un poids w, et le\n",
        "résultat devrait être significatif ? C'est absurde !\n",
        "\n",
        "La solution c'est de transformer chacune des modalités en une variables valant 0 ou 1 (en anglais : dummy variable).\n",
        "Effectuons cela pour la variable Property_Area"
      ]
    },
    {
      "cell_type": "code",
      "metadata": {
        "id": "o_rFqNyqPJbq",
        "colab_type": "code",
        "outputId": "b2a51d53-f5c1-43a7-b0aa-0e2f8fc42289",
        "colab": {
          "base_uri": "https://localhost:8080/",
          "height": 203
        }
      },
      "source": [
        "dummies=pd.get_dummies(df[\"Property_Area\"], prefix=\"PA\")\n",
        "dummies.head()"
      ],
      "execution_count": 0,
      "outputs": [
        {
          "output_type": "execute_result",
          "data": {
            "text/html": [
              "<div>\n",
              "<style scoped>\n",
              "    .dataframe tbody tr th:only-of-type {\n",
              "        vertical-align: middle;\n",
              "    }\n",
              "\n",
              "    .dataframe tbody tr th {\n",
              "        vertical-align: top;\n",
              "    }\n",
              "\n",
              "    .dataframe thead th {\n",
              "        text-align: right;\n",
              "    }\n",
              "</style>\n",
              "<table border=\"1\" class=\"dataframe\">\n",
              "  <thead>\n",
              "    <tr style=\"text-align: right;\">\n",
              "      <th></th>\n",
              "      <th>PA_Rural</th>\n",
              "      <th>PA_Semiurban</th>\n",
              "      <th>PA_Urban</th>\n",
              "    </tr>\n",
              "  </thead>\n",
              "  <tbody>\n",
              "    <tr>\n",
              "      <th>0</th>\n",
              "      <td>0</td>\n",
              "      <td>0</td>\n",
              "      <td>1</td>\n",
              "    </tr>\n",
              "    <tr>\n",
              "      <th>1</th>\n",
              "      <td>1</td>\n",
              "      <td>0</td>\n",
              "      <td>0</td>\n",
              "    </tr>\n",
              "    <tr>\n",
              "      <th>2</th>\n",
              "      <td>0</td>\n",
              "      <td>0</td>\n",
              "      <td>1</td>\n",
              "    </tr>\n",
              "    <tr>\n",
              "      <th>3</th>\n",
              "      <td>0</td>\n",
              "      <td>0</td>\n",
              "      <td>1</td>\n",
              "    </tr>\n",
              "    <tr>\n",
              "      <th>4</th>\n",
              "      <td>0</td>\n",
              "      <td>0</td>\n",
              "      <td>1</td>\n",
              "    </tr>\n",
              "  </tbody>\n",
              "</table>\n",
              "</div>"
            ],
            "text/plain": [
              "   PA_Rural  PA_Semiurban  PA_Urban\n",
              "0         0             0         1\n",
              "1         1             0         0\n",
              "2         0             0         1\n",
              "3         0             0         1\n",
              "4         0             0         1"
            ]
          },
          "metadata": {
            "tags": []
          },
          "execution_count": 36
        }
      ]
    },
    {
      "cell_type": "code",
      "metadata": {
        "id": "V_vkGDU_PJbs",
        "colab_type": "code",
        "colab": {}
      },
      "source": [
        "\"\"\" on garde deux modalités \"\"\"\n",
        "df[\"PA_Rural\"]=dummies[\"PA_Rural\"]\n",
        "df[\"PA_Urban\"]=dummies[\"PA_Urban\"]    "
      ],
      "execution_count": 0,
      "outputs": []
    },
    {
      "cell_type": "markdown",
      "metadata": {
        "id": "SFlu4S7DPJbv",
        "colab_type": "text"
      },
      "source": [
        "On supprime très souvent une dummy variables (en générale celle qui a le plus de 1).  En effet la\n",
        "      somme des dummies faisant 1, il y en a une de redondance linéaire, et cela rend la matrice des inputs $X$ non inversible. C'est très embêtant pour faire du modèle linéaire ou du GLM, et plus généralement une variable de trop, cela parasite l'interprétation des résultats.  Cependant, lorsqu'on utilise des boite noire comme les réseaux de neurones, ce n'est pas si grave d'avoir de la redondance dans les inputs. "
      ]
    },
    {
      "cell_type": "markdown",
      "metadata": {
        "id": "Sum2p-ORPJbw",
        "colab_type": "text"
      },
      "source": [
        "pour finir traitons la variable Dependents. 3 choix:\n",
        "\n",
        "*  coder toutes ces modalité avec des dummies variables\n",
        "*  garder uniquement avec/sans enfants\n",
        "*  la coder comme une variable numérique. Pour la classe 3+ nous affectons 3.2, ce qui correspond à la moyenne du nombre d'enfant sachant qu'on en a plus de trois (selon l'institut de sondage \"pifometre\").\n",
        "\n",
        "Nous gardons la troisième possibilité"
      ]
    },
    {
      "cell_type": "code",
      "metadata": {
        "id": "rOLMyu5zPJbw",
        "colab_type": "code",
        "outputId": "ae65653e-fe94-4c62-d309-4d04d88282a3",
        "colab": {
          "base_uri": "https://localhost:8080/",
          "height": 120
        }
      },
      "source": [
        "\"\"\"encore un gag dans les data, le zéro est parfois encodé comme un string, et parfois comme un int \"\"\"\n",
        "Dependents_valCounts=df[\"Dependents\"].value_counts(dropna=False)\n",
        "Dependents_valCounts"
      ],
      "execution_count": 0,
      "outputs": [
        {
          "output_type": "execute_result",
          "data": {
            "text/plain": [
              "0     345\n",
              "1     102\n",
              "2     101\n",
              "3+     51\n",
              "0      15\n",
              "Name: Dependents, dtype: int64"
            ]
          },
          "metadata": {
            "tags": []
          },
          "execution_count": 38
        }
      ]
    },
    {
      "cell_type": "code",
      "metadata": {
        "id": "kH51x6DQPJby",
        "colab_type": "code",
        "outputId": "e629609b-60ba-442b-e727-44291e2c531d",
        "colab": {
          "base_uri": "https://localhost:8080/",
          "height": 34
        }
      },
      "source": [
        "Dependents_valCounts.index"
      ],
      "execution_count": 0,
      "outputs": [
        {
          "output_type": "execute_result",
          "data": {
            "text/plain": [
              "Index(['0', '1', '2', '3+', 0], dtype='object')"
            ]
          },
          "metadata": {
            "tags": []
          },
          "execution_count": 39
        }
      ]
    },
    {
      "cell_type": "code",
      "metadata": {
        "id": "Du1fIZ_zPJb2",
        "colab_type": "code",
        "outputId": "de0ca0e0-3eb7-4578-a594-9992509d6edb",
        "colab": {
          "base_uri": "https://localhost:8080/",
          "height": 103
        }
      },
      "source": [
        "\"\"\"on arrange cela\"\"\"\n",
        "df[\"Dependents_num\"]=df[\"Dependents\"].map({'0':0.,0:0.,'1':1.,'2':2.,'3+':3.2})\n",
        "df[\"Dependents_num\"].value_counts(dropna=False)"
      ],
      "execution_count": 0,
      "outputs": [
        {
          "output_type": "execute_result",
          "data": {
            "text/plain": [
              "0.0    360\n",
              "1.0    102\n",
              "2.0    101\n",
              "3.2     51\n",
              "Name: Dependents_num, dtype: int64"
            ]
          },
          "metadata": {
            "tags": []
          },
          "execution_count": 40
        }
      ]
    },
    {
      "cell_type": "markdown",
      "metadata": {
        "id": "mGsbZvfPPJb4",
        "colab_type": "text"
      },
      "source": [
        "## Correlations"
      ]
    },
    {
      "cell_type": "code",
      "metadata": {
        "id": "zkowewiCPJb4",
        "colab_type": "code",
        "outputId": "538bc19a-0501-4f88-cc9e-9c3eb29b788b",
        "colab": {
          "base_uri": "https://localhost:8080/",
          "height": 54
        }
      },
      "source": [
        "\"on a au final beaucoup de colonnes\"\n",
        "df.columns"
      ],
      "execution_count": 0,
      "outputs": [
        {
          "output_type": "execute_result",
          "data": {
            "text/plain": [
              "Index(['Gender', 'Married', 'Dependents', 'Education', 'Self_Employed', 'ApplicantIncome', 'CoapplicantIncome', 'LoanAmount', 'Loan_Amount_Term', 'Credit_History', 'Property_Area', 'Loan_Status', 'TotalIncome', 'LoanAmount/TotalIncome', 'Graduate&Self_Employed', 'TotalIncome_log', 'ApplicantIncomeQ', 'PA_Rural', 'PA_Urban', 'Dependents_num'], dtype='object')"
            ]
          },
          "metadata": {
            "tags": []
          },
          "execution_count": 41
        }
      ]
    },
    {
      "cell_type": "markdown",
      "metadata": {
        "id": "QEA44KUBPJb7",
        "colab_type": "text"
      },
      "source": [
        "Il faut supprimer les variables clairement redondante. \n",
        "\n",
        "Et parmis les variables \"incomes\": \"ApplicantIncome\", \"CoapplicantIncome\", \"TotalIncome_log\" \"ApplicantIncomeQ\",  \"LoanAmount/TotalIncome\", on décide d'en évacuer deux.  "
      ]
    },
    {
      "cell_type": "code",
      "metadata": {
        "id": "c5wiIpDKPJb7",
        "colab_type": "code",
        "colab": {}
      },
      "source": [
        "\"\"\" on laisse tomber celles qui nous paraissent vraiment redondantes\"\"\"\n",
        "df_final=df.drop([\n",
        "                  'CoapplicantIncome', # redondant à cause de TotalIncome et ApplicantIncome\n",
        "                  'ApplicantIncomeQ', # ce  n'était pas une bonne idée de quantizer cette variable\n",
        "                  'Property_Area', # redondant car on a mis des dummies variables\n",
        "                  'Dependents' # redondant car on l'a numérisée\n",
        "                 ], axis=1, inplace=False)\n"
      ],
      "execution_count": 0,
      "outputs": []
    },
    {
      "cell_type": "markdown",
      "metadata": {
        "id": "CbUZunc3PJb9",
        "colab_type": "text"
      },
      "source": [
        "***A vous:*** ($2\\heartsuit$) A quoi sert l'option `inplace=False` ci-dessus. Quel est sont avantage? Quand quel cas il vaudrait mieux utiliser `inplace=True`"
      ]
    },
    {
      "cell_type": "code",
      "metadata": {
        "id": "m_nohChBPJb9",
        "colab_type": "code",
        "outputId": "faa058c6-4986-4b18-a37b-8c2f245e5543",
        "colab": {
          "base_uri": "https://localhost:8080/",
          "height": 223
        }
      },
      "source": [
        "df_final.head()"
      ],
      "execution_count": 0,
      "outputs": [
        {
          "output_type": "execute_result",
          "data": {
            "text/html": [
              "<div>\n",
              "<style scoped>\n",
              "    .dataframe tbody tr th:only-of-type {\n",
              "        vertical-align: middle;\n",
              "    }\n",
              "\n",
              "    .dataframe tbody tr th {\n",
              "        vertical-align: top;\n",
              "    }\n",
              "\n",
              "    .dataframe thead th {\n",
              "        text-align: right;\n",
              "    }\n",
              "</style>\n",
              "<table border=\"1\" class=\"dataframe\">\n",
              "  <thead>\n",
              "    <tr style=\"text-align: right;\">\n",
              "      <th></th>\n",
              "      <th>Gender</th>\n",
              "      <th>Married</th>\n",
              "      <th>Education</th>\n",
              "      <th>Self_Employed</th>\n",
              "      <th>ApplicantIncome</th>\n",
              "      <th>LoanAmount</th>\n",
              "      <th>Loan_Amount_Term</th>\n",
              "      <th>Credit_History</th>\n",
              "      <th>Loan_Status</th>\n",
              "      <th>TotalIncome</th>\n",
              "      <th>LoanAmount/TotalIncome</th>\n",
              "      <th>Graduate&amp;Self_Employed</th>\n",
              "      <th>TotalIncome_log</th>\n",
              "      <th>PA_Rural</th>\n",
              "      <th>PA_Urban</th>\n",
              "      <th>Dependents_num</th>\n",
              "    </tr>\n",
              "  </thead>\n",
              "  <tbody>\n",
              "    <tr>\n",
              "      <th>0</th>\n",
              "      <td>0.0</td>\n",
              "      <td>0.0</td>\n",
              "      <td>1.0</td>\n",
              "      <td>0.0</td>\n",
              "      <td>5849</td>\n",
              "      <td>146.412162</td>\n",
              "      <td>360.0</td>\n",
              "      <td>1.0</td>\n",
              "      <td>1.0</td>\n",
              "      <td>5849.0</td>\n",
              "      <td>0.025032</td>\n",
              "      <td>0.0</td>\n",
              "      <td>8.674026</td>\n",
              "      <td>0</td>\n",
              "      <td>1</td>\n",
              "      <td>0.0</td>\n",
              "    </tr>\n",
              "    <tr>\n",
              "      <th>1</th>\n",
              "      <td>0.0</td>\n",
              "      <td>1.0</td>\n",
              "      <td>1.0</td>\n",
              "      <td>0.0</td>\n",
              "      <td>4583</td>\n",
              "      <td>128.000000</td>\n",
              "      <td>360.0</td>\n",
              "      <td>1.0</td>\n",
              "      <td>1.0</td>\n",
              "      <td>6091.0</td>\n",
              "      <td>0.021015</td>\n",
              "      <td>0.0</td>\n",
              "      <td>8.714568</td>\n",
              "      <td>1</td>\n",
              "      <td>0</td>\n",
              "      <td>1.0</td>\n",
              "    </tr>\n",
              "    <tr>\n",
              "      <th>2</th>\n",
              "      <td>0.0</td>\n",
              "      <td>1.0</td>\n",
              "      <td>1.0</td>\n",
              "      <td>1.0</td>\n",
              "      <td>3000</td>\n",
              "      <td>66.000000</td>\n",
              "      <td>360.0</td>\n",
              "      <td>1.0</td>\n",
              "      <td>1.0</td>\n",
              "      <td>3000.0</td>\n",
              "      <td>0.022000</td>\n",
              "      <td>1.0</td>\n",
              "      <td>8.006368</td>\n",
              "      <td>0</td>\n",
              "      <td>1</td>\n",
              "      <td>0.0</td>\n",
              "    </tr>\n",
              "    <tr>\n",
              "      <th>3</th>\n",
              "      <td>0.0</td>\n",
              "      <td>1.0</td>\n",
              "      <td>0.0</td>\n",
              "      <td>0.0</td>\n",
              "      <td>2583</td>\n",
              "      <td>120.000000</td>\n",
              "      <td>360.0</td>\n",
              "      <td>1.0</td>\n",
              "      <td>1.0</td>\n",
              "      <td>4941.0</td>\n",
              "      <td>0.024287</td>\n",
              "      <td>0.0</td>\n",
              "      <td>8.505323</td>\n",
              "      <td>0</td>\n",
              "      <td>1</td>\n",
              "      <td>0.0</td>\n",
              "    </tr>\n",
              "    <tr>\n",
              "      <th>4</th>\n",
              "      <td>0.0</td>\n",
              "      <td>0.0</td>\n",
              "      <td>1.0</td>\n",
              "      <td>0.0</td>\n",
              "      <td>6000</td>\n",
              "      <td>141.000000</td>\n",
              "      <td>360.0</td>\n",
              "      <td>1.0</td>\n",
              "      <td>1.0</td>\n",
              "      <td>6000.0</td>\n",
              "      <td>0.023500</td>\n",
              "      <td>0.0</td>\n",
              "      <td>8.699515</td>\n",
              "      <td>0</td>\n",
              "      <td>1</td>\n",
              "      <td>0.0</td>\n",
              "    </tr>\n",
              "  </tbody>\n",
              "</table>\n",
              "</div>"
            ],
            "text/plain": [
              "   Gender  Married  Education  Self_Employed  ApplicantIncome  LoanAmount  Loan_Amount_Term  Credit_History  Loan_Status  TotalIncome  LoanAmount/TotalIncome  Graduate&Self_Employed  TotalIncome_log  PA_Rural  PA_Urban  Dependents_num\n",
              "0     0.0      0.0        1.0            0.0             5849  146.412162             360.0             1.0          1.0       5849.0                0.025032                     0.0         8.674026         0         1             0.0\n",
              "1     0.0      1.0        1.0            0.0             4583  128.000000             360.0             1.0          1.0       6091.0                0.021015                     0.0         8.714568         1         0             1.0\n",
              "2     0.0      1.0        1.0            1.0             3000   66.000000             360.0             1.0          1.0       3000.0                0.022000                     1.0         8.006368         0         1             0.0\n",
              "3     0.0      1.0        0.0            0.0             2583  120.000000             360.0             1.0          1.0       4941.0                0.024287                     0.0         8.505323         0         1             0.0\n",
              "4     0.0      0.0        1.0            0.0             6000  141.000000             360.0             1.0          1.0       6000.0                0.023500                     0.0         8.699515         0         1             0.0"
            ]
          },
          "metadata": {
            "tags": []
          },
          "execution_count": 43
        }
      ]
    },
    {
      "cell_type": "code",
      "metadata": {
        "id": "t1RFxxM_PJb_",
        "colab_type": "code",
        "outputId": "eb68836f-6f2e-4c25-e4f5-027de7197712",
        "colab": {
          "base_uri": "https://localhost:8080/",
          "height": 562
        }
      },
      "source": [
        "corr=df_final.corr()\n",
        "corr"
      ],
      "execution_count": 0,
      "outputs": [
        {
          "output_type": "execute_result",
          "data": {
            "text/html": [
              "<div>\n",
              "<style scoped>\n",
              "    .dataframe tbody tr th:only-of-type {\n",
              "        vertical-align: middle;\n",
              "    }\n",
              "\n",
              "    .dataframe tbody tr th {\n",
              "        vertical-align: top;\n",
              "    }\n",
              "\n",
              "    .dataframe thead th {\n",
              "        text-align: right;\n",
              "    }\n",
              "</style>\n",
              "<table border=\"1\" class=\"dataframe\">\n",
              "  <thead>\n",
              "    <tr style=\"text-align: right;\">\n",
              "      <th></th>\n",
              "      <th>Gender</th>\n",
              "      <th>Married</th>\n",
              "      <th>Education</th>\n",
              "      <th>Self_Employed</th>\n",
              "      <th>ApplicantIncome</th>\n",
              "      <th>LoanAmount</th>\n",
              "      <th>Loan_Amount_Term</th>\n",
              "      <th>Credit_History</th>\n",
              "      <th>Loan_Status</th>\n",
              "      <th>TotalIncome</th>\n",
              "      <th>LoanAmount/TotalIncome</th>\n",
              "      <th>Graduate&amp;Self_Employed</th>\n",
              "      <th>TotalIncome_log</th>\n",
              "      <th>PA_Rural</th>\n",
              "      <th>PA_Urban</th>\n",
              "      <th>Dependents_num</th>\n",
              "    </tr>\n",
              "  </thead>\n",
              "  <tbody>\n",
              "    <tr>\n",
              "      <th>Gender</th>\n",
              "      <td>1.000000</td>\n",
              "      <td>-0.367389</td>\n",
              "      <td>0.045364</td>\n",
              "      <td>0.000525</td>\n",
              "      <td>-0.058809</td>\n",
              "      <td>-0.107930</td>\n",
              "      <td>0.073567</td>\n",
              "      <td>-0.009170</td>\n",
              "      <td>-0.140508</td>\n",
              "      <td>-0.093191</td>\n",
              "      <td>0.101194</td>\n",
              "      <td>-0.011743</td>\n",
              "      <td>-0.167285</td>\n",
              "      <td>-0.080283</td>\n",
              "      <td>-0.034530</td>\n",
              "      <td>-0.171725</td>\n",
              "    </tr>\n",
              "    <tr>\n",
              "      <th>Married</th>\n",
              "      <td>-0.367389</td>\n",
              "      <td>1.000000</td>\n",
              "      <td>-0.017671</td>\n",
              "      <td>0.008491</td>\n",
              "      <td>0.050194</td>\n",
              "      <td>0.145643</td>\n",
              "      <td>-0.103400</td>\n",
              "      <td>0.006690</td>\n",
              "      <td>0.087492</td>\n",
              "      <td>0.083948</td>\n",
              "      <td>-0.019058</td>\n",
              "      <td>0.020691</td>\n",
              "      <td>0.150401</td>\n",
              "      <td>-0.000220</td>\n",
              "      <td>0.000449</td>\n",
              "      <td>0.335465</td>\n",
              "    </tr>\n",
              "    <tr>\n",
              "      <th>Education</th>\n",
              "      <td>0.045364</td>\n",
              "      <td>-0.017671</td>\n",
              "      <td>1.000000</td>\n",
              "      <td>0.010383</td>\n",
              "      <td>0.140760</td>\n",
              "      <td>0.166998</td>\n",
              "      <td>0.077242</td>\n",
              "      <td>0.073658</td>\n",
              "      <td>0.205431</td>\n",
              "      <td>0.161362</td>\n",
              "      <td>-0.081314</td>\n",
              "      <td>0.181804</td>\n",
              "      <td>0.204861</td>\n",
              "      <td>-0.077520</td>\n",
              "      <td>0.034279</td>\n",
              "      <td>-0.056646</td>\n",
              "    </tr>\n",
              "    <tr>\n",
              "      <th>Self_Employed</th>\n",
              "      <td>0.000525</td>\n",
              "      <td>0.008491</td>\n",
              "      <td>0.010383</td>\n",
              "      <td>1.000000</td>\n",
              "      <td>0.127180</td>\n",
              "      <td>0.115260</td>\n",
              "      <td>-0.033943</td>\n",
              "      <td>-0.001550</td>\n",
              "      <td>0.063518</td>\n",
              "      <td>0.113000</td>\n",
              "      <td>-0.069922</td>\n",
              "      <td>0.876434</td>\n",
              "      <td>0.176709</td>\n",
              "      <td>0.022065</td>\n",
              "      <td>-0.030338</td>\n",
              "      <td>0.054912</td>\n",
              "    </tr>\n",
              "    <tr>\n",
              "      <th>ApplicantIncome</th>\n",
              "      <td>-0.058809</td>\n",
              "      <td>0.050194</td>\n",
              "      <td>0.140760</td>\n",
              "      <td>0.127180</td>\n",
              "      <td>1.000000</td>\n",
              "      <td>0.565620</td>\n",
              "      <td>-0.045242</td>\n",
              "      <td>-0.018615</td>\n",
              "      <td>0.235480</td>\n",
              "      <td>0.893037</td>\n",
              "      <td>-0.312972</td>\n",
              "      <td>0.131459</td>\n",
              "      <td>0.717829</td>\n",
              "      <td>0.015829</td>\n",
              "      <td>-0.000598</td>\n",
              "      <td>0.122179</td>\n",
              "    </tr>\n",
              "    <tr>\n",
              "      <th>LoanAmount</th>\n",
              "      <td>-0.107930</td>\n",
              "      <td>0.145643</td>\n",
              "      <td>0.166998</td>\n",
              "      <td>0.115260</td>\n",
              "      <td>0.565620</td>\n",
              "      <td>1.000000</td>\n",
              "      <td>0.038801</td>\n",
              "      <td>-0.001431</td>\n",
              "      <td>0.144081</td>\n",
              "      <td>0.620102</td>\n",
              "      <td>0.151715</td>\n",
              "      <td>0.140047</td>\n",
              "      <td>0.687552</td>\n",
              "      <td>0.043178</td>\n",
              "      <td>-0.033220</td>\n",
              "      <td>0.165272</td>\n",
              "    </tr>\n",
              "    <tr>\n",
              "      <th>Loan_Amount_Term</th>\n",
              "      <td>0.073567</td>\n",
              "      <td>-0.103400</td>\n",
              "      <td>0.077242</td>\n",
              "      <td>-0.033943</td>\n",
              "      <td>-0.045242</td>\n",
              "      <td>0.038801</td>\n",
              "      <td>1.000000</td>\n",
              "      <td>0.000432</td>\n",
              "      <td>-0.073759</td>\n",
              "      <td>-0.069830</td>\n",
              "      <td>0.163355</td>\n",
              "      <td>-0.021728</td>\n",
              "      <td>-0.055320</td>\n",
              "      <td>0.034433</td>\n",
              "      <td>-0.096683</td>\n",
              "      <td>-0.101455</td>\n",
              "    </tr>\n",
              "    <tr>\n",
              "      <th>Credit_History</th>\n",
              "      <td>-0.009170</td>\n",
              "      <td>0.006690</td>\n",
              "      <td>0.073658</td>\n",
              "      <td>-0.001550</td>\n",
              "      <td>-0.018615</td>\n",
              "      <td>-0.001431</td>\n",
              "      <td>0.000432</td>\n",
              "      <td>1.000000</td>\n",
              "      <td>0.202329</td>\n",
              "      <td>-0.012563</td>\n",
              "      <td>-0.037906</td>\n",
              "      <td>-0.008694</td>\n",
              "      <td>0.020791</td>\n",
              "      <td>-0.020906</td>\n",
              "      <td>-0.016934</td>\n",
              "      <td>-0.041893</td>\n",
              "    </tr>\n",
              "    <tr>\n",
              "      <th>Loan_Status</th>\n",
              "      <td>-0.140508</td>\n",
              "      <td>0.087492</td>\n",
              "      <td>0.205431</td>\n",
              "      <td>0.063518</td>\n",
              "      <td>0.235480</td>\n",
              "      <td>0.144081</td>\n",
              "      <td>-0.073759</td>\n",
              "      <td>0.202329</td>\n",
              "      <td>1.000000</td>\n",
              "      <td>0.295587</td>\n",
              "      <td>-0.579860</td>\n",
              "      <td>0.070418</td>\n",
              "      <td>0.483449</td>\n",
              "      <td>0.043107</td>\n",
              "      <td>0.024507</td>\n",
              "      <td>0.008081</td>\n",
              "    </tr>\n",
              "    <tr>\n",
              "      <th>TotalIncome</th>\n",
              "      <td>-0.093191</td>\n",
              "      <td>0.083948</td>\n",
              "      <td>0.161362</td>\n",
              "      <td>0.113000</td>\n",
              "      <td>0.893037</td>\n",
              "      <td>0.620102</td>\n",
              "      <td>-0.069830</td>\n",
              "      <td>-0.012563</td>\n",
              "      <td>0.295587</td>\n",
              "      <td>1.000000</td>\n",
              "      <td>-0.386484</td>\n",
              "      <td>0.126285</td>\n",
              "      <td>0.852873</td>\n",
              "      <td>0.017387</td>\n",
              "      <td>0.009754</td>\n",
              "      <td>0.129844</td>\n",
              "    </tr>\n",
              "    <tr>\n",
              "      <th>LoanAmount/TotalIncome</th>\n",
              "      <td>0.101194</td>\n",
              "      <td>-0.019058</td>\n",
              "      <td>-0.081314</td>\n",
              "      <td>-0.069922</td>\n",
              "      <td>-0.312972</td>\n",
              "      <td>0.151715</td>\n",
              "      <td>0.163355</td>\n",
              "      <td>-0.037906</td>\n",
              "      <td>-0.579860</td>\n",
              "      <td>-0.386484</td>\n",
              "      <td>1.000000</td>\n",
              "      <td>-0.059126</td>\n",
              "      <td>-0.472771</td>\n",
              "      <td>0.004865</td>\n",
              "      <td>-0.037561</td>\n",
              "      <td>0.057154</td>\n",
              "    </tr>\n",
              "    <tr>\n",
              "      <th>Graduate&amp;Self_Employed</th>\n",
              "      <td>-0.011743</td>\n",
              "      <td>0.020691</td>\n",
              "      <td>0.181804</td>\n",
              "      <td>0.876434</td>\n",
              "      <td>0.131459</td>\n",
              "      <td>0.140047</td>\n",
              "      <td>-0.021728</td>\n",
              "      <td>-0.008694</td>\n",
              "      <td>0.070418</td>\n",
              "      <td>0.126285</td>\n",
              "      <td>-0.059126</td>\n",
              "      <td>1.000000</td>\n",
              "      <td>0.185477</td>\n",
              "      <td>0.023884</td>\n",
              "      <td>-0.026864</td>\n",
              "      <td>0.042181</td>\n",
              "    </tr>\n",
              "    <tr>\n",
              "      <th>TotalIncome_log</th>\n",
              "      <td>-0.167285</td>\n",
              "      <td>0.150401</td>\n",
              "      <td>0.204861</td>\n",
              "      <td>0.176709</td>\n",
              "      <td>0.717829</td>\n",
              "      <td>0.687552</td>\n",
              "      <td>-0.055320</td>\n",
              "      <td>0.020791</td>\n",
              "      <td>0.483449</td>\n",
              "      <td>0.852873</td>\n",
              "      <td>-0.472771</td>\n",
              "      <td>0.185477</td>\n",
              "      <td>1.000000</td>\n",
              "      <td>0.049801</td>\n",
              "      <td>-0.029276</td>\n",
              "      <td>0.114687</td>\n",
              "    </tr>\n",
              "    <tr>\n",
              "      <th>PA_Rural</th>\n",
              "      <td>-0.080283</td>\n",
              "      <td>-0.000220</td>\n",
              "      <td>-0.077520</td>\n",
              "      <td>0.022065</td>\n",
              "      <td>0.015829</td>\n",
              "      <td>0.043178</td>\n",
              "      <td>0.034433</td>\n",
              "      <td>-0.020906</td>\n",
              "      <td>0.043107</td>\n",
              "      <td>0.017387</td>\n",
              "      <td>0.004865</td>\n",
              "      <td>0.023884</td>\n",
              "      <td>0.049801</td>\n",
              "      <td>1.000000</td>\n",
              "      <td>-0.449168</td>\n",
              "      <td>0.001358</td>\n",
              "    </tr>\n",
              "    <tr>\n",
              "      <th>PA_Urban</th>\n",
              "      <td>-0.034530</td>\n",
              "      <td>0.000449</td>\n",
              "      <td>0.034279</td>\n",
              "      <td>-0.030338</td>\n",
              "      <td>-0.000598</td>\n",
              "      <td>-0.033220</td>\n",
              "      <td>-0.096683</td>\n",
              "      <td>-0.016934</td>\n",
              "      <td>0.024507</td>\n",
              "      <td>0.009754</td>\n",
              "      <td>-0.037561</td>\n",
              "      <td>-0.026864</td>\n",
              "      <td>-0.029276</td>\n",
              "      <td>-0.449168</td>\n",
              "      <td>1.000000</td>\n",
              "      <td>-0.003657</td>\n",
              "    </tr>\n",
              "    <tr>\n",
              "      <th>Dependents_num</th>\n",
              "      <td>-0.171725</td>\n",
              "      <td>0.335465</td>\n",
              "      <td>-0.056646</td>\n",
              "      <td>0.054912</td>\n",
              "      <td>0.122179</td>\n",
              "      <td>0.165272</td>\n",
              "      <td>-0.101455</td>\n",
              "      <td>-0.041893</td>\n",
              "      <td>0.008081</td>\n",
              "      <td>0.129844</td>\n",
              "      <td>0.057154</td>\n",
              "      <td>0.042181</td>\n",
              "      <td>0.114687</td>\n",
              "      <td>0.001358</td>\n",
              "      <td>-0.003657</td>\n",
              "      <td>1.000000</td>\n",
              "    </tr>\n",
              "  </tbody>\n",
              "</table>\n",
              "</div>"
            ],
            "text/plain": [
              "                          Gender   Married  Education  Self_Employed  ApplicantIncome  LoanAmount  Loan_Amount_Term  Credit_History  Loan_Status  TotalIncome  LoanAmount/TotalIncome  Graduate&Self_Employed  TotalIncome_log  PA_Rural  PA_Urban  Dependents_num\n",
              "Gender                  1.000000 -0.367389   0.045364       0.000525        -0.058809   -0.107930          0.073567       -0.009170    -0.140508    -0.093191                0.101194               -0.011743        -0.167285 -0.080283 -0.034530       -0.171725\n",
              "Married                -0.367389  1.000000  -0.017671       0.008491         0.050194    0.145643         -0.103400        0.006690     0.087492     0.083948               -0.019058                0.020691         0.150401 -0.000220  0.000449        0.335465\n",
              "Education               0.045364 -0.017671   1.000000       0.010383         0.140760    0.166998          0.077242        0.073658     0.205431     0.161362               -0.081314                0.181804         0.204861 -0.077520  0.034279       -0.056646\n",
              "Self_Employed           0.000525  0.008491   0.010383       1.000000         0.127180    0.115260         -0.033943       -0.001550     0.063518     0.113000               -0.069922                0.876434         0.176709  0.022065 -0.030338        0.054912\n",
              "ApplicantIncome        -0.058809  0.050194   0.140760       0.127180         1.000000    0.565620         -0.045242       -0.018615     0.235480     0.893037               -0.312972                0.131459         0.717829  0.015829 -0.000598        0.122179\n",
              "LoanAmount             -0.107930  0.145643   0.166998       0.115260         0.565620    1.000000          0.038801       -0.001431     0.144081     0.620102                0.151715                0.140047         0.687552  0.043178 -0.033220        0.165272\n",
              "Loan_Amount_Term        0.073567 -0.103400   0.077242      -0.033943        -0.045242    0.038801          1.000000        0.000432    -0.073759    -0.069830                0.163355               -0.021728        -0.055320  0.034433 -0.096683       -0.101455\n",
              "Credit_History         -0.009170  0.006690   0.073658      -0.001550        -0.018615   -0.001431          0.000432        1.000000     0.202329    -0.012563               -0.037906               -0.008694         0.020791 -0.020906 -0.016934       -0.041893\n",
              "Loan_Status            -0.140508  0.087492   0.205431       0.063518         0.235480    0.144081         -0.073759        0.202329     1.000000     0.295587               -0.579860                0.070418         0.483449  0.043107  0.024507        0.008081\n",
              "TotalIncome            -0.093191  0.083948   0.161362       0.113000         0.893037    0.620102         -0.069830       -0.012563     0.295587     1.000000               -0.386484                0.126285         0.852873  0.017387  0.009754        0.129844\n",
              "LoanAmount/TotalIncome  0.101194 -0.019058  -0.081314      -0.069922        -0.312972    0.151715          0.163355       -0.037906    -0.579860    -0.386484                1.000000               -0.059126        -0.472771  0.004865 -0.037561        0.057154\n",
              "Graduate&Self_Employed -0.011743  0.020691   0.181804       0.876434         0.131459    0.140047         -0.021728       -0.008694     0.070418     0.126285               -0.059126                1.000000         0.185477  0.023884 -0.026864        0.042181\n",
              "TotalIncome_log        -0.167285  0.150401   0.204861       0.176709         0.717829    0.687552         -0.055320        0.020791     0.483449     0.852873               -0.472771                0.185477         1.000000  0.049801 -0.029276        0.114687\n",
              "PA_Rural               -0.080283 -0.000220  -0.077520       0.022065         0.015829    0.043178          0.034433       -0.020906     0.043107     0.017387                0.004865                0.023884         0.049801  1.000000 -0.449168        0.001358\n",
              "PA_Urban               -0.034530  0.000449   0.034279      -0.030338        -0.000598   -0.033220         -0.096683       -0.016934     0.024507     0.009754               -0.037561               -0.026864        -0.029276 -0.449168  1.000000       -0.003657\n",
              "Dependents_num         -0.171725  0.335465  -0.056646       0.054912         0.122179    0.165272         -0.101455       -0.041893     0.008081     0.129844                0.057154                0.042181         0.114687  0.001358 -0.003657        1.000000"
            ]
          },
          "metadata": {
            "tags": []
          },
          "execution_count": 44
        }
      ]
    },
    {
      "cell_type": "markdown",
      "metadata": {
        "id": "Z08SbLyn37fR",
        "colab_type": "text"
      },
      "source": [
        "corr[\"\"]"
      ]
    },
    {
      "cell_type": "markdown",
      "metadata": {
        "id": "b6CF-rHPPJcB",
        "colab_type": "text"
      },
      "source": [
        "Affichons la matrice complète en utilisant `seaborn`."
      ]
    },
    {
      "cell_type": "code",
      "metadata": {
        "id": "gX_4pnYTPJcC",
        "colab_type": "code",
        "outputId": "4e1352b6-c5eb-41a4-f30e-e7152931c037",
        "colab": {
          "base_uri": "https://localhost:8080/",
          "height": 713
        }
      },
      "source": [
        "\n",
        "plt.figure(1,figsize=(10,10))\n",
        "sb.heatmap(np.round(corr,2), annot=True,cmap=\"jet\");"
      ],
      "execution_count": 0,
      "outputs": [
        {
          "output_type": "display_data",
          "data": {
            "image/png": "[encoded data removed]",
            "text/plain": [
              "<Figure size 720x720 with 2 Axes>"
            ]
          },
          "metadata": {
            "tags": []
          }
        }
      ]
    },
    {
      "cell_type": "markdown",
      "metadata": {
        "id": "y4eelu-7PJcE",
        "colab_type": "text"
      },
      "source": [
        "Moins tape à l'oeil, mais plus utile: affichons les 20 plus grosses correlations non-trivialle. "
      ]
    },
    {
      "cell_type": "code",
      "metadata": {
        "id": "jud2moOUPJcE",
        "colab_type": "code",
        "outputId": "deb64647-4f18-4759-bd32-34a8cc9d0ce7",
        "colab": {
          "base_uri": "https://localhost:8080/",
          "height": 360
        }
      },
      "source": [
        "\"\"\" je sépare la dataframe en values et index (car je maitrise mieux numpy) \"\"\"\n",
        "corr_matrix=corr.values\n",
        "names=corr.index\n",
        "\n",
        "n=len(corr_matrix)\n",
        "corr_as_list=[]\n",
        "for i in range(n):\n",
        "    for j in range(n):\n",
        "        if i!=j:\n",
        "            corr_as_list.append((np.round(corr_matrix[i,j],4),names[i],names[j]))\n",
        "corr_as_list.sort(key=lambda triplet:-triplet[0])   \n",
        "\n",
        "corr_as_list[:20]"
      ],
      "execution_count": 0,
      "outputs": [
        {
          "output_type": "execute_result",
          "data": {
            "text/plain": [
              "[(0.893, 'ApplicantIncome', 'TotalIncome'),\n",
              " (0.893, 'TotalIncome', 'ApplicantIncome'),\n",
              " (0.8764, 'Self_Employed', 'Graduate&Self_Employed'),\n",
              " (0.8764, 'Graduate&Self_Employed', 'Self_Employed'),\n",
              " (0.8529, 'TotalIncome', 'TotalIncome_log'),\n",
              " (0.8529, 'TotalIncome_log', 'TotalIncome'),\n",
              " (0.7178, 'ApplicantIncome', 'TotalIncome_log'),\n",
              " (0.7178, 'TotalIncome_log', 'ApplicantIncome'),\n",
              " (0.6876, 'LoanAmount', 'TotalIncome_log'),\n",
              " (0.6876, 'TotalIncome_log', 'LoanAmount'),\n",
              " (0.6201, 'LoanAmount', 'TotalIncome'),\n",
              " (0.6201, 'TotalIncome', 'LoanAmount'),\n",
              " (0.5656, 'ApplicantIncome', 'LoanAmount'),\n",
              " (0.5656, 'LoanAmount', 'ApplicantIncome'),\n",
              " (0.4834, 'Loan_Status', 'TotalIncome_log'),\n",
              " (0.4834, 'TotalIncome_log', 'Loan_Status'),\n",
              " (0.3355, 'Married', 'Dependents_num'),\n",
              " (0.3355, 'Dependents_num', 'Married'),\n",
              " (0.2956, 'Loan_Status', 'TotalIncome'),\n",
              " (0.2956, 'TotalIncome', 'Loan_Status')]"
            ]
          },
          "metadata": {
            "tags": []
          },
          "execution_count": 46
        }
      ]
    },
    {
      "cell_type": "markdown",
      "metadata": {
        "id": "BqF7d5U6PJcH",
        "colab_type": "text"
      },
      "source": [
        "***Exo:*** \n",
        "\n",
        "* $(1\\heartsuit)$   On a ainsi affichez toutes les corrélations les plus importantes. Toutes? \n",
        "*  $(1\\heartsuit)$ Parmi c es grosses correlations : quels sont les correlations triviales que nous avons provoquée en rajoutant des variables ?\n",
        "* $(1\\heartsuit)$ Quelles sont les correlations naturelles que l'on comprend facilement avec le bon sens ?\n",
        "\n",
        "* $(2\\heartsuit)$ Dressez la liste des 10 plus grosses correlation avec l'output `loan_status`. \n",
        "\n",
        "* $(1\\heartsuit)$ La variable mystérieuse 'Credit_History' agit-elle en faveur ou en défaveur du demander du prêt? "
      ]
    },
    {
      "cell_type": "markdown",
      "metadata": {
        "id": "uEKfTCsRPJcH",
        "colab_type": "text"
      },
      "source": [
        "## Exportons notre travail"
      ]
    },
    {
      "cell_type": "code",
      "metadata": {
        "id": "5HO5DRVUPJcI",
        "colab_type": "code",
        "colab": {}
      },
      "source": [
        "\"\"\" on n'exporte pas l'index car c'est des entiers consécutifs \"\"\"\n",
        "df_final.to_csv(\"dataframe/loan_data_preprossed2.csv\",index=False)"
      ],
      "execution_count": 0,
      "outputs": []
    },
    {
      "cell_type": "markdown",
      "metadata": {
        "id": "ytSTqik4LVnQ",
        "colab_type": "text"
      },
      "source": [
        "Attention, si vous êtes sur collab, le fichier est sauvegardé sur les serveurs de google. Si vous voulez le rapatrier chez vous, c'est très simple: "
      ]
    },
    {
      "cell_type": "code",
      "metadata": {
        "id": "zehrq5PhLFWb",
        "colab_type": "code",
        "outputId": "e46c87aa-520c-47a3-dbd6-372b81b46b44",
        "colab": {
          "base_uri": "https://localhost:8080/",
          "height": 326
        }
      },
      "source": [
        "from google.colab import files\n",
        "files.download(\"dataframe/loan_data_preprossed2.csv\")"
      ],
      "execution_count": 0,
      "outputs": [
        {
          "output_type": "error",
          "ename": "MessageError",
          "evalue": "ignored",
          "traceback": [
            "\u001b[0;31m---------------------------------------------------------------------------\u001b[0m",
            "\u001b[0;31mMessageError\u001b[0m                              Traceback (most recent call last)",
            "\u001b[0;32m<ipython-input-48-07957c82ce95>\u001b[0m in \u001b[0;36m<module>\u001b[0;34m()\u001b[0m\n\u001b[1;32m      1\u001b[0m \u001b[0;32mfrom\u001b[0m \u001b[0mgoogle\u001b[0m\u001b[0;34m.\u001b[0m\u001b[0mcolab\u001b[0m \u001b[0;32mimport\u001b[0m \u001b[0mfiles\u001b[0m\u001b[0;34m\u001b[0m\u001b[0;34m\u001b[0m\u001b[0m\n\u001b[0;32m----> 2\u001b[0;31m \u001b[0mfiles\u001b[0m\u001b[0;34m.\u001b[0m\u001b[0mdownload\u001b[0m\u001b[0;34m(\u001b[0m\u001b[0;34m\"dataframe/loan_data_preprossed2.csv\"\u001b[0m\u001b[0;34m)\u001b[0m\u001b[0;34m\u001b[0m\u001b[0;34m\u001b[0m\u001b[0m\n\u001b[0m",
            "\u001b[0;32m/usr/local/lib/python3.6/dist-packages/google/colab/files.py\u001b[0m in \u001b[0;36mdownload\u001b[0;34m(filename)\u001b[0m\n\u001b[1;32m    176\u001b[0m       \u001b[0;34m'port'\u001b[0m\u001b[0;34m:\u001b[0m \u001b[0mport\u001b[0m\u001b[0;34m,\u001b[0m\u001b[0;34m\u001b[0m\u001b[0;34m\u001b[0m\u001b[0m\n\u001b[1;32m    177\u001b[0m       \u001b[0;34m'path'\u001b[0m\u001b[0;34m:\u001b[0m \u001b[0m_os\u001b[0m\u001b[0;34m.\u001b[0m\u001b[0mpath\u001b[0m\u001b[0;34m.\u001b[0m\u001b[0mabspath\u001b[0m\u001b[0;34m(\u001b[0m\u001b[0mfilename\u001b[0m\u001b[0;34m)\u001b[0m\u001b[0;34m,\u001b[0m\u001b[0;34m\u001b[0m\u001b[0;34m\u001b[0m\u001b[0m\n\u001b[0;32m--> 178\u001b[0;31m       \u001b[0;34m'name'\u001b[0m\u001b[0;34m:\u001b[0m \u001b[0m_os\u001b[0m\u001b[0;34m.\u001b[0m\u001b[0mpath\u001b[0m\u001b[0;34m.\u001b[0m\u001b[0mbasename\u001b[0m\u001b[0;34m(\u001b[0m\u001b[0mfilename\u001b[0m\u001b[0;34m)\u001b[0m\u001b[0;34m,\u001b[0m\u001b[0;34m\u001b[0m\u001b[0;34m\u001b[0m\u001b[0m\n\u001b[0m\u001b[1;32m    179\u001b[0m   })\n",
            "\u001b[0;32m/usr/local/lib/python3.6/dist-packages/google/colab/output/_js.py\u001b[0m in \u001b[0;36meval_js\u001b[0;34m(script, ignore_result)\u001b[0m\n\u001b[1;32m     37\u001b[0m   \u001b[0;32mif\u001b[0m \u001b[0mignore_result\u001b[0m\u001b[0;34m:\u001b[0m\u001b[0;34m\u001b[0m\u001b[0;34m\u001b[0m\u001b[0m\n\u001b[1;32m     38\u001b[0m     \u001b[0;32mreturn\u001b[0m\u001b[0;34m\u001b[0m\u001b[0;34m\u001b[0m\u001b[0m\n\u001b[0;32m---> 39\u001b[0;31m   \u001b[0;32mreturn\u001b[0m \u001b[0m_message\u001b[0m\u001b[0;34m.\u001b[0m\u001b[0mread_reply_from_input\u001b[0m\u001b[0;34m(\u001b[0m\u001b[0mrequest_id\u001b[0m\u001b[0;34m)\u001b[0m\u001b[0;34m\u001b[0m\u001b[0;34m\u001b[0m\u001b[0m\n\u001b[0m\u001b[1;32m     40\u001b[0m \u001b[0;34m\u001b[0m\u001b[0m\n\u001b[1;32m     41\u001b[0m \u001b[0;34m\u001b[0m\u001b[0m\n",
            "\u001b[0;32m/usr/local/lib/python3.6/dist-packages/google/colab/_message.py\u001b[0m in \u001b[0;36mread_reply_from_input\u001b[0;34m(message_id, timeout_sec)\u001b[0m\n\u001b[1;32m    104\u001b[0m         reply.get('colab_msg_id') == message_id):\n\u001b[1;32m    105\u001b[0m       \u001b[0;32mif\u001b[0m \u001b[0;34m'error'\u001b[0m \u001b[0;32min\u001b[0m \u001b[0mreply\u001b[0m\u001b[0;34m:\u001b[0m\u001b[0;34m\u001b[0m\u001b[0;34m\u001b[0m\u001b[0m\n\u001b[0;32m--> 106\u001b[0;31m         \u001b[0;32mraise\u001b[0m \u001b[0mMessageError\u001b[0m\u001b[0;34m(\u001b[0m\u001b[0mreply\u001b[0m\u001b[0;34m[\u001b[0m\u001b[0;34m'error'\u001b[0m\u001b[0;34m]\u001b[0m\u001b[0;34m)\u001b[0m\u001b[0;34m\u001b[0m\u001b[0;34m\u001b[0m\u001b[0m\n\u001b[0m\u001b[1;32m    107\u001b[0m       \u001b[0;32mreturn\u001b[0m \u001b[0mreply\u001b[0m\u001b[0;34m.\u001b[0m\u001b[0mget\u001b[0m\u001b[0;34m(\u001b[0m\u001b[0;34m'data'\u001b[0m\u001b[0;34m,\u001b[0m \u001b[0;32mNone\u001b[0m\u001b[0;34m)\u001b[0m\u001b[0;34m\u001b[0m\u001b[0;34m\u001b[0m\u001b[0m\n\u001b[1;32m    108\u001b[0m \u001b[0;34m\u001b[0m\u001b[0m\n",
            "\u001b[0;31mMessageError\u001b[0m: TypeError: Failed to fetch"
          ]
        }
      ]
    },
    {
      "cell_type": "markdown",
      "metadata": {
        "id": "eUxO3kWVPJcJ",
        "colab_type": "text"
      },
      "source": [
        "## Exo: nettoyer des iris $\\hookleftarrow$\n",
        "\n",
        "D'après [Randal S. Olson](http://www.randalolson.com/)\n",
        "\n",
        "\n"
      ]
    },
    {
      "cell_type": "markdown",
      "metadata": {
        "id": "xhKFIoHpdiaN",
        "colab_type": "text"
      },
      "source": [
        "### Observons\n",
        "\n",
        "Observez ces données iris; ce ne sont pas celle que l'on trouve d'habitude! Essayer de repérer les anormalités sur chacun des graphes ou tableaux. Notez-les. "
      ]
    },
    {
      "cell_type": "code",
      "metadata": {
        "id": "gODjfNiEPJcJ",
        "colab_type": "code",
        "colab": {}
      },
      "source": [
        "iris_data = pd.read_csv('dataframe/iris-data-strange.csv', na_values=['NA'])\n",
        "iris_data.head(10)"
      ],
      "execution_count": 0,
      "outputs": []
    },
    {
      "cell_type": "code",
      "metadata": {
        "id": "l52nG-kHPJcL",
        "colab_type": "code",
        "colab": {}
      },
      "source": [
        "iris_data.describe()"
      ],
      "execution_count": 0,
      "outputs": []
    },
    {
      "cell_type": "code",
      "metadata": {
        "id": "JgUnTyHCPJcN",
        "colab_type": "code",
        "colab": {}
      },
      "source": [
        "iris_data['class'].value_counts(dropna=False)"
      ],
      "execution_count": 0,
      "outputs": []
    },
    {
      "cell_type": "code",
      "metadata": {
        "id": "ggjoqYaYhu0V",
        "colab_type": "code",
        "colab": {}
      },
      "source": [
        "print(plt.style.available)"
      ],
      "execution_count": 0,
      "outputs": []
    },
    {
      "cell_type": "code",
      "metadata": {
        "id": "vWq19GjnPJcQ",
        "colab_type": "code",
        "colab": {}
      },
      "source": [
        "sb.pairplot(iris_data.dropna(), hue='class');"
      ],
      "execution_count": 0,
      "outputs": []
    },
    {
      "cell_type": "code",
      "metadata": {
        "id": "KKBJV7w7PJcR",
        "colab_type": "code",
        "colab": {}
      },
      "source": [
        "plt.figure(figsize=(10, 15))\n",
        "\n",
        "for column_index, column in enumerate(iris_data.columns):\n",
        "    if column == 'class':\n",
        "        continue\n",
        "    plt.subplot(4, 1, column_index + 1)\n",
        "    sb.violinplot(x='class', y=column, data=iris_data)"
      ],
      "execution_count": 0,
      "outputs": []
    },
    {
      "cell_type": "code",
      "metadata": {
        "id": "T31eBy95PJcS",
        "colab_type": "code",
        "colab": {}
      },
      "source": [
        "iris_data.loc[(iris_data['class'] == 'Iris-versicolor') & (iris_data['sepal_length_cm'] < 1.0)]"
      ],
      "execution_count": 0,
      "outputs": []
    },
    {
      "cell_type": "code",
      "metadata": {
        "id": "lXI3FpD2MmtA",
        "colab_type": "code",
        "colab": {}
      },
      "source": [
        "iris_data.loc[(iris_data['class'] == 'Iris-versicolor')]"
      ],
      "execution_count": 0,
      "outputs": []
    },
    {
      "cell_type": "code",
      "metadata": {
        "id": "082ocIAmPJcT",
        "colab_type": "code",
        "colab": {}
      },
      "source": [
        "iris_data.loc[iris_data['class'] == 'Iris-versicolor', 'sepal_length_cm'].hist(bins=40,edgecolor=\"k\");"
      ],
      "execution_count": 0,
      "outputs": []
    },
    {
      "cell_type": "markdown",
      "metadata": {
        "id": "F4fAXvP2PJcU",
        "colab_type": "text"
      },
      "source": [
        "### A vous de nettoyez\n",
        "\n",
        "Reperez les problèmes de cette dataFrame. \n",
        "\n",
        "Aide: On a entendu dire que M. Fischer mélangait parfois m et cm. "
      ]
    },
    {
      "cell_type": "markdown",
      "metadata": {
        "id": "AEx30wemPJcW",
        "colab_type": "text"
      },
      "source": [
        "### Une todo liste de Randal S. Olson\n",
        "\n",
        "* Assurez-vous que vos données sont correctement encodées\n",
        "\n",
        "* Assurez-vous que vos données se situent dans la fourchette prévue et utilisez la connaissance du domaine chaque fois que possible pour définir cette fourchette\n",
        "\n",
        "* Traiter les données manquantes d'une manière ou d'une autre\n",
        "\n",
        "* Ne netoyez jamais vos données manuellement car ce n'est pas facilement reproductibles\n",
        "\n",
        "* Tracez tout ce que vous pouvez sur les données afin de pouvoir confirmer *visuellement* que tout semble correct\n"
      ]
    },
    {
      "cell_type": "markdown",
      "metadata": {
        "id": "ddXj0rtlPJcW",
        "colab_type": "text"
      },
      "source": [
        "### Testez-vos données\n",
        "\n",
        "Ecrire des test durables est une habitude qu'ont maintenant tous les bons informaticiens. Le mot 'durable' signifie que ces tests sont relancer systèmatiquement avant et  après toute modification des programmes. \n",
        "\n",
        "Le data scientist doit faire de même avec ses données, surtout que très souvent ces données évoluent (apprentissage `on-line`). \n"
      ]
    },
    {
      "cell_type": "code",
      "metadata": {
        "id": "0lQdMgEEZ_Al",
        "colab_type": "code",
        "colab": {}
      },
      "source": [
        "from sklearn import datasets\n",
        "iris = datasets.load_iris()\n",
        "\n",
        "X = iris.data\n",
        "Y = iris.target\n",
        "X,Y"
      ],
      "execution_count": 0,
      "outputs": []
    },
    {
      "cell_type": "code",
      "metadata": {
        "id": "oLhzEU7NPJcW",
        "colab_type": "code",
        "colab": {}
      },
      "source": [
        "assert len(np.unique(Y)) == 3, \"bizarre, je croyait qu'il n'y avait que 3 sortes d'iris\""
      ],
      "execution_count": 0,
      "outputs": []
    },
    {
      "cell_type": "code",
      "metadata": {
        "id": "a6wWm6cxPJcX",
        "colab_type": "code",
        "colab": {}
      },
      "source": [
        "assert np.min(X[:,[0,2]]) >= 1, \"bizare, les iris devraient avoir de longs pétals et sépals\""
      ],
      "execution_count": 0,
      "outputs": []
    },
    {
      "cell_type": "markdown",
      "metadata": {
        "id": "qeSP4EeSdCWr",
        "colab_type": "text"
      },
      "source": [
        "***A vous:*** \n",
        "\n",
        "* $(2\\heartsuit)$ Transformez X,Y en une belle dataFrame `iris_clean`. \n",
        "* $(2\\heartsuit)$ Ecrivez une fonction qui prend en entrée une dataFrame et qui la teste. \n",
        "* $(2\\heartsuit)$ Ajouter un test de non-nullité. \n",
        "* $(2\\heartsuit)$ Testez votre fonction sur `iris_data` et `iris_clean`\n",
        "* $(2\\heartsuit)$ Améliorer votre fonction pour qu'elle renvoit tous les défauts de la dataFrame (pas seulement le premier qu'elle rencontre). "
      ]
    }
  ]
}