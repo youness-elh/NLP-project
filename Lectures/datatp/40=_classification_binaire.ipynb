{
  "nbformat": 4,
  "nbformat_minor": 0,
  "metadata": {
    "colab": {
      "name": "40= classification_binaire.ipynb",
      "provenance": [],
      "collapsed_sections": []
    },
    "kernelspec": {
      "display_name": "Python 3",
      "language": "python",
      "name": "python3"
    },
    "accelerator": "GPU"
  },
  "cells": [
    {
      "cell_type": "markdown",
      "metadata": {
        "id": "wMT1cAQh6Qgx",
        "colab_type": "text"
      },
      "source": [
        "# Classification binaire\n",
        "\n",
        "Ce chapitre est un mixe entre\n",
        "*  [Deep Learning with Python](https://www.manning.com/books/deep-learning-with-python?a_aid=keras&a_bid=76564dff) par François Chollet et\n",
        "*   \"Hands-On Machine Learning with Scikit-Learn and TensorFlow\" d'Aurélien Géron\n",
        "\n",
        "On classifie des critiques de film en deux catégories: \"critique positive\" et  \"critique négative\".\n"
      ]
    },
    {
      "cell_type": "code",
      "metadata": {
        "id": "WMPn1NGFxZ-j",
        "colab_type": "code",
        "outputId": "8a5bb2d7-946d-45d9-d33c-6e964cf5f082",
        "colab": {
          "base_uri": "https://localhost:8080/",
          "height": 290
        }
      },
      "source": [
        "#après avoir fait tourner cela il faut redémarrer: Excécution>Redémarre l'environnement d'excécution\n",
        "!pip install --upgrade numpy==1.16.1"
      ],
      "execution_count": 0,
      "outputs": [
        {
          "output_type": "stream",
          "text": [
            "Collecting numpy==1.16.1\n",
            "\u001b[?25l  Downloading https://files.pythonhosted.org/packages/f5/bf/4981bcbee43934f0adb8f764a1e70ab0ee5a448f6505bd04a87a2fda2a8b/numpy-1.16.1-cp36-cp36m-manylinux1_x86_64.whl (17.3MB)\n",
            "\u001b[K     |████████████████████████████████| 17.3MB 195kB/s \n",
            "\u001b[31mERROR: datascience 0.10.6 has requirement folium==0.2.1, but you'll have folium 0.8.3 which is incompatible.\u001b[0m\n",
            "\u001b[31mERROR: albumentations 0.1.12 has requirement imgaug<0.2.7,>=0.2.5, but you'll have imgaug 0.2.9 which is incompatible.\u001b[0m\n",
            "\u001b[?25hInstalling collected packages: numpy\n",
            "  Found existing installation: numpy 1.17.5\n",
            "    Uninstalling numpy-1.17.5:\n",
            "      Successfully uninstalled numpy-1.17.5\n",
            "Successfully installed numpy-1.16.1\n"
          ],
          "name": "stdout"
        },
        {
          "output_type": "display_data",
          "data": {
            "application/vnd.colab-display-data+json": {
              "pip_warning": {
                "packages": [
                  "numpy"
                ]
              }
            }
          },
          "metadata": {
            "tags": []
          }
        }
      ]
    },
    {
      "cell_type": "code",
      "metadata": {
        "id": "rATteEOWrhfr",
        "colab_type": "code",
        "colab": {}
      },
      "source": [
        "%reset -f"
      ],
      "execution_count": 0,
      "outputs": []
    },
    {
      "cell_type": "code",
      "metadata": {
        "id": "H4ag5dI96Qgs",
        "colab_type": "code",
        "colab": {}
      },
      "source": [
        "import keras\n",
        "%tensorflow_version 1.x\n",
        "import numpy as np\n",
        "import matplotlib.pyplot as plt\n",
        "import pandas as pd"
      ],
      "execution_count": 0,
      "outputs": []
    },
    {
      "cell_type": "markdown",
      "metadata": {
        "id": "fYq4702zjOW7",
        "colab_type": "text"
      },
      "source": [
        "## Data"
      ]
    },
    {
      "cell_type": "markdown",
      "metadata": {
        "id": "PDwE523E6Qgx",
        "colab_type": "text"
      },
      "source": [
        "###  IMDB dataset\n",
        "\n",
        "\n"
      ]
    },
    {
      "cell_type": "code",
      "metadata": {
        "id": "CVmXY8lE6Qgz",
        "colab_type": "code",
        "outputId": "0df2ae72-85a4-4736-d4c8-9989159abd8b",
        "colab": {
          "base_uri": "https://localhost:8080/",
          "height": 50
        }
      },
      "source": [
        "\"download the dataset (80MB): it is done only the first time\"\n",
        "from keras.datasets import imdb\n",
        "(train_data, train_labels), (test_data, test_labels) = imdb.load_data(num_words=10000)"
      ],
      "execution_count": 0,
      "outputs": [
        {
          "output_type": "stream",
          "text": [
            "Downloading data from https://s3.amazonaws.com/text-datasets/imdb.npz\n",
            "17465344/17464789 [==============================] - 1s 0us/step\n"
          ],
          "name": "stdout"
        }
      ]
    },
    {
      "cell_type": "code",
      "metadata": {
        "id": "Tsb-msuQOR-F",
        "colab_type": "code",
        "outputId": "59e11cd4-3be4-43f5-b735-09167836b231",
        "colab": {
          "base_uri": "https://localhost:8080/",
          "height": 34
        }
      },
      "source": [
        "#de grande liste de review\n",
        "len(train_data),len(test_data)"
      ],
      "execution_count": 0,
      "outputs": [
        {
          "output_type": "execute_result",
          "data": {
            "text/plain": [
              "(25000, 25000)"
            ]
          },
          "metadata": {
            "tags": []
          },
          "execution_count": 5
        }
      ]
    },
    {
      "cell_type": "code",
      "metadata": {
        "id": "V_TQpZZIOdzY",
        "colab_type": "code",
        "outputId": "9f4bd163-e44b-4faf-890d-0e8876f79a54",
        "colab": {
          "base_uri": "https://localhost:8080/",
          "height": 34
        }
      },
      "source": [
        "#les review n'ont pas toute la même longueur\n",
        "len(train_data[0]),len(train_data[1]),len(train_data[2]),len(train_data[3])"
      ],
      "execution_count": 0,
      "outputs": [
        {
          "output_type": "execute_result",
          "data": {
            "text/plain": [
              "(218, 189, 141, 550)"
            ]
          },
          "metadata": {
            "tags": []
          },
          "execution_count": 6
        }
      ]
    },
    {
      "cell_type": "markdown",
      "metadata": {
        "id": "tugbCMU6sO-9",
        "colab_type": "text"
      },
      "source": [
        "Chaque élément est une liste d'indices. Chaque indiece représente un mot:"
      ]
    },
    {
      "cell_type": "code",
      "metadata": {
        "id": "Q-W7oUFP6Qg2",
        "colab_type": "code",
        "outputId": "755ab56d-1e2f-45b8-e4d7-acad95eda1b6",
        "colab": {
          "base_uri": "https://localhost:8080/",
          "height": 34
        }
      },
      "source": [
        "train_data[0][:10]"
      ],
      "execution_count": 0,
      "outputs": [
        {
          "output_type": "execute_result",
          "data": {
            "text/plain": [
              "[1, 14, 22, 16, 43, 530, 973, 1622, 1385, 65]"
            ]
          },
          "metadata": {
            "tags": []
          },
          "execution_count": 7
        }
      ]
    },
    {
      "cell_type": "markdown",
      "metadata": {
        "id": "8aCjiOKC6Qg0",
        "colab_type": "text"
      },
      "source": [
        "\n",
        "`num_words=10000` signifie que l'on n'a gardé que les 10000 mots les plus fréquents. Les autres ont été supprimés. \n",
        "\n",
        "\n",
        "\n"
      ]
    },
    {
      "cell_type": "code",
      "metadata": {
        "id": "WzxR6ca96Qg7",
        "colab_type": "code",
        "outputId": "7775094f-0dc1-4554-f22c-7f655f6c8a2e",
        "colab": {
          "base_uri": "https://localhost:8080/",
          "height": 34
        }
      },
      "source": [
        "max([max(sequence) for sequence in train_data])"
      ],
      "execution_count": 0,
      "outputs": [
        {
          "output_type": "execute_result",
          "data": {
            "text/plain": [
              "9999"
            ]
          },
          "metadata": {
            "tags": []
          },
          "execution_count": 8
        }
      ]
    },
    {
      "cell_type": "markdown",
      "metadata": {
        "id": "Da6pgAPrskrL",
        "colab_type": "text"
      },
      "source": [
        "`train_labels` et `test_labels` sont des listes de 0 ou 1. \n",
        "* 0 = \"negative\" \n",
        "* 1 = \"positive\""
      ]
    },
    {
      "cell_type": "code",
      "metadata": {
        "id": "bVFVOQVe6Qg4",
        "colab_type": "code",
        "outputId": "b4b41689-a6f1-4451-98c2-3496125a4005",
        "colab": {
          "base_uri": "https://localhost:8080/",
          "height": 34
        }
      },
      "source": [
        "train_labels[:10]"
      ],
      "execution_count": 0,
      "outputs": [
        {
          "output_type": "execute_result",
          "data": {
            "text/plain": [
              "array([1, 0, 0, 1, 0, 0, 1, 0, 1, 0])"
            ]
          },
          "metadata": {
            "tags": []
          },
          "execution_count": 9
        }
      ]
    },
    {
      "cell_type": "markdown",
      "metadata": {
        "id": "LFVoI67KtQ5_",
        "colab_type": "text"
      },
      "source": [
        "### Décodons"
      ]
    },
    {
      "cell_type": "markdown",
      "metadata": {
        "id": "16X_3tjl6Qg7",
        "colab_type": "text"
      },
      "source": [
        "\n",
        "Transformons les indices en mots:"
      ]
    },
    {
      "cell_type": "code",
      "metadata": {
        "id": "0BrgCxRI6Qg-",
        "colab_type": "code",
        "outputId": "1173cb4b-af49-4d7a-e2ef-052f927d62eb",
        "colab": {
          "base_uri": "https://localhost:8080/",
          "height": 50
        }
      },
      "source": [
        "# word_index is a dictionary mapping words to an integer index\n",
        "word_index = imdb.get_word_index()\n",
        "# We reverse it, mapping integer indices to words\n",
        "reverse_word_index = dict([(value, key) for (key, value) in word_index.items()])\n",
        "# We decode the review; note that our indices were offset by 3\n",
        "# because 0, 1 and 2 are reserved indices for \"padding\", \"start of sequence\", and \"unknown\".\n",
        "decoded_review = ' '.join([reverse_word_index.get(i - 3, '?') for i in train_data[0]])"
      ],
      "execution_count": 0,
      "outputs": [
        {
          "output_type": "stream",
          "text": [
            "Downloading data from https://s3.amazonaws.com/text-datasets/imdb_word_index.json\n",
            "1646592/1641221 [==============================] - 1s 0us/step\n"
          ],
          "name": "stdout"
        }
      ]
    },
    {
      "cell_type": "code",
      "metadata": {
        "id": "ek4cP26h6QhA",
        "colab_type": "code",
        "outputId": "e86a10b2-aac2-430a-897d-ee1da222a669",
        "colab": {
          "base_uri": "https://localhost:8080/",
          "height": 54
        }
      },
      "source": [
        "decoded_review"
      ],
      "execution_count": 0,
      "outputs": [
        {
          "output_type": "execute_result",
          "data": {
            "text/plain": [
              "\"? this film was just brilliant casting location scenery story direction everyone's really suited the part they played and you could just imagine being there robert ? is an amazing actor and now the same being director ? father came from the same scottish island as myself so i loved the fact there was a real connection with this film the witty remarks throughout the film were great it was just brilliant so much that i bought the film as soon as it was released for ? and would recommend it to everyone to watch and the fly fishing was amazing really cried at the end it was so sad and you know what they say if you cry at a film it must have been good and this definitely was also ? to the two little boy's that played the ? of norman and paul they were just brilliant children are often left out of the ? list i think because the stars that play them all grown up are such a big profile for the whole film but these children are amazing and should be praised for what they have done don't you think the whole story was so lovely because it was true and was someone's life after all that was shared with us all\""
            ]
          },
          "metadata": {
            "tags": []
          },
          "execution_count": 11
        }
      ]
    },
    {
      "cell_type": "markdown",
      "metadata": {
        "id": "WYzaIKtSCwDl",
        "colab_type": "text"
      },
      "source": [
        "***A vous:*** Cette review est clairement positive. Cherchez-en une négative et décodez là $(2\\heartsuit)$. "
      ]
    },
    {
      "cell_type": "markdown",
      "metadata": {
        "id": "nBO7afY-6QhD",
        "colab_type": "text"
      },
      "source": [
        "### Préparons les données\n",
        "\n",
        "\n",
        "Des indices représentant des mots sont des variables qualitatives. Il faut les numériser. Deux techniques existes:\n",
        "\n",
        "* \"vord2vec\" il s'agit de représenter chaque mot par un vecteur de grande dimension, de telle manière à ce que les relations sémentiques entre les mots se traduisent en relation vectorielles. Verra cela plus tard. \n",
        "\n",
        "* \"one_hot_encoding\": une review du type `[3, 5 ,1]` sera changée un vecteur de taille 10 000 composés de 0 saut pour les indices 3,5,1 qui seront mis à 1. \n"
      ]
    },
    {
      "cell_type": "code",
      "metadata": {
        "id": "4EcBChK26QhF",
        "colab_type": "code",
        "colab": {}
      },
      "source": [
        "def vectorize_sequences(sequences, dimension):\n",
        "    # Create an all-zero matrix of shape (len(sequences), dimension)\n",
        "    results = np.zeros((len(sequences), dimension), dtype=np.int32)\n",
        "    for i, sequence in enumerate(sequences):\n",
        "        results[i, sequence] = 1  # set specific indices of results[i] to 1s\n",
        "    return results"
      ],
      "execution_count": 0,
      "outputs": []
    },
    {
      "cell_type": "markdown",
      "metadata": {
        "id": "4HW0sblRCEOw",
        "colab_type": "text"
      },
      "source": [
        "***A vous:*** $(1\\heartsuit)$ Est-ce l'ordre des mots a une importance après l'encodage?  Est-ce que la répétition d'un même mot a une importance?\n",
        "\n"
      ]
    },
    {
      "cell_type": "markdown",
      "metadata": {
        "id": "zr6LgDoNVEeN",
        "colab_type": "text"
      },
      "source": [
        "***A vous:*** ($2\\heartsuit$) implantez une fonction `vectorize_sequences_with_count` qui prend en compte le nombre d'apparition des mots. Par exemple: \n",
        "\n",
        "    vectorize_sequences_with_count([[3,1,1,3],[1,2,2]],10)\n",
        "    \n",
        "renvera\n",
        "\n",
        "    [[0 2 0 2 0 0 0 0 0 0]\n",
        "    [0 1 2 0 0 0 0 0 0 0]]"
      ]
    },
    {
      "cell_type": "markdown",
      "metadata": {
        "id": "zT-Yv0T_6QhJ",
        "colab_type": "text"
      },
      "source": [
        "### Séparation train/val"
      ]
    },
    {
      "cell_type": "code",
      "metadata": {
        "id": "HNfRuk2UwGdY",
        "colab_type": "code",
        "outputId": "b75edacd-7016-42d6-cf81-171f5eb1ac18",
        "colab": {
          "base_uri": "https://localhost:8080/",
          "height": 34
        }
      },
      "source": [
        "nb_val=10000\n",
        "\n",
        "x_train_val = vectorize_sequences(train_data,nb_val)\n",
        "x_val = x_train_val[:nb_val]\n",
        "x_train = x_train_val[nb_val:]\n",
        "\n",
        "x_test = vectorize_sequences(test_data,nb_val)\n",
        "\n",
        "x_train.shape,x_val.shape,x_test.shape"
      ],
      "execution_count": 0,
      "outputs": [
        {
          "output_type": "execute_result",
          "data": {
            "text/plain": [
              "((15000, 10000), (10000, 10000), (25000, 10000))"
            ]
          },
          "metadata": {
            "tags": []
          },
          "execution_count": 13
        }
      ]
    },
    {
      "cell_type": "code",
      "metadata": {
        "id": "QRVJVeBI6QhK",
        "colab_type": "code",
        "outputId": "c77c95a1-7ede-4190-9bee-73794189012d",
        "colab": {
          "base_uri": "https://localhost:8080/",
          "height": 34
        }
      },
      "source": [
        "# Our vectorized labels\n",
        "y_train_val = np.array(train_labels,dtype=np.int32)\n",
        "y_val = y_train_val[:nb_val]\n",
        "y_train = y_train_val[nb_val:]\n",
        "y_test = np.array(test_labels,dtype=np.int32)\n",
        "\n",
        "y_train.shape,y_val.shape,y_test.shape"
      ],
      "execution_count": 0,
      "outputs": [
        {
          "output_type": "execute_result",
          "data": {
            "text/plain": [
              "((15000,), (10000,), (25000,))"
            ]
          },
          "metadata": {
            "tags": []
          },
          "execution_count": 14
        }
      ]
    },
    {
      "cell_type": "code",
      "metadata": {
        "id": "QH4XLdOQwckg",
        "colab_type": "code",
        "outputId": "0a7ed80e-df01-4478-e494-279d7c12d828",
        "colab": {
          "base_uri": "https://localhost:8080/",
          "height": 50
        }
      },
      "source": [
        "val_count=np.unique(y_val,return_counts=True)[1]\n",
        "print(\"répartition des 0-1 dans le jeu de validation:\",val_count)\n",
        "\n",
        "train_count=np.unique(y_train,return_counts=True)[1]\n",
        "print(\"répartition des 0-1 dans le jeu de train:\",train_count)"
      ],
      "execution_count": 0,
      "outputs": [
        {
          "output_type": "stream",
          "text": [
            "répartition des 0-1 dans le jeu de validation: [4947 5053]\n",
            "répartition des 0-1 dans le jeu de train: [7553 7447]\n"
          ],
          "name": "stdout"
        }
      ]
    },
    {
      "cell_type": "markdown",
      "metadata": {
        "id": "t13UFdLnjYjo",
        "colab_type": "text"
      },
      "source": [
        "## Model"
      ]
    },
    {
      "cell_type": "markdown",
      "metadata": {
        "id": "Xz4t8HsTCXHI",
        "colab_type": "text"
      },
      "source": [
        "###  mathématiquement\n",
        "\n",
        "\n",
        "1/ nous créons un modèle: il s'agissait d'une fonction $x \\to model_w(x)$ à valeur dans $[0,1]$, paramétrée par $w$. Cette fonction est la composition de fonctions très simple:\n",
        "\n",
        "* Fonction linéaire\n",
        "* Fonction `relu` (pour introduire des non-linéarité)\n",
        "* Fonction sigmoide (pour fini dans $[0,1]$)\n",
        "\n",
        "\n",
        "2/ Notre intuition est la suivante: Pour un certain jeu de paramètres $w$,  pour tout couple de données $(x,y)$, on pense que\n",
        "$$\n",
        "model_w(x)= \\hat y\\in[0,1]  \\qquad \\text{ est proche de } \\qquad  y \\in \\{0,1\\}\n",
        "$$ \n",
        "\n",
        "3/ On choisit une 'distance' (une loss) pour mesure l'écart entre $\\hat y$ et  $y$, c'est la crossentropy **binaire**, une fonction qui prend deux argments  $p, q \\in [0,1]$:\n",
        "$$\n",
        "H(p, q ) =  - p \\log (q )   -  (1-p) \\log(1-q) \n",
        "$$\n",
        "Que l'on applique avec $p = y\\in{0,1}$ et $\\hat p = \\hat y= model_w(x)$ et que l'on somme sur toutes les observations:\n",
        "$$\n",
        "loss_w= \\sum_{i \\in train} H (y_i, model_w(x_i) )\n",
        "$$\n",
        "On demande à l'algo d'optimisation de trouver le $w$ qui minimise cette loss. \n",
        "\n",
        "4/ La fonction $x\\to model_{\\hat w} (x)$ sera un bon outil pour rédire des nouveaux input $x$. \n",
        "\n",
        "\n",
        "\n",
        "***A vous:*** $(1\\heartsuit)$ La cross-entropy générale s'applique à deux vecteur de probabilité $P$ et $Q$. \n",
        "$$\n",
        "H( P, Q ) =  - \\sum_i P_i \\log ( Q_i )  \n",
        "$$\n",
        "Quel est le lien avec la cross-entropy binaire?\n",
        "\n",
        "\n"
      ]
    },
    {
      "cell_type": "markdown",
      "metadata": {
        "id": "h0tAiJQsDqAR",
        "colab_type": "text"
      },
      "source": [
        "### Building\n",
        "\n",
        "Our input data is simply vectors, and our labels are scalars (1s and 0s): this is the easiest setup you will ever encounter. A type of \n",
        "network that performs well on such a problem would be a simple stack of fully-connected (`Dense`) layers with `relu` activations:"
      ]
    },
    {
      "cell_type": "code",
      "metadata": {
        "id": "UBjMmIqO6QhP",
        "colab_type": "code",
        "outputId": "f25b74c5-bd58-4cf6-e74d-c32b0ae72267",
        "colab": {
          "base_uri": "https://localhost:8080/",
          "height": 138
        }
      },
      "source": [
        "model = keras.models.Sequential()\n",
        "# layer1 = relu(  input@W1 + b1), de shape (batch_size,16)\n",
        "model.add(keras.layers.Dense(16, activation='relu', input_shape=(10000,)))\n",
        "# layer2 = relu(  layer1@W2 + b2), de shape (batch_size,20)\n",
        "model.add(keras.layers.Dense(20, activation='relu'))\n",
        "# output = sigmoid(  layer2@W3 + b3), de shape (batch_size,1)\n",
        "model.add(keras.layers.Dense(1, activation='sigmoid'))"
      ],
      "execution_count": 0,
      "outputs": [
        {
          "output_type": "stream",
          "text": [
            "WARNING:tensorflow:From /usr/local/lib/python3.6/dist-packages/keras/backend/tensorflow_backend.py:66: The name tf.get_default_graph is deprecated. Please use tf.compat.v1.get_default_graph instead.\n",
            "\n",
            "WARNING:tensorflow:From /usr/local/lib/python3.6/dist-packages/keras/backend/tensorflow_backend.py:541: The name tf.placeholder is deprecated. Please use tf.compat.v1.placeholder instead.\n",
            "\n",
            "WARNING:tensorflow:From /usr/local/lib/python3.6/dist-packages/keras/backend/tensorflow_backend.py:4432: The name tf.random_uniform is deprecated. Please use tf.random.uniform instead.\n",
            "\n"
          ],
          "name": "stdout"
        }
      ]
    },
    {
      "cell_type": "code",
      "metadata": {
        "id": "OcIAoIC7Atqu",
        "colab_type": "code",
        "outputId": "57f73a9a-58e6-43ae-a65f-e162d98ba085",
        "colab": {
          "base_uri": "https://localhost:8080/",
          "height": 440
        }
      },
      "source": [
        "\"vérifions les shape des tenseurs de paramètres:\"\n",
        "for index in [0,1,2]:\n",
        "    weights,bias=model.layers[index].get_weights()\n",
        "    print(\"layer %d\"%index)\n",
        "    print(\"weights.shape:\",weights.shape)\n",
        "    print(\"bias.shape:\",bias.shape)\n",
        "    print()"
      ],
      "execution_count": 0,
      "outputs": [
        {
          "output_type": "stream",
          "text": [
            "WARNING:tensorflow:From /usr/local/lib/python3.6/dist-packages/keras/backend/tensorflow_backend.py:190: The name tf.get_default_session is deprecated. Please use tf.compat.v1.get_default_session instead.\n",
            "\n",
            "WARNING:tensorflow:From /usr/local/lib/python3.6/dist-packages/keras/backend/tensorflow_backend.py:197: The name tf.ConfigProto is deprecated. Please use tf.compat.v1.ConfigProto instead.\n",
            "\n",
            "WARNING:tensorflow:From /usr/local/lib/python3.6/dist-packages/keras/backend/tensorflow_backend.py:203: The name tf.Session is deprecated. Please use tf.compat.v1.Session instead.\n",
            "\n",
            "WARNING:tensorflow:From /usr/local/lib/python3.6/dist-packages/keras/backend/tensorflow_backend.py:207: The name tf.global_variables is deprecated. Please use tf.compat.v1.global_variables instead.\n",
            "\n",
            "WARNING:tensorflow:From /usr/local/lib/python3.6/dist-packages/keras/backend/tensorflow_backend.py:216: The name tf.is_variable_initialized is deprecated. Please use tf.compat.v1.is_variable_initialized instead.\n",
            "\n",
            "WARNING:tensorflow:From /usr/local/lib/python3.6/dist-packages/keras/backend/tensorflow_backend.py:223: The name tf.variables_initializer is deprecated. Please use tf.compat.v1.variables_initializer instead.\n",
            "\n",
            "layer 0\n",
            "weights.shape: (10000, 16)\n",
            "bias.shape: (16,)\n",
            "\n",
            "layer 1\n",
            "weights.shape: (16, 20)\n",
            "bias.shape: (20,)\n",
            "\n",
            "layer 2\n",
            "weights.shape: (20, 1)\n",
            "bias.shape: (1,)\n",
            "\n"
          ],
          "name": "stdout"
        }
      ]
    },
    {
      "cell_type": "code",
      "metadata": {
        "id": "zBHkhMhw4HnY",
        "colab_type": "code",
        "outputId": "ffc78e61-8c23-46de-98c5-f9daa97f3687",
        "colab": {
          "base_uri": "https://localhost:8080/",
          "height": 252
        }
      },
      "source": [
        "model.summary()"
      ],
      "execution_count": 0,
      "outputs": [
        {
          "output_type": "stream",
          "text": [
            "Model: \"sequential_1\"\n",
            "_________________________________________________________________\n",
            "Layer (type)                 Output Shape              Param #   \n",
            "=================================================================\n",
            "dense_1 (Dense)              (None, 16)                160016    \n",
            "_________________________________________________________________\n",
            "dense_2 (Dense)              (None, 20)                340       \n",
            "_________________________________________________________________\n",
            "dense_3 (Dense)              (None, 1)                 21        \n",
            "=================================================================\n",
            "Total params: 160,377\n",
            "Trainable params: 160,377\n",
            "Non-trainable params: 0\n",
            "_________________________________________________________________\n"
          ],
          "name": "stdout"
        }
      ]
    },
    {
      "cell_type": "markdown",
      "metadata": {
        "id": "5BVgUtAI6QhO",
        "colab_type": "text"
      },
      "source": [
        "\n",
        "***Remarque:*** Pour chaque couche cachée: le nombre de neurone (=la dimension=nb units) correspond à \"combien de degré de liberté on donne au réseau de neurone pour se représenter le problème\". Avec beaucoup de liberté, le réseau peut se faire des représentations plus complexe. Mais cela requiert plus de calcul, et il peut apprendre des motifs (=pattern) superflus: propre au donnée train et donc non généralisable. \n"
      ]
    },
    {
      "cell_type": "markdown",
      "metadata": {
        "id": "K5eUmVQBqVao",
        "colab_type": "text"
      },
      "source": [
        "### Compiler"
      ]
    },
    {
      "cell_type": "markdown",
      "metadata": {
        "id": "MTFgLF9_6QhS",
        "colab_type": "text"
      },
      "source": [
        "\n",
        "Il s'agit de préciser: \n",
        "\n",
        "* l'optimizer. 'rmsprop' ou 'adam' sont toujours de bon choix. \n",
        "* la fonction loss. Ici on a une classification binaire, et on a terminer notre réseau par une sigmoide qui donne une proba. Donc on choisit: `binary_crossentropy`\n",
        "* Des metrics=des valeurs pour observer les performances. On met naturellement l'accuracy= proportion de bien classé. \n"
      ]
    },
    {
      "cell_type": "code",
      "metadata": {
        "id": "mGh3JR4b6QhT",
        "colab_type": "code",
        "outputId": "eedfc6a7-a92e-4598-f208-9d003ca34237",
        "colab": {
          "base_uri": "https://localhost:8080/",
          "height": 154
        }
      },
      "source": [
        "model.compile(optimizer=keras.optimizers.Adam(0.001), \n",
        "              loss=keras.losses.binary_crossentropy,\n",
        "              metrics=[keras.metrics.binary_accuracy])"
      ],
      "execution_count": 0,
      "outputs": [
        {
          "output_type": "stream",
          "text": [
            "WARNING:tensorflow:From /usr/local/lib/python3.6/dist-packages/keras/optimizers.py:793: The name tf.train.Optimizer is deprecated. Please use tf.compat.v1.train.Optimizer instead.\n",
            "\n",
            "WARNING:tensorflow:From /usr/local/lib/python3.6/dist-packages/keras/backend/tensorflow_backend.py:3657: The name tf.log is deprecated. Please use tf.math.log instead.\n",
            "\n",
            "WARNING:tensorflow:From /usr/local/lib/python3.6/dist-packages/tensorflow_core/python/ops/nn_impl.py:183: where (from tensorflow.python.ops.array_ops) is deprecated and will be removed in a future version.\n",
            "Instructions for updating:\n",
            "Use tf.where in 2.0, which has the same broadcast rule as np.where\n"
          ],
          "name": "stdout"
        }
      ]
    },
    {
      "cell_type": "markdown",
      "metadata": {
        "id": "1St2R3uXqJM7",
        "colab_type": "text"
      },
      "source": [
        "### Récréation: dessinons un petit modèle"
      ]
    },
    {
      "cell_type": "markdown",
      "metadata": {
        "id": "w5doVPcjM7Ix",
        "colab_type": "text"
      },
      "source": [
        "Voici un réseau plus modeste.\n",
        "\n",
        "    model = models.Sequential()\n",
        "    model.add(layers.Dense(8, activation='relu', input_shape=(16,)))\n",
        "    model.add(layers.Dense(4, activation='relu'))\n",
        "    model.add(layers.Dense(1, activation='sigmoid'))\n",
        "    \n",
        "Effectuons une représentation graphique: Chaque flèche represente un paramètre.\n",
        "\n",
        "***A vous:*** Que symbolisent les fèches noires ($1\\heartsuit$)? Combien ce réseau a de paramètre ($1\\heartsuit$)?"
      ]
    },
    {
      "cell_type": "code",
      "metadata": {
        "id": "D3xEYV3SIcEV",
        "colab_type": "code",
        "outputId": "ede2c3c0-8ef3-49d1-b7ef-ece58731be26",
        "colab": {
          "base_uri": "https://localhost:8080/",
          "height": 265
        }
      },
      "source": [
        "\n",
        "nb_input=16\n",
        "nb_hidden1=8\n",
        "nb_hidden2=4\n",
        "input_points= [(1,i) for i in range(nb_input)]\n",
        "hidden1_points=[(2,2*i+0.5) for i in range(nb_hidden1)]\n",
        "hidden2_points=[(3,4*i+1) for i in range(nb_hidden2)]\n",
        "\n",
        "\n",
        "for x,y in input_points:\n",
        "  for a,b in hidden1_points:\n",
        "    plt.plot([x,a],[y,b])\n",
        "    \n",
        "\n",
        "for a,b in hidden1_points:\n",
        "  plt.plot([1.1,a],[16,b],\"k\")\n",
        "  for x,y in hidden2_points:\n",
        "    plt.plot([x,a],[y,b])\n",
        "      \n",
        "    \n",
        "for x,y in hidden2_points:\n",
        "  plt.plot([2.1,x],[16,y],\"k\")\n",
        "  plt.plot([x,4],[y,8])  \n",
        "    \n",
        "\n",
        "plt.plot([3.1,4],[16,8],\"k\");    "
      ],
      "execution_count": 0,
      "outputs": [
        {
          "output_type": "display_data",
          "data": {
            "image/png": "[encoded data removed]",
            "text/plain": [
              "<Figure size 432x288 with 1 Axes>"
            ]
          },
          "metadata": {
            "tags": []
          }
        }
      ]
    },
    {
      "cell_type": "markdown",
      "metadata": {
        "id": "e4KF96oXqex0",
        "colab_type": "text"
      },
      "source": [
        "## Train, validation, test"
      ]
    },
    {
      "cell_type": "markdown",
      "metadata": {
        "id": "TWCjXtm66QhZ",
        "colab_type": "text"
      },
      "source": [
        "### Validons notre approche\n",
        "\n",
        "\n",
        "* Pour chaque époque: on passe l'intégralité des données `train` par paquet (=batch) de 512. \n",
        "\n",
        "* Pour chaque paquet: on fait marcher l'optimizer. \n",
        "\n",
        "* A la fin de chaque epoch, on evalue le modèle sur les 10 000 données de validation, sans faire fonctionner l'optimizer (cela provoque une petite pause)."
      ]
    },
    {
      "cell_type": "code",
      "metadata": {
        "id": "T8aEsAyE6Qhd",
        "colab_type": "code",
        "outputId": "76d09535-d1fd-4714-ab36-d4fadf176866",
        "colab": {
          "base_uri": "https://localhost:8080/",
          "height": 793
        }
      },
      "source": [
        "history = model.fit(x_train,\n",
        "                    y_train,\n",
        "                    epochs=20,\n",
        "                    batch_size=512,\n",
        "                    validation_data=(x_val, y_val))"
      ],
      "execution_count": 0,
      "outputs": [
        {
          "output_type": "stream",
          "text": [
            "WARNING:tensorflow:From /usr/local/lib/python3.6/dist-packages/keras/backend/tensorflow_backend.py:1033: The name tf.assign_add is deprecated. Please use tf.compat.v1.assign_add instead.\n",
            "\n",
            "WARNING:tensorflow:From /usr/local/lib/python3.6/dist-packages/keras/backend/tensorflow_backend.py:1020: The name tf.assign is deprecated. Please use tf.compat.v1.assign instead.\n",
            "\n",
            "Train on 15000 samples, validate on 10000 samples\n",
            "Epoch 1/20\n",
            "15000/15000 [==============================] - 3s 178us/step - loss: 0.5902 - binary_accuracy: 0.7603 - val_loss: 0.4490 - val_binary_accuracy: 0.8575\n",
            "Epoch 2/20\n",
            "15000/15000 [==============================] - 1s 60us/step - loss: 0.3416 - binary_accuracy: 0.8940 - val_loss: 0.3145 - val_binary_accuracy: 0.8835\n",
            "Epoch 3/20\n",
            "15000/15000 [==============================] - 1s 60us/step - loss: 0.2233 - binary_accuracy: 0.9270 - val_loss: 0.2817 - val_binary_accuracy: 0.8877\n",
            "Epoch 4/20\n",
            "15000/15000 [==============================] - 1s 59us/step - loss: 0.1640 - binary_accuracy: 0.9474 - val_loss: 0.2798 - val_binary_accuracy: 0.8881\n",
            "Epoch 5/20\n",
            "15000/15000 [==============================] - 1s 59us/step - loss: 0.1261 - binary_accuracy: 0.9620 - val_loss: 0.2947 - val_binary_accuracy: 0.8844\n",
            "Epoch 6/20\n",
            "15000/15000 [==============================] - 1s 60us/step - loss: 0.1005 - binary_accuracy: 0.9726 - val_loss: 0.3095 - val_binary_accuracy: 0.8836\n",
            "Epoch 7/20\n",
            "15000/15000 [==============================] - 1s 61us/step - loss: 0.0775 - binary_accuracy: 0.9825 - val_loss: 0.3311 - val_binary_accuracy: 0.8822\n",
            "Epoch 8/20\n",
            "15000/15000 [==============================] - 1s 61us/step - loss: 0.0603 - binary_accuracy: 0.9889 - val_loss: 0.3583 - val_binary_accuracy: 0.8798\n",
            "Epoch 9/20\n",
            "15000/15000 [==============================] - 1s 60us/step - loss: 0.0471 - binary_accuracy: 0.9928 - val_loss: 0.3843 - val_binary_accuracy: 0.8777\n",
            "Epoch 10/20\n",
            "15000/15000 [==============================] - 1s 60us/step - loss: 0.0368 - binary_accuracy: 0.9950 - val_loss: 0.4104 - val_binary_accuracy: 0.8757\n",
            "Epoch 11/20\n",
            "15000/15000 [==============================] - 1s 60us/step - loss: 0.0286 - binary_accuracy: 0.9971 - val_loss: 0.4388 - val_binary_accuracy: 0.8753\n",
            "Epoch 12/20\n",
            "15000/15000 [==============================] - 1s 60us/step - loss: 0.0221 - binary_accuracy: 0.9986 - val_loss: 0.4665 - val_binary_accuracy: 0.8733\n",
            "Epoch 13/20\n",
            "15000/15000 [==============================] - 1s 59us/step - loss: 0.0176 - binary_accuracy: 0.9992 - val_loss: 0.4932 - val_binary_accuracy: 0.8729\n",
            "Epoch 14/20\n",
            "15000/15000 [==============================] - 1s 59us/step - loss: 0.0139 - binary_accuracy: 0.9997 - val_loss: 0.5162 - val_binary_accuracy: 0.8702\n",
            "Epoch 15/20\n",
            "15000/15000 [==============================] - 1s 60us/step - loss: 0.0111 - binary_accuracy: 0.9998 - val_loss: 0.5416 - val_binary_accuracy: 0.8707\n",
            "Epoch 16/20\n",
            "15000/15000 [==============================] - 1s 59us/step - loss: 0.0092 - binary_accuracy: 0.9999 - val_loss: 0.5623 - val_binary_accuracy: 0.8692\n",
            "Epoch 17/20\n",
            "15000/15000 [==============================] - 1s 61us/step - loss: 0.0076 - binary_accuracy: 0.9999 - val_loss: 0.5810 - val_binary_accuracy: 0.8659\n",
            "Epoch 18/20\n",
            "15000/15000 [==============================] - 1s 59us/step - loss: 0.0064 - binary_accuracy: 0.9999 - val_loss: 0.5989 - val_binary_accuracy: 0.8663\n",
            "Epoch 19/20\n",
            "15000/15000 [==============================] - 1s 60us/step - loss: 0.0055 - binary_accuracy: 0.9999 - val_loss: 0.6169 - val_binary_accuracy: 0.8658\n",
            "Epoch 20/20\n",
            "15000/15000 [==============================] - 1s 60us/step - loss: 0.0047 - binary_accuracy: 0.9999 - val_loss: 0.6339 - val_binary_accuracy: 0.8651\n"
          ],
          "name": "stdout"
        }
      ]
    },
    {
      "cell_type": "markdown",
      "metadata": {
        "id": "WurVeKh76Qhg",
        "colab_type": "text"
      },
      "source": [
        "Ma méthode `model.fit()` retourne un objet `History` qui a un attribut `history` qui est un dico contenant les valeurs numériques du monitoring. Traçons-les."
      ]
    },
    {
      "cell_type": "code",
      "metadata": {
        "id": "kV-i2qLu6Qhg",
        "colab_type": "code",
        "outputId": "06da3974-5d58-4b63-9d42-7e8d74813d04",
        "colab": {
          "base_uri": "https://localhost:8080/",
          "height": 34
        }
      },
      "source": [
        "history_dict = history.history\n",
        "history_dict.keys()"
      ],
      "execution_count": 0,
      "outputs": [
        {
          "output_type": "execute_result",
          "data": {
            "text/plain": [
              "dict_keys(['val_loss', 'val_binary_accuracy', 'loss', 'binary_accuracy'])"
            ]
          },
          "metadata": {
            "tags": []
          },
          "execution_count": 22
        }
      ]
    },
    {
      "cell_type": "code",
      "metadata": {
        "id": "5SsbvLk26Qhi",
        "colab_type": "code",
        "outputId": "ef77dd24-bb5d-4d0b-8fa1-8a3ecb671011",
        "colab": {
          "base_uri": "https://localhost:8080/",
          "height": 295
        }
      },
      "source": [
        "loss = history.history['loss']\n",
        "val_loss = history.history['val_loss']\n",
        "\n",
        "epochs = range(1, len(loss) + 1)\n",
        "\n",
        "# \"bo\" is for \"blue dot\"\n",
        "plt.plot(epochs, loss, 'b', label='Training loss')\n",
        "# b is for \"solid blue line\"\n",
        "plt.plot(epochs, val_loss, 'g.', label='Validation loss')\n",
        "plt.title('Training and validation loss')\n",
        "plt.xlabel('Epochs')\n",
        "plt.ylabel('Loss')\n",
        "plt.legend();"
      ],
      "execution_count": 0,
      "outputs": [
        {
          "output_type": "display_data",
          "data": {
            "image/png": "[encoded data removed]",
            "text/plain": [
              "<Figure size 432x288 with 1 Axes>"
            ]
          },
          "metadata": {
            "tags": []
          }
        }
      ]
    },
    {
      "cell_type": "code",
      "metadata": {
        "id": "oeF-P8Fx6Qhk",
        "colab_type": "code",
        "outputId": "3c3dce78-2c93-4039-9573-e6fa65d01ec8",
        "colab": {
          "base_uri": "https://localhost:8080/",
          "height": 295
        }
      },
      "source": [
        "acc = history_dict['binary_accuracy']\n",
        "val_acc = history_dict['val_binary_accuracy']\n",
        "\n",
        "plt.plot(epochs, acc, 'b', label='Training acc')\n",
        "plt.plot(epochs, val_acc, 'g.', label='Validation acc')\n",
        "plt.title('Training and validation accuracy')\n",
        "plt.xlabel('Epochs')\n",
        "plt.ylabel('Loss')\n",
        "plt.legend();"
      ],
      "execution_count": 0,
      "outputs": [
        {
          "output_type": "display_data",
          "data": {
            "image/png": "[encoded data removed]",
            "text/plain": [
              "<Figure size 432x288 with 1 Axes>"
            ]
          },
          "metadata": {
            "tags": []
          }
        }
      ]
    },
    {
      "cell_type": "markdown",
      "metadata": {
        "id": "2b_d909p6Qhm",
        "colab_type": "text"
      },
      "source": [
        "\n",
        "* la loss décroit sans arrêt: notre optimizer fonctionne. \n",
        "* Mais la val_loss remonte après 3 epochs\n",
        "\n",
        "C'est typique du sur-apprentissage (over-fitting): L'optimizer apprend des motifs spécifique au donnée train et donc qui ne se généralise pas au données `val`, `test` et au futur données entrantes. \n",
        "\n",
        "\n",
        "La technique la plus simple pour éviter cela est l'early-stopping: on arrête l'apprentissage quand la val_loss remonte. Deux façon de procéder:\n",
        "\n",
        "* On enregistre les paramètres (w,b) du modèle à chaque nouveau minimum de la val_loss. A la fin de l'entrainement, on revient au meilleur modèle. \n",
        "* On relance entièrement l'entrainement. Puisqu'ici l'entrainement est très rapide, c'est ce que nous faisons:\n"
      ]
    },
    {
      "cell_type": "code",
      "metadata": {
        "id": "K56mXsG56Qhm",
        "colab_type": "code",
        "outputId": "7eccc176-4dff-41d3-ac55-e8ac602bac89",
        "colab": {
          "base_uri": "https://localhost:8080/",
          "height": 118
        }
      },
      "source": [
        "model = keras.models.Sequential()\n",
        "model.add(keras.layers.Dense(16, activation='relu', input_shape=(10000,)))\n",
        "model.add(keras.layers.Dense(20, activation='relu'))\n",
        "model.add(keras.layers.Dense(1, activation='sigmoid'))\n",
        "\n",
        "model.compile(optimizer='rmsprop',\n",
        "              loss='binary_crossentropy',\n",
        "              metrics=['accuracy'])\n",
        "\n",
        "model.fit(x_train, y_train, epochs=3, batch_size=512);\n"
      ],
      "execution_count": 0,
      "outputs": [
        {
          "output_type": "stream",
          "text": [
            "Epoch 1/3\n",
            "15000/15000 [==============================] - 1s 52us/step - loss: 0.5075 - acc: 0.7840\n",
            "Epoch 2/3\n",
            "15000/15000 [==============================] - 1s 39us/step - loss: 0.3071 - acc: 0.9019\n",
            "Epoch 3/3\n",
            "15000/15000 [==============================] - 1s 39us/step - loss: 0.2242 - acc: 0.9264\n"
          ],
          "name": "stdout"
        }
      ]
    },
    {
      "cell_type": "markdown",
      "metadata": {
        "id": "eZ6YpOUDt-UN",
        "colab_type": "text"
      },
      "source": [
        "***Attention:*** Contrairement à `sklearn`, l'appelle de la fonction `fit` ne réinitialise pas les paramètres du modèle. Même ma méthode `compile` ne réinitialise pas. Il faut ré-écrire le modèle du début. "
      ]
    },
    {
      "cell_type": "markdown",
      "metadata": {
        "id": "SbDb8SXbnJyA",
        "colab_type": "text"
      },
      "source": [
        "### Evaluons le modèle sur les données tests"
      ]
    },
    {
      "cell_type": "code",
      "metadata": {
        "id": "lD4LIwzi6Qho",
        "colab_type": "code",
        "outputId": "59785098-3961-4e8c-d35a-67aceb26f104",
        "colab": {
          "base_uri": "https://localhost:8080/",
          "height": 50
        }
      },
      "source": [
        "results = model.evaluate(x_test, y_test)\n",
        "results"
      ],
      "execution_count": 0,
      "outputs": [
        {
          "output_type": "stream",
          "text": [
            "25000/25000 [==============================] - 2s 76us/step\n"
          ],
          "name": "stdout"
        },
        {
          "output_type": "execute_result",
          "data": {
            "text/plain": [
              "[0.2971422880554199, 0.88172]"
            ]
          },
          "metadata": {
            "tags": []
          },
          "execution_count": 26
        }
      ]
    },
    {
      "cell_type": "markdown",
      "metadata": {
        "id": "aLLeReLv6Qhr",
        "colab_type": "text"
      },
      "source": [
        "88% de précision: pas mal. Mais les approches de l'\"état de l'art\" (state-of-the-art) font du 95%."
      ]
    },
    {
      "cell_type": "markdown",
      "metadata": {
        "id": "n0m77l8bHSB8",
        "colab_type": "text"
      },
      "source": [
        "***A vous:*** $(2\\heartsuit)$  Pour le protocole que l'on a utilisé:  était-il vraiment nécessaire d'avoir des données `validation` et `test` distinctes?"
      ]
    },
    {
      "cell_type": "markdown",
      "metadata": {
        "id": "Fn21xXyN6Qhs",
        "colab_type": "text"
      },
      "source": [
        "### Predictions\n"
      ]
    },
    {
      "cell_type": "code",
      "metadata": {
        "id": "JsS0ml9l6Qhv",
        "colab_type": "code",
        "outputId": "42f53352-3fc4-4cb8-e892-d61e4acace06",
        "colab": {
          "base_uri": "https://localhost:8080/",
          "height": 50
        }
      },
      "source": [
        "hat_y_test_proba=model.predict(x_test)\n",
        "hat_y_test=(hat_y_test_proba>0.5).astype(int).flatten()\n",
        "\n",
        "print(hat_y_test[:10])\n",
        "print(y_test[:10])"
      ],
      "execution_count": 0,
      "outputs": [
        {
          "output_type": "stream",
          "text": [
            "[0 1 1 1 1 1 1 0 1 1]\n",
            "[0 1 1 0 1 1 1 0 0 1]\n"
          ],
          "name": "stdout"
        }
      ]
    },
    {
      "cell_type": "markdown",
      "metadata": {
        "id": "1WoWTXpxoYJb",
        "colab_type": "text"
      },
      "source": [
        "***A vous:*** Retrouver le chiffre de 88% d'accuracy à partir des 2 vecteurs précédents. "
      ]
    },
    {
      "cell_type": "code",
      "metadata": {
        "id": "0aSjMg8d0mtA",
        "colab_type": "code",
        "outputId": "a413fcc7-6280-4ee3-9624-0dea6fab8282",
        "colab": {
          "base_uri": "https://localhost:8080/",
          "height": 157
        }
      },
      "source": [
        "fig,(ax0,ax1)=plt.subplots(1,2,figsize=(8,2))\n",
        "ax0.hist(hat_y_test_proba[y_test==0],bins=40,edgecolor=\"k\")\n",
        "ax1.hist(hat_y_test_proba[y_test==1],bins=40,edgecolor=\"k\");"
      ],
      "execution_count": 0,
      "outputs": [
        {
          "output_type": "display_data",
          "data": {
            "image/png": "[encoded data removed]",
            "text/plain": [
              "<Figure size 576x144 with 2 Axes>"
            ]
          },
          "metadata": {
            "tags": []
          }
        }
      ]
    },
    {
      "cell_type": "markdown",
      "metadata": {
        "id": "k4zde5g76Qhx",
        "colab_type": "text"
      },
      "source": [
        "On peut voir que le réseau est assez confiant en ses prédictions: la majorité des probas est proche de 0 ou de 1.\n"
      ]
    },
    {
      "cell_type": "markdown",
      "metadata": {
        "id": "tOW51JL86Qhx",
        "colab_type": "text"
      },
      "source": [
        "##### Exo: Faites vos propres expérimentation\n",
        "\n",
        "* $(3\\heartsuit)$ essayez en vectorisant les séquences avec `vectorize_sequences_with_count`\n",
        "* $(3\\heartsuit)$ on a essayé 2 couches cachées. Testez avec 1 ou 3. \n",
        "* $(3\\heartsuit)$ Changez le nombre de neurone par couches (number of units) \n",
        "* $(3\\heartsuit)$ Essayez la loss `mse`. \n",
        "* $(3\\heartsuit)$ Essayez des fonctions d'activation `tanh` dans les couches intermédiaires. "
      ]
    },
    {
      "cell_type": "markdown",
      "metadata": {
        "id": "OLz9owid8XHL",
        "colab_type": "text"
      },
      "source": [
        "## Lutter contre le sur-apprentissage\n",
        "\n",
        "Je laisse le texte original de François Cholet, lisez le tranquilement à la maison. \n",
        "\n",
        "\n",
        " Overfitting happens in every single machine learning \n",
        "problem. Learning how to deal with overfitting is essential to mastering machine learning.\n",
        "\n",
        "The fundamental issue in machine learning is the tension between optimization and generalization. \"Optimization\" refers to the process of \n",
        "adjusting a model to get the best performance possible on the training data (the \"learning\" in \"machine learning\"), while \"generalization\" \n",
        "refers to how well the trained model would perform on data it has never seen before. \n",
        "\n",
        "At the beginning of training, optimization and generalization are correlated: the lower your loss on training data, the lower your loss on \n",
        "test data. While this is happening, your model is said to be _under-fit_: there is still progress to be made; the network hasn't yet \n",
        "modeled all relevant patterns in the training data. But after a certain number of iterations on the training data, generalization stops \n",
        "improving, validation metrics stall then start degrading: the model is then starting to over-fit, i.e. is it starting to learn patterns \n",
        "that are specific to the training data but that are misleading or irrelevant when it comes to new data.\n",
        "\n",
        "\n",
        "To prevent a model from learning misleading or irrelevant patterns found in the training data, _the best solution is of course to get \n",
        "more training data_. A model trained on more data will naturally generalize better. When that is no longer possible, the next best solution \n",
        "is to modulate the quantity of information that your model is allowed to store, or to add constraints on what information it is allowed to \n",
        "store. If a network can only afford to memorize a small number of patterns, the optimization process will force it to focus on the most \n",
        "prominent patterns, which have a better chance of generalizing well.\n",
        "\n",
        "The processing of fighting overfitting in this way is called _regularization_. Let's review some of the most common regularization \n",
        "techniques.\n",
        "\n",
        "\n"
      ]
    },
    {
      "cell_type": "markdown",
      "metadata": {
        "id": "UTIM8AWyhx1C",
        "colab_type": "text"
      },
      "source": [
        "### Augmenter la taille des données\n",
        "\n",
        "C'est le meilleur moyen pour lutter contre le sur-apprentissage. On vera qu'avec des images comme donnée, on peut toujours le faire en introduisant des translation, rotation, chantement de couleur etc... \n",
        "\n",
        "Avec nos review, ce n'est pas possible. Passons à d'autre technique. "
      ]
    },
    {
      "cell_type": "markdown",
      "metadata": {
        "id": "SqE2GyUQ8XHP",
        "colab_type": "text"
      },
      "source": [
        "\n",
        "\n",
        "### Réduire la taille du réseau\n",
        "\n",
        "Avec moins de paramètre, le modèle peut apprendre moins de choses par coeur. Lisez le détail à la maison. \n",
        "\n",
        "\n",
        "\n",
        "The simplest way to prevent overfitting is to reduce the size of the model, i.e. the number of learnable parameters in the model (which is \n",
        "determined by the number of layers and the number of units per layer). In deep learning, the number of learnable parameters in a model is \n",
        "often referred to as the model's \"capacity\". Intuitively, a model with more parameters will have more \"memorization capacity\" and therefore \n",
        "will be able to easily learn a perfect dictionary-like mapping between training samples and their targets, a mapping without any \n",
        "generalization power.\n",
        "\n",
        "On the other hand, if the network has limited memorization resources, it will not be able to learn this mapping as easily. There is a compromise to be \n",
        "found between \"too much capacity\" and \"not enough capacity\".\n",
        "\n",
        "Unfortunately, there is no magical formula to determine what the right number of layers is, or what the right size for each layer is. You \n",
        "will have to evaluate an array of different architectures (on your validation set, not on your test set, of course) in order to find the \n",
        "right model size for your data. The general workflow to find an appropriate model size is to start with relatively few layers and \n",
        "parameters, and start increasing the size of the layers or adding new layers until you see diminishing returns with regard to the \n",
        "validation loss.\n",
        "\n",
        "Let's try this on our movie review classification network."
      ]
    },
    {
      "cell_type": "code",
      "metadata": {
        "id": "9N7AJ-FhjYVc",
        "colab_type": "code",
        "colab": {}
      },
      "source": [
        "original_hist=history"
      ],
      "execution_count": 0,
      "outputs": []
    },
    {
      "cell_type": "code",
      "metadata": {
        "id": "f8ZV5oAH8XHT",
        "colab_type": "code",
        "colab": {}
      },
      "source": [
        "smaller_model = keras.models.Sequential()\n",
        "smaller_model.add(keras.layers.Dense(4, activation='relu', input_shape=(10000,)))\n",
        "smaller_model.add(keras.layers.Dense(4, activation='relu'))\n",
        "smaller_model.add(keras.layers.Dense(1, activation='sigmoid'))\n",
        "\n",
        "smaller_model.compile(optimizer='rmsprop',\n",
        "                      loss='binary_crossentropy',\n",
        "                      metrics=['acc'])"
      ],
      "execution_count": 0,
      "outputs": []
    },
    {
      "cell_type": "markdown",
      "metadata": {
        "id": "qHR92iQE8XHV",
        "colab_type": "text"
      },
      "source": [
        "Comparison:"
      ]
    },
    {
      "cell_type": "code",
      "metadata": {
        "id": "6-5v5rb08XHZ",
        "colab_type": "code",
        "outputId": "9fde6cf2-7427-4607-ccae-24f4164f0c8e",
        "colab": {
          "base_uri": "https://localhost:8080/",
          "height": 745
        }
      },
      "source": [
        "smaller_model_hist = smaller_model.fit(x_train, y_train,\n",
        "                                       epochs=20,\n",
        "                                       batch_size=512,\n",
        "                                       validation_data=(x_test, y_test))"
      ],
      "execution_count": 0,
      "outputs": [
        {
          "output_type": "stream",
          "text": [
            "Train on 15000 samples, validate on 25000 samples\n",
            "Epoch 1/20\n",
            "15000/15000 [==============================] - 2s 135us/step - loss: 0.6473 - acc: 0.7500 - val_loss: 0.6081 - val_acc: 0.7848\n",
            "Epoch 2/20\n",
            "15000/15000 [==============================] - 2s 110us/step - loss: 0.5551 - acc: 0.8632 - val_loss: 0.5325 - val_acc: 0.8554\n",
            "Epoch 3/20\n",
            "15000/15000 [==============================] - 2s 110us/step - loss: 0.4742 - acc: 0.8861 - val_loss: 0.4689 - val_acc: 0.8661\n",
            "Epoch 4/20\n",
            "15000/15000 [==============================] - 2s 109us/step - loss: 0.4036 - acc: 0.8998 - val_loss: 0.4153 - val_acc: 0.8721\n",
            "Epoch 5/20\n",
            "15000/15000 [==============================] - 2s 111us/step - loss: 0.3440 - acc: 0.9103 - val_loss: 0.3724 - val_acc: 0.8764\n",
            "Epoch 6/20\n",
            "15000/15000 [==============================] - 2s 110us/step - loss: 0.2960 - acc: 0.9179 - val_loss: 0.3414 - val_acc: 0.8798\n",
            "Epoch 7/20\n",
            "15000/15000 [==============================] - 2s 109us/step - loss: 0.2577 - acc: 0.9266 - val_loss: 0.3207 - val_acc: 0.8812\n",
            "Epoch 8/20\n",
            "15000/15000 [==============================] - 2s 109us/step - loss: 0.2279 - acc: 0.9321 - val_loss: 0.3049 - val_acc: 0.8831\n",
            "Epoch 9/20\n",
            "15000/15000 [==============================] - 2s 109us/step - loss: 0.2032 - acc: 0.9397 - val_loss: 0.2965 - val_acc: 0.8837\n",
            "Epoch 10/20\n",
            "15000/15000 [==============================] - 2s 110us/step - loss: 0.1832 - acc: 0.9441 - val_loss: 0.2900 - val_acc: 0.8850\n",
            "Epoch 11/20\n",
            "15000/15000 [==============================] - 2s 109us/step - loss: 0.1660 - acc: 0.9497 - val_loss: 0.2884 - val_acc: 0.8841\n",
            "Epoch 12/20\n",
            "15000/15000 [==============================] - 2s 110us/step - loss: 0.1507 - acc: 0.9551 - val_loss: 0.2900 - val_acc: 0.8853\n",
            "Epoch 13/20\n",
            "15000/15000 [==============================] - 2s 109us/step - loss: 0.1375 - acc: 0.9584 - val_loss: 0.2942 - val_acc: 0.8844\n",
            "Epoch 14/20\n",
            "15000/15000 [==============================] - 2s 108us/step - loss: 0.1255 - acc: 0.9627 - val_loss: 0.2978 - val_acc: 0.8832\n",
            "Epoch 15/20\n",
            "15000/15000 [==============================] - 2s 110us/step - loss: 0.1149 - acc: 0.9659 - val_loss: 0.3054 - val_acc: 0.8793\n",
            "Epoch 16/20\n",
            "15000/15000 [==============================] - 2s 110us/step - loss: 0.1056 - acc: 0.9687 - val_loss: 0.3118 - val_acc: 0.8803\n",
            "Epoch 17/20\n",
            "15000/15000 [==============================] - 2s 109us/step - loss: 0.0965 - acc: 0.9728 - val_loss: 0.3191 - val_acc: 0.8782\n",
            "Epoch 18/20\n",
            "15000/15000 [==============================] - 2s 110us/step - loss: 0.0880 - acc: 0.9749 - val_loss: 0.3327 - val_acc: 0.8750\n",
            "Epoch 19/20\n",
            "15000/15000 [==============================] - 2s 110us/step - loss: 0.0803 - acc: 0.9780 - val_loss: 0.3471 - val_acc: 0.8728\n",
            "Epoch 20/20\n",
            "15000/15000 [==============================] - 2s 109us/step - loss: 0.0732 - acc: 0.9809 - val_loss: 0.3538 - val_acc: 0.8727\n"
          ],
          "name": "stdout"
        }
      ]
    },
    {
      "cell_type": "code",
      "metadata": {
        "id": "QiyvwYk940iN",
        "colab_type": "code",
        "colab": {}
      },
      "source": [
        "original_val_loss = original_hist.history['val_loss']\n"
      ],
      "execution_count": 0,
      "outputs": []
    },
    {
      "cell_type": "code",
      "metadata": {
        "id": "qN4OmDm28XHe",
        "colab_type": "code",
        "outputId": "6e0eb2f9-eddf-4e74-97e0-d1d4fccbb31b",
        "colab": {
          "base_uri": "https://localhost:8080/",
          "height": 279
        }
      },
      "source": [
        "smaller_model_val_loss = smaller_model_hist.history['val_loss']\n",
        "\n",
        "epochs=np.arange(1,21,1)\n",
        "plt.plot(epochs, original_val_loss, 'g.', label='Original model')\n",
        "plt.plot(epochs, smaller_model_val_loss, 'r.', label='Smaller model')\n",
        "plt.xlabel('Epochs')\n",
        "plt.ylabel('Validation loss')\n",
        "plt.xticks(epochs)\n",
        "plt.legend();"
      ],
      "execution_count": 0,
      "outputs": [
        {
          "output_type": "display_data",
          "data": {
            "image/png": "[encoded data removed]",
            "text/plain": [
              "<Figure size 432x288 with 1 Axes>"
            ]
          },
          "metadata": {
            "tags": []
          }
        }
      ]
    },
    {
      "cell_type": "markdown",
      "metadata": {
        "id": "b-IIJz8C8XHi",
        "colab_type": "text"
      },
      "source": [
        "Le petit modèle comment à sur-ajuster plus tard que le gros. Et ses performance se dégradent plus lentement. Par contre, il descend moins bas: le modèle original est donc mieux.  \n",
        "\n",
        "Essayons maintenant avec un modèle de plus grosse capacité. "
      ]
    },
    {
      "cell_type": "code",
      "metadata": {
        "id": "qaY3YtY78XHj",
        "colab_type": "code",
        "colab": {}
      },
      "source": [
        "bigger_model = keras.models.Sequential()\n",
        "bigger_model.add(keras.layers.Dense(512, activation='relu', input_shape=(10000,)))\n",
        "bigger_model.add(keras.layers.Dense(512, activation='relu'))\n",
        "bigger_model.add(keras.layers.Dense(1, activation='sigmoid'))\n",
        "\n",
        "bigger_model.compile(optimizer='rmsprop',\n",
        "                     loss='binary_crossentropy',\n",
        "                     metrics=['acc'])"
      ],
      "execution_count": 0,
      "outputs": []
    },
    {
      "cell_type": "code",
      "metadata": {
        "id": "EBcjzHDH8XHk",
        "colab_type": "code",
        "outputId": "f9edc412-bef3-4732-b6fa-56d3b7d3144a",
        "colab": {
          "base_uri": "https://localhost:8080/",
          "height": 745
        }
      },
      "source": [
        "bigger_model_hist = bigger_model.fit(x_train, y_train,\n",
        "                                     epochs=20,\n",
        "                                     batch_size=512,\n",
        "                                     validation_data=(x_test, y_test))"
      ],
      "execution_count": 0,
      "outputs": [
        {
          "output_type": "stream",
          "text": [
            "Train on 15000 samples, validate on 25000 samples\n",
            "Epoch 1/20\n",
            "15000/15000 [==============================] - 3s 188us/step - loss: 0.5322 - acc: 0.7707 - val_loss: 0.5976 - val_acc: 0.7568\n",
            "Epoch 2/20\n",
            "15000/15000 [==============================] - 2s 149us/step - loss: 0.2612 - acc: 0.8979 - val_loss: 0.2830 - val_acc: 0.8841\n",
            "Epoch 3/20\n",
            "15000/15000 [==============================] - 2s 149us/step - loss: 0.1520 - acc: 0.9409 - val_loss: 0.3184 - val_acc: 0.8732\n",
            "Epoch 4/20\n",
            "15000/15000 [==============================] - 2s 148us/step - loss: 0.0732 - acc: 0.9751 - val_loss: 0.5641 - val_acc: 0.7989\n",
            "Epoch 5/20\n",
            "15000/15000 [==============================] - 2s 149us/step - loss: 0.0415 - acc: 0.9888 - val_loss: 0.5094 - val_acc: 0.8341\n",
            "Epoch 6/20\n",
            "15000/15000 [==============================] - 2s 150us/step - loss: 0.0064 - acc: 0.9995 - val_loss: 0.5668 - val_acc: 0.8760\n",
            "Epoch 7/20\n",
            "15000/15000 [==============================] - 2s 149us/step - loss: 5.2377e-04 - acc: 1.0000 - val_loss: 0.6748 - val_acc: 0.8741\n",
            "Epoch 8/20\n",
            "15000/15000 [==============================] - 2s 149us/step - loss: 7.9627e-05 - acc: 1.0000 - val_loss: 0.7557 - val_acc: 0.8748\n",
            "Epoch 9/20\n",
            "15000/15000 [==============================] - 2s 149us/step - loss: 1.4653e-05 - acc: 1.0000 - val_loss: 0.8359 - val_acc: 0.8745\n",
            "Epoch 10/20\n",
            "15000/15000 [==============================] - 2s 148us/step - loss: 3.5310e-06 - acc: 1.0000 - val_loss: 0.8974 - val_acc: 0.8732\n",
            "Epoch 11/20\n",
            "15000/15000 [==============================] - 2s 149us/step - loss: 1.0217e-06 - acc: 1.0000 - val_loss: 0.9531 - val_acc: 0.8740\n",
            "Epoch 12/20\n",
            "15000/15000 [==============================] - 2s 148us/step - loss: 3.6949e-07 - acc: 1.0000 - val_loss: 0.9992 - val_acc: 0.8733\n",
            "Epoch 13/20\n",
            "15000/15000 [==============================] - 2s 148us/step - loss: 1.9971e-07 - acc: 1.0000 - val_loss: 1.0335 - val_acc: 0.8735\n",
            "Epoch 14/20\n",
            "15000/15000 [==============================] - 2s 148us/step - loss: 1.4329e-07 - acc: 1.0000 - val_loss: 1.0571 - val_acc: 0.8736\n",
            "Epoch 15/20\n",
            "15000/15000 [==============================] - 2s 149us/step - loss: 1.2561e-07 - acc: 1.0000 - val_loss: 1.0728 - val_acc: 0.8738\n",
            "Epoch 16/20\n",
            "15000/15000 [==============================] - 2s 148us/step - loss: 1.1892e-07 - acc: 1.0000 - val_loss: 1.0814 - val_acc: 0.8734\n",
            "Epoch 17/20\n",
            "15000/15000 [==============================] - 2s 146us/step - loss: 1.1572e-07 - acc: 1.0000 - val_loss: 1.0879 - val_acc: 0.8734\n",
            "Epoch 18/20\n",
            "15000/15000 [==============================] - 2s 147us/step - loss: 1.1400e-07 - acc: 1.0000 - val_loss: 1.0934 - val_acc: 0.8736\n",
            "Epoch 19/20\n",
            "15000/15000 [==============================] - 2s 148us/step - loss: 1.1280e-07 - acc: 1.0000 - val_loss: 1.0978 - val_acc: 0.8734\n",
            "Epoch 20/20\n",
            "15000/15000 [==============================] - 2s 149us/step - loss: 1.1217e-07 - acc: 1.0000 - val_loss: 1.1015 - val_acc: 0.8734\n"
          ],
          "name": "stdout"
        }
      ]
    },
    {
      "cell_type": "code",
      "metadata": {
        "id": "2qe9Wrf98XHo",
        "colab_type": "code",
        "outputId": "b4c9c44c-cba4-4a1c-d6f6-e19b9c1341bc",
        "colab": {
          "base_uri": "https://localhost:8080/",
          "height": 279
        }
      },
      "source": [
        "bigger_model_val_loss = bigger_model_hist.history['val_loss']\n",
        "\n",
        "plt.plot(epochs, original_val_loss, 'go-', label='Original model')\n",
        "plt.plot(epochs, bigger_model_val_loss, 'ro-', label='Bigger model')\n",
        "plt.xlabel('Epochs')\n",
        "plt.ylabel('Validation loss')\n",
        "plt.xticks(epochs)\n",
        "plt.legend();\n"
      ],
      "execution_count": 0,
      "outputs": [
        {
          "output_type": "display_data",
          "data": {
            "image/png": "[encoded data removed]",
            "text/plain": [
              "<Figure size 432x288 with 1 Axes>"
            ]
          },
          "metadata": {
            "tags": []
          }
        }
      ]
    },
    {
      "cell_type": "markdown",
      "metadata": {
        "id": "wlTI1USC8XHs",
        "colab_type": "text"
      },
      "source": [
        "Le gros modèle sur-ajuste plus sévèrement. Sa loss de validation est plus bruités. \n",
        "\n",
        "Quand à sa loss de train: "
      ]
    },
    {
      "cell_type": "code",
      "metadata": {
        "id": "bN6JMpsu8XHs",
        "colab_type": "code",
        "outputId": "2048cb83-6bae-4dfa-dc0b-b2dc9e6e432d",
        "colab": {
          "base_uri": "https://localhost:8080/",
          "height": 279
        }
      },
      "source": [
        "original_train_loss = original_hist.history['loss']\n",
        "bigger_model_train_loss = bigger_model_hist.history['loss']\n",
        "\n",
        "plt.plot(epochs, original_train_loss, 'g', label='Original model')\n",
        "plt.plot(epochs, bigger_model_train_loss, 'r', label='Bigger model')\n",
        "plt.xlabel('Epochs')\n",
        "plt.ylabel('Training loss')\n",
        "plt.xticks(epochs)\n",
        "plt.legend();"
      ],
      "execution_count": 0,
      "outputs": [
        {
          "output_type": "display_data",
          "data": {
            "image/png": "[encoded data removed]",
            "text/plain": [
              "<Figure size 432x288 with 1 Axes>"
            ]
          },
          "metadata": {
            "tags": []
          }
        }
      ]
    },
    {
      "cell_type": "markdown",
      "metadata": {
        "id": "4QGu5MuX8XHv",
        "colab_type": "text"
      },
      "source": [
        "### L2 weight regularization (=ridge=weight decay)\n",
        "\n",
        "\n",
        "  _Occam's Razor_ principle: étant donnée 2 explications valable, celle qui est la meilleur est la plus simple. \n",
        "   \n",
        "\n",
        "![toot](https://drive.google.com/uc?export=view&id=19UwF49NvDNwl7NlyTkn_5WZl1bF9AL5P)\n",
        "\n",
        "\n",
        "Cela s'applique aussi au modèles de machine learning: Un modèle simple dans ce contexte, est celui dont la distribution des paramètre la moins d'entropy. Pour  régulariser on peut forcer les poids de prendre des petites valeurs, ce qui rend la distribution des poids plus régulière. C'est la   \"weight regularization\" ou \"pénalisation des poids\". \n",
        "\n",
        "Pour ce faire on ajouter un terme à la loss, qui est grand quand les poids sont grands en valeur absolue. \n",
        "Les deux techniques principales sont: \n",
        "\n",
        "* Régularisation L1 ou lasso:\n",
        "$$\n",
        "loss_\\alpha= loss + \\alpha \\sum_i \\|w_i\\|\n",
        "$$\n",
        "* Régularisation L2 ou ridgde:\n",
        "$$\n",
        "loss_\\alpha= loss +\\alpha \\sum_i (w_i)^2\n",
        "$$\n"
      ]
    },
    {
      "cell_type": "code",
      "metadata": {
        "id": "Eeocq-1Q8XHw",
        "colab_type": "code",
        "colab": {}
      },
      "source": [
        "l2_model = keras.models.Sequential()\n",
        "l2_model.add(keras.layers.Dense(16, kernel_regularizer=keras.regularizers.l2(0.001),\n",
        "                          activation='relu', input_shape=(10000,)))\n",
        "l2_model.add(keras.layers.Dense(16, kernel_regularizer=keras.regularizers.l2(0.001),\n",
        "                          activation='relu'))\n",
        "l2_model.add(keras.layers.Dense(1, activation='sigmoid'))"
      ],
      "execution_count": 0,
      "outputs": []
    },
    {
      "cell_type": "code",
      "metadata": {
        "id": "S1n8VwOj8XHz",
        "colab_type": "code",
        "colab": {}
      },
      "source": [
        "l2_model.compile(optimizer='rmsprop',\n",
        "                 loss='binary_crossentropy',\n",
        "                 metrics=['acc'])"
      ],
      "execution_count": 0,
      "outputs": []
    },
    {
      "cell_type": "markdown",
      "metadata": {
        "id": "G9_p3FN58XH0",
        "colab_type": "text"
      },
      "source": [
        "***Attention:*** En keras, le terme de pénalisation sur la loss n'est ajouté que pour le traning et la validation. Pas lors du test (=appelle de la fonction `model.evaluate`). \n"
      ]
    },
    {
      "cell_type": "code",
      "metadata": {
        "id": "ekcMfLlm8XH0",
        "colab_type": "code",
        "outputId": "0d7575e3-208f-4813-a8b7-1029b870dd56",
        "colab": {
          "base_uri": "https://localhost:8080/",
          "height": 726
        }
      },
      "source": [
        "l2_model_hist = l2_model.fit(x_train, y_train,\n",
        "                             epochs=20,\n",
        "                             batch_size=512,\n",
        "                             validation_data=(x_test, y_test))"
      ],
      "execution_count": 0,
      "outputs": [
        {
          "output_type": "stream",
          "text": [
            "Train on 15000 samples, validate on 25000 samples\n",
            "Epoch 1/20\n",
            "15000/15000 [==============================] - 2s 109us/step - loss: 0.6193 - acc: 0.7256 - val_loss: 0.5264 - val_acc: 0.8353\n",
            "Epoch 2/20\n",
            "15000/15000 [==============================] - 1s 89us/step - loss: 0.4467 - acc: 0.8820 - val_loss: 0.4321 - val_acc: 0.8756\n",
            "Epoch 3/20\n",
            "15000/15000 [==============================] - 1s 90us/step - loss: 0.3507 - acc: 0.9124 - val_loss: 0.4116 - val_acc: 0.8636\n",
            "Epoch 4/20\n",
            "15000/15000 [==============================] - 1s 89us/step - loss: 0.2941 - acc: 0.9279 - val_loss: 0.3600 - val_acc: 0.8821\n",
            "Epoch 5/20\n",
            "15000/15000 [==============================] - 1s 90us/step - loss: 0.2659 - acc: 0.9354 - val_loss: 0.3618 - val_acc: 0.8769\n",
            "Epoch 6/20\n",
            "15000/15000 [==============================] - 1s 89us/step - loss: 0.2389 - acc: 0.9460 - val_loss: 0.3594 - val_acc: 0.8768\n",
            "Epoch 7/20\n",
            "15000/15000 [==============================] - 1s 88us/step - loss: 0.2228 - acc: 0.9489 - val_loss: 0.3558 - val_acc: 0.8791\n",
            "Epoch 8/20\n",
            "15000/15000 [==============================] - 1s 89us/step - loss: 0.2087 - acc: 0.9548 - val_loss: 0.3726 - val_acc: 0.8728\n",
            "Epoch 9/20\n",
            "15000/15000 [==============================] - 1s 90us/step - loss: 0.2047 - acc: 0.9543 - val_loss: 0.3671 - val_acc: 0.8747\n",
            "Epoch 10/20\n",
            "15000/15000 [==============================] - 1s 89us/step - loss: 0.1907 - acc: 0.9621 - val_loss: 0.3771 - val_acc: 0.8736\n",
            "Epoch 11/20\n",
            "15000/15000 [==============================] - 1s 90us/step - loss: 0.1854 - acc: 0.9627 - val_loss: 0.4514 - val_acc: 0.8543\n",
            "Epoch 12/20\n",
            "15000/15000 [==============================] - 1s 89us/step - loss: 0.1770 - acc: 0.9653 - val_loss: 0.3975 - val_acc: 0.8702\n",
            "Epoch 13/20\n",
            "15000/15000 [==============================] - 1s 88us/step - loss: 0.1750 - acc: 0.9664 - val_loss: 0.4157 - val_acc: 0.8619\n",
            "Epoch 14/20\n",
            "15000/15000 [==============================] - 1s 88us/step - loss: 0.1718 - acc: 0.9664 - val_loss: 0.4032 - val_acc: 0.8686\n",
            "Epoch 15/20\n",
            "15000/15000 [==============================] - 1s 87us/step - loss: 0.1638 - acc: 0.9691 - val_loss: 0.4143 - val_acc: 0.8646\n",
            "Epoch 16/20\n",
            "15000/15000 [==============================] - 1s 87us/step - loss: 0.1581 - acc: 0.9725 - val_loss: 0.4723 - val_acc: 0.8459\n",
            "Epoch 17/20\n",
            "15000/15000 [==============================] - 1s 88us/step - loss: 0.1546 - acc: 0.9726 - val_loss: 0.4756 - val_acc: 0.8584\n",
            "Epoch 18/20\n",
            "15000/15000 [==============================] - 1s 89us/step - loss: 0.1514 - acc: 0.9749 - val_loss: 0.4626 - val_acc: 0.8528\n",
            "Epoch 19/20\n",
            "15000/15000 [==============================] - 1s 91us/step - loss: 0.1484 - acc: 0.9753 - val_loss: 0.4386 - val_acc: 0.8636\n",
            "Epoch 20/20\n",
            "15000/15000 [==============================] - 1s 89us/step - loss: 0.1479 - acc: 0.9767 - val_loss: 0.5386 - val_acc: 0.8496\n"
          ],
          "name": "stdout"
        }
      ]
    },
    {
      "cell_type": "markdown",
      "metadata": {
        "id": "zOfwNHsH_hnY",
        "colab_type": "text"
      },
      "source": [
        "***A vous:*** Considérons la fonction loss non-régularisée $loss(w)$. La descente de gradient (toute simple) correspond à changer les paramètres selon la règle suivante: \n",
        "$$\n",
        "w_i \\leftarrow w_i - \\ell \\, \\frac{\\partial loss}{\\partial w_i}\n",
        "$$\n",
        "où $\\ell$ est le learning rate.  Considérons la loss régularisée: $ loss(w) + \\alpha \\sum_i w_i^2$. Comment $(1\\heartsuit)$ s'écrit la descente de gradient maintenant ? Cela justifie le fait que le coefficient $\\alpha$, dans le cadre ridge, soit parfois appelé `loss_decay`.\n",
        "\n",
        "\n",
        "\n",
        "\n",
        "\n",
        "\n",
        "***Remarques:*** on doit bien ajuster $\\alpha$:\n",
        "\n",
        "* $\\alpha$ trop petit la pénalisation est inefficace, $\\alpha$ trop grand le modèle n'apprend plus rien (tous les poids vont vers 0). \n",
        " \n",
        "*  Typiquement, $\\alpha$ peut-être choisi par cross validation, en essayant par exemple $ 0.1,0.01,0.001,0.0001)$ en observant les courbes loss-val et loss. \n"
      ]
    },
    {
      "cell_type": "code",
      "metadata": {
        "id": "d0DsfmZM8XH3",
        "colab_type": "code",
        "outputId": "12428525-601b-4d74-e97f-396693cabd08",
        "colab": {
          "base_uri": "https://localhost:8080/",
          "height": 282
        }
      },
      "source": [
        "l2_model_val_loss = l2_model_hist.history['val_loss']\n",
        "\n",
        "plt.plot(epochs, original_val_loss, 'b', label='Original model')\n",
        "plt.plot(epochs, l2_model_val_loss, 'bo', label='L2-regularized model')\n",
        "plt.xlabel('Epochs')\n",
        "plt.ylabel('Validation loss')\n",
        "plt.xticks(epochs)\n",
        "plt.legend();"
      ],
      "execution_count": 0,
      "outputs": [
        {
          "output_type": "display_data",
          "data": {
            "image/png": "[encoded data removed]",
            "text/plain": [
              "<Figure size 432x288 with 1 Axes>"
            ]
          },
          "metadata": {
            "tags": []
          }
        }
      ]
    },
    {
      "cell_type": "markdown",
      "metadata": {
        "id": "kuV0GjWY8XH6",
        "colab_type": "text"
      },
      "source": [
        "On voit ci-dessus que le modèle pénalisé est plus résistant à l'over-fitting. \n",
        "\n",
        "Observons la distribution des poids:"
      ]
    },
    {
      "cell_type": "code",
      "metadata": {
        "id": "RCjxOExK1bTN",
        "colab_type": "code",
        "outputId": "a4aaba9b-b2d9-47f8-ab49-2671dbe4ff17",
        "colab": {
          "base_uri": "https://localhost:8080/",
          "height": 624
        }
      },
      "source": [
        "layer_index=0\n",
        "\n",
        "l2_weights, l2_biases = l2_model.layers[layer_index].get_weights()\n",
        "original_weights, original_biases = model.layers[layer_index].get_weights()\n",
        "\n",
        "fig,axs=plt.subplots(2,2,sharex=True,figsize=(10,10))\n",
        "\n",
        "bins=np.linspace(-0.1,0.1,40)\n",
        "\n",
        "axs[0,0].hist(l2_weights.reshape(-1),bins=bins)\n",
        "axs[0,0].set_title(\"weights regul\")\n",
        "axs[0,0].set_xlim(-0.1,0.1)\n",
        "axs[0,1].hist(l2_biases.reshape(-1),bins=bins)\n",
        "axs[0,1].set_title(\"bias regul\")\n",
        "axs[0,1].set_xlim(-0.1,0.1)\n",
        "\n",
        "axs[1,0].hist(original_weights.reshape(-1),bins=bins)\n",
        "axs[1,0].set_title(\"weights\")\n",
        "axs[1,1].hist(original_biases.reshape(-1),bins=bins);\n",
        "axs[1,1].set_title(\"bias\")"
      ],
      "execution_count": 0,
      "outputs": [
        {
          "output_type": "execute_result",
          "data": {
            "text/plain": [
              "Text(0.5, 1.0, 'bias')"
            ]
          },
          "metadata": {
            "tags": []
          },
          "execution_count": 37
        },
        {
          "output_type": "display_data",
          "data": {
            "image/png": "[encoded data removed]",
            "text/plain": [
              "<Figure size 720x720 with 4 Axes>"
            ]
          },
          "metadata": {
            "tags": []
          }
        }
      ]
    },
    {
      "cell_type": "markdown",
      "metadata": {
        "id": "G_qV9CtHSC-8",
        "colab_type": "text"
      },
      "source": [
        "***Remarque:*** les biais ne sont pas comptabilisé dans la pénalisation: car le role du biais est de recentrer les poids, et il ne faut surtout pas être radin sur le recentrage.\n",
        "\n",
        "***A vous:*** Pourquoi $(1\\heartsuit)$ d'après vous il faut que les poids soient en permanence recentrer autour de zéro? "
      ]
    },
    {
      "cell_type": "markdown",
      "metadata": {
        "id": "NIzFEbft54Hk",
        "colab_type": "text"
      },
      "source": [
        "***A vous:*** Refaites l'entrainement $(1\\heartsuit)$  avec une régularisation l1 (dites lasso). Cette régularisation est connue pour mettre à zéro beaucoup de paramètres. Une bonne illustratino est de superposer les  3 histrogrammes: pénalisation L1, L2 et sans pénalisation $(1\\heartsuit)$. \n",
        "\n",
        "\n",
        "La régularisation l1 est donc beaucoup utiliser dans un but de sélection de variable. \n",
        "\n",
        "On peut mélanger les deux pénalisation, on parle alors \"d'elastic-net\". En keras:\n",
        "\n",
        "\n",
        "    # L1 and L2 regularization at the same time\n",
        "    regularizers.l1_l2(l1=0.001, l2=0.001)\n",
        "\n"
      ]
    },
    {
      "cell_type": "markdown",
      "metadata": {
        "id": "3oT2C2h08XH8",
        "colab_type": "text"
      },
      "source": [
        "### Le dropout\n",
        "\n",
        "\n",
        "\n",
        "***Principe:***  A chaque itération de l'apprentissage, on gelle une partie aléatoire des neurones: c.à.d qu'on actualise pas leur poids en fonction des données. A chaque paquet de donnée on retire aléatoirement les neurones gelés. Ainsi, toutes les neurones ne voient pas toutes les données. Cela empêche le réseau dans sa totalité d'apprendre par coeur les données train. \n",
        "\n",
        "Le paramètre: \"dropout rate\" (dr) correspond à la proportion des neurone que l'on gele. \n",
        "\n",
        "Lors de la phase de test, on ne gele plus aucun neurone. \n",
        "\n",
        "\n",
        "\n",
        "\n",
        "***Réalisation du dropout:*** En fait on ne gèle pas vraiment les poids, mais on multiplie la sortie des layer par des 0 ou 1 aléatoire. Les zéro bloqueront la rétro-propagation du gradient. \n",
        "\n",
        "    # At training time:\n",
        "    layer_output *= np.choice([0,1], [dr,1-dr], size=layer_output.shape)\n",
        "    \n",
        "   \n",
        "    \n",
        "\n",
        "Mais cela pose un problème: pendant la phase de test, comme on ne multiplie pas par des zéro, la sortie est globalement plus petite. Les fonction d'activation risquent de moins censurer. Du coup pendant le teste on fait un scaling:\n",
        "\n",
        "    # At testing time: we are scaling *down*:\n",
        "    layer_output *= (1-dr)\n",
        "\n",
        "***Réalisation de l'inverse-dropout:*** Mais maintenant, tout le monde (keras) pratique l'inverse drop-out: il s'agit de faire le scaline inverse durant le train, pour faire le moins d'opération possible dans la phase de test (qui est identique à la phase de production). \n",
        "\n",
        "\n",
        "    # At training time:\n",
        "    layer_output *=  1/(1-dr) * np.choice([0,1], [dr,1-dr], size=layer_output.shape)\n",
        "    \n",
        "    # At testing time\n",
        "    layer_output = layer_output\n",
        "\n",
        "\n",
        "\n",
        "Si vous voulez plus de détail [lisez ceci](http://cs231n.github.io/neural-networks-2/#reg)\n",
        "\n",
        "\n",
        "\n",
        "***Remarque:*** Une des technique très récente est de laisser actif le dropout pendant la phase de teste: les résultats du modèle deviennent probabiliste: on teste plusieurs fois le modèle sur les même données, ce qui donne une distribution des résutats. Cela permet de quantifier l'incertitude de notre modèle. \n",
        "    \n",
        "    "
      ]
    },
    {
      "cell_type": "code",
      "metadata": {
        "id": "eDYhYYe58XIH",
        "colab_type": "code",
        "colab": {}
      },
      "source": [
        "dpt_model = keras.models.Sequential()\n",
        "dpt_model.add(keras.layers.Dense(16, activation='relu', input_shape=(10000,)))\n",
        "dpt_model.add(keras.layers.Dropout(rate=0.5)) # influence les grandients de la couche précédente\n",
        "dpt_model.add(keras.layers.Dense(16, activation='relu'))\n",
        "dpt_model.add(keras.layers.Dropout(rate=0.5)) # influence les grandients de la couche précédente\n",
        "dpt_model.add(keras.layers.Dense(1, activation='sigmoid'))\n",
        "\n",
        "dpt_model.compile(optimizer='rmsprop',\n",
        "                  loss='binary_crossentropy',\n",
        "                  metrics=['acc'])"
      ],
      "execution_count": 0,
      "outputs": []
    },
    {
      "cell_type": "code",
      "metadata": {
        "id": "JwF13xNI8XIJ",
        "colab_type": "code",
        "colab": {}
      },
      "source": [
        "dpt_model_hist = dpt_model.fit(x_train, y_train,\n",
        "                               epochs=20,\n",
        "                               batch_size=512,\n",
        "                               validation_data=(x_test, y_test))"
      ],
      "execution_count": 0,
      "outputs": []
    },
    {
      "cell_type": "code",
      "metadata": {
        "id": "IXx9pYvn8XIR",
        "colab_type": "code",
        "colab": {}
      },
      "source": [
        "dpt_model_val_loss = dpt_model_hist.history['val_loss']\n",
        "\n",
        "plt.plot(epochs, original_val_loss, 'go-', label='Original model')\n",
        "plt.plot(epochs, dpt_model_val_loss, 'ro-', label='Dropout-regularized model')\n",
        "plt.xlabel('Epochs')\n",
        "plt.ylabel('Validation loss')\n",
        "plt.xticks(epochs)\n",
        "plt.legend();"
      ],
      "execution_count": 0,
      "outputs": []
    },
    {
      "cell_type": "markdown",
      "metadata": {
        "id": "V4foUtF88XIT",
        "colab_type": "text"
      },
      "source": [
        "Pour récapituler, pour combattre l'apprentissage on peut: \n",
        "\n",
        "* collecter plus de donnée, ou les enrichir\n",
        "* réduire la capacité du modèle\n",
        "* pénaliser les poids\n",
        "* ajouter du dropout\n",
        "\n",
        "\n",
        "Des chercheurs ont aussi montré qu'une moindre précision dans les flotants (float32 au lieu de float64), introduisait un flou qui limiter le sur-apprentissage. On va même plus loin en randomisant les paramétres: c'est tout la théorie des réseaux bayesiens. \n"
      ]
    },
    {
      "cell_type": "markdown",
      "metadata": {
        "id": "CMexG4Yjq2kh",
        "colab_type": "text"
      },
      "source": [
        "## Scores\n",
        "\n",
        "Résumons: \n",
        "* A partir des x_test, notre modèle prédit des proba hat_y_test\n",
        "* On prend un seuil de 0.5 puis on décide que hat_y_test=(hat_y_test>0.5)\n",
        "* On va maintenant mesurer de différentes façon l'écart entre  hat_y_test et le vrai y_test\n",
        "\n",
        "\n",
        "En classification binaire, l'une des deux classes est appelée positive l'autre négative. \n",
        "\n",
        "Traditionnellement, la classe positive est celle qui nous intéresse le plus ex: présence d'une maladie. Elle est souvent minoritaire. Ici, on décide que la classe positive c'est la classe 1: celle des critiques positives de film. \n",
        "\n"
      ]
    },
    {
      "cell_type": "code",
      "metadata": {
        "id": "30lGjv0TPbEq",
        "colab_type": "code",
        "outputId": "690621f2-baf1-4801-ad57-f7ef38d8bcb4",
        "colab": {
          "base_uri": "https://localhost:8080/",
          "height": 173
        }
      },
      "source": [
        "print(hat_y_test_proba)\n",
        "print(hat_y_test)\n",
        "print(y_test)"
      ],
      "execution_count": 0,
      "outputs": [
        {
          "output_type": "stream",
          "text": [
            "[[0.35864556]\n",
            " [0.99926525]\n",
            " [0.9783988 ]\n",
            " ...\n",
            " [0.17882338]\n",
            " [0.28468576]\n",
            " [0.53104156]]\n",
            "[0 1 1 ... 0 0 1]\n",
            "[0 1 1 ... 0 0 0]\n"
          ],
          "name": "stdout"
        }
      ]
    },
    {
      "cell_type": "markdown",
      "metadata": {
        "id": "FRZt-r8z2Osp",
        "colab_type": "text"
      },
      "source": [
        "###  Matrice de confusion\n",
        "\n",
        "* les lignes indiques les vrai classes\n",
        "* les colonnes les prédiction\n",
        "* ex: l'intersection entre la première ligne et la première colonne indique le nombre de négatif bien classé. \n"
      ]
    },
    {
      "cell_type": "code",
      "metadata": {
        "id": "7mrkH90H2Oss",
        "colab_type": "code",
        "outputId": "deb61174-aee5-4d4a-bd4e-ce10d16982f5",
        "colab": {
          "base_uri": "https://localhost:8080/",
          "height": 108
        }
      },
      "source": [
        "import sklearn.metrics\n",
        "C=sklearn.metrics.confusion_matrix(y_test, hat_y_test)\n",
        "\"a dataframe just for presentation\"\n",
        "C_df=pd.DataFrame(data=C,columns=[ r\"^-\",r\"^+\"],index=[r\"-\",r\"+\"])\n",
        "C_df"
      ],
      "execution_count": 0,
      "outputs": [
        {
          "output_type": "execute_result",
          "data": {
            "text/html": [
              "<div>\n",
              "<style scoped>\n",
              "    .dataframe tbody tr th:only-of-type {\n",
              "        vertical-align: middle;\n",
              "    }\n",
              "\n",
              "    .dataframe tbody tr th {\n",
              "        vertical-align: top;\n",
              "    }\n",
              "\n",
              "    .dataframe thead th {\n",
              "        text-align: right;\n",
              "    }\n",
              "</style>\n",
              "<table border=\"1\" class=\"dataframe\">\n",
              "  <thead>\n",
              "    <tr style=\"text-align: right;\">\n",
              "      <th></th>\n",
              "      <th>^-</th>\n",
              "      <th>^+</th>\n",
              "    </tr>\n",
              "  </thead>\n",
              "  <tbody>\n",
              "    <tr>\n",
              "      <th>-</th>\n",
              "      <td>10732</td>\n",
              "      <td>1768</td>\n",
              "    </tr>\n",
              "    <tr>\n",
              "      <th>+</th>\n",
              "      <td>1125</td>\n",
              "      <td>11375</td>\n",
              "    </tr>\n",
              "  </tbody>\n",
              "</table>\n",
              "</div>"
            ],
            "text/plain": [
              "      ^-     ^+\n",
              "-  10732   1768\n",
              "+   1125  11375"
            ]
          },
          "metadata": {
            "tags": []
          },
          "execution_count": 65
        }
      ]
    },
    {
      "cell_type": "markdown",
      "metadata": {
        "id": "eBIUgaVm2Osu",
        "colab_type": "text"
      },
      "source": [
        "### Vrais/Faux positif/Negatif\n",
        "\n",
        "On donne des noms à chacune des casses de la matrice de confusion: \n",
        "$$\n",
        "\\begin{array}{c|cc}\n",
        "& \\hat - & \\hat + \\\\\n",
        "\\hline\n",
        "- & TN & FP \\\\\n",
        "+ & FN &  TP   \n",
        "\\end{array}\n",
        "$$"
      ]
    },
    {
      "cell_type": "code",
      "metadata": {
        "id": "efME260y2Osv",
        "colab_type": "code",
        "colab": {}
      },
      "source": [
        "TN=C[0,0]\n",
        "FN=C[1,0]\n",
        "FP=C[0,1]\n",
        "TP=C[1,1];"
      ],
      "execution_count": 0,
      "outputs": []
    },
    {
      "cell_type": "markdown",
      "metadata": {
        "id": "h9HIn8kX2Osw",
        "colab_type": "text"
      },
      "source": [
        "***A vous:*** Faites les calculs demandé ci-dessous sans utiliser l'ordinateur:\n",
        "* Indiquez  $(1\\heartsuit)$  quel serait le résultat de  `confusion_matrix(y_test, y_test)`?  \n",
        "* Indiquez  $(2\\heartsuit)$  quel serait le résultat de  `confusion_matrix(y_test, y_rand)` avec `y_rand` un vecteur aléatoire de 0 et de 1?"
      ]
    },
    {
      "cell_type": "markdown",
      "metadata": {
        "id": "awvD-AzC2Osw",
        "colab_type": "text"
      },
      "source": [
        "### Précision/rappel\n",
        "\n",
        "\n",
        "$$\n",
        "\\begin{align}\n",
        "\\text{precision} & =\\frac{TP}{TP+FP}=  \\frac{+\\cap \\hat +}{\\hat +} = \\text{accuracy of the positive predictions}\\\\\n",
        "\\text{recall} & =\\frac{TP}{TP+FN} = \\frac{+\\cap \\hat +}{ +} = \\text{ratio of positive instances that are correctly detected}\n",
        "\\end{align}\n",
        "$$\n",
        "\n",
        "* Précision proche de 1: la plupart des prédictions son bonnes. \n",
        "* Rappel proche de 1: on détecte la plupart des positifs\n",
        "\n",
        "Si notre modèle détecte une maladie, il faut avoir un bon rappel. Surtout si on peut ensuite faire des examen supplémentaire pour éliminer les faux positifs. \n"
      ]
    },
    {
      "cell_type": "code",
      "metadata": {
        "id": "kLCjok3J2Osx",
        "colab_type": "code",
        "outputId": "83b593b0-e594-476f-d643-62765f6ed7ff",
        "colab": {
          "base_uri": "https://localhost:8080/",
          "height": 52
        }
      },
      "source": [
        "print(\"precision_score: %.2f\"%(TP/(TP+FP)))\n",
        "print(\"recall_score: %.2f\"%(TP/(TP+FN)))"
      ],
      "execution_count": 0,
      "outputs": [
        {
          "output_type": "stream",
          "text": [
            "precision_score: 0.87\n",
            "recall_score: 0.91\n"
          ],
          "name": "stdout"
        }
      ]
    },
    {
      "cell_type": "markdown",
      "metadata": {
        "id": "L20PSedy2Osz",
        "colab_type": "text"
      },
      "source": [
        "### F1 score \n",
        "\n",
        "C'est la moyenne harmonique de la précision et du rappel: \n",
        "$$\n",
        "F_1= \\frac{2}{\\frac{1}{\\text{precision}} + \\frac{1}{\\text{recall}}}\n",
        "$$\n",
        " Le modèle a un bon F1-score quand précision et rappel sont tous les deux grands. \n",
        "\n",
        "\n",
        "\n",
        "\n"
      ]
    },
    {
      "cell_type": "markdown",
      "metadata": {
        "id": "wNLQE3rFXPDh",
        "colab_type": "text"
      },
      "source": [
        "##  Changeons le seuil\n",
        "\n",
        "On n'est pas obligé de prendre 0.5 comme seuil. Typiquement, on peut favoriser la classe minoritaire. \n",
        "\n",
        "Avant de choisir un seuil, il est intéressant de regarder des courbes qui présente les résultats pour tous les seuils possibles.\n",
        "\n",
        "\n",
        "Attention, certains modèle (ex: le gradient-stochastique de `sklearn`) ne renvoient pas des probas, mais simplement un score réel ex: entre -7000 et +9000. Mais le principe est le même: plus le score est grand et plus il faut classe la ligne dans les positifs. Ce qui suit reste valide: remplacer simplement l'intervalle [0,1] par l'intervalle [-7000,+9000].  \n",
        "\n"
      ]
    },
    {
      "cell_type": "markdown",
      "metadata": {
        "id": "-NzQTaoS2Os0",
        "colab_type": "text"
      },
      "source": [
        "### Precision/Recall Tradeoff \n"
      ]
    },
    {
      "cell_type": "code",
      "metadata": {
        "id": "ReBvLA7K2Os5",
        "colab_type": "code",
        "outputId": "f1e7508d-522b-4115-ae0b-fbef873a3d88",
        "colab": {
          "base_uri": "https://localhost:8080/",
          "height": 305
        }
      },
      "source": [
        "precisions, recalls, thresholds = sklearn.metrics.precision_recall_curve(y_test, hat_y_test_proba)\n",
        "\n",
        "def plot_precision_recall_vs_threshold(precisions, recalls, thresholds):\n",
        "    plt.plot(thresholds, precisions[:-1], \"b--\", label=\"Precision\", linewidth=2)\n",
        "    plt.plot(thresholds, recalls[:-1], \"g-\", label=\"Recall\", linewidth=2)\n",
        "    plt.xlabel(\"Threshold\", fontsize=16)\n",
        "    plt.legend(loc=\"lower center\", fontsize=16)\n",
        "    plt.ylim([0, 1])\n",
        "\n",
        "plt.figure(figsize=(8, 4))\n",
        "plot_precision_recall_vs_threshold(precisions, recalls, thresholds)\n",
        "plt.xlim([0, 1])"
      ],
      "execution_count": 0,
      "outputs": [
        {
          "output_type": "execute_result",
          "data": {
            "text/plain": [
              "(0, 1)"
            ]
          },
          "metadata": {
            "tags": []
          },
          "execution_count": 68
        },
        {
          "output_type": "display_data",
          "data": {
            "image/png": "[encoded data removed]",
            "text/plain": [
              "<Figure size 576x288 with 1 Axes>"
            ]
          },
          "metadata": {
            "tags": []
          }
        }
      ]
    },
    {
      "cell_type": "markdown",
      "metadata": {
        "id": "AsaYWSG42Os8",
        "colab_type": "text"
      },
      "source": [
        "*   seuil  grand $\\Rightarrow$ $\\hat +$ petit $\\Rightarrow$ grande précision et petit rappel.\n",
        "*  Cas extrème:  Seuil $=1$  $\\Rightarrow$ $\\hat + = \\emptyset$  $\\Rightarrow$\n",
        "$$\n",
        "\\begin{align}\n",
        "\\text{precision} & =  \\frac{+\\cap \\hat +}{\\hat +} = \\frac 0 0 =  1 \\\\\n",
        "\\text{rappel}    & =  \\frac{+\\cap \\hat +}{+}  = 0\n",
        "\\end{align}\n",
        "$$\n",
        "\n",
        "\n",
        "* Retenez: avec un grand seuil, on est très exigent pour classer les données +, donc je ne classe que des vrais +, donc grande précision.  \n",
        "\n",
        "\n"
      ]
    },
    {
      "cell_type": "markdown",
      "metadata": {
        "id": "sYj7sD6lEuRb",
        "colab_type": "text"
      },
      "source": [
        "*   seuil  petit $\\Rightarrow$ $\\hat +$ grand $\\Rightarrow$ petite précision et grand rappel.\n",
        "*   Cas extrème:  Seuil=0 $\\Rightarrow$ $\\hat + = all$  $\\Rightarrow$\n",
        "$$\n",
        "\\begin{align}\n",
        "\\text{precision} & = \\frac{+\\cap \\hat +}{+} =  \\frac{+}{all} = (\\text{ ici } \\frac 1 2 )  \\\\\n",
        "\\text{rappel}    & =  \\frac{+\\cap \\hat +}{+}  =\\frac{+}{+} =  1\n",
        "\\end{align}\n",
        "$$\n",
        "* retenez: avec un petit seuil,  on classe plein de donnée +, on ne va pas en rater beaucoup: grand rappel. \n",
        "\n",
        "\n",
        "\n",
        "\n"
      ]
    },
    {
      "cell_type": "markdown",
      "metadata": {
        "id": "M45D3pxITz0c",
        "colab_type": "text"
      },
      "source": [
        "\n",
        "Vous pouvez choisir votre seuil en fonction de cette courbe, ou de la suivante:"
      ]
    },
    {
      "cell_type": "code",
      "metadata": {
        "id": "Ent4N-Az2Os8",
        "colab_type": "code",
        "outputId": "83922af1-a884-4892-d6e8-cfc0ebc3f692",
        "colab": {
          "base_uri": "https://localhost:8080/",
          "height": 397
        }
      },
      "source": [
        "def plot_precision_vs_recall(precisions, recalls):\n",
        "    plt.plot(recalls, precisions, \"b-\", linewidth=2)\n",
        "    plt.xlabel(\"Recall\", fontsize=16)\n",
        "    plt.ylabel(\"Precision\", fontsize=16)\n",
        "    plt.axis([0, 1, 0, 1])\n",
        "\n",
        "plt.figure(figsize=(8, 6))\n",
        "plot_precision_vs_recall(precisions, recalls)"
      ],
      "execution_count": 0,
      "outputs": [
        {
          "output_type": "display_data",
          "data": {
            "image/png": "[encoded data removed]",
            "text/plain": [
              "<Figure size 576x432 with 1 Axes>"
            ]
          },
          "metadata": {
            "tags": []
          }
        }
      ]
    },
    {
      "cell_type": "markdown",
      "metadata": {
        "id": "3Hh5qw4CFdrw",
        "colab_type": "text"
      },
      "source": [
        "Sur cette courbe, je choisirais le seuil qui correspond à un recall de 0.8: juste avant sa chutte. "
      ]
    },
    {
      "cell_type": "markdown",
      "metadata": {
        "id": "7QRx5Dio2OtD",
        "colab_type": "text"
      },
      "source": [
        "### La courbe ROC\n",
        "\n",
        "ROC signifie receiver operating characteristic (ROC). C'est une coubr très utilisée pour observer l'effet du seuillage:\n",
        "\n",
        "\n",
        "* TPR = recall = ratio of positive instances that are correctly classified=\n",
        "$$\n",
        "\\frac{+\\cap \\hat +}{ +}\n",
        "$$\n",
        "*  FPR =  ratio of negative instances that are incorrectly classified as positive =\n",
        "$$\n",
        "\\frac{-\\cap \\hat +}{ - }\n",
        "$$\n",
        "\n",
        " "
      ]
    },
    {
      "cell_type": "code",
      "metadata": {
        "id": "RZelZyyn2OtE",
        "colab_type": "code",
        "outputId": "c2957f88-3650-455b-d0ea-fb0c1fcd615a",
        "colab": {
          "base_uri": "https://localhost:8080/",
          "height": 397
        }
      },
      "source": [
        "fpr, tpr, thresholds = sklearn.metrics.roc_curve(y_test, hat_y_test_proba)\n",
        "def plot_roc_curve(fpr, tpr, label=None):\n",
        "    plt.plot(fpr, tpr, linewidth=2, label=label)\n",
        "    plt.plot([0, 1], [0, 1], 'k--')\n",
        "    plt.axis([0, 1, 0, 1])\n",
        "    plt.xlabel('False Positive Rate', fontsize=16)\n",
        "    plt.ylabel('True Positive Rate', fontsize=16)\n",
        "\n",
        "plt.figure(figsize=(8, 6))\n",
        "plot_roc_curve(fpr, tpr)"
      ],
      "execution_count": 0,
      "outputs": [
        {
          "output_type": "display_data",
          "data": {
            "image/png": "[encoded data removed]",
            "text/plain": [
              "<Figure size 576x432 with 1 Axes>"
            ]
          },
          "metadata": {
            "tags": []
          }
        }
      ]
    },
    {
      "cell_type": "markdown",
      "metadata": {
        "id": "t2Jmm9Fk2OtG",
        "colab_type": "text"
      },
      "source": [
        "\n",
        "Le score AUC (area under the curve) c'est l'aire sous la courbe ROC. Au mieux elle vaut 1. Au pire 0.5. \n"
      ]
    },
    {
      "cell_type": "code",
      "metadata": {
        "id": "4a5NKQMK2OtG",
        "colab_type": "code",
        "outputId": "a24ec739-c103-4006-fd8d-8819071720d2",
        "colab": {
          "base_uri": "https://localhost:8080/",
          "height": 35
        }
      },
      "source": [
        "sklearn.metrics.roc_auc_score(y_test, hat_y_test_proba)"
      ],
      "execution_count": 0,
      "outputs": [
        {
          "output_type": "execute_result",
          "data": {
            "text/plain": [
              "0.9492224736"
            ]
          },
          "metadata": {
            "tags": []
          },
          "execution_count": 71
        }
      ]
    },
    {
      "cell_type": "markdown",
      "metadata": {
        "id": "0wCIx1I0IjtF",
        "colab_type": "text"
      },
      "source": [
        "###  courbe ROC à la main  $\\flat$\n",
        "\n",
        "Pour le plaisir, programmons notre propre courbe ROC."
      ]
    },
    {
      "cell_type": "code",
      "metadata": {
        "id": "l3JOA1FTIrJV",
        "colab_type": "code",
        "colab": {}
      },
      "source": [
        "def TPR_FPR(threshold: float, y: np.ndarray, scores: np.ndarray):\n",
        "  \n",
        "    \"\"\" \n",
        "    Cette fonction renvoie:\n",
        "        * le taux de vrais positifs : fractions des positifs qui sont classés positifs\n",
        "        * le taux de faux  positifs : fractions des négatifs qui sont classés positifs.\n",
        "    \"\"\"\n",
        "   \n",
        "   \n",
        "    \"\"\" on classe positifs (=en 1) les individus dont la proba estimée d'être 1 est > threshold   \"\"\"\n",
        "    y_hat = (scores >= threshold).astype(np.int)\n",
        "\n",
        "    \"\"\"Calculons les indexes des positifs et des négatifs. \"\"\"\n",
        "    index_P = (y == 1)\n",
        "    index_N = (y == 0)\n",
        "    \n",
        "    \n",
        "    TPR = np.sum(y_hat[index_P] == 1) / np.sum(index_P)\n",
        "    FPR = np.sum(y_hat[index_N] == 1) / np.sum(index_N)\n",
        "\n",
        "    return TPR, FPR"
      ],
      "execution_count": 0,
      "outputs": []
    },
    {
      "cell_type": "markdown",
      "metadata": {
        "id": "X20FQR_2KA-u",
        "colab_type": "text"
      },
      "source": [
        "Effectuons un programme test. On se donne deux classes: la classe 0=negatif, et 1=positif. On suppose que l'on a des probabilité et des classes comme ceci:"
      ]
    },
    {
      "cell_type": "code",
      "metadata": {
        "id": "w24ktgaEI-2S",
        "colab_type": "code",
        "outputId": "ea04cb30-45ec-403c-ed0c-48395ece1a90",
        "colab": {
          "base_uri": "https://localhost:8080/",
          "height": 173
        }
      },
      "source": [
        "a=[\n",
        "    [0.49,0.51],\n",
        "    [0.3,0.7],\n",
        "    [0.1,0.9],\n",
        "    [0.6,0.4],\n",
        "    [0.55,0.45],\n",
        "    [0.2,0.8]\n",
        "]\n",
        "probas=np.array(a)\n",
        "print(\"probas:\\n\",probas)\n",
        "true_cl=np.array([1,1,1,0,1,0])\n",
        "print(\"true_cl:\\n\",true_cl)"
      ],
      "execution_count": 0,
      "outputs": [
        {
          "output_type": "stream",
          "text": [
            "probas:\n",
            " [[0.49 0.51]\n",
            " [0.3  0.7 ]\n",
            " [0.1  0.9 ]\n",
            " [0.6  0.4 ]\n",
            " [0.55 0.45]\n",
            " [0.2  0.8 ]]\n",
            "true_cl:\n",
            " [1 1 1 0 1 0]\n"
          ],
          "name": "stdout"
        }
      ]
    },
    {
      "cell_type": "markdown",
      "metadata": {
        "id": "PlHCeZ_CKGKp",
        "colab_type": "text"
      },
      "source": [
        "Avec un seuil  `threshold=0.5` on trouve:"
      ]
    },
    {
      "cell_type": "code",
      "metadata": {
        "id": "M3hLgGQtI3rL",
        "colab_type": "code",
        "outputId": "8561ff1c-03ad-4378-e393-1dfc6542519a",
        "colab": {
          "base_uri": "https://localhost:8080/",
          "height": 52
        }
      },
      "source": [
        "estimated_cl=(probas>0.5).astype(np.int)[:,1]\n",
        "print(\"estimated_cl:\\n\",estimated_cl)"
      ],
      "execution_count": 0,
      "outputs": [
        {
          "output_type": "stream",
          "text": [
            "estimated_cl:\n",
            " [1 1 1 0 0 1]\n"
          ],
          "name": "stdout"
        }
      ]
    },
    {
      "cell_type": "markdown",
      "metadata": {
        "id": "hrwL4ioYLoPm",
        "colab_type": "text"
      },
      "source": [
        "Ainsi à l'oeil on voit que\n",
        "\n",
        "*  TPR = 3/4\n",
        "*  FPR = 1/2"
      ]
    },
    {
      "cell_type": "code",
      "metadata": {
        "id": "nEIhThvqQjzW",
        "colab_type": "code",
        "outputId": "52de381c-88ff-44af-d142-1971661dca66",
        "colab": {
          "base_uri": "https://localhost:8080/",
          "height": 35
        }
      },
      "source": [
        "TPR_FPR(threshold=0.5, y=true_cl, scores=probas[:,1])"
      ],
      "execution_count": 0,
      "outputs": [
        {
          "output_type": "execute_result",
          "data": {
            "text/plain": [
              "(0.75, 0.5)"
            ]
          },
          "metadata": {
            "tags": []
          },
          "execution_count": 75
        }
      ]
    },
    {
      "cell_type": "markdown",
      "metadata": {
        "id": "mKzM609vTlb0",
        "colab_type": "text"
      },
      "source": [
        "***A vous:*** Blindez la fonction `TPR_FPR`: \n",
        "\n",
        "* $(2\\heartsuit)$ Il y a un problème mathématique si on rentre `y=np.zeros(6)`. \n",
        "* $(2\\heartsuit)$ Il y a un problème  si l'utilisateur (quel couillon!) rentre `y=[1,1,1,0,1,0]` au lieu de  `y=np.array([1,1,1,0,1,0])` (le `==` ne fonctionne pas pareil sur les listes et sur les tenseur numpy). \n",
        "\n",
        "Remarque: l'instruction de typage  dans l'argument de la fonction `y: np.ndarray` fournis uniquement un warning si l'utilisateur a une IDE qui vérifie le typage. Ce n'est pas le cas pour l'instant sur les notebook. "
      ]
    },
    {
      "cell_type": "code",
      "metadata": {
        "id": "S5q_L4zAVRW_",
        "colab_type": "code",
        "outputId": "67547eeb-8cb1-4d33-e98f-376a8a04d0fb",
        "colab": {
          "base_uri": "https://localhost:8080/",
          "height": 302
        }
      },
      "source": [
        "thresholds=np.linspace(np.min(hat_y_test_proba),np.max(hat_y_test_proba),100)\n",
        "a=[]\n",
        "b=[]\n",
        "for th in thresholds:\n",
        "    fpr1, tpr1 =TPR_FPR(th,y_test, hat_y_test_proba)\n",
        "    a.append(fpr1)\n",
        "    b.append(tpr1)\n",
        "print(a)\n",
        "\n",
        "plt.plot(b,a);"
      ],
      "execution_count": 0,
      "outputs": [
        {
          "output_type": "stream",
          "text": [
            "[1.0, 0.99952, 0.99896, 0.99816, 0.9976, 0.99728, 0.99552, 0.99464, 0.99376, 0.99272, 0.99088, 0.99016, 0.9892, 0.988, 0.98704, 0.98544, 0.98496, 0.98376, 0.98256, 0.98136, 0.98032, 0.97896, 0.97752, 0.97624, 0.97448, 0.97288, 0.97096, 0.96992, 0.96824, 0.96632, 0.9648, 0.9628, 0.96096, 0.95864, 0.9564, 0.95392, 0.95152, 0.94896, 0.94568, 0.94328, 0.94088, 0.93728, 0.93432, 0.93192, 0.92872, 0.92536, 0.92216, 0.91816, 0.91424, 0.912, 0.908, 0.90472, 0.90104, 0.8968, 0.89216, 0.88624, 0.88248, 0.87824, 0.87256, 0.8676, 0.86248, 0.8572, 0.8516, 0.84616, 0.84104, 0.83448, 0.8272, 0.82048, 0.81512, 0.8088, 0.80024, 0.79208, 0.78296, 0.7752, 0.76712, 0.7564, 0.74704, 0.73552, 0.72552, 0.71392, 0.70048, 0.68576, 0.67112, 0.65704, 0.64072, 0.62272, 0.60552, 0.5856, 0.56624, 0.54176, 0.51824, 0.49072, 0.4588, 0.42256, 0.3848, 0.34168, 0.29352, 0.22848, 0.14336, 8e-05]\n"
          ],
          "name": "stdout"
        },
        {
          "output_type": "display_data",
          "data": {
            "image/png": "[encoded data removed]",
            "text/plain": [
              "<Figure size 432x288 with 1 Axes>"
            ]
          },
          "metadata": {
            "tags": []
          }
        }
      ]
    },
    {
      "cell_type": "markdown",
      "metadata": {
        "id": "Cv63yUqG2OtI",
        "colab_type": "text"
      },
      "source": [
        "### Comparons avec les forêts aléatoires\n",
        "\n",
        "On detaillera dans un prochain TP comment marche les forêts aléatoires. \n",
        "\n",
        "Attention, les arbres aléatoires ne renvoie pas une proba: le `RandomForestClassifier` de `sklearn` n'a pas de méthode `predict_proba`. \n",
        "\n",
        "\n",
        "\n",
        "Let’s train a RandomForestClassifier and compare its ROC curve and ROC AUC score to the SGDClassifier. Due to the way it works, the RandomForestClassifier class does not have a decision_function() method. Instead it has a predict_proba() method. Scikit-Learn classifiers generally have one or the other. The predict_proba() method returns an array containing a row per instance and a column per class, each containing the probability that the given instance belongs to the  given class (e.g., 70% chance that the image represents a 5)."
      ]
    },
    {
      "cell_type": "code",
      "metadata": {
        "id": "EMRnm8Te2OtJ",
        "colab_type": "code",
        "outputId": "191856ed-b6d0-4b28-bef5-6efa1e95d57d",
        "colab": {
          "base_uri": "https://localhost:8080/",
          "height": 245
        }
      },
      "source": [
        "import sklearn.ensemble\n",
        "forest_clf = sklearn.ensemble.RandomForestClassifier(random_state=42)\n",
        "forest_clf.fit(x_train,y_train)\n",
        "hat_y_test_proba_forest=forest_clf.predict_proba(x_test)\n",
        "\n",
        "print(hat_y_test_proba_forest[:10,:])"
      ],
      "execution_count": 0,
      "outputs": [
        {
          "output_type": "stream",
          "text": [
            "/usr/local/lib/python3.6/dist-packages/sklearn/ensemble/forest.py:245: FutureWarning: The default value of n_estimators will change from 10 in version 0.20 to 100 in 0.22.\n",
            "  \"10 in version 0.20 to 100 in 0.22.\", FutureWarning)\n"
          ],
          "name": "stderr"
        },
        {
          "output_type": "stream",
          "text": [
            "[[0.7 0.3]\n",
            " [0.5 0.5]\n",
            " [0.3 0.7]\n",
            " [0.4 0.6]\n",
            " [0.5 0.5]\n",
            " [0.3 0.7]\n",
            " [0.4 0.6]\n",
            " [0.6 0.4]\n",
            " [0.4 0.6]\n",
            " [0.4 0.6]]\n"
          ],
          "name": "stdout"
        }
      ]
    },
    {
      "cell_type": "markdown",
      "metadata": {
        "id": "Bmofzb0b2OtM",
        "colab_type": "text"
      },
      "source": [
        "But to plot a ROC curve, you need one scores, not two probabilities. A simple solution is to use the positive class’s probability as the score: "
      ]
    },
    {
      "cell_type": "code",
      "metadata": {
        "id": "Ek7mooln2OtM",
        "colab_type": "code",
        "outputId": "35b45285-0886-4f4b-864b-3c24b93ac5fd",
        "colab": {
          "base_uri": "https://localhost:8080/",
          "height": 397
        }
      },
      "source": [
        "y_scores_forest = hat_y_test_proba_forest[:, 1] # score = proba of positive class\n",
        "fpr_forest, tpr_forest, thresholds_forest = sklearn.metrics.roc_curve(y_test,hat_y_test_proba_forest[:,1])\n",
        "plt.figure(figsize=(8, 6))\n",
        "plot_roc_curve(fpr_forest, tpr_forest, \"Random Forest\")\n",
        "plot_roc_curve(fpr, tpr, \"Neural network\")\n",
        "\n",
        "plt.legend(loc=\"lower right\", fontsize=16);"
      ],
      "execution_count": 0,
      "outputs": [
        {
          "output_type": "display_data",
          "data": {
            "image/png": "[encoded data removed]",
            "text/plain": [
              "<Figure size 576x432 with 1 Axes>"
            ]
          },
          "metadata": {
            "tags": []
          }
        }
      ]
    },
    {
      "cell_type": "markdown",
      "metadata": {
        "id": "1JIs4AhCmiV3",
        "colab_type": "text"
      },
      "source": [
        "La forêt aléatoire esst moins bien. Mais c'ets normal, car on n'a pas du tout réglé les hyper-paramètres. "
      ]
    }
  ]
}